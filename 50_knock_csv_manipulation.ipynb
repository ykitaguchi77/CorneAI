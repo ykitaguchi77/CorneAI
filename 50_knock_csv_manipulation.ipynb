{
  "nbformat": 4,
  "nbformat_minor": 0,
  "metadata": {
    "colab": {
      "provenance": [],
      "authorship_tag": "ABX9TyNEdkMBbG1Lgo7kSyZ7b3xU",
      "include_colab_link": true
    },
    "kernelspec": {
      "name": "python3",
      "display_name": "Python 3"
    },
    "language_info": {
      "name": "python"
    }
  },
  "cells": [
    {
      "cell_type": "markdown",
      "metadata": {
        "id": "view-in-github",
        "colab_type": "text"
      },
      "source": [
        "<a href=\"https://colab.research.google.com/github/ykitaguchi77/CorneAI/blob/main/50_knock_csv_manipulation.ipynb\" target=\"_parent\"><img src=\"https://colab.research.google.com/assets/colab-badge.svg\" alt=\"Open In Colab\"/></a>"
      ]
    },
    {
      "cell_type": "markdown",
      "source": [
        "#**「前原の100本ノック」クラス枚数確認**"
      ],
      "metadata": {
        "id": "uQTVydjlWuhG"
      }
    },
    {
      "cell_type": "code",
      "execution_count": 1,
      "metadata": {
        "colab": {
          "base_uri": "https://localhost:8080/"
        },
        "id": "04ayBZjUWsfi",
        "outputId": "3a8f2827-bfbf-4605-86ae-d61975830965"
      },
      "outputs": [
        {
          "output_type": "stream",
          "name": "stdout",
          "text": [
            "Mounted at /content/drive\n"
          ]
        }
      ],
      "source": [
        "from google.colab import drive\n",
        "drive.mount(\"/content/drive\")\n"
      ]
    },
    {
      "cell_type": "code",
      "source": [
        "import pandas as pd\n",
        "\n",
        "# 100問_正解リスト.csvファイルからデータフレームを作成する\n",
        "ans_df = pd.read_csv('/content/drive/MyDrive/研究/進行中の研究/角膜スマートフォンAIプロジェクト/前原の100問/100問_正解リスト.csv')\n",
        "\n",
        "# 100問ノック_スマホと細隙灯区分.csvファイルからデータフレームを作成する\n",
        "knock_df = pd.read_csv('/content/drive/MyDrive/研究/進行中の研究/角膜スマートフォンAIプロジェクト/前原の100問/100問ノック_スマホと細隙灯区分.csv')"
      ],
      "metadata": {
        "id": "Wpf4M96EW7UF"
      },
      "execution_count": 2,
      "outputs": []
    },
    {
      "cell_type": "code",
      "source": [
        "ans_df"
      ],
      "metadata": {
        "id": "sbFwTrR1ZXpt"
      },
      "execution_count": null,
      "outputs": []
    },
    {
      "cell_type": "code",
      "source": [
        "knock_df"
      ],
      "metadata": {
        "id": "eK_cvNFRZY0A"
      },
      "execution_count": null,
      "outputs": []
    },
    {
      "cell_type": "code",
      "source": [
        "import pandas as pd\n",
        "\n",
        "# \"device\"の行をdf_answerに追加\n",
        "ans_df['device'] = \"\"\n",
        "\n",
        "# \"slit\"と\"smartphone\"の列を取得\n",
        "slit = knock_df[\"slit\"].tolist()\n",
        "smartphone = knock_df[\"smartphone\"].tolist()\n",
        "\n",
        "# \"device\"列に\"slit\"と\"smartphone\"を入力\n",
        "for i in range(1,101):\n",
        "    if i in slit:\n",
        "        ans_df.loc[ans_df[\"number\"]==i, \"device\"] = \"slit\"\n",
        "    elif i in smartphone:\n",
        "        ans_df.loc[ans_df[\"number\"]==i, \"device\"] = \"smartphone\"\n",
        "\n",
        "# インデックスをリセット\n",
        "ans_df = ans_df.reset_index(drop=True)\n",
        "ans_df"
      ],
      "metadata": {
        "id": "SkrLCITCZ0TY"
      },
      "execution_count": null,
      "outputs": []
    },
    {
      "cell_type": "code",
      "source": [
        "smartphone_df = ans_df[ans_df['device'] == 'smartphone']\n",
        "smartphone_classification_counts = smartphone_df['classification'].value_counts()\n",
        "print(\"前原100本ノック_スマホ画像の各クラス枚数一覧\")\n",
        "print(smartphone_classification_counts)"
      ],
      "metadata": {
        "colab": {
          "base_uri": "https://localhost:8080/"
        },
        "id": "YGKu6tQM_OXC",
        "outputId": "8fa8af3e-9b4d-4a4d-9a52-211325432f01"
      },
      "execution_count": null,
      "outputs": [
        {
          "output_type": "stream",
          "name": "stdout",
          "text": [
            "前原100本ノック_スマホ画像の各クラス枚数一覧\n",
            "正常        7\n",
            "沈着        7\n",
            "水晶体混濁     6\n",
            "感染        6\n",
            "腫瘍        6\n",
            "水疱性角膜症    5\n",
            "非感染       5\n",
            "緑内障発作     4\n",
            "瘢痕        4\n",
            "Name: classification, dtype: int64\n"
          ]
        }
      ]
    },
    {
      "cell_type": "code",
      "source": [
        "slit_df = ans_df[ans_df['device'] == 'slit']\n",
        "slit_classification_counts = slit_df['classification'].value_counts()\n",
        "print(\"前原100本ノック_スリット画像の各クラス枚数一覧\")\n",
        "print(slit_classification_counts)"
      ],
      "metadata": {
        "colab": {
          "base_uri": "https://localhost:8080/"
        },
        "id": "BUZxAkAi-JJm",
        "outputId": "b264c074-70ec-4d30-8057-6d29dbb7362d"
      },
      "execution_count": null,
      "outputs": [
        {
          "output_type": "stream",
          "name": "stdout",
          "text": [
            "前原100本ノック_スリット画像の各クラス枚数一覧\n",
            "正常        7\n",
            "沈着        7\n",
            "腫瘍        6\n",
            "感染        6\n",
            "水晶体混濁     6\n",
            "水疱性角膜症    5\n",
            "非感染       5\n",
            "瘢痕        4\n",
            "緑内障発作     4\n",
            "Name: classification, dtype: int64\n"
          ]
        }
      ]
    },
    {
      "cell_type": "code",
      "source": [
        "ans_df\n"
      ],
      "metadata": {
        "id": "BTIQcp6z93BM"
      },
      "execution_count": null,
      "outputs": []
    },
    {
      "cell_type": "code",
      "source": [
        "ans_df[ans_df[\"number\"]==1]"
      ],
      "metadata": {
        "colab": {
          "base_uri": "https://localhost:8080/",
          "height": 80
        },
        "id": "Wnm48CyF7L0t",
        "outputId": "3b933548-5cc2-4b8f-bd58-1f973941c3f3"
      },
      "execution_count": null,
      "outputs": [
        {
          "output_type": "execute_result",
          "data": {
            "text/plain": [
              "  disease classification  number device\n",
              "0     翼状片             腫瘍       1   slit"
            ],
            "text/html": [
              "\n",
              "  <div id=\"df-4db0020e-51c6-4fcb-a773-4ff9cb94796f\">\n",
              "    <div class=\"colab-df-container\">\n",
              "      <div>\n",
              "<style scoped>\n",
              "    .dataframe tbody tr th:only-of-type {\n",
              "        vertical-align: middle;\n",
              "    }\n",
              "\n",
              "    .dataframe tbody tr th {\n",
              "        vertical-align: top;\n",
              "    }\n",
              "\n",
              "    .dataframe thead th {\n",
              "        text-align: right;\n",
              "    }\n",
              "</style>\n",
              "<table border=\"1\" class=\"dataframe\">\n",
              "  <thead>\n",
              "    <tr style=\"text-align: right;\">\n",
              "      <th></th>\n",
              "      <th>disease</th>\n",
              "      <th>classification</th>\n",
              "      <th>number</th>\n",
              "      <th>device</th>\n",
              "    </tr>\n",
              "  </thead>\n",
              "  <tbody>\n",
              "    <tr>\n",
              "      <th>0</th>\n",
              "      <td>翼状片</td>\n",
              "      <td>腫瘍</td>\n",
              "      <td>1</td>\n",
              "      <td>slit</td>\n",
              "    </tr>\n",
              "  </tbody>\n",
              "</table>\n",
              "</div>\n",
              "      <button class=\"colab-df-convert\" onclick=\"convertToInteractive('df-4db0020e-51c6-4fcb-a773-4ff9cb94796f')\"\n",
              "              title=\"Convert this dataframe to an interactive table.\"\n",
              "              style=\"display:none;\">\n",
              "        \n",
              "  <svg xmlns=\"http://www.w3.org/2000/svg\" height=\"24px\"viewBox=\"0 0 24 24\"\n",
              "       width=\"24px\">\n",
              "    <path d=\"M0 0h24v24H0V0z\" fill=\"none\"/>\n",
              "    <path d=\"M18.56 5.44l.94 2.06.94-2.06 2.06-.94-2.06-.94-.94-2.06-.94 2.06-2.06.94zm-11 1L8.5 8.5l.94-2.06 2.06-.94-2.06-.94L8.5 2.5l-.94 2.06-2.06.94zm10 10l.94 2.06.94-2.06 2.06-.94-2.06-.94-.94-2.06-.94 2.06-2.06.94z\"/><path d=\"M17.41 7.96l-1.37-1.37c-.4-.4-.92-.59-1.43-.59-.52 0-1.04.2-1.43.59L10.3 9.45l-7.72 7.72c-.78.78-.78 2.05 0 2.83L4 21.41c.39.39.9.59 1.41.59.51 0 1.02-.2 1.41-.59l7.78-7.78 2.81-2.81c.8-.78.8-2.07 0-2.86zM5.41 20L4 18.59l7.72-7.72 1.47 1.35L5.41 20z\"/>\n",
              "  </svg>\n",
              "      </button>\n",
              "      \n",
              "  <style>\n",
              "    .colab-df-container {\n",
              "      display:flex;\n",
              "      flex-wrap:wrap;\n",
              "      gap: 12px;\n",
              "    }\n",
              "\n",
              "    .colab-df-convert {\n",
              "      background-color: #E8F0FE;\n",
              "      border: none;\n",
              "      border-radius: 50%;\n",
              "      cursor: pointer;\n",
              "      display: none;\n",
              "      fill: #1967D2;\n",
              "      height: 32px;\n",
              "      padding: 0 0 0 0;\n",
              "      width: 32px;\n",
              "    }\n",
              "\n",
              "    .colab-df-convert:hover {\n",
              "      background-color: #E2EBFA;\n",
              "      box-shadow: 0px 1px 2px rgba(60, 64, 67, 0.3), 0px 1px 3px 1px rgba(60, 64, 67, 0.15);\n",
              "      fill: #174EA6;\n",
              "    }\n",
              "\n",
              "    [theme=dark] .colab-df-convert {\n",
              "      background-color: #3B4455;\n",
              "      fill: #D2E3FC;\n",
              "    }\n",
              "\n",
              "    [theme=dark] .colab-df-convert:hover {\n",
              "      background-color: #434B5C;\n",
              "      box-shadow: 0px 1px 3px 1px rgba(0, 0, 0, 0.15);\n",
              "      filter: drop-shadow(0px 1px 2px rgba(0, 0, 0, 0.3));\n",
              "      fill: #FFFFFF;\n",
              "    }\n",
              "  </style>\n",
              "\n",
              "      <script>\n",
              "        const buttonEl =\n",
              "          document.querySelector('#df-4db0020e-51c6-4fcb-a773-4ff9cb94796f button.colab-df-convert');\n",
              "        buttonEl.style.display =\n",
              "          google.colab.kernel.accessAllowed ? 'block' : 'none';\n",
              "\n",
              "        async function convertToInteractive(key) {\n",
              "          const element = document.querySelector('#df-4db0020e-51c6-4fcb-a773-4ff9cb94796f');\n",
              "          const dataTable =\n",
              "            await google.colab.kernel.invokeFunction('convertToInteractive',\n",
              "                                                     [key], {});\n",
              "          if (!dataTable) return;\n",
              "\n",
              "          const docLinkHtml = 'Like what you see? Visit the ' +\n",
              "            '<a target=\"_blank\" href=https://colab.research.google.com/notebooks/data_table.ipynb>data table notebook</a>'\n",
              "            + ' to learn more about interactive tables.';\n",
              "          element.innerHTML = '';\n",
              "          dataTable['output_type'] = 'display_data';\n",
              "          await google.colab.output.renderOutput(dataTable, element);\n",
              "          const docLink = document.createElement('div');\n",
              "          docLink.innerHTML = docLinkHtml;\n",
              "          element.appendChild(docLink);\n",
              "        }\n",
              "      </script>\n",
              "    </div>\n",
              "  </div>\n",
              "  "
            ]
          },
          "metadata": {},
          "execution_count": 23
        }
      ]
    },
    {
      "cell_type": "code",
      "source": [
        "ans_df"
      ],
      "metadata": {
        "id": "h8Jomvyb3pHu"
      },
      "execution_count": null,
      "outputs": []
    },
    {
      "cell_type": "code",
      "source": [
        "pd.set_option('display.max_rows', 150)\n",
        "pd.set_option('display.max_columns', 150)"
      ],
      "metadata": {
        "id": "njxDI8LdVsJ2"
      },
      "execution_count": null,
      "outputs": []
    },
    {
      "cell_type": "code",
      "source": [
        "ans_df = ans_df.replace(\"腫瘍\", \"tumor\")\n",
        "ans_df = ans_df.replace(\"瘢痕\", \"scar\")\n",
        "ans_df = ans_df.replace(\"水晶体混濁\", \"lens-opacity\")\n",
        "ans_df = ans_df.replace(\"緑内障発作\", \"APAC\")\n",
        "ans_df = ans_df.replace(\"感染\", \"infection\")\n",
        "ans_df = ans_df.replace(\"非感染\", \"non-infection\")\n",
        "ans_df = ans_df.replace(\"水疱性角膜症\", \"bullous\")\n",
        "ans_df = ans_df.replace(\"沈着\", \"deposit\")\n",
        "ans_df = ans_df.replace(\"正常\", \"normal\")\n",
        "ans_df\n"
      ],
      "metadata": {
        "id": "xmFBm-AKU4PF"
      },
      "execution_count": null,
      "outputs": []
    },
    {
      "cell_type": "code",
      "source": [
        "ans_df.to_csv(\"/content/drive/MyDrive/研究/進行中の研究/角膜スマートフォンAIプロジェクト/前原の100問/100問_正解リスト_2.csv\")"
      ],
      "metadata": {
        "id": "BCha3mTg5mzJ"
      },
      "execution_count": 97,
      "outputs": []
    },
    {
      "cell_type": "code",
      "source": [],
      "metadata": {
        "id": "PxGuOxbwCi1k"
      },
      "execution_count": null,
      "outputs": []
    },
    {
      "cell_type": "code",
      "source": [
        "ans_df.columns"
      ],
      "metadata": {
        "colab": {
          "base_uri": "https://localhost:8080/"
        },
        "id": "xVTO2ne-xH0b",
        "outputId": "445d7a51-6781-4257-de88-3f00449a97ee"
      },
      "execution_count": 96,
      "outputs": [
        {
          "output_type": "execute_result",
          "data": {
            "text/plain": [
              "Index(['Unnamed: 0', 'disease', 'classification', 'number', 'device'], dtype='object')"
            ]
          },
          "metadata": {},
          "execution_count": 96
        }
      ]
    },
    {
      "cell_type": "markdown",
      "source": [
        "#**Computer vs Smartphone**"
      ],
      "metadata": {
        "id": "PeLnn9thWgo8"
      }
    },
    {
      "cell_type": "code",
      "source": [
        "data_dir = \"/content/drive/MyDrive/研究/進行中の研究/角膜スマートフォンAIプロジェクト/前原の100問/PC_vs_smartphone.csv\"\n",
        "\n",
        "\n",
        "data_df = pd.read_csv(data_dir, encoding='cp932')\n",
        "data_df\n",
        "data_df.columns = ['ファイル名', 'CorneAI_PC', 'normal', 'infection', 'non-infection', 'scar', 'deposit', 'bullous',\n",
        "       'tumor', 'lens-opacity', 'APAC', 'Unnamed: 11', 'CorneAI_ios',\n",
        "       'normal', 'infection', 'non-infection', 'scar', 'deposit', 'bullous',\n",
        "       'tumor', 'lens-opacity', 'APAC']\n"
      ],
      "metadata": {
        "id": "_BHBVq1zXASd"
      },
      "execution_count": 3,
      "outputs": []
    },
    {
      "cell_type": "code",
      "source": [
        "# add answer and device information to data_dir\n",
        "ans_df = pd.read_csv(\"/content/drive/MyDrive/研究/進行中の研究/角膜スマートフォンAIプロジェクト/前原の100問/100問_正解リスト_2.csv\")\n",
        "data_df[\"device\"] = ans_df[\"device\"]\n",
        "data_df[\"answer\"] = ans_df[\"classification\"]"
      ],
      "metadata": {
        "id": "QCBdSEnsZNe9"
      },
      "execution_count": 4,
      "outputs": []
    },
    {
      "cell_type": "code",
      "source": [
        "data_df"
      ],
      "metadata": {
        "id": "EX7kYRRaucLY"
      },
      "execution_count": null,
      "outputs": []
    },
    {
      "cell_type": "code",
      "source": [
        "pd.set_option('display.max_columns', 100)\n",
        "pd.set_option('display.max_rows', 150)\n"
      ],
      "metadata": {
        "id": "bfCVMUS-1WzD"
      },
      "execution_count": 6,
      "outputs": []
    },
    {
      "cell_type": "code",
      "source": [
        "import random\n",
        "import numpy as np\n",
        "\n",
        "# top1の確率、各top3のindexを出力する\n",
        "\n",
        "def top3(data_df, row):\n",
        "    # computerとsmartphoneの判定の列を別々に取り出す\n",
        "    computer_cols = data_df.iloc[row, 2:11].astype(float).fillna(0)\n",
        "    smartphone_cols = data_df.iloc[row, 13:22].astype(float).fillna(0)\n",
        "\n",
        "    # numpy.argsortを使って、各列の値が降順になるようにインデックスを並び替える\n",
        "    computer_idx = np.argsort(-computer_cols)\n",
        "    smartphone_idx = np.argsort(-smartphone_cols)\n",
        "\n",
        "    # インデックスから列名を取得する\n",
        "    computer_names = computer_cols.index[computer_idx]\n",
        "    smartphone_names = smartphone_cols.index[smartphone_idx]\n",
        "\n",
        "    # computerとsmartphoneのtop1の確率を取得する\n",
        "    computer_top_prob = computer_cols[computer_names[0]]\n",
        "    smartphone_top_prob = smartphone_cols[smartphone_names[0]]\n",
        "\n",
        "    #answerとdeviceと追加\n",
        "    device = data_df.loc[row, \"device\"]\n",
        "    answer = data_df.loc[row, \"answer\"]\n",
        "\n",
        "    # top3の列名とtop1の確率をリストとして返す\n",
        "    return [computer_names[0], computer_top_prob, computer_names[1], computer_names[2], smartphone_names[0],  smartphone_top_prob/100, smartphone_names[1], smartphone_names[2], answer, device]\n",
        " \n",
        "top3(data_df, 71)"
      ],
      "metadata": {
        "id": "f3FOqHhQXAZs",
        "colab": {
          "base_uri": "https://localhost:8080/"
        },
        "outputId": "c4894c29-5321-48e9-d7d3-f784565d31ea"
      },
      "execution_count": 60,
      "outputs": [
        {
          "output_type": "execute_result",
          "data": {
            "text/plain": [
              "['APAC',\n",
              " 0.953017,\n",
              " 'normal',\n",
              " 'infection',\n",
              " 'APAC',\n",
              " 0.96,\n",
              " 'lens-opacity',\n",
              " 'non-infection',\n",
              " 'APAC',\n",
              " 'slit']"
            ]
          },
          "metadata": {},
          "execution_count": 60
        }
      ]
    },
    {
      "cell_type": "code",
      "source": [
        "top3_df = pd.DataFrame(index=[], columns=[\"computer_top1\", \"computer_top1_prob\", \"computer_top2\", \"computer_top3\", \"smartphone_top1\", \"smartphone_top1_prob\", \"smartphone_top2\", \"smartphone_top3\", \"answer\", \"device\"])\n",
        "\n",
        "for row in range(len(data_df)):\n",
        "    top3_df.loc[row, [\"computer_top1\", \"computer_top1_prob\", \"computer_top2\", \"computer_top3\", \"smartphone_top1\", \"smartphone_top1_prob\", \"smartphone_top2\", \"smartphone_top3\", \"answer\", \"device\"]] = top3(data_df, row)\n",
        "top3_df"
      ],
      "metadata": {
        "id": "sJphmHxVxI_d"
      },
      "execution_count": null,
      "outputs": []
    },
    {
      "cell_type": "code",
      "source": [
        "# take_slit_judge_computer = top3_df.loc[(top3_df[\"device\"] == \"slit\"), \"computer_top1\"].tolist()\n",
        "# take_slit_judge_smartphone = top3_df.loc[(top3_df[\"device\"] == \"slit\"), \"smartphone_top1\"].tolist()\n",
        "# take_smartphone_judge_computer = top3_df.loc[(top3_df[\"device\"] == \"smartphone\"), \"computer_top1\"].tolist()\n",
        "# take_smartphone_judge_smartphone = top3_df.loc[(top3_df[\"device\"] == \"smartphone\"), \"smartphone_top1\"].tolist()\n",
        "# take_slit_answer = top3_df.loc[top3_df[\"device\"] == \"slit\", \"answer\"].tolist()\n",
        "# take_smartphone_answer = top3_df.loc[top3_df[\"device\"] == \"smartphone\", \"answer\"].tolist()"
      ],
      "metadata": {
        "id": "p3xyoV7nqWDv"
      },
      "execution_count": 11,
      "outputs": []
    },
    {
      "cell_type": "code",
      "source": [
        "# # calculate top1 accuracy\n",
        "# computer_correct = sum(top3_df[\"computer_top1\"] == top3_df[\"answer\"])\n",
        "# smartphone_correct = sum(top3_df[\"smartphone_top1\"] == top3_df[\"answer\"])\n",
        "# correspond = sum(top3_df[\"smartphone_top1\"] == top3_df[\"computer_top1\"])\n",
        "\n",
        "\n",
        "# print(f\"computer_top1: {computer_correct}/100\")\n",
        "# print(f\"smartphone_top1: {smartphone_correct}/100\") \n",
        "# print(f\"correspond: {correspond}/100\")  "
      ],
      "metadata": {
        "colab": {
          "base_uri": "https://localhost:8080/"
        },
        "id": "GYxwT6dtIAK3",
        "outputId": "11348913-5f8e-4d94-89e0-785631294b9a"
      },
      "execution_count": 12,
      "outputs": [
        {
          "output_type": "stream",
          "name": "stdout",
          "text": [
            "computer_top1: 71/100\n",
            "smartphone_top1: 78/100\n",
            "correspond: 73/100\n"
          ]
        }
      ]
    },
    {
      "cell_type": "code",
      "source": [
        "# # calculate top3 accuracy\n",
        "# computer_correct = top3_df[[\"computer_top1\", \"computer_top2\", \"computer_top3\"]].eq(top3_df[\"answer\"], axis=0).any(axis=1).sum()\n",
        "# smartphone_correct = top3_df[[\"smartphone_top1\", \"smartphone_top2\", \"smartphone_top3\"]].eq(top3_df[\"answer\"], axis=0).any(axis=1).sum()\n",
        "# smartphone_top1_in_computer_top3 = top3_df[[\"computer_top1\", \"computer_top2\", \"computer_top3\"]].eq(top3_df[\"smartphone_top1\"], axis=0).any(axis=1).sum()\n",
        "\n",
        "# print(f\"computer_top3: {computer_correct}/100\")\n",
        "# print(f\"smartphone_top3: {smartphone_correct}/100\") \n",
        "# print(f\"smartphone_top1 in computer_top3: {smartphone_top1_in_computer_top3}/100\")  "
      ],
      "metadata": {
        "colab": {
          "base_uri": "https://localhost:8080/"
        },
        "id": "bg_-WLpv33hh",
        "outputId": "2ca9a416-8816-4e58-dc18-08d05f0723a9"
      },
      "execution_count": 13,
      "outputs": [
        {
          "output_type": "stream",
          "name": "stdout",
          "text": [
            "computer_top3: 81/100\n",
            "smartphone_top3: 90/100\n",
            "smartphone_top1 in computer_top3: 80/100\n"
          ]
        }
      ]
    },
    {
      "cell_type": "code",
      "source": [
        "def get_matching_rows_count(text, df, col1, col2, devices):\n",
        "    matching_rows = 0\n",
        "    num_device_rows = 0\n",
        "    for device in devices:\n",
        "        # df[device_col] = deviceである行の数：\n",
        "        device_rows = df[df[\"device\"] == device]\n",
        "        num_device_rows += len(device_rows)\n",
        "\n",
        "        # df[device_col] = deviceである行のうち、df[col2]とdf[col1]が一致する行の数：\n",
        "        matching_rows += df[df[\"device\"] == device][col2].eq(df[col1], axis=0).any(axis=1).sum()\n",
        "\n",
        "    percent = matching_rows * 100 / num_device_rows\n",
        "\n",
        "    print(text)\n",
        "    print(f\"accuracy: {percent}% ({matching_rows}/{num_device_rows})\")\n",
        "    print(\"\")\n",
        "\n",
        "get_matching_rows_count(\"smartphone vs computer\", top3_df, \"smartphone_top1\", [\"computer_top1\"], [\"slit\", \"smartphone\"])\n",
        "get_matching_rows_count(\"computer accuracy\", top3_df, \"answer\", [\"computer_top1\"], [\"slit\", \"smartphone\"])\n",
        "get_matching_rows_count(\"smartphone accuracy\", top3_df, \"answer\", [\"smartphone_top1\"], [\"slit\", \"smartphone\"])\n",
        "print(\"\")\n",
        "get_matching_rows_count(\"smartphone vs computer_top3\", top3_df, \"smartphone_top1\", [\"computer_top1\", \"computer_top2\", \"computer_top3\"], [\"slit\", \"smartphone\"])\n",
        "get_matching_rows_count(\"computer_top3 accuracy\", top3_df, \"answer\", [\"computer_top1\", \"computer_top2\", \"computer_top3\"], [\"slit\", \"smartphone\"])\n",
        "get_matching_rows_count(\"smartphone_top3 accuracy\", top3_df, \"answer\", [\"smartphone_top1\", \"smartphone_top2\", \"smartphone_top3\"], [\"slit\", \"smartphone\"])\n",
        "print(\"\")\n",
        "get_matching_rows_count(\"taken by smartphone、smartphone vs computer\", top3_df, \"smartphone_top1\", [\"computer_top1\"], [\"smartphone\"])\n",
        "get_matching_rows_count(\"taken by slit、smartphone vs computer\", top3_df, \"smartphone_top1\", [\"computer_top1\"], [\"slit\"])\n",
        "get_matching_rows_count(\"taken by slit、computer accuracy\", top3_df, \"answer\", [\"computer_top1\"], [\"slit\"])\n",
        "get_matching_rows_count(\"taken by slit、smartphone accuracy\", top3_df, \"answer\", [\"smartphone_top1\"], [\"slit\"])\n",
        "get_matching_rows_count(\"taken by smartphone、computer accuracy\", top3_df, \"answer\", [\"computer_top1\"], [\"smartphone\"])\n",
        "get_matching_rows_count(\"taken by smartphone、smartphone accuracy\", top3_df, \"answer\", [\"smartphone_top1\"], [\"smartphone\"])\n",
        "print(\"\")\n",
        "get_matching_rows_count(\"taken by smartphone、smartphone vs computer_top3\", top3_df, \"smartphone_top1\", [\"computer_top1\", \"computer_top2\", \"computer_top3\"], [\"smartphone\"])\n",
        "get_matching_rows_count(\"taken by slit、smartphone vs computer_top3\", top3_df, \"smartphone_top1\", [\"computer_top1\", \"computer_top2\", \"computer_top3\"], [\"slit\"])\n",
        "get_matching_rows_count(\"taken by slit、computer_top3 accuracy\", top3_df, \"answer\", [\"computer_top1\", \"computer_top2\", \"computer_top3\"], [\"slit\"])\n",
        "get_matching_rows_count(\"taken by slit、smartphone_top3 accuracy\", top3_df, \"answer\", [\"smartphone_top1\", \"smartphone_top2\", \"smartphone_top3\"], [\"slit\"])\n",
        "get_matching_rows_count(\"taken by smartphone、computer_top3 accuracy\", top3_df, \"answer\", [\"computer_top1\", \"computer_top2\", \"computer_top3\"], [\"smartphone\"])\n",
        "get_matching_rows_count(\"taken by smartphone、smartphone_top3 accuracy\", top3_df, \"answer\", [\"smartphone_top1\", \"smartphone_top2\", \"smartphone_top3\"], [\"smartphone\"])"
      ],
      "metadata": {
        "colab": {
          "base_uri": "https://localhost:8080/"
        },
        "id": "HcUsJIP28VLv",
        "outputId": "1c762a83-0be6-4570-a55e-253ed9da865c"
      },
      "execution_count": 62,
      "outputs": [
        {
          "output_type": "stream",
          "name": "stdout",
          "text": [
            "smartphone vs computer\n",
            "accuracy: 77.0% (77/100)\n",
            "\n",
            "computer accuracy\n",
            "accuracy: 75.0% (75/100)\n",
            "\n",
            "smartphone accuracy\n",
            "accuracy: 78.0% (78/100)\n",
            "\n",
            "\n",
            "smartphone vs computer_top3\n",
            "accuracy: 84.0% (84/100)\n",
            "\n",
            "computer_top3 accuracy\n",
            "accuracy: 85.0% (85/100)\n",
            "\n",
            "smartphone_top3 accuracy\n",
            "accuracy: 90.0% (90/100)\n",
            "\n",
            "\n",
            "taken by smartphone、smartphone vs computer\n",
            "accuracy: 76.0% (38/50)\n",
            "\n",
            "taken by slit、smartphone vs computer\n",
            "accuracy: 78.0% (39/50)\n",
            "\n",
            "taken by slit、computer accuracy\n",
            "accuracy: 78.0% (39/50)\n",
            "\n",
            "taken by slit、smartphone accuracy\n",
            "accuracy: 84.0% (42/50)\n",
            "\n",
            "taken by smartphone、computer accuracy\n",
            "accuracy: 72.0% (36/50)\n",
            "\n",
            "taken by smartphone、smartphone accuracy\n",
            "accuracy: 72.0% (36/50)\n",
            "\n",
            "\n",
            "taken by smartphone、smartphone vs computer_top3\n",
            "accuracy: 82.0% (41/50)\n",
            "\n",
            "taken by slit、smartphone vs computer_top3\n",
            "accuracy: 86.0% (43/50)\n",
            "\n",
            "taken by slit、computer_top3 accuracy\n",
            "accuracy: 86.0% (43/50)\n",
            "\n",
            "taken by slit、smartphone_top3 accuracy\n",
            "accuracy: 94.0% (47/50)\n",
            "\n",
            "taken by smartphone、computer_top3 accuracy\n",
            "accuracy: 84.0% (42/50)\n",
            "\n",
            "taken by smartphone、smartphone_top3 accuracy\n",
            "accuracy: 86.0% (43/50)\n",
            "\n"
          ]
        }
      ]
    },
    {
      "cell_type": "code",
      "source": [
        "import matplotlib.pyplot as plt\n",
        "from sklearn.metrics import confusion_matrix\n",
        "import seaborn as sns\n",
        "\n",
        "def heatmap(df_a, df_b, rownames, colnames):\n",
        "    # 混同行列の作成\n",
        "    confusion_matrix = pd.crosstab(df_a, df_b, rownames=rownames, colnames=colnames)\n",
        "    # ヒートマップのプロット\n",
        "    sns.heatmap(confusion_matrix, annot=True, cmap='Blues', fmt='g')\n",
        "    plt.show()\n",
        "\n",
        "\n",
        "# computer_top1 vs smartphone_top1\n",
        "heatmap(top3_df[\"computer_top1\"], top3_df[\"smartphone_top1\"], [\"computer_top1\"], [\"smatrphone_top1\"])\n"
      ],
      "metadata": {
        "id": "c2_Lapf18VN-"
      },
      "execution_count": null,
      "outputs": []
    },
    {
      "cell_type": "code",
      "source": [
        "# computer_top1 vs answer\n",
        "heatmap(top3_df[\"computer_top1\"], top3_df[\"answer\"], [\"computer_top1\"], [\"groudtruth\"])"
      ],
      "metadata": {
        "id": "cZMgYroeF_SN"
      },
      "execution_count": null,
      "outputs": []
    },
    {
      "cell_type": "code",
      "source": [
        "# computer_top1_taken_by_slit vs answer\n",
        "heatmap(top3_df[top3_df[\"device\"]==\"slit\"][\"computer_top1\"], top3_df[top3_df[\"device\"]==\"slit\"][\"answer\"], [\"computer_top1_taken_by_slit\"], [\"groudtruth\"])"
      ],
      "metadata": {
        "id": "wHciD8G0GrQJ"
      },
      "execution_count": null,
      "outputs": []
    },
    {
      "cell_type": "code",
      "source": [
        "# computer_top1_taken_by_smartphone vs answer\n",
        "heatmap(top3_df[top3_df[\"device\"]==\"smartphone\"][\"computer_top1\"], top3_df[top3_df[\"device\"]==\"smartphone\"][\"answer\"], [\"computer_top1_taken_by_smartphone\"],  [\"groudtruth\"])"
      ],
      "metadata": {
        "id": "tr5C3ToxG_jO"
      },
      "execution_count": null,
      "outputs": []
    },
    {
      "cell_type": "code",
      "source": [
        "# smartphone_top1 vs answer\n",
        "heatmap(top3_df[\"smartphone_top1\"], top3_df[\"answer\"], [\"smartphone_top1\"], [\"groudtruth\"])"
      ],
      "metadata": {
        "id": "64r6802mGYXy"
      },
      "execution_count": null,
      "outputs": []
    },
    {
      "cell_type": "code",
      "source": [
        "# smartphone_top1_taken_by_slit vs answer\n",
        "heatmap(top3_df[top3_df[\"device\"]==\"slit\"][\"smartphone_top1\"], top3_df[top3_df[\"device\"]==\"slit\"][\"answer\"], [\"smartphone_top1_taken_by_slit\"], [\"groudtruth\"])"
      ],
      "metadata": {
        "id": "zyxntEqElMx_"
      },
      "execution_count": null,
      "outputs": []
    },
    {
      "cell_type": "code",
      "source": [
        "# smartphone_top1_taken_by_smartphone vs answer\n",
        "heatmap(top3_df[top3_df[\"device\"]==\"smartphone\"][\"smartphone_top1\"], top3_df[top3_df[\"device\"]==\"smartphone\"][\"answer\"], [\"smartphone_top1_taken_by_smartphone\"],  [\"groudtruth\"])"
      ],
      "metadata": {
        "id": "rzg3jr4sJwcG"
      },
      "execution_count": null,
      "outputs": []
    },
    {
      "cell_type": "code",
      "source": [],
      "metadata": {
        "id": "yrHx9-1GJnUt"
      },
      "execution_count": null,
      "outputs": []
    }
  ]
}