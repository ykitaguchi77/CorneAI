{
  "nbformat": 4,
  "nbformat_minor": 0,
  "metadata": {
    "colab": {
      "provenance": [],
      "machine_shape": "hm",
      "gpuType": "V100",
      "authorship_tag": "ABX9TyOb56MIxJKDK/IgZJwdLSpP",
      "include_colab_link": true
    },
    "kernelspec": {
      "name": "python3",
      "display_name": "Python 3"
    },
    "language_info": {
      "name": "python"
    }
  },
  "cells": [
    {
      "cell_type": "markdown",
      "metadata": {
        "id": "view-in-github",
        "colab_type": "text"
      },
      "source": [
        "<a href=\"https://colab.research.google.com/github/ykitaguchi77/CorneAI/blob/main/Generate_pte_result.ipynb\" target=\"_parent\"><img src=\"https://colab.research.google.com/assets/colab-badge.svg\" alt=\"Open In Colab\"/></a>"
      ]
    },
    {
      "cell_type": "markdown",
      "source": [
        "#**Stable diffusionのファインチューニングでPteの画像を作成したときの精度評価**\n",
        "\n",
        "https://www.notion.so/Stable-diffusion-Lora-bc9427134dcd4596badd624720cc365d"
      ],
      "metadata": {
        "id": "1LLN9tGjjtDk"
      }
    },
    {
      "cell_type": "code",
      "source": [
        "from google.colab import drive\n",
        "drive.mount('/content/drive')"
      ],
      "metadata": {
        "colab": {
          "base_uri": "https://localhost:8080/"
        },
        "id": "SpFnbz8f_aWQ",
        "outputId": "7bfe89a5-964e-4b60-ce34-5d0178598dc3"
      },
      "execution_count": 1,
      "outputs": [
        {
          "output_type": "stream",
          "name": "stdout",
          "text": [
            "Mounted at /content/drive\n"
          ]
        }
      ]
    },
    {
      "cell_type": "markdown",
      "source": [
        "#**尤度で評価**\n",
        "\n",
        "CorneAIに画像入り(100枚)のフォルダを投入し、各クラスの尤度を計算する。今回は正常画像のトレーニングなので、正常と判定される尤度をピックアップし、平均+-標準偏差を算出する"
      ],
      "metadata": {
        "id": "pQwpozGK7XeH"
      }
    },
    {
      "cell_type": "code",
      "source": [
        "import os\n",
        "import glob\n",
        "import pandas as pd\n",
        "import matplotlib.pyplot as plt"
      ],
      "metadata": {
        "id": "-3STa6Gl_YOr"
      },
      "execution_count": 2,
      "outputs": []
    },
    {
      "cell_type": "code",
      "source": [
        "data_dir = \"/content/drive/MyDrive/研究/進行中の研究/角膜スマートフォンAIプロジェクト/画像生成/sltphoto_pte\"\n",
        "csv_files = glob.glob(f\"{data_dir}/*\")\n",
        "print(csv_files)\n"
      ],
      "metadata": {
        "id": "L5syT4GSo3pl",
        "outputId": "85b41751-e52d-4000-9c36-9d6fd5a6ea06",
        "colab": {
          "base_uri": "https://localhost:8080/"
        }
      },
      "execution_count": 3,
      "outputs": [
        {
          "output_type": "stream",
          "name": "stdout",
          "text": [
            "['/content/drive/MyDrive/研究/進行中の研究/角膜スマートフォンAIプロジェクト/画像生成/sltphoto_pte/2400.csv', '/content/drive/MyDrive/研究/進行中の研究/角膜スマートフォンAIプロジェクト/画像生成/sltphoto_pte/4800_negative.csv', '/content/drive/MyDrive/研究/進行中の研究/角膜スマートフォンAIプロジェクト/画像生成/sltphoto_pte/1200_negative.csv', '/content/drive/MyDrive/研究/進行中の研究/角膜スマートフォンAIプロジェクト/画像生成/sltphoto_pte/2400_negative.csv', '/content/drive/MyDrive/研究/進行中の研究/角膜スマートフォンAIプロジェクト/画像生成/sltphoto_pte/1200.csv', '/content/drive/MyDrive/研究/進行中の研究/角膜スマートフォンAIプロジェクト/画像生成/sltphoto_pte/9600_negative.csv', '/content/drive/MyDrive/研究/進行中の研究/角膜スマートフォンAIプロジェクト/画像生成/sltphoto_pte/9600.csv', '/content/drive/MyDrive/研究/進行中の研究/角膜スマートフォンAIプロジェクト/画像生成/sltphoto_pte/600.csv', '/content/drive/MyDrive/研究/進行中の研究/角膜スマートフォンAIプロジェクト/画像生成/sltphoto_pte/600_negative.csv', '/content/drive/MyDrive/研究/進行中の研究/角膜スマートフォンAIプロジェクト/画像生成/sltphoto_pte/4800.csv', '/content/drive/MyDrive/研究/進行中の研究/角膜スマートフォンAIプロジェクト/画像生成/sltphoto_pte/150_negative.csv', '/content/drive/MyDrive/研究/進行中の研究/角膜スマートフォンAIプロジェクト/画像生成/sltphoto_pte/300.csv', '/content/drive/MyDrive/研究/進行中の研究/角膜スマートフォンAIプロジェクト/画像生成/sltphoto_pte/150.csv', '/content/drive/MyDrive/研究/進行中の研究/角膜スマートフォンAIプロジェクト/画像生成/sltphoto_pte/300_negative.csv', '/content/drive/MyDrive/研究/進行中の研究/角膜スマートフォンAIプロジェクト/画像生成/sltphoto_pte/19200_negative.csv', '/content/drive/MyDrive/研究/進行中の研究/角膜スマートフォンAIプロジェクト/画像生成/sltphoto_pte/19200.csv']\n"
          ]
        }
      ]
    },
    {
      "cell_type": "code",
      "source": [
        "import os\n",
        "import pandas as pd\n",
        "\n",
        "# Empty list to store dataframes\n",
        "dfs = []\n",
        "\n",
        "# Read each csv file, add 'step' and 'negative_prompt' columns based on file name, and append to the list\n",
        "for file in csv_files:\n",
        "    df = pd.read_csv(file, encoding='cp932')\n",
        "\n",
        "    # Get the step number and negative prompt flag from the file name\n",
        "    filename = os.path.splitext(os.path.basename(file))[0]\n",
        "\n",
        "    if \"negative\" in filename:\n",
        "        step = int(filename.split(\"_\")[0])\n",
        "        negative_prompt = True\n",
        "    else:\n",
        "        step = int(filename.split(\"_\")[0])\n",
        "        negative_prompt = False\n",
        "\n",
        "\n",
        "    # Add 'step' and 'negative_prompt' columns\n",
        "    df['step'] = step\n",
        "    df['negative_prompt'] = negative_prompt\n",
        "\n",
        "    dfs.append(df)\n",
        "\n",
        "# Concatenate all dataframes\n",
        "df_combined = pd.concat(dfs, ignore_index=True)\n",
        "\n",
        "# Calculate mean and standard deviation of '正常' score for each combination of 'step' and 'negative_prompt'\n",
        "stats_df = df_combined.groupby(['step', 'negative_prompt'])['腫瘍性病変'].agg(['mean', 'std']).reset_index()\n",
        "\n",
        "stats_df\n"
      ],
      "metadata": {
        "id": "PfswM2Y2kh6R",
        "outputId": "0a9a6cdf-c025-4a78-a9d6-2b38c072d872",
        "colab": {
          "base_uri": "https://localhost:8080/",
          "height": 551
        }
      },
      "execution_count": 4,
      "outputs": [
        {
          "output_type": "execute_result",
          "data": {
            "text/plain": [
              "     step  negative_prompt      mean       std\n",
              "0     150            False  0.264530  0.295098\n",
              "1     150             True  0.203198  0.267325\n",
              "2     300            False  0.126953  0.246074\n",
              "3     300             True  0.226843  0.284731\n",
              "4     600            False  0.282529  0.350459\n",
              "5     600             True  0.282529  0.350459\n",
              "6    1200            False  0.651541  0.375142\n",
              "7    1200             True  0.596824  0.378765\n",
              "8    2400            False  0.769705  0.274248\n",
              "9    2400             True  0.786984  0.290143\n",
              "10   4800            False  0.799772  0.263093\n",
              "11   4800             True  0.853749  0.211098\n",
              "12   9600            False  0.855384  0.199704\n",
              "13   9600             True  0.893760  0.091626\n",
              "14  19200            False  0.583850  0.368803\n",
              "15  19200             True  0.712273  0.320417"
            ],
            "text/html": [
              "\n",
              "\n",
              "  <div id=\"df-3c670f79-fa0d-4774-9b88-fd407b61c70a\">\n",
              "    <div class=\"colab-df-container\">\n",
              "      <div>\n",
              "<style scoped>\n",
              "    .dataframe tbody tr th:only-of-type {\n",
              "        vertical-align: middle;\n",
              "    }\n",
              "\n",
              "    .dataframe tbody tr th {\n",
              "        vertical-align: top;\n",
              "    }\n",
              "\n",
              "    .dataframe thead th {\n",
              "        text-align: right;\n",
              "    }\n",
              "</style>\n",
              "<table border=\"1\" class=\"dataframe\">\n",
              "  <thead>\n",
              "    <tr style=\"text-align: right;\">\n",
              "      <th></th>\n",
              "      <th>step</th>\n",
              "      <th>negative_prompt</th>\n",
              "      <th>mean</th>\n",
              "      <th>std</th>\n",
              "    </tr>\n",
              "  </thead>\n",
              "  <tbody>\n",
              "    <tr>\n",
              "      <th>0</th>\n",
              "      <td>150</td>\n",
              "      <td>False</td>\n",
              "      <td>0.264530</td>\n",
              "      <td>0.295098</td>\n",
              "    </tr>\n",
              "    <tr>\n",
              "      <th>1</th>\n",
              "      <td>150</td>\n",
              "      <td>True</td>\n",
              "      <td>0.203198</td>\n",
              "      <td>0.267325</td>\n",
              "    </tr>\n",
              "    <tr>\n",
              "      <th>2</th>\n",
              "      <td>300</td>\n",
              "      <td>False</td>\n",
              "      <td>0.126953</td>\n",
              "      <td>0.246074</td>\n",
              "    </tr>\n",
              "    <tr>\n",
              "      <th>3</th>\n",
              "      <td>300</td>\n",
              "      <td>True</td>\n",
              "      <td>0.226843</td>\n",
              "      <td>0.284731</td>\n",
              "    </tr>\n",
              "    <tr>\n",
              "      <th>4</th>\n",
              "      <td>600</td>\n",
              "      <td>False</td>\n",
              "      <td>0.282529</td>\n",
              "      <td>0.350459</td>\n",
              "    </tr>\n",
              "    <tr>\n",
              "      <th>5</th>\n",
              "      <td>600</td>\n",
              "      <td>True</td>\n",
              "      <td>0.282529</td>\n",
              "      <td>0.350459</td>\n",
              "    </tr>\n",
              "    <tr>\n",
              "      <th>6</th>\n",
              "      <td>1200</td>\n",
              "      <td>False</td>\n",
              "      <td>0.651541</td>\n",
              "      <td>0.375142</td>\n",
              "    </tr>\n",
              "    <tr>\n",
              "      <th>7</th>\n",
              "      <td>1200</td>\n",
              "      <td>True</td>\n",
              "      <td>0.596824</td>\n",
              "      <td>0.378765</td>\n",
              "    </tr>\n",
              "    <tr>\n",
              "      <th>8</th>\n",
              "      <td>2400</td>\n",
              "      <td>False</td>\n",
              "      <td>0.769705</td>\n",
              "      <td>0.274248</td>\n",
              "    </tr>\n",
              "    <tr>\n",
              "      <th>9</th>\n",
              "      <td>2400</td>\n",
              "      <td>True</td>\n",
              "      <td>0.786984</td>\n",
              "      <td>0.290143</td>\n",
              "    </tr>\n",
              "    <tr>\n",
              "      <th>10</th>\n",
              "      <td>4800</td>\n",
              "      <td>False</td>\n",
              "      <td>0.799772</td>\n",
              "      <td>0.263093</td>\n",
              "    </tr>\n",
              "    <tr>\n",
              "      <th>11</th>\n",
              "      <td>4800</td>\n",
              "      <td>True</td>\n",
              "      <td>0.853749</td>\n",
              "      <td>0.211098</td>\n",
              "    </tr>\n",
              "    <tr>\n",
              "      <th>12</th>\n",
              "      <td>9600</td>\n",
              "      <td>False</td>\n",
              "      <td>0.855384</td>\n",
              "      <td>0.199704</td>\n",
              "    </tr>\n",
              "    <tr>\n",
              "      <th>13</th>\n",
              "      <td>9600</td>\n",
              "      <td>True</td>\n",
              "      <td>0.893760</td>\n",
              "      <td>0.091626</td>\n",
              "    </tr>\n",
              "    <tr>\n",
              "      <th>14</th>\n",
              "      <td>19200</td>\n",
              "      <td>False</td>\n",
              "      <td>0.583850</td>\n",
              "      <td>0.368803</td>\n",
              "    </tr>\n",
              "    <tr>\n",
              "      <th>15</th>\n",
              "      <td>19200</td>\n",
              "      <td>True</td>\n",
              "      <td>0.712273</td>\n",
              "      <td>0.320417</td>\n",
              "    </tr>\n",
              "  </tbody>\n",
              "</table>\n",
              "</div>\n",
              "      <button class=\"colab-df-convert\" onclick=\"convertToInteractive('df-3c670f79-fa0d-4774-9b88-fd407b61c70a')\"\n",
              "              title=\"Convert this dataframe to an interactive table.\"\n",
              "              style=\"display:none;\">\n",
              "\n",
              "  <svg xmlns=\"http://www.w3.org/2000/svg\" height=\"24px\"viewBox=\"0 0 24 24\"\n",
              "       width=\"24px\">\n",
              "    <path d=\"M0 0h24v24H0V0z\" fill=\"none\"/>\n",
              "    <path d=\"M18.56 5.44l.94 2.06.94-2.06 2.06-.94-2.06-.94-.94-2.06-.94 2.06-2.06.94zm-11 1L8.5 8.5l.94-2.06 2.06-.94-2.06-.94L8.5 2.5l-.94 2.06-2.06.94zm10 10l.94 2.06.94-2.06 2.06-.94-2.06-.94-.94-2.06-.94 2.06-2.06.94z\"/><path d=\"M17.41 7.96l-1.37-1.37c-.4-.4-.92-.59-1.43-.59-.52 0-1.04.2-1.43.59L10.3 9.45l-7.72 7.72c-.78.78-.78 2.05 0 2.83L4 21.41c.39.39.9.59 1.41.59.51 0 1.02-.2 1.41-.59l7.78-7.78 2.81-2.81c.8-.78.8-2.07 0-2.86zM5.41 20L4 18.59l7.72-7.72 1.47 1.35L5.41 20z\"/>\n",
              "  </svg>\n",
              "      </button>\n",
              "\n",
              "\n",
              "\n",
              "    <div id=\"df-142a1125-db1d-41e1-bfe7-e59177e13e8f\">\n",
              "      <button class=\"colab-df-quickchart\" onclick=\"quickchart('df-142a1125-db1d-41e1-bfe7-e59177e13e8f')\"\n",
              "              title=\"Suggest charts.\"\n",
              "              style=\"display:none;\">\n",
              "\n",
              "<svg xmlns=\"http://www.w3.org/2000/svg\" height=\"24px\"viewBox=\"0 0 24 24\"\n",
              "     width=\"24px\">\n",
              "    <g>\n",
              "        <path d=\"M19 3H5c-1.1 0-2 .9-2 2v14c0 1.1.9 2 2 2h14c1.1 0 2-.9 2-2V5c0-1.1-.9-2-2-2zM9 17H7v-7h2v7zm4 0h-2V7h2v10zm4 0h-2v-4h2v4z\"/>\n",
              "    </g>\n",
              "</svg>\n",
              "      </button>\n",
              "    </div>\n",
              "\n",
              "<style>\n",
              "  .colab-df-quickchart {\n",
              "    background-color: #E8F0FE;\n",
              "    border: none;\n",
              "    border-radius: 50%;\n",
              "    cursor: pointer;\n",
              "    display: none;\n",
              "    fill: #1967D2;\n",
              "    height: 32px;\n",
              "    padding: 0 0 0 0;\n",
              "    width: 32px;\n",
              "  }\n",
              "\n",
              "  .colab-df-quickchart:hover {\n",
              "    background-color: #E2EBFA;\n",
              "    box-shadow: 0px 1px 2px rgba(60, 64, 67, 0.3), 0px 1px 3px 1px rgba(60, 64, 67, 0.15);\n",
              "    fill: #174EA6;\n",
              "  }\n",
              "\n",
              "  [theme=dark] .colab-df-quickchart {\n",
              "    background-color: #3B4455;\n",
              "    fill: #D2E3FC;\n",
              "  }\n",
              "\n",
              "  [theme=dark] .colab-df-quickchart:hover {\n",
              "    background-color: #434B5C;\n",
              "    box-shadow: 0px 1px 3px 1px rgba(0, 0, 0, 0.15);\n",
              "    filter: drop-shadow(0px 1px 2px rgba(0, 0, 0, 0.3));\n",
              "    fill: #FFFFFF;\n",
              "  }\n",
              "</style>\n",
              "\n",
              "    <script>\n",
              "      async function quickchart(key) {\n",
              "        const containerElement = document.querySelector('#' + key);\n",
              "        const charts = await google.colab.kernel.invokeFunction(\n",
              "            'suggestCharts', [key], {});\n",
              "      }\n",
              "    </script>\n",
              "\n",
              "      <script>\n",
              "\n",
              "function displayQuickchartButton(domScope) {\n",
              "  let quickchartButtonEl =\n",
              "    domScope.querySelector('#df-142a1125-db1d-41e1-bfe7-e59177e13e8f button.colab-df-quickchart');\n",
              "  quickchartButtonEl.style.display =\n",
              "    google.colab.kernel.accessAllowed ? 'block' : 'none';\n",
              "}\n",
              "\n",
              "        displayQuickchartButton(document);\n",
              "      </script>\n",
              "      <style>\n",
              "    .colab-df-container {\n",
              "      display:flex;\n",
              "      flex-wrap:wrap;\n",
              "      gap: 12px;\n",
              "    }\n",
              "\n",
              "    .colab-df-convert {\n",
              "      background-color: #E8F0FE;\n",
              "      border: none;\n",
              "      border-radius: 50%;\n",
              "      cursor: pointer;\n",
              "      display: none;\n",
              "      fill: #1967D2;\n",
              "      height: 32px;\n",
              "      padding: 0 0 0 0;\n",
              "      width: 32px;\n",
              "    }\n",
              "\n",
              "    .colab-df-convert:hover {\n",
              "      background-color: #E2EBFA;\n",
              "      box-shadow: 0px 1px 2px rgba(60, 64, 67, 0.3), 0px 1px 3px 1px rgba(60, 64, 67, 0.15);\n",
              "      fill: #174EA6;\n",
              "    }\n",
              "\n",
              "    [theme=dark] .colab-df-convert {\n",
              "      background-color: #3B4455;\n",
              "      fill: #D2E3FC;\n",
              "    }\n",
              "\n",
              "    [theme=dark] .colab-df-convert:hover {\n",
              "      background-color: #434B5C;\n",
              "      box-shadow: 0px 1px 3px 1px rgba(0, 0, 0, 0.15);\n",
              "      filter: drop-shadow(0px 1px 2px rgba(0, 0, 0, 0.3));\n",
              "      fill: #FFFFFF;\n",
              "    }\n",
              "  </style>\n",
              "\n",
              "      <script>\n",
              "        const buttonEl =\n",
              "          document.querySelector('#df-3c670f79-fa0d-4774-9b88-fd407b61c70a button.colab-df-convert');\n",
              "        buttonEl.style.display =\n",
              "          google.colab.kernel.accessAllowed ? 'block' : 'none';\n",
              "\n",
              "        async function convertToInteractive(key) {\n",
              "          const element = document.querySelector('#df-3c670f79-fa0d-4774-9b88-fd407b61c70a');\n",
              "          const dataTable =\n",
              "            await google.colab.kernel.invokeFunction('convertToInteractive',\n",
              "                                                     [key], {});\n",
              "          if (!dataTable) return;\n",
              "\n",
              "          const docLinkHtml = 'Like what you see? Visit the ' +\n",
              "            '<a target=\"_blank\" href=https://colab.research.google.com/notebooks/data_table.ipynb>data table notebook</a>'\n",
              "            + ' to learn more about interactive tables.';\n",
              "          element.innerHTML = '';\n",
              "          dataTable['output_type'] = 'display_data';\n",
              "          await google.colab.output.renderOutput(dataTable, element);\n",
              "          const docLink = document.createElement('div');\n",
              "          docLink.innerHTML = docLinkHtml;\n",
              "          element.appendChild(docLink);\n",
              "        }\n",
              "      </script>\n",
              "    </div>\n",
              "  </div>\n"
            ]
          },
          "metadata": {},
          "execution_count": 4
        }
      ]
    },
    {
      "cell_type": "code",
      "source": [
        "df_combined"
      ],
      "metadata": {
        "id": "wCIvaawvDncH"
      },
      "execution_count": null,
      "outputs": []
    },
    {
      "cell_type": "code",
      "source": [
        "import matplotlib.pyplot as plt\n",
        "import seaborn as sns\n",
        "\n",
        "plt.figure(figsize=(12, 8))\n",
        "sns.boxplot(x='step', y='腫瘍性病変', hue='negative_prompt', data=df_combined, palette=\"Set3\", showfliers = False)\n",
        "plt.title('Probability of being categorized as \"Pterygium\" for each step')\n",
        "plt.xlabel('Step')\n",
        "plt.ylabel('Probability of \"Normal\"')\n",
        "plt.show()"
      ],
      "metadata": {
        "id": "vupCg7IzCGS6",
        "outputId": "bcd969e9-f092-483e-9df6-1aa574af7049",
        "colab": {
          "base_uri": "https://localhost:8080/",
          "height": 718
        }
      },
      "execution_count": 10,
      "outputs": [
        {
          "output_type": "display_data",
          "data": {
            "text/plain": [
              "<Figure size 1200x800 with 1 Axes>"
            ],
            "image/png": "[encoded data removed]"
          },
          "metadata": {}
        }
      ]
    },
    {
      "cell_type": "code",
      "source": [
        "import matplotlib.pyplot as plt\n",
        "\n",
        "# Separate dataframes for negative_prompt == True and False\n",
        "df_true = stats_df[stats_df['negative_prompt'] == True]\n",
        "df_false = stats_df[stats_df['negative_prompt'] == False]\n",
        "\n",
        "# Set y limit\n",
        "ylim_max = max((df_true['mean'] + df_true['std']).max(), (df_false['mean'] + df_false['std']).max())\n",
        "\n",
        "# Plotting with corrected error bars\n",
        "plt.figure(figsize=(12, 8))\n",
        "\n",
        "plt.errorbar(df_true['step'], df_true['mean'], yerr=[[0]*len(df_true['std']), df_true['std']],\n",
        "             fmt='-o', capsize=5, label='Negative Prompt = True')\n",
        "plt.errorbar(df_false['step'], df_false['mean'], yerr=[df_false['std'], [0]*len(df_false['std'])],\n",
        "             fmt='-o', capsize=5, label='Negative Prompt = False')\n",
        "\n",
        "plt.xlabel('Step')\n",
        "plt.ylabel('Mean Probability of \"Pterygium\"')\n",
        "plt.ylim(0, ylim_max)\n",
        "plt.legend()\n",
        "plt.grid(True)\n",
        "plt.title('Mean Probability of \"Pterygium\" for different steps and negative prompt')\n",
        "plt.savefig('mean_probability_plot.png')\n",
        "plt.show()\n",
        "\n"
      ],
      "metadata": {
        "id": "u4L4CPKbkh8d",
        "outputId": "ca160b19-dac4-4cc8-939e-68344e72c71b",
        "colab": {
          "base_uri": "https://localhost:8080/",
          "height": 718
        }
      },
      "execution_count": 9,
      "outputs": [
        {
          "output_type": "display_data",
          "data": {
            "text/plain": [
              "<Figure size 1200x800 with 1 Axes>"
            ],
            "image/png": "[encoded data removed]"
          },
          "metadata": {}
        }
      ]
    },
    {
      "cell_type": "markdown",
      "source": [
        "###**各ステップ数における尤度の比較**\n"
      ],
      "metadata": {
        "id": "N8NIuLvCzlp5"
      }
    },
    {
      "cell_type": "code",
      "source": [
        "from scipy.stats import shapiro\n",
        "\n",
        "df_filtered = df_combined[df_combined['negative_prompt'] == False].sort_values(by='step')\n",
        "\n",
        "\n",
        "# Check if the data follow a normal distribution for each step\n",
        "normality_test_results = {step: shapiro(df_filtered[df_filtered['step'] == step]['正常']).pvalue\n",
        "                          for step in df_filtered['step'].unique()}\n",
        "normality_test_results\n",
        "\n",
        "# →データが正規分布でないためKruskak-Wallis検定を行う"
      ],
      "metadata": {
        "id": "rskNRTXnzsRv",
        "outputId": "df6f80a6-b7ea-43f9-c762-7948f1b16892",
        "colab": {
          "base_uri": "https://localhost:8080/"
        }
      },
      "execution_count": null,
      "outputs": [
        {
          "output_type": "execute_result",
          "data": {
            "text/plain": [
              "{150: 1.6087844780831785e-19,\n",
              " 300: 1.9584514298443308e-18,\n",
              " 600: 7.873653985746021e-12,\n",
              " 1200: 1.3870738905506525e-16,\n",
              " 2400: 1.6756784449733711e-19,\n",
              " 4800: 8.295994049864064e-20,\n",
              " 9600: 1.0886805557868478e-21,\n",
              " 19200: 1.4164375853068088e-20}"
            ]
          },
          "metadata": {},
          "execution_count": 31
        }
      ]
    },
    {
      "cell_type": "code",
      "source": [
        "from scipy.stats import kruskal\n",
        "\n",
        "# Prepare data for each step\n",
        "data_for_test = [df_filtered[df_filtered['step'] == step]['正常'] for step in df_filtered['step'].unique()]\n",
        "\n",
        "# Perform the Kruskal-Wallis H test\n",
        "h, p = kruskal(*data_for_test)\n",
        "\n",
        "h, p\n",
        "\n",
        "# → Kruskal-Wallis検定では有意差あり"
      ],
      "metadata": {
        "id": "UMSem5HwzsTR",
        "outputId": "523c50c3-bedb-48c3-ba23-528bb8ef065a",
        "colab": {
          "base_uri": "https://localhost:8080/"
        }
      },
      "execution_count": null,
      "outputs": [
        {
          "output_type": "execute_result",
          "data": {
            "text/plain": [
              "(99.48837500023915, 1.3758832604442938e-18)"
            ]
          },
          "metadata": {},
          "execution_count": 32
        }
      ]
    },
    {
      "cell_type": "code",
      "source": [
        "from scipy.stats import mannwhitneyu\n",
        "from itertools import combinations\n",
        "\n",
        "\"\"\"\n",
        "#　事後検定(各群間の有意差を、Mann-Whitney-Uを用いて算出)\n",
        "\"\"\"\n",
        "\n",
        "# Get the unique steps\n",
        "steps = df_filtered['step'].unique()\n",
        "\n",
        "# Calculate the number of pairs for Bonferroni correction\n",
        "num_pairs = len(list(combinations(steps, 2)))\n",
        "\n",
        "# Perform Mann-Whitney U tests for each pair of steps\n",
        "p_values = {}\n",
        "for step1, step2 in combinations(steps, 2):\n",
        "    data1 = df_filtered[df_filtered['step'] == step1]['正常']\n",
        "    data2 = df_filtered[df_filtered['step'] == step2]['正常']\n",
        "    _, p = mannwhitneyu(data1, data2, alternative='two-sided')\n",
        "    p_values[(step1, step2)] = p / num_pairs  # Apply Bonferroni correction\n",
        "\n",
        "\n",
        "# Convert the p-values into a dataframe\n",
        "p_values_df = pd.DataFrame(index=steps, columns=steps)\n",
        "\n",
        "# Fill the dataframe with the p-values\n",
        "for (step1, step2), p in p_values.items():\n",
        "    p_values_df.loc[step1, step2] = p\n",
        "    p_values_df.loc[step2, step1] = p\n",
        "\n",
        "p_values_df.fillna(1, inplace=True)  # Fill the diagonal with 1s\n",
        "\n",
        "p_values_df\n",
        "\n"
      ],
      "metadata": {
        "id": "sW94jMx5zzUL",
        "outputId": "9c701b9d-1ebd-4faa-e46b-a9028d3e34cc",
        "colab": {
          "base_uri": "https://localhost:8080/",
          "height": 300
        }
      },
      "execution_count": null,
      "outputs": [
        {
          "output_type": "execute_result",
          "data": {
            "text/plain": [
              "              150           300           600       1200          2400   \\\n",
              "150    1.000000e+00  8.421134e-03  2.992410e-11  0.000728  2.329946e-02   \n",
              "300    8.421134e-03  1.000000e+00  9.954086e-09  0.007238  4.344293e-03   \n",
              "600    2.992410e-11  9.954086e-09  1.000000e+00  0.000013  2.848834e-11   \n",
              "1200   7.281338e-04  7.237864e-03  1.317739e-05  1.000000  2.932970e-04   \n",
              "2400   2.329946e-02  4.344293e-03  2.848834e-11  0.000293  1.000000e+00   \n",
              "4800   2.984193e-02  1.266979e-02  3.238024e-10  0.001551  1.713287e-02   \n",
              "9600   3.650262e-03  2.572086e-04  8.506173e-14  0.000012  1.058344e-02   \n",
              "19200  1.422637e-02  1.706268e-03  2.646359e-12  0.000109  2.687402e-02   \n",
              "\n",
              "              4800          9600          19200  \n",
              "150    2.984193e-02  3.650262e-03  1.422637e-02  \n",
              "300    1.266979e-02  2.572086e-04  1.706268e-03  \n",
              "600    3.238024e-10  8.506173e-14  2.646359e-12  \n",
              "1200   1.551178e-03  1.214737e-05  1.085134e-04  \n",
              "2400   1.713287e-02  1.058344e-02  2.687402e-02  \n",
              "4800   1.000000e+00  2.647403e-03  1.033828e-02  \n",
              "9600   2.647403e-03  1.000000e+00  1.646266e-02  \n",
              "19200  1.033828e-02  1.646266e-02  1.000000e+00  "
            ],
            "text/html": [
              "\n",
              "\n",
              "  <div id=\"df-02e0c8f4-a600-4279-9c92-1b2d36b39a5a\">\n",
              "    <div class=\"colab-df-container\">\n",
              "      <div>\n",
              "<style scoped>\n",
              "    .dataframe tbody tr th:only-of-type {\n",
              "        vertical-align: middle;\n",
              "    }\n",
              "\n",
              "    .dataframe tbody tr th {\n",
              "        vertical-align: top;\n",
              "    }\n",
              "\n",
              "    .dataframe thead th {\n",
              "        text-align: right;\n",
              "    }\n",
              "</style>\n",
              "<table border=\"1\" class=\"dataframe\">\n",
              "  <thead>\n",
              "    <tr style=\"text-align: right;\">\n",
              "      <th></th>\n",
              "      <th>150</th>\n",
              "      <th>300</th>\n",
              "      <th>600</th>\n",
              "      <th>1200</th>\n",
              "      <th>2400</th>\n",
              "      <th>4800</th>\n",
              "      <th>9600</th>\n",
              "      <th>19200</th>\n",
              "    </tr>\n",
              "  </thead>\n",
              "  <tbody>\n",
              "    <tr>\n",
              "      <th>150</th>\n",
              "      <td>1.000000e+00</td>\n",
              "      <td>8.421134e-03</td>\n",
              "      <td>2.992410e-11</td>\n",
              "      <td>0.000728</td>\n",
              "      <td>2.329946e-02</td>\n",
              "      <td>2.984193e-02</td>\n",
              "      <td>3.650262e-03</td>\n",
              "      <td>1.422637e-02</td>\n",
              "    </tr>\n",
              "    <tr>\n",
              "      <th>300</th>\n",
              "      <td>8.421134e-03</td>\n",
              "      <td>1.000000e+00</td>\n",
              "      <td>9.954086e-09</td>\n",
              "      <td>0.007238</td>\n",
              "      <td>4.344293e-03</td>\n",
              "      <td>1.266979e-02</td>\n",
              "      <td>2.572086e-04</td>\n",
              "      <td>1.706268e-03</td>\n",
              "    </tr>\n",
              "    <tr>\n",
              "      <th>600</th>\n",
              "      <td>2.992410e-11</td>\n",
              "      <td>9.954086e-09</td>\n",
              "      <td>1.000000e+00</td>\n",
              "      <td>0.000013</td>\n",
              "      <td>2.848834e-11</td>\n",
              "      <td>3.238024e-10</td>\n",
              "      <td>8.506173e-14</td>\n",
              "      <td>2.646359e-12</td>\n",
              "    </tr>\n",
              "    <tr>\n",
              "      <th>1200</th>\n",
              "      <td>7.281338e-04</td>\n",
              "      <td>7.237864e-03</td>\n",
              "      <td>1.317739e-05</td>\n",
              "      <td>1.000000</td>\n",
              "      <td>2.932970e-04</td>\n",
              "      <td>1.551178e-03</td>\n",
              "      <td>1.214737e-05</td>\n",
              "      <td>1.085134e-04</td>\n",
              "    </tr>\n",
              "    <tr>\n",
              "      <th>2400</th>\n",
              "      <td>2.329946e-02</td>\n",
              "      <td>4.344293e-03</td>\n",
              "      <td>2.848834e-11</td>\n",
              "      <td>0.000293</td>\n",
              "      <td>1.000000e+00</td>\n",
              "      <td>1.713287e-02</td>\n",
              "      <td>1.058344e-02</td>\n",
              "      <td>2.687402e-02</td>\n",
              "    </tr>\n",
              "    <tr>\n",
              "      <th>4800</th>\n",
              "      <td>2.984193e-02</td>\n",
              "      <td>1.266979e-02</td>\n",
              "      <td>3.238024e-10</td>\n",
              "      <td>0.001551</td>\n",
              "      <td>1.713287e-02</td>\n",
              "      <td>1.000000e+00</td>\n",
              "      <td>2.647403e-03</td>\n",
              "      <td>1.033828e-02</td>\n",
              "    </tr>\n",
              "    <tr>\n",
              "      <th>9600</th>\n",
              "      <td>3.650262e-03</td>\n",
              "      <td>2.572086e-04</td>\n",
              "      <td>8.506173e-14</td>\n",
              "      <td>0.000012</td>\n",
              "      <td>1.058344e-02</td>\n",
              "      <td>2.647403e-03</td>\n",
              "      <td>1.000000e+00</td>\n",
              "      <td>1.646266e-02</td>\n",
              "    </tr>\n",
              "    <tr>\n",
              "      <th>19200</th>\n",
              "      <td>1.422637e-02</td>\n",
              "      <td>1.706268e-03</td>\n",
              "      <td>2.646359e-12</td>\n",
              "      <td>0.000109</td>\n",
              "      <td>2.687402e-02</td>\n",
              "      <td>1.033828e-02</td>\n",
              "      <td>1.646266e-02</td>\n",
              "      <td>1.000000e+00</td>\n",
              "    </tr>\n",
              "  </tbody>\n",
              "</table>\n",
              "</div>\n",
              "      <button class=\"colab-df-convert\" onclick=\"convertToInteractive('df-02e0c8f4-a600-4279-9c92-1b2d36b39a5a')\"\n",
              "              title=\"Convert this dataframe to an interactive table.\"\n",
              "              style=\"display:none;\">\n",
              "\n",
              "  <svg xmlns=\"http://www.w3.org/2000/svg\" height=\"24px\"viewBox=\"0 0 24 24\"\n",
              "       width=\"24px\">\n",
              "    <path d=\"M0 0h24v24H0V0z\" fill=\"none\"/>\n",
              "    <path d=\"M18.56 5.44l.94 2.06.94-2.06 2.06-.94-2.06-.94-.94-2.06-.94 2.06-2.06.94zm-11 1L8.5 8.5l.94-2.06 2.06-.94-2.06-.94L8.5 2.5l-.94 2.06-2.06.94zm10 10l.94 2.06.94-2.06 2.06-.94-2.06-.94-.94-2.06-.94 2.06-2.06.94z\"/><path d=\"M17.41 7.96l-1.37-1.37c-.4-.4-.92-.59-1.43-.59-.52 0-1.04.2-1.43.59L10.3 9.45l-7.72 7.72c-.78.78-.78 2.05 0 2.83L4 21.41c.39.39.9.59 1.41.59.51 0 1.02-.2 1.41-.59l7.78-7.78 2.81-2.81c.8-.78.8-2.07 0-2.86zM5.41 20L4 18.59l7.72-7.72 1.47 1.35L5.41 20z\"/>\n",
              "  </svg>\n",
              "      </button>\n",
              "\n",
              "\n",
              "\n",
              "    <div id=\"df-783e6de4-6a85-4247-a774-723cf0429bb2\">\n",
              "      <button class=\"colab-df-quickchart\" onclick=\"quickchart('df-783e6de4-6a85-4247-a774-723cf0429bb2')\"\n",
              "              title=\"Suggest charts.\"\n",
              "              style=\"display:none;\">\n",
              "\n",
              "<svg xmlns=\"http://www.w3.org/2000/svg\" height=\"24px\"viewBox=\"0 0 24 24\"\n",
              "     width=\"24px\">\n",
              "    <g>\n",
              "        <path d=\"M19 3H5c-1.1 0-2 .9-2 2v14c0 1.1.9 2 2 2h14c1.1 0 2-.9 2-2V5c0-1.1-.9-2-2-2zM9 17H7v-7h2v7zm4 0h-2V7h2v10zm4 0h-2v-4h2v4z\"/>\n",
              "    </g>\n",
              "</svg>\n",
              "      </button>\n",
              "    </div>\n",
              "\n",
              "<style>\n",
              "  .colab-df-quickchart {\n",
              "    background-color: #E8F0FE;\n",
              "    border: none;\n",
              "    border-radius: 50%;\n",
              "    cursor: pointer;\n",
              "    display: none;\n",
              "    fill: #1967D2;\n",
              "    height: 32px;\n",
              "    padding: 0 0 0 0;\n",
              "    width: 32px;\n",
              "  }\n",
              "\n",
              "  .colab-df-quickchart:hover {\n",
              "    background-color: #E2EBFA;\n",
              "    box-shadow: 0px 1px 2px rgba(60, 64, 67, 0.3), 0px 1px 3px 1px rgba(60, 64, 67, 0.15);\n",
              "    fill: #174EA6;\n",
              "  }\n",
              "\n",
              "  [theme=dark] .colab-df-quickchart {\n",
              "    background-color: #3B4455;\n",
              "    fill: #D2E3FC;\n",
              "  }\n",
              "\n",
              "  [theme=dark] .colab-df-quickchart:hover {\n",
              "    background-color: #434B5C;\n",
              "    box-shadow: 0px 1px 3px 1px rgba(0, 0, 0, 0.15);\n",
              "    filter: drop-shadow(0px 1px 2px rgba(0, 0, 0, 0.3));\n",
              "    fill: #FFFFFF;\n",
              "  }\n",
              "</style>\n",
              "\n",
              "    <script>\n",
              "      async function quickchart(key) {\n",
              "        const containerElement = document.querySelector('#' + key);\n",
              "        const charts = await google.colab.kernel.invokeFunction(\n",
              "            'suggestCharts', [key], {});\n",
              "      }\n",
              "    </script>\n",
              "\n",
              "      <script>\n",
              "\n",
              "function displayQuickchartButton(domScope) {\n",
              "  let quickchartButtonEl =\n",
              "    domScope.querySelector('#df-783e6de4-6a85-4247-a774-723cf0429bb2 button.colab-df-quickchart');\n",
              "  quickchartButtonEl.style.display =\n",
              "    google.colab.kernel.accessAllowed ? 'block' : 'none';\n",
              "}\n",
              "\n",
              "        displayQuickchartButton(document);\n",
              "      </script>\n",
              "      <style>\n",
              "    .colab-df-container {\n",
              "      display:flex;\n",
              "      flex-wrap:wrap;\n",
              "      gap: 12px;\n",
              "    }\n",
              "\n",
              "    .colab-df-convert {\n",
              "      background-color: #E8F0FE;\n",
              "      border: none;\n",
              "      border-radius: 50%;\n",
              "      cursor: pointer;\n",
              "      display: none;\n",
              "      fill: #1967D2;\n",
              "      height: 32px;\n",
              "      padding: 0 0 0 0;\n",
              "      width: 32px;\n",
              "    }\n",
              "\n",
              "    .colab-df-convert:hover {\n",
              "      background-color: #E2EBFA;\n",
              "      box-shadow: 0px 1px 2px rgba(60, 64, 67, 0.3), 0px 1px 3px 1px rgba(60, 64, 67, 0.15);\n",
              "      fill: #174EA6;\n",
              "    }\n",
              "\n",
              "    [theme=dark] .colab-df-convert {\n",
              "      background-color: #3B4455;\n",
              "      fill: #D2E3FC;\n",
              "    }\n",
              "\n",
              "    [theme=dark] .colab-df-convert:hover {\n",
              "      background-color: #434B5C;\n",
              "      box-shadow: 0px 1px 3px 1px rgba(0, 0, 0, 0.15);\n",
              "      filter: drop-shadow(0px 1px 2px rgba(0, 0, 0, 0.3));\n",
              "      fill: #FFFFFF;\n",
              "    }\n",
              "  </style>\n",
              "\n",
              "      <script>\n",
              "        const buttonEl =\n",
              "          document.querySelector('#df-02e0c8f4-a600-4279-9c92-1b2d36b39a5a button.colab-df-convert');\n",
              "        buttonEl.style.display =\n",
              "          google.colab.kernel.accessAllowed ? 'block' : 'none';\n",
              "\n",
              "        async function convertToInteractive(key) {\n",
              "          const element = document.querySelector('#df-02e0c8f4-a600-4279-9c92-1b2d36b39a5a');\n",
              "          const dataTable =\n",
              "            await google.colab.kernel.invokeFunction('convertToInteractive',\n",
              "                                                     [key], {});\n",
              "          if (!dataTable) return;\n",
              "\n",
              "          const docLinkHtml = 'Like what you see? Visit the ' +\n",
              "            '<a target=\"_blank\" href=https://colab.research.google.com/notebooks/data_table.ipynb>data table notebook</a>'\n",
              "            + ' to learn more about interactive tables.';\n",
              "          element.innerHTML = '';\n",
              "          dataTable['output_type'] = 'display_data';\n",
              "          await google.colab.output.renderOutput(dataTable, element);\n",
              "          const docLink = document.createElement('div');\n",
              "          docLink.innerHTML = docLinkHtml;\n",
              "          element.appendChild(docLink);\n",
              "        }\n",
              "      </script>\n",
              "    </div>\n",
              "  </div>\n"
            ]
          },
          "metadata": {},
          "execution_count": 33
        }
      ]
    },
    {
      "cell_type": "markdown",
      "source": [
        "###**Negative promptの有無による比較**\n",
        "\n",
        "Negative promptの有無による尤度を対応のないt検定で比較する"
      ],
      "metadata": {
        "id": "3vwkDfUa7lWf"
      }
    },
    {
      "cell_type": "code",
      "source": [
        "# Perform a Mann-Whitney U test for each step, comparing '正常' between negative_prompt True and False\n",
        "p_values_prompt = {}\n",
        "\n",
        "for step in df_combined['step'].unique():\n",
        "    data_true = df_combined[(df_combined['step'] == step) & (df_combined['negative_prompt'] == True)]['正常']\n",
        "    data_false = df_combined[(df_combined['step'] == step) & (df_combined['negative_prompt'] == False)]['正常']\n",
        "    _, p = mannwhitneyu(data_true, data_false, alternative='two-sided')\n",
        "    p_values_prompt[step] = p\n",
        "\n",
        "p_values_prompt"
      ],
      "metadata": {
        "id": "Acseo-Aox5vs",
        "outputId": "90c281c8-ac1c-4850-f333-ca9f33866dc0",
        "colab": {
          "base_uri": "https://localhost:8080/"
        }
      },
      "execution_count": null,
      "outputs": [
        {
          "output_type": "execute_result",
          "data": {
            "text/plain": [
              "{2400: 0.2341063026858261,\n",
              " 4800: 0.2913488142150811,\n",
              " 1200: 0.18015058741241596,\n",
              " 9600: 0.12282711300810296,\n",
              " 600: 1.0,\n",
              " 150: 0.056083681009466625,\n",
              " 300: 0.6346702087997885,\n",
              " 19200: 0.5466488635061282}"
            ]
          },
          "metadata": {},
          "execution_count": 34
        }
      ]
    },
    {
      "cell_type": "code",
      "source": [
        "### 対応のないt検定だとこちら\n",
        "\n",
        "from scipy.stats import ttest_ind\n",
        "\n",
        "# Load the csv files into a dictionary of dataframes\n",
        "dataframes = {}\n",
        "for csv_file in csv_files:\n",
        "    dataframes[csv_file] = pd.read_csv(csv_file, encoding='cp932')\n",
        "    print(csv_file)\n",
        "\n",
        "# Prepare a dictionary to store the results\n",
        "t_test_results = {}\n",
        "\n",
        "# Loop over each unique step number\n",
        "#step_numbers = [150, 300, 600, 1200, 2400, 4800, 9600]\n",
        "step_numbers = set([int(os.path.splitext(os.path.basename(name))[0]) for name in csv_files if os.path.splitext(os.path.basename(name))[0].isdigit()])\n",
        "step_numbers = sorted(step_numbers)\n",
        "\n",
        "for step in step_numbers:\n",
        "    # Find corresponding dataframe names\n",
        "    df_name1 = f'{os.path.dirname(csv_file)}/{step}.csv'\n",
        "    df_name2 = f'{os.path.dirname(csv_file)}/{step}_negative.csv'\n",
        "\n",
        "    # If both dataframes exist, perform the t-test\n",
        "    if df_name1 in dataframes and df_name2 in dataframes:\n",
        "        df1 = dataframes[df_name1]\n",
        "        df2 = dataframes[df_name2]\n",
        "\n",
        "        # Perform the t-test on the \"正常\" column\n",
        "        t_stat, p_val = ttest_ind(df1[\"正常\"], df2[\"正常\"])\n",
        "        t_test_results[step] = (t_stat, p_val)\n",
        "\n",
        "t_test_results #\n"
      ],
      "metadata": {
        "id": "e_k6FAF4xkC6"
      },
      "execution_count": null,
      "outputs": []
    },
    {
      "cell_type": "markdown",
      "source": [
        "#**FID scoreを用いた画質の評価**\n",
        "\n",
        "FID for Pytorch\n",
        "https://github.com/mseitzer/pytorch-fid\n",
        "\n",
        "FID scoreとは？？\n",
        "https://data-analytics.fun/2021/12/31/understanding-fid/"
      ],
      "metadata": {
        "id": "RFjfiIbFxSaB"
      }
    },
    {
      "cell_type": "code",
      "source": [
        "!pip install pytorch_fid\n"
      ],
      "metadata": {
        "id": "8nits9SV9sSf",
        "outputId": "26d2e9f0-0289-4586-8b8d-ffb92eeff5d6",
        "colab": {
          "base_uri": "https://localhost:8080/"
        }
      },
      "execution_count": null,
      "outputs": [
        {
          "output_type": "stream",
          "name": "stdout",
          "text": [
            "Collecting pytorch_fid\n",
            "  Downloading pytorch_fid-0.3.0-py3-none-any.whl (15 kB)\n",
            "Requirement already satisfied: numpy in /usr/local/lib/python3.10/dist-packages (from pytorch_fid) (1.22.4)\n",
            "Requirement already satisfied: pillow in /usr/local/lib/python3.10/dist-packages (from pytorch_fid) (9.4.0)\n",
            "Requirement already satisfied: scipy in /usr/local/lib/python3.10/dist-packages (from pytorch_fid) (1.10.1)\n",
            "Requirement already satisfied: torch>=1.0.1 in /usr/local/lib/python3.10/dist-packages (from pytorch_fid) (2.0.1+cu118)\n",
            "Requirement already satisfied: torchvision>=0.2.2 in /usr/local/lib/python3.10/dist-packages (from pytorch_fid) (0.15.2+cu118)\n",
            "Requirement already satisfied: filelock in /usr/local/lib/python3.10/dist-packages (from torch>=1.0.1->pytorch_fid) (3.12.2)\n",
            "Requirement already satisfied: typing-extensions in /usr/local/lib/python3.10/dist-packages (from torch>=1.0.1->pytorch_fid) (4.7.1)\n",
            "Requirement already satisfied: sympy in /usr/local/lib/python3.10/dist-packages (from torch>=1.0.1->pytorch_fid) (1.11.1)\n",
            "Requirement already satisfied: networkx in /usr/local/lib/python3.10/dist-packages (from torch>=1.0.1->pytorch_fid) (3.1)\n",
            "Requirement already satisfied: jinja2 in /usr/local/lib/python3.10/dist-packages (from torch>=1.0.1->pytorch_fid) (3.1.2)\n",
            "Requirement already satisfied: triton==2.0.0 in /usr/local/lib/python3.10/dist-packages (from torch>=1.0.1->pytorch_fid) (2.0.0)\n",
            "Requirement already satisfied: cmake in /usr/local/lib/python3.10/dist-packages (from triton==2.0.0->torch>=1.0.1->pytorch_fid) (3.25.2)\n",
            "Requirement already satisfied: lit in /usr/local/lib/python3.10/dist-packages (from triton==2.0.0->torch>=1.0.1->pytorch_fid) (16.0.6)\n",
            "Requirement already satisfied: requests in /usr/local/lib/python3.10/dist-packages (from torchvision>=0.2.2->pytorch_fid) (2.27.1)\n",
            "Requirement already satisfied: MarkupSafe>=2.0 in /usr/local/lib/python3.10/dist-packages (from jinja2->torch>=1.0.1->pytorch_fid) (2.1.3)\n",
            "Requirement already satisfied: urllib3<1.27,>=1.21.1 in /usr/local/lib/python3.10/dist-packages (from requests->torchvision>=0.2.2->pytorch_fid) (1.26.16)\n",
            "Requirement already satisfied: certifi>=2017.4.17 in /usr/local/lib/python3.10/dist-packages (from requests->torchvision>=0.2.2->pytorch_fid) (2023.7.22)\n",
            "Requirement already satisfied: charset-normalizer~=2.0.0 in /usr/local/lib/python3.10/dist-packages (from requests->torchvision>=0.2.2->pytorch_fid) (2.0.12)\n",
            "Requirement already satisfied: idna<4,>=2.5 in /usr/local/lib/python3.10/dist-packages (from requests->torchvision>=0.2.2->pytorch_fid) (3.4)\n",
            "Requirement already satisfied: mpmath>=0.19 in /usr/local/lib/python3.10/dist-packages (from sympy->torch>=1.0.1->pytorch_fid) (1.3.0)\n",
            "Installing collected packages: pytorch_fid\n",
            "Successfully installed pytorch_fid-0.3.0\n"
          ]
        }
      ]
    },
    {
      "cell_type": "code",
      "source": [
        "!unzip \"/content/drive/MyDrive/研究/進行中の研究/角膜スマートフォンAIプロジェクト/画像生成/generated_normal.zip\" -d \"/content/generated_normal\""
      ],
      "metadata": {
        "id": "DSt4Pnrx-NcK"
      },
      "execution_count": null,
      "outputs": []
    },
    {
      "cell_type": "code",
      "source": [
        "# Resize images to 299x299 pixcels\n",
        "from PIL import Image\n",
        "from tqdm import tqdm\n",
        "import os\n",
        "\n",
        "def resize_images(folder_path, size=(299, 299)):\n",
        "    files_to_resize = []\n",
        "    for root, dirs, files in os.walk(folder_path):\n",
        "        for file in files:\n",
        "            if file.endswith(\".png\") or file.endswith(\".jpg\"):\n",
        "                files_to_resize.append(os.path.join(root, file))\n",
        "\n",
        "    for file_path in tqdm(files_to_resize, desc=f'Resizing images in {folder_path}'):\n",
        "        img = Image.open(file_path)\n",
        "        img_resized = img.resize(size)\n",
        "        img_resized.save(file_path)\n",
        "\n",
        "# Resize images in the 'true' folder\n",
        "true_folder = '/content/generated_normal/true'\n",
        "resize_images(true_folder)\n",
        "\n",
        "# Resize images in other folders\n",
        "parent_folder = '/content/generated_normal'\n",
        "folders = os.listdir(parent_folder)\n",
        "for folder in folders:\n",
        "    if folder == 'true':\n",
        "        continue\n",
        "    other_folder = os.path.join(parent_folder, folder)\n",
        "    resize_images(other_folder)"
      ],
      "metadata": {
        "id": "Y7pBHrMAHIkW"
      },
      "execution_count": null,
      "outputs": []
    },
    {
      "cell_type": "code",
      "source": [
        "import os\n",
        "import pandas as pd\n",
        "\n",
        "# Path to the folder with the real images\n",
        "true_images_folder = '/content/generated_normal/true'\n",
        "\n",
        "# Path to the parent folder of the generated images\n",
        "parent_folder = '/content/generated_normal'\n",
        "\n",
        "# Get a list of all folders in the parent folder\n",
        "folders = os.listdir(parent_folder)\n",
        "\n",
        "# Create an empty dataframe to store FID scores\n",
        "fid_scores = pd.DataFrame(columns=['folder', 'fid_score'])\n",
        "\n",
        "for folder in folders:\n",
        "    if folder == 'true':\n",
        "        continue\n",
        "    other_folder = os.path.join(parent_folder, folder)\n",
        "\n",
        "    # Calculate the FID score\n",
        "    fid_score = !python -m pytorch_fid {true_folder} {other_folder}  # Note: replace this with your FID calculation command\n",
        "    print(fid_score)\n",
        "    fid_score = float(fid_score[11].split(':')[1].strip())  # Note: adjust this line based on the output of your FID calculation command\n",
        "    fid_score = round(fid_score, 2) #round FID value to two decimal places\n",
        "\n",
        "    # Add the FID score to the dataframe\n",
        "    print(f\"{folder}: {fid_score}\")\n",
        "    current_score = pd.DataFrame({'folder': [folder], 'fid_score': [fid_score]})\n",
        "    fid_scores = pd.concat([fid_scores, current_score], ignore_index=True)\n",
        "\n",
        "# Print the dataframe\n",
        "print(fid_scores)"
      ],
      "metadata": {
        "id": "QuY81M49_Gkd"
      },
      "execution_count": null,
      "outputs": []
    },
    {
      "cell_type": "code",
      "source": [
        "# Extract the step number and whether the row is negative into new columns\n",
        "fid_scores['step'] = fid_scores['folder'].str.extract('(\\d+)').astype(int)\n",
        "fid_scores['negative'] = fid_scores['folder'].str.contains('negative')\n",
        "\n",
        "# Sort by the new columns\n",
        "fid_scores_sorted = fid_scores.sort_values(['step', 'negative'])\n",
        "\n",
        "# Reset the index of the sorted DataFrame\n",
        "fid_scores_sorted = fid_scores_sorted.reset_index(drop=True)\n",
        "\n",
        "# Print the sorted DataFrame\n",
        "fid_scores_sorted\n"
      ],
      "metadata": {
        "id": "E6FgRobXNmh_"
      },
      "execution_count": null,
      "outputs": []
    },
    {
      "cell_type": "code",
      "source": [
        "import matplotlib.pyplot as plt\n",
        "\n",
        "# Create a figure and an axis\n",
        "fig, ax = plt.subplots()\n",
        "\n",
        "# For each value of 'negative'\n",
        "for negative in [True, False]:\n",
        "    # Select the rows where 'negative' is the current value\n",
        "    subset = fid_scores_sorted[fid_scores_sorted['negative'] == negative]\n",
        "    # Plot 'step' vs 'fid_score' for the selected rows\n",
        "    ax.plot(subset['step'], subset['fid_score'], label=f'negative={negative}')\n",
        "\n",
        "# Add title and labels\n",
        "ax.set_title('FID Score by Step Number')\n",
        "ax.set_xlabel('Step Number')\n",
        "ax.set_ylabel('FID Score')\n",
        "\n",
        "# Add a legend\n",
        "ax.legend()\n",
        "\n",
        "# Display the plot\n",
        "plt.show()\n"
      ],
      "metadata": {
        "id": "WDszXGaYN3-P"
      },
      "execution_count": null,
      "outputs": []
    },
    {
      "cell_type": "markdown",
      "source": [
        "#**人力評価用データセットの作成**"
      ],
      "metadata": {
        "id": "6kCXbYcFP5He"
      }
    },
    {
      "cell_type": "code",
      "source": [
        "!unzip \"/content/drive/MyDrive/研究/進行中の研究/角膜スマートフォンAIプロジェクト/画像生成/generated_normal.zip\" -d \"/content/generated_normal\""
      ],
      "metadata": {
        "id": "Upwzkxj3QdSq"
      },
      "execution_count": null,
      "outputs": []
    },
    {
      "cell_type": "code",
      "source": [],
      "metadata": {
        "id": "YYi83bB5QfIU"
      },
      "execution_count": null,
      "outputs": []
    }
  ]
}