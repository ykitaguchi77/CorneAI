{
  "nbformat": 4,
  "nbformat_minor": 0,
  "metadata": {
    "colab": {
      "provenance": [],
      "machine_shape": "hm",
      "gpuType": "V100",
      "authorship_tag": "ABX9TyONwtZU5AhhKy/q4/XCwVoL",
      "include_colab_link": true
    },
    "kernelspec": {
      "name": "python3",
      "display_name": "Python 3"
    },
    "language_info": {
      "name": "python"
    }
  },
  "cells": [
    {
      "cell_type": "markdown",
      "metadata": {
        "id": "view-in-github",
        "colab_type": "text"
      },
      "source": [
        "<a href=\"https://colab.research.google.com/github/ykitaguchi77/CorneAI/blob/main/Generate_pte_result.ipynb\" target=\"_parent\"><img src=\"https://colab.research.google.com/assets/colab-badge.svg\" alt=\"Open In Colab\"/></a>"
      ]
    },
    {
      "cell_type": "markdown",
      "source": [
        "#**Stable diffusionのファインチューニングでPteの画像を作成したときの精度評価**\n",
        "\n",
        "https://www.notion.so/Stable-diffusion-Lora-bc9427134dcd4596badd624720cc365d"
      ],
      "metadata": {
        "id": "1LLN9tGjjtDk"
      }
    },
    {
      "cell_type": "code",
      "source": [
        "from google.colab import drive\n",
        "drive.mount('/content/drive')"
      ],
      "metadata": {
        "colab": {
          "base_uri": "https://localhost:8080/"
        },
        "id": "SpFnbz8f_aWQ",
        "outputId": "b5b630d2-8c41-464f-eed7-ca56bee16a7c"
      },
      "execution_count": 38,
      "outputs": [
        {
          "output_type": "stream",
          "name": "stdout",
          "text": [
            "Drive already mounted at /content/drive; to attempt to forcibly remount, call drive.mount(\"/content/drive\", force_remount=True).\n"
          ]
        }
      ]
    },
    {
      "cell_type": "markdown",
      "source": [
        "#**尤度で評価**\n",
        "\n",
        "CorneAIに画像入り(100枚)のフォルダを投入し、各クラスの尤度を計算する。今回は正常画像のトレーニングなので、正常と判定される尤度をピックアップし、平均+-標準偏差を算出する"
      ],
      "metadata": {
        "id": "pQwpozGK7XeH"
      }
    },
    {
      "cell_type": "code",
      "source": [
        "import os\n",
        "import glob\n",
        "import pandas as pd\n",
        "import matplotlib.pyplot as plt"
      ],
      "metadata": {
        "id": "-3STa6Gl_YOr"
      },
      "execution_count": 49,
      "outputs": []
    },
    {
      "cell_type": "code",
      "source": [
        "data_dir = \"/content/drive/MyDrive/研究/進行中の研究/角膜スマートフォンAIプロジェクト/画像生成/sltphoto_pte\"\n",
        "csv_files = glob.glob(f\"{data_dir}/*\")\n",
        "print(csv_files)\n"
      ],
      "metadata": {
        "colab": {
          "base_uri": "https://localhost:8080/"
        },
        "id": "L5syT4GSo3pl",
        "outputId": "251ceac0-91ae-49b4-8028-a18597da290d"
      },
      "execution_count": 50,
      "outputs": [
        {
          "output_type": "stream",
          "name": "stdout",
          "text": [
            "['/content/drive/MyDrive/研究/進行中の研究/角膜スマートフォンAIプロジェクト/画像生成/sltphoto_pte/300_negative.csv', '/content/drive/MyDrive/研究/進行中の研究/角膜スマートフォンAIプロジェクト/画像生成/sltphoto_pte/150_negative.csv', '/content/drive/MyDrive/研究/進行中の研究/角膜スマートフォンAIプロジェクト/画像生成/sltphoto_pte/150.csv', '/content/drive/MyDrive/研究/進行中の研究/角膜スマートフォンAIプロジェクト/画像生成/sltphoto_pte/4800.csv', '/content/drive/MyDrive/研究/進行中の研究/角膜スマートフォンAIプロジェクト/画像生成/sltphoto_pte/1200_negative.csv', '/content/drive/MyDrive/研究/進行中の研究/角膜スマートフォンAIプロジェクト/画像生成/sltphoto_pte/1200.csv', '/content/drive/MyDrive/研究/進行中の研究/角膜スマートフォンAIプロジェクト/画像生成/sltphoto_pte/2400_negative.csv', '/content/drive/MyDrive/研究/進行中の研究/角膜スマートフォンAIプロジェクト/画像生成/sltphoto_pte/2400.csv', '/content/drive/MyDrive/研究/進行中の研究/角膜スマートフォンAIプロジェクト/画像生成/sltphoto_pte/600_negative.csv', '/content/drive/MyDrive/研究/進行中の研究/角膜スマートフォンAIプロジェクト/画像生成/sltphoto_pte/300.csv', '/content/drive/MyDrive/研究/進行中の研究/角膜スマートフォンAIプロジェクト/画像生成/sltphoto_pte/600.csv', '/content/drive/MyDrive/研究/進行中の研究/角膜スマートフォンAIプロジェクト/画像生成/sltphoto_pte/9600_negative.csv', '/content/drive/MyDrive/研究/進行中の研究/角膜スマートフォンAIプロジェクト/画像生成/sltphoto_pte/4800_negative.csv', '/content/drive/MyDrive/研究/進行中の研究/角膜スマートフォンAIプロジェクト/画像生成/sltphoto_pte/9600.csv']\n"
          ]
        }
      ]
    },
    {
      "cell_type": "code",
      "source": [
        "import os\n",
        "import pandas as pd\n",
        "\n",
        "# Empty list to store dataframes\n",
        "dfs = []\n",
        "\n",
        "# Read each csv file, add 'step' and 'negative_prompt' columns based on file name, and append to the list\n",
        "for file in csv_files:\n",
        "    df = pd.read_csv(file, encoding='cp932')\n",
        "\n",
        "    # Get the step number and negative prompt flag from the file name\n",
        "    filename = os.path.splitext(os.path.basename(file))[0]\n",
        "\n",
        "    if \"negative\" in filename:\n",
        "        step = int(filename.split(\"_\")[0])\n",
        "        negative_prompt = True\n",
        "    else:\n",
        "        step = int(filename.split(\"_\")[0])\n",
        "        negative_prompt = False\n",
        "\n",
        "\n",
        "    # Add 'step' and 'negative_prompt' columns\n",
        "    df['step'] = step\n",
        "    df['negative_prompt'] = negative_prompt\n",
        "\n",
        "    dfs.append(df)\n",
        "\n",
        "# Concatenate all dataframes\n",
        "df_combined = pd.concat(dfs, ignore_index=True)\n",
        "\n",
        "# Calculate mean and standard deviation of '正常' score for each combination of 'step' and 'negative_prompt'\n",
        "stats_df = df_combined.groupby(['step', 'negative_prompt'])['腫瘍性病変'].agg(['mean', 'std']).reset_index()\n",
        "\n",
        "stats_df\n"
      ],
      "metadata": {
        "id": "PfswM2Y2kh6R"
      },
      "execution_count": null,
      "outputs": []
    },
    {
      "cell_type": "code",
      "source": [
        "df_combined"
      ],
      "metadata": {
        "id": "wCIvaawvDncH"
      },
      "execution_count": null,
      "outputs": []
    },
    {
      "cell_type": "code",
      "source": [
        "import matplotlib.pyplot as plt\n",
        "\n",
        "# Separate dataframes for negative_prompt == True and False\n",
        "df_true = stats_df[stats_df['negative_prompt'] == True]\n",
        "df_false = stats_df[stats_df['negative_prompt'] == False]\n",
        "\n",
        "# Set y limit\n",
        "ylim_max = max((df_true['mean'] + df_true['std']).max(), (df_false['mean'] + df_false['std']).max())\n",
        "\n",
        "# Plotting with corrected error bars\n",
        "plt.figure(figsize=(12, 8))\n",
        "\n",
        "plt.errorbar(df_true['step'], df_true['mean'], yerr=[[0]*len(df_true['std']), df_true['std']],\n",
        "             fmt='-o', capsize=5, label='Negative Prompt = True')\n",
        "plt.errorbar(df_false['step'], df_false['mean'], yerr=[df_false['std'], [0]*len(df_false['std'])],\n",
        "             fmt='-o', capsize=5, label='Negative Prompt = False')\n",
        "\n",
        "plt.xlabel('Step')\n",
        "plt.ylabel('Mean Probability of \"Normal\"')\n",
        "plt.ylim(0, ylim_max)\n",
        "plt.legend()\n",
        "plt.grid(True)\n",
        "plt.title('Mean Probability of \"Normal\" for different steps and negative prompt')\n",
        "plt.show()\n",
        "\n"
      ],
      "metadata": {
        "id": "u4L4CPKbkh8d",
        "outputId": "da36c263-edbc-4e39-8834-a2991c0b7305",
        "colab": {
          "base_uri": "https://localhost:8080/",
          "height": 738
        }
      },
      "execution_count": 55,
      "outputs": [
        {
          "output_type": "display_data",
          "data": {
            "text/plain": [
              "<Figure size 1200x800 with 1 Axes>"
            ],
            "image/png": "[encoded data removed]"
          },
          "metadata": {}
        }
      ]
    },
    {
      "cell_type": "code",
      "source": [
        "plt.savefig('mean_probability_plot.png')"
      ],
      "metadata": {
        "id": "Pchf3d3KTb-z",
        "outputId": "c97aa1bc-f0b6-425e-8e30-36293287e1c4",
        "colab": {
          "base_uri": "https://localhost:8080/",
          "height": 35
        }
      },
      "execution_count": 59,
      "outputs": [
        {
          "output_type": "display_data",
          "data": {
            "text/plain": [
              "<Figure size 640x480 with 0 Axes>"
            ]
          },
          "metadata": {}
        }
      ]
    },
    {
      "cell_type": "markdown",
      "source": [
        "###**Negative promptの有無による比較**\n",
        "\n",
        "Negative promptの有無による尤度を対応のないt検定で比較する"
      ],
      "metadata": {
        "id": "3vwkDfUa7lWf"
      }
    },
    {
      "cell_type": "code",
      "source": [
        "# Load the csv files into a dictionary of dataframes\n",
        "dataframes = {}\n",
        "for csv_file in csv_files:\n",
        "    dataframes[csv_file] = pd.read_csv(csv_file, encoding='cp932')\n",
        "    print(csv_file)"
      ],
      "metadata": {
        "id": "Acseo-Aox5vs"
      },
      "execution_count": null,
      "outputs": []
    },
    {
      "cell_type": "code",
      "source": [
        "from scipy.stats import ttest_ind\n",
        "\n",
        "# Prepare a dictionary to store the results\n",
        "t_test_results = {}\n",
        "\n",
        "# Loop over each unique step number\n",
        "#step_numbers = [150, 300, 600, 1200, 2400, 4800, 9600]\n",
        "step_numbers = set([int(os.path.splitext(os.path.basename(name))[0]) for name in csv_files if os.path.splitext(os.path.basename(name))[0].isdigit()])\n",
        "step_numbers = sorted(step_numbers)\n",
        "\n",
        "for step in step_numbers:\n",
        "    # Find corresponding dataframe names\n",
        "    df_name1 = f'{os.path.dirname(csv_file)}/{step}.csv'\n",
        "    df_name2 = f'{os.path.dirname(csv_file)}/{step}_negative.csv'\n",
        "\n",
        "    # If both dataframes exist, perform the t-test\n",
        "    if df_name1 in dataframes and df_name2 in dataframes:\n",
        "        df1 = dataframes[df_name1]\n",
        "        df2 = dataframes[df_name2]\n",
        "\n",
        "        # Perform the t-test on the \"正常\" column\n",
        "        t_stat, p_val = ttest_ind(df1[\"正常\"], df2[\"正常\"])\n",
        "        t_test_results[step] = (t_stat, p_val)\n",
        "\n",
        "t_test_results #\n"
      ],
      "metadata": {
        "id": "e_k6FAF4xkC6",
        "outputId": "33335cef-382e-47ed-e5bc-a5a0d14ec485",
        "colab": {
          "base_uri": "https://localhost:8080/"
        }
      },
      "execution_count": 57,
      "outputs": [
        {
          "output_type": "execute_result",
          "data": {
            "text/plain": [
              "{150: (-1.622513839440935, 0.1062845166483068),\n",
              " 300: (0.47707929881165584, 0.6338318010871231),\n",
              " 600: (0.0, 1.0),\n",
              " 1200: (-1.0486663350337035, 0.2956100559123799),\n",
              " 2400: (-1.0823763435825737, 0.2804017404946949),\n",
              " 4800: (0.6381955065149207, 0.5240838504603307),\n",
              " 9600: (0.8076928776999712, 0.420236668138239)}"
            ]
          },
          "metadata": {},
          "execution_count": 57
        }
      ]
    },
    {
      "cell_type": "markdown",
      "source": [
        "#**FID scoreを用いた画質の評価**\n",
        "\n",
        "FID for Pytorch\n",
        "https://github.com/mseitzer/pytorch-fid\n",
        "\n",
        "FID scoreとは？？\n",
        "https://data-analytics.fun/2021/12/31/understanding-fid/"
      ],
      "metadata": {
        "id": "RFjfiIbFxSaB"
      }
    },
    {
      "cell_type": "code",
      "source": [
        "!pip install pytorch_fid\n"
      ],
      "metadata": {
        "id": "8nits9SV9sSf"
      },
      "execution_count": null,
      "outputs": []
    },
    {
      "cell_type": "code",
      "source": [
        "!unzip \"/content/drive/MyDrive/研究/進行中の研究/角膜スマートフォンAIプロジェクト/画像生成/generated_normal.zip\" -d \"/content/generated_normal\""
      ],
      "metadata": {
        "id": "DSt4Pnrx-NcK"
      },
      "execution_count": null,
      "outputs": []
    },
    {
      "cell_type": "code",
      "source": [
        "# Resize images to 299x299 pixcels\n",
        "from PIL import Image\n",
        "from tqdm import tqdm\n",
        "import os\n",
        "\n",
        "def resize_images(folder_path, size=(299, 299)):\n",
        "    files_to_resize = []\n",
        "    for root, dirs, files in os.walk(folder_path):\n",
        "        for file in files:\n",
        "            if file.endswith(\".png\") or file.endswith(\".jpg\"):\n",
        "                files_to_resize.append(os.path.join(root, file))\n",
        "\n",
        "    for file_path in tqdm(files_to_resize, desc=f'Resizing images in {folder_path}'):\n",
        "        img = Image.open(file_path)\n",
        "        img_resized = img.resize(size)\n",
        "        img_resized.save(file_path)\n",
        "\n",
        "# Resize images in the 'true' folder\n",
        "true_folder = '/content/generated_normal/true'\n",
        "resize_images(true_folder)\n",
        "\n",
        "# Resize images in other folders\n",
        "parent_folder = '/content/generated_normal'\n",
        "folders = os.listdir(parent_folder)\n",
        "for folder in folders:\n",
        "    if folder == 'true':\n",
        "        continue\n",
        "    other_folder = os.path.join(parent_folder, folder)\n",
        "    resize_images(other_folder)"
      ],
      "metadata": {
        "id": "Y7pBHrMAHIkW",
        "outputId": "1cfdbec3-5919-4b49-cdb1-fca4604a38a6",
        "colab": {
          "base_uri": "https://localhost:8080/"
        }
      },
      "execution_count": null,
      "outputs": [
        {
          "output_type": "stream",
          "name": "stderr",
          "text": [
            "Resizing images in /content/generated_normal/true: 100%|██████████| 342/342 [00:07<00:00, 43.92it/s]\n",
            "Resizing images in /content/generated_normal/step600_negative: 100%|██████████| 100/100 [00:06<00:00, 15.30it/s]\n",
            "Resizing images in /content/generated_normal/step1200: 100%|██████████| 100/100 [00:07<00:00, 14.12it/s]\n",
            "Resizing images in /content/generated_normal/step9600: 100%|██████████| 100/100 [00:06<00:00, 16.40it/s]\n",
            "Resizing images in /content/generated_normal/step300: 100%|██████████| 100/100 [00:06<00:00, 15.41it/s]\n",
            "Resizing images in /content/generated_normal/step4800_negative: 100%|██████████| 100/100 [00:06<00:00, 16.65it/s]\n",
            "Resizing images in /content/generated_normal/step600: 100%|██████████| 100/100 [00:06<00:00, 15.57it/s]\n",
            "Resizing images in /content/generated_normal/step150: 100%|██████████| 100/100 [00:06<00:00, 16.27it/s]\n",
            "Resizing images in /content/generated_normal/step300_negative: 100%|██████████| 100/100 [00:06<00:00, 16.46it/s]\n",
            "Resizing images in /content/generated_normal/Step1200_negative: 100%|██████████| 100/100 [00:06<00:00, 15.86it/s]\n",
            "Resizing images in /content/generated_normal/step9600_negative: 100%|██████████| 100/100 [00:05<00:00, 18.70it/s]\n",
            "Resizing images in /content/generated_normal/step2400: 100%|██████████| 100/100 [00:06<00:00, 14.38it/s]\n",
            "Resizing images in /content/generated_normal/step150_negative: 100%|██████████| 100/100 [00:04<00:00, 20.18it/s]\n",
            "Resizing images in /content/generated_normal/step4800: 100%|██████████| 100/100 [00:07<00:00, 13.87it/s]\n",
            "Resizing images in /content/generated_normal/step2400_negative: 100%|██████████| 100/100 [00:06<00:00, 16.59it/s]\n"
          ]
        }
      ]
    },
    {
      "cell_type": "code",
      "source": [
        "import os\n",
        "import pandas as pd\n",
        "\n",
        "# Path to the folder with the real images\n",
        "true_images_folder = '/content/generated_normal/true'\n",
        "\n",
        "# Path to the parent folder of the generated images\n",
        "parent_folder = '/content/generated_normal'\n",
        "\n",
        "# Get a list of all folders in the parent folder\n",
        "folders = os.listdir(parent_folder)\n",
        "\n",
        "# Create an empty dataframe to store FID scores\n",
        "fid_scores = pd.DataFrame(columns=['folder', 'fid_score'])\n",
        "\n",
        "for folder in folders:\n",
        "    if folder == 'true':\n",
        "        continue\n",
        "    other_folder = os.path.join(parent_folder, folder)\n",
        "\n",
        "    # Calculate the FID score\n",
        "    fid_score = !python -m pytorch_fid {true_folder} {other_folder}  # Note: replace this with your FID calculation command\n",
        "    print(fid_score)\n",
        "    fid_score = float(fid_score[11].split(':')[1].strip())  # Note: adjust this line based on the output of your FID calculation command\n",
        "    fid_score = round(fid_score, 2) #round FID value to two decimal places\n",
        "\n",
        "    # Add the FID score to the dataframe\n",
        "    print(f\"{folder}: {fid_score}\")\n",
        "    current_score = pd.DataFrame({'folder': [folder], 'fid_score': [fid_score]})\n",
        "    fid_scores = pd.concat([fid_scores, current_score], ignore_index=True)\n",
        "\n",
        "# Print the dataframe\n",
        "print(fid_scores)"
      ],
      "metadata": {
        "id": "QuY81M49_Gkd"
      },
      "execution_count": null,
      "outputs": []
    },
    {
      "cell_type": "code",
      "source": [
        "# Extract the step number and whether the row is negative into new columns\n",
        "fid_scores['step'] = fid_scores['folder'].str.extract('(\\d+)').astype(int)\n",
        "fid_scores['negative'] = fid_scores['folder'].str.contains('negative')\n",
        "\n",
        "# Sort by the new columns\n",
        "fid_scores_sorted = fid_scores.sort_values(['step', 'negative'])\n",
        "\n",
        "# Reset the index of the sorted DataFrame\n",
        "fid_scores_sorted = fid_scores_sorted.reset_index(drop=True)\n",
        "\n",
        "# Print the sorted DataFrame\n",
        "fid_scores_sorted\n"
      ],
      "metadata": {
        "id": "E6FgRobXNmh_",
        "outputId": "fa020bfa-7ed4-4db9-c6be-b6f734850559",
        "colab": {
          "base_uri": "https://localhost:8080/",
          "height": 488
        }
      },
      "execution_count": null,
      "outputs": [
        {
          "output_type": "execute_result",
          "data": {
            "text/plain": [
              "               folder  fid_score  step  negative\n",
              "0             step150     221.99   150     False\n",
              "1    step150_negative     215.38   150      True\n",
              "2             step300     211.04   300     False\n",
              "3    step300_negative     206.31   300      True\n",
              "4             step600     184.78   600     False\n",
              "5    step600_negative     172.12   600      True\n",
              "6            step1200     182.15  1200     False\n",
              "7   Step1200_negative     200.74  1200      True\n",
              "8            step2400     180.54  2400     False\n",
              "9   step2400_negative     182.80  2400      True\n",
              "10           step4800     230.05  4800     False\n",
              "11  step4800_negative     189.88  4800      True\n",
              "12           step9600     236.41  9600     False\n",
              "13  step9600_negative     203.35  9600      True"
            ],
            "text/html": [
              "\n",
              "\n",
              "  <div id=\"df-c62652cb-ec19-4e69-b458-5fc0841ec345\">\n",
              "    <div class=\"colab-df-container\">\n",
              "      <div>\n",
              "<style scoped>\n",
              "    .dataframe tbody tr th:only-of-type {\n",
              "        vertical-align: middle;\n",
              "    }\n",
              "\n",
              "    .dataframe tbody tr th {\n",
              "        vertical-align: top;\n",
              "    }\n",
              "\n",
              "    .dataframe thead th {\n",
              "        text-align: right;\n",
              "    }\n",
              "</style>\n",
              "<table border=\"1\" class=\"dataframe\">\n",
              "  <thead>\n",
              "    <tr style=\"text-align: right;\">\n",
              "      <th></th>\n",
              "      <th>folder</th>\n",
              "      <th>fid_score</th>\n",
              "      <th>step</th>\n",
              "      <th>negative</th>\n",
              "    </tr>\n",
              "  </thead>\n",
              "  <tbody>\n",
              "    <tr>\n",
              "      <th>0</th>\n",
              "      <td>step150</td>\n",
              "      <td>221.99</td>\n",
              "      <td>150</td>\n",
              "      <td>False</td>\n",
              "    </tr>\n",
              "    <tr>\n",
              "      <th>1</th>\n",
              "      <td>step150_negative</td>\n",
              "      <td>215.38</td>\n",
              "      <td>150</td>\n",
              "      <td>True</td>\n",
              "    </tr>\n",
              "    <tr>\n",
              "      <th>2</th>\n",
              "      <td>step300</td>\n",
              "      <td>211.04</td>\n",
              "      <td>300</td>\n",
              "      <td>False</td>\n",
              "    </tr>\n",
              "    <tr>\n",
              "      <th>3</th>\n",
              "      <td>step300_negative</td>\n",
              "      <td>206.31</td>\n",
              "      <td>300</td>\n",
              "      <td>True</td>\n",
              "    </tr>\n",
              "    <tr>\n",
              "      <th>4</th>\n",
              "      <td>step600</td>\n",
              "      <td>184.78</td>\n",
              "      <td>600</td>\n",
              "      <td>False</td>\n",
              "    </tr>\n",
              "    <tr>\n",
              "      <th>5</th>\n",
              "      <td>step600_negative</td>\n",
              "      <td>172.12</td>\n",
              "      <td>600</td>\n",
              "      <td>True</td>\n",
              "    </tr>\n",
              "    <tr>\n",
              "      <th>6</th>\n",
              "      <td>step1200</td>\n",
              "      <td>182.15</td>\n",
              "      <td>1200</td>\n",
              "      <td>False</td>\n",
              "    </tr>\n",
              "    <tr>\n",
              "      <th>7</th>\n",
              "      <td>Step1200_negative</td>\n",
              "      <td>200.74</td>\n",
              "      <td>1200</td>\n",
              "      <td>True</td>\n",
              "    </tr>\n",
              "    <tr>\n",
              "      <th>8</th>\n",
              "      <td>step2400</td>\n",
              "      <td>180.54</td>\n",
              "      <td>2400</td>\n",
              "      <td>False</td>\n",
              "    </tr>\n",
              "    <tr>\n",
              "      <th>9</th>\n",
              "      <td>step2400_negative</td>\n",
              "      <td>182.80</td>\n",
              "      <td>2400</td>\n",
              "      <td>True</td>\n",
              "    </tr>\n",
              "    <tr>\n",
              "      <th>10</th>\n",
              "      <td>step4800</td>\n",
              "      <td>230.05</td>\n",
              "      <td>4800</td>\n",
              "      <td>False</td>\n",
              "    </tr>\n",
              "    <tr>\n",
              "      <th>11</th>\n",
              "      <td>step4800_negative</td>\n",
              "      <td>189.88</td>\n",
              "      <td>4800</td>\n",
              "      <td>True</td>\n",
              "    </tr>\n",
              "    <tr>\n",
              "      <th>12</th>\n",
              "      <td>step9600</td>\n",
              "      <td>236.41</td>\n",
              "      <td>9600</td>\n",
              "      <td>False</td>\n",
              "    </tr>\n",
              "    <tr>\n",
              "      <th>13</th>\n",
              "      <td>step9600_negative</td>\n",
              "      <td>203.35</td>\n",
              "      <td>9600</td>\n",
              "      <td>True</td>\n",
              "    </tr>\n",
              "  </tbody>\n",
              "</table>\n",
              "</div>\n",
              "      <button class=\"colab-df-convert\" onclick=\"convertToInteractive('df-c62652cb-ec19-4e69-b458-5fc0841ec345')\"\n",
              "              title=\"Convert this dataframe to an interactive table.\"\n",
              "              style=\"display:none;\">\n",
              "\n",
              "  <svg xmlns=\"http://www.w3.org/2000/svg\" height=\"24px\"viewBox=\"0 0 24 24\"\n",
              "       width=\"24px\">\n",
              "    <path d=\"M0 0h24v24H0V0z\" fill=\"none\"/>\n",
              "    <path d=\"M18.56 5.44l.94 2.06.94-2.06 2.06-.94-2.06-.94-.94-2.06-.94 2.06-2.06.94zm-11 1L8.5 8.5l.94-2.06 2.06-.94-2.06-.94L8.5 2.5l-.94 2.06-2.06.94zm10 10l.94 2.06.94-2.06 2.06-.94-2.06-.94-.94-2.06-.94 2.06-2.06.94z\"/><path d=\"M17.41 7.96l-1.37-1.37c-.4-.4-.92-.59-1.43-.59-.52 0-1.04.2-1.43.59L10.3 9.45l-7.72 7.72c-.78.78-.78 2.05 0 2.83L4 21.41c.39.39.9.59 1.41.59.51 0 1.02-.2 1.41-.59l7.78-7.78 2.81-2.81c.8-.78.8-2.07 0-2.86zM5.41 20L4 18.59l7.72-7.72 1.47 1.35L5.41 20z\"/>\n",
              "  </svg>\n",
              "      </button>\n",
              "\n",
              "\n",
              "\n",
              "    <div id=\"df-87f2868f-3dc1-4078-b616-fe86dbb8e379\">\n",
              "      <button class=\"colab-df-quickchart\" onclick=\"quickchart('df-87f2868f-3dc1-4078-b616-fe86dbb8e379')\"\n",
              "              title=\"Suggest charts.\"\n",
              "              style=\"display:none;\">\n",
              "\n",
              "<svg xmlns=\"http://www.w3.org/2000/svg\" height=\"24px\"viewBox=\"0 0 24 24\"\n",
              "     width=\"24px\">\n",
              "    <g>\n",
              "        <path d=\"M19 3H5c-1.1 0-2 .9-2 2v14c0 1.1.9 2 2 2h14c1.1 0 2-.9 2-2V5c0-1.1-.9-2-2-2zM9 17H7v-7h2v7zm4 0h-2V7h2v10zm4 0h-2v-4h2v4z\"/>\n",
              "    </g>\n",
              "</svg>\n",
              "      </button>\n",
              "    </div>\n",
              "\n",
              "<style>\n",
              "  .colab-df-quickchart {\n",
              "    background-color: #E8F0FE;\n",
              "    border: none;\n",
              "    border-radius: 50%;\n",
              "    cursor: pointer;\n",
              "    display: none;\n",
              "    fill: #1967D2;\n",
              "    height: 32px;\n",
              "    padding: 0 0 0 0;\n",
              "    width: 32px;\n",
              "  }\n",
              "\n",
              "  .colab-df-quickchart:hover {\n",
              "    background-color: #E2EBFA;\n",
              "    box-shadow: 0px 1px 2px rgba(60, 64, 67, 0.3), 0px 1px 3px 1px rgba(60, 64, 67, 0.15);\n",
              "    fill: #174EA6;\n",
              "  }\n",
              "\n",
              "  [theme=dark] .colab-df-quickchart {\n",
              "    background-color: #3B4455;\n",
              "    fill: #D2E3FC;\n",
              "  }\n",
              "\n",
              "  [theme=dark] .colab-df-quickchart:hover {\n",
              "    background-color: #434B5C;\n",
              "    box-shadow: 0px 1px 3px 1px rgba(0, 0, 0, 0.15);\n",
              "    filter: drop-shadow(0px 1px 2px rgba(0, 0, 0, 0.3));\n",
              "    fill: #FFFFFF;\n",
              "  }\n",
              "</style>\n",
              "\n",
              "    <script>\n",
              "      async function quickchart(key) {\n",
              "        const containerElement = document.querySelector('#' + key);\n",
              "        const charts = await google.colab.kernel.invokeFunction(\n",
              "            'suggestCharts', [key], {});\n",
              "      }\n",
              "    </script>\n",
              "\n",
              "      <script>\n",
              "\n",
              "function displayQuickchartButton(domScope) {\n",
              "  let quickchartButtonEl =\n",
              "    domScope.querySelector('#df-87f2868f-3dc1-4078-b616-fe86dbb8e379 button.colab-df-quickchart');\n",
              "  quickchartButtonEl.style.display =\n",
              "    google.colab.kernel.accessAllowed ? 'block' : 'none';\n",
              "}\n",
              "\n",
              "        displayQuickchartButton(document);\n",
              "      </script>\n",
              "      <style>\n",
              "    .colab-df-container {\n",
              "      display:flex;\n",
              "      flex-wrap:wrap;\n",
              "      gap: 12px;\n",
              "    }\n",
              "\n",
              "    .colab-df-convert {\n",
              "      background-color: #E8F0FE;\n",
              "      border: none;\n",
              "      border-radius: 50%;\n",
              "      cursor: pointer;\n",
              "      display: none;\n",
              "      fill: #1967D2;\n",
              "      height: 32px;\n",
              "      padding: 0 0 0 0;\n",
              "      width: 32px;\n",
              "    }\n",
              "\n",
              "    .colab-df-convert:hover {\n",
              "      background-color: #E2EBFA;\n",
              "      box-shadow: 0px 1px 2px rgba(60, 64, 67, 0.3), 0px 1px 3px 1px rgba(60, 64, 67, 0.15);\n",
              "      fill: #174EA6;\n",
              "    }\n",
              "\n",
              "    [theme=dark] .colab-df-convert {\n",
              "      background-color: #3B4455;\n",
              "      fill: #D2E3FC;\n",
              "    }\n",
              "\n",
              "    [theme=dark] .colab-df-convert:hover {\n",
              "      background-color: #434B5C;\n",
              "      box-shadow: 0px 1px 3px 1px rgba(0, 0, 0, 0.15);\n",
              "      filter: drop-shadow(0px 1px 2px rgba(0, 0, 0, 0.3));\n",
              "      fill: #FFFFFF;\n",
              "    }\n",
              "  </style>\n",
              "\n",
              "      <script>\n",
              "        const buttonEl =\n",
              "          document.querySelector('#df-c62652cb-ec19-4e69-b458-5fc0841ec345 button.colab-df-convert');\n",
              "        buttonEl.style.display =\n",
              "          google.colab.kernel.accessAllowed ? 'block' : 'none';\n",
              "\n",
              "        async function convertToInteractive(key) {\n",
              "          const element = document.querySelector('#df-c62652cb-ec19-4e69-b458-5fc0841ec345');\n",
              "          const dataTable =\n",
              "            await google.colab.kernel.invokeFunction('convertToInteractive',\n",
              "                                                     [key], {});\n",
              "          if (!dataTable) return;\n",
              "\n",
              "          const docLinkHtml = 'Like what you see? Visit the ' +\n",
              "            '<a target=\"_blank\" href=https://colab.research.google.com/notebooks/data_table.ipynb>data table notebook</a>'\n",
              "            + ' to learn more about interactive tables.';\n",
              "          element.innerHTML = '';\n",
              "          dataTable['output_type'] = 'display_data';\n",
              "          await google.colab.output.renderOutput(dataTable, element);\n",
              "          const docLink = document.createElement('div');\n",
              "          docLink.innerHTML = docLinkHtml;\n",
              "          element.appendChild(docLink);\n",
              "        }\n",
              "      </script>\n",
              "    </div>\n",
              "  </div>\n"
            ]
          },
          "metadata": {},
          "execution_count": 7
        }
      ]
    },
    {
      "cell_type": "code",
      "source": [
        "import matplotlib.pyplot as plt\n",
        "\n",
        "# Create a figure and an axis\n",
        "fig, ax = plt.subplots()\n",
        "\n",
        "# For each value of 'negative'\n",
        "for negative in [True, False]:\n",
        "    # Select the rows where 'negative' is the current value\n",
        "    subset = fid_scores_sorted[fid_scores_sorted['negative'] == negative]\n",
        "    # Plot 'step' vs 'fid_score' for the selected rows\n",
        "    ax.plot(subset['step'], subset['fid_score'], label=f'negative={negative}')\n",
        "\n",
        "# Add title and labels\n",
        "ax.set_title('FID Score by Step Number')\n",
        "ax.set_xlabel('Step Number')\n",
        "ax.set_ylabel('FID Score')\n",
        "\n",
        "# Add a legend\n",
        "ax.legend()\n",
        "\n",
        "# Display the plot\n",
        "plt.show()\n"
      ],
      "metadata": {
        "id": "WDszXGaYN3-P",
        "outputId": "b3ccb2fa-771f-4d38-fd01-514a910f8323",
        "colab": {
          "base_uri": "https://localhost:8080/",
          "height": 472
        }
      },
      "execution_count": null,
      "outputs": [
        {
          "output_type": "display_data",
          "data": {
            "text/plain": [
              "<Figure size 640x480 with 1 Axes>"
            ],
            "image/png": "[encoded data removed]"
          },
          "metadata": {}
        }
      ]
    },
    {
      "cell_type": "markdown",
      "source": [
        "#**人力評価用データセットの作成**"
      ],
      "metadata": {
        "id": "6kCXbYcFP5He"
      }
    },
    {
      "cell_type": "code",
      "source": [
        "!unzip \"/content/drive/MyDrive/研究/進行中の研究/角膜スマートフォンAIプロジェクト/画像生成/generated_normal.zip\" -d \"/content/generated_normal\""
      ],
      "metadata": {
        "id": "Upwzkxj3QdSq"
      },
      "execution_count": null,
      "outputs": []
    },
    {
      "cell_type": "code",
      "source": [],
      "metadata": {
        "id": "YYi83bB5QfIU"
      },
      "execution_count": null,
      "outputs": []
    }
  ]
}