{
  "nbformat": 4,
  "nbformat_minor": 0,
  "metadata": {
    "colab": {
      "provenance": [],
      "machine_shape": "hm",
      "gpuType": "V100",
      "authorship_tag": "ABX9TyOIlAtMY1HYPgkCz0AxJKrC",
      "include_colab_link": true
    },
    "kernelspec": {
      "name": "python3",
      "display_name": "Python 3"
    },
    "language_info": {
      "name": "python"
    }
  },
  "cells": [
    {
      "cell_type": "markdown",
      "metadata": {
        "id": "view-in-github",
        "colab_type": "text"
      },
      "source": [
        "<a href=\"https://colab.research.google.com/github/ykitaguchi77/CorneAI/blob/main/Generate_pte_result.ipynb\" target=\"_parent\"><img src=\"https://colab.research.google.com/assets/colab-badge.svg\" alt=\"Open In Colab\"/></a>"
      ]
    },
    {
      "cell_type": "markdown",
      "source": [
        "#**Stable diffusionのファインチューニングでPteの画像を作成したときの精度評価**\n",
        "\n",
        "https://www.notion.so/Stable-diffusion-Lora-bc9427134dcd4596badd624720cc365d"
      ],
      "metadata": {
        "id": "1LLN9tGjjtDk"
      }
    },
    {
      "cell_type": "code",
      "source": [
        "from google.colab import drive\n",
        "drive.mount('/content/drive')"
      ],
      "metadata": {
        "colab": {
          "base_uri": "https://localhost:8080/"
        },
        "id": "SpFnbz8f_aWQ",
        "outputId": "fc22ca2f-642c-44bf-f2a9-f4370614ebc8"
      },
      "execution_count": 1,
      "outputs": [
        {
          "output_type": "stream",
          "name": "stdout",
          "text": [
            "Mounted at /content/drive\n"
          ]
        }
      ]
    },
    {
      "cell_type": "markdown",
      "source": [
        "#**尤度で評価**\n",
        "\n",
        "CorneAIに画像入り(100枚)のフォルダを投入し、各クラスの尤度を計算する。今回は正常画像のトレーニングなので、正常と判定される尤度をピックアップし、平均+-標準偏差を算出する"
      ],
      "metadata": {
        "id": "pQwpozGK7XeH"
      }
    },
    {
      "cell_type": "code",
      "source": [
        "import os\n",
        "import glob\n",
        "import pandas as pd\n",
        "import matplotlib.pyplot as plt"
      ],
      "metadata": {
        "id": "-3STa6Gl_YOr"
      },
      "execution_count": 2,
      "outputs": []
    },
    {
      "cell_type": "code",
      "source": [
        "data_dir = \"/content/drive/MyDrive/研究/進行中の研究/角膜スマートフォンAIプロジェクト/画像生成/sltphoto_pte\"\n",
        "csv_files = glob.glob(f\"{data_dir}/*\")\n",
        "print(csv_files)\n"
      ],
      "metadata": {
        "id": "L5syT4GSo3pl"
      },
      "execution_count": null,
      "outputs": []
    },
    {
      "cell_type": "code",
      "source": [
        "import os\n",
        "import pandas as pd\n",
        "\n",
        "# Empty list to store dataframes\n",
        "dfs = []\n",
        "\n",
        "# Read each csv file, add 'step' and 'negative_prompt' columns based on file name, and append to the list\n",
        "for file in csv_files:\n",
        "    df = pd.read_csv(file, encoding='cp932')\n",
        "\n",
        "    # Get the step number and negative prompt flag from the file name\n",
        "    filename = os.path.splitext(os.path.basename(file))[0]\n",
        "\n",
        "    if \"negative\" in filename:\n",
        "        step = int(filename.split(\"_\")[0])\n",
        "        negative_prompt = True\n",
        "    else:\n",
        "        step = int(filename.split(\"_\")[0])\n",
        "        negative_prompt = False\n",
        "\n",
        "\n",
        "    # Add 'step' and 'negative_prompt' columns\n",
        "    df['step'] = step\n",
        "    df['negative_prompt'] = negative_prompt\n",
        "\n",
        "    dfs.append(df)\n",
        "\n",
        "# Concatenate all dataframes\n",
        "df_combined = pd.concat(dfs, ignore_index=True)\n",
        "\n",
        "# Calculate mean and standard deviation of '正常' score for each combination of 'step' and 'negative_prompt'\n",
        "stats_df = df_combined.groupby(['step', 'negative_prompt'])['腫瘍性病変'].agg(['mean', 'std']).reset_index()\n",
        "\n",
        "stats_df\n"
      ],
      "metadata": {
        "id": "PfswM2Y2kh6R"
      },
      "execution_count": null,
      "outputs": []
    },
    {
      "cell_type": "code",
      "source": [
        "df_combined"
      ],
      "metadata": {
        "id": "wCIvaawvDncH"
      },
      "execution_count": null,
      "outputs": []
    },
    {
      "cell_type": "code",
      "source": [
        "import matplotlib.pyplot as plt\n",
        "\n",
        "# Separate dataframes for negative_prompt == True and False\n",
        "df_true = stats_df[stats_df['negative_prompt'] == True]\n",
        "df_false = stats_df[stats_df['negative_prompt'] == False]\n",
        "\n",
        "# Set y limit\n",
        "ylim_max = max((df_true['mean'] + df_true['std']).max(), (df_false['mean'] + df_false['std']).max())\n",
        "\n",
        "# Plotting with corrected error bars\n",
        "plt.figure(figsize=(12, 8))\n",
        "\n",
        "plt.errorbar(df_true['step'], df_true['mean'], yerr=[[0]*len(df_true['std']), df_true['std']],\n",
        "             fmt='-o', capsize=5, label='Negative Prompt = True')\n",
        "plt.errorbar(df_false['step'], df_false['mean'], yerr=[df_false['std'], [0]*len(df_false['std'])],\n",
        "             fmt='-o', capsize=5, label='Negative Prompt = False')\n",
        "\n",
        "plt.xlabel('Step')\n",
        "plt.ylabel('Mean Probability of \"Normal\"')\n",
        "plt.ylim(0, ylim_max)\n",
        "plt.legend()\n",
        "plt.grid(True)\n",
        "plt.title('Mean Probability of \"Normal\" for different steps and negative prompt')\n",
        "plt.savefig('mean_probability_plot.png')\n",
        "plt.show()\n",
        "\n"
      ],
      "metadata": {
        "id": "u4L4CPKbkh8d",
        "outputId": "c8d4777a-5508-499f-bc98-15fdddcb615f",
        "colab": {
          "base_uri": "https://localhost:8080/",
          "height": 718
        }
      },
      "execution_count": 10,
      "outputs": [
        {
          "output_type": "display_data",
          "data": {
            "text/plain": [
              "<Figure size 1200x800 with 1 Axes>"
            ],
            "image/png": "[encoded data removed]"
          },
          "metadata": {}
        }
      ]
    },
    {
      "cell_type": "code",
      "source": [],
      "metadata": {
        "id": "Pchf3d3KTb-z",
        "outputId": "7add3161-217c-438d-bd7c-cfb4ee477683",
        "colab": {
          "base_uri": "https://localhost:8080/",
          "height": 35
        }
      },
      "execution_count": 9,
      "outputs": [
        {
          "output_type": "display_data",
          "data": {
            "text/plain": [
              "<Figure size 640x480 with 0 Axes>"
            ]
          },
          "metadata": {}
        }
      ]
    },
    {
      "cell_type": "markdown",
      "source": [
        "###**Negative promptの有無による比較**\n",
        "\n",
        "Negative promptの有無による尤度を対応のないt検定で比較する"
      ],
      "metadata": {
        "id": "3vwkDfUa7lWf"
      }
    },
    {
      "cell_type": "code",
      "source": [
        "# Load the csv files into a dictionary of dataframes\n",
        "dataframes = {}\n",
        "for csv_file in csv_files:\n",
        "    dataframes[csv_file] = pd.read_csv(csv_file, encoding='cp932')\n",
        "    print(csv_file)"
      ],
      "metadata": {
        "id": "Acseo-Aox5vs"
      },
      "execution_count": null,
      "outputs": []
    },
    {
      "cell_type": "code",
      "source": [
        "from scipy.stats import ttest_ind\n",
        "\n",
        "# Prepare a dictionary to store the results\n",
        "t_test_results = {}\n",
        "\n",
        "# Loop over each unique step number\n",
        "#step_numbers = [150, 300, 600, 1200, 2400, 4800, 9600]\n",
        "step_numbers = set([int(os.path.splitext(os.path.basename(name))[0]) for name in csv_files if os.path.splitext(os.path.basename(name))[0].isdigit()])\n",
        "step_numbers = sorted(step_numbers)\n",
        "\n",
        "for step in step_numbers:\n",
        "    # Find corresponding dataframe names\n",
        "    df_name1 = f'{os.path.dirname(csv_file)}/{step}.csv'\n",
        "    df_name2 = f'{os.path.dirname(csv_file)}/{step}_negative.csv'\n",
        "\n",
        "    # If both dataframes exist, perform the t-test\n",
        "    if df_name1 in dataframes and df_name2 in dataframes:\n",
        "        df1 = dataframes[df_name1]\n",
        "        df2 = dataframes[df_name2]\n",
        "\n",
        "        # Perform the t-test on the \"正常\" column\n",
        "        t_stat, p_val = ttest_ind(df1[\"正常\"], df2[\"正常\"])\n",
        "        t_test_results[step] = (t_stat, p_val)\n",
        "\n",
        "t_test_results #\n"
      ],
      "metadata": {
        "id": "e_k6FAF4xkC6",
        "outputId": "b70622cf-7fea-4613-9172-eb79a97d96ac",
        "colab": {
          "base_uri": "https://localhost:8080/"
        }
      },
      "execution_count": 12,
      "outputs": [
        {
          "output_type": "execute_result",
          "data": {
            "text/plain": [
              "{150: (-1.622513839440935, 0.1062845166483068),\n",
              " 300: (0.47707929881165584, 0.6338318010871231),\n",
              " 600: (0.0, 1.0),\n",
              " 1200: (-1.0486663350337035, 0.2956100559123799),\n",
              " 2400: (-1.0823763435825737, 0.2804017404946949),\n",
              " 4800: (0.6381955065149207, 0.5240838504603307),\n",
              " 9600: (0.8076928776999712, 0.420236668138239),\n",
              " 19200: (-0.8637684319670335, 0.38876025536894165)}"
            ]
          },
          "metadata": {},
          "execution_count": 12
        }
      ]
    },
    {
      "cell_type": "markdown",
      "source": [
        "#**FID scoreを用いた画質の評価**\n",
        "\n",
        "FID for Pytorch\n",
        "https://github.com/mseitzer/pytorch-fid\n",
        "\n",
        "FID scoreとは？？\n",
        "https://data-analytics.fun/2021/12/31/understanding-fid/"
      ],
      "metadata": {
        "id": "RFjfiIbFxSaB"
      }
    },
    {
      "cell_type": "code",
      "source": [
        "!pip install pytorch_fid\n"
      ],
      "metadata": {
        "id": "8nits9SV9sSf",
        "outputId": "26d2e9f0-0289-4586-8b8d-ffb92eeff5d6",
        "colab": {
          "base_uri": "https://localhost:8080/"
        }
      },
      "execution_count": 13,
      "outputs": [
        {
          "output_type": "stream",
          "name": "stdout",
          "text": [
            "Collecting pytorch_fid\n",
            "  Downloading pytorch_fid-0.3.0-py3-none-any.whl (15 kB)\n",
            "Requirement already satisfied: numpy in /usr/local/lib/python3.10/dist-packages (from pytorch_fid) (1.22.4)\n",
            "Requirement already satisfied: pillow in /usr/local/lib/python3.10/dist-packages (from pytorch_fid) (9.4.0)\n",
            "Requirement already satisfied: scipy in /usr/local/lib/python3.10/dist-packages (from pytorch_fid) (1.10.1)\n",
            "Requirement already satisfied: torch>=1.0.1 in /usr/local/lib/python3.10/dist-packages (from pytorch_fid) (2.0.1+cu118)\n",
            "Requirement already satisfied: torchvision>=0.2.2 in /usr/local/lib/python3.10/dist-packages (from pytorch_fid) (0.15.2+cu118)\n",
            "Requirement already satisfied: filelock in /usr/local/lib/python3.10/dist-packages (from torch>=1.0.1->pytorch_fid) (3.12.2)\n",
            "Requirement already satisfied: typing-extensions in /usr/local/lib/python3.10/dist-packages (from torch>=1.0.1->pytorch_fid) (4.7.1)\n",
            "Requirement already satisfied: sympy in /usr/local/lib/python3.10/dist-packages (from torch>=1.0.1->pytorch_fid) (1.11.1)\n",
            "Requirement already satisfied: networkx in /usr/local/lib/python3.10/dist-packages (from torch>=1.0.1->pytorch_fid) (3.1)\n",
            "Requirement already satisfied: jinja2 in /usr/local/lib/python3.10/dist-packages (from torch>=1.0.1->pytorch_fid) (3.1.2)\n",
            "Requirement already satisfied: triton==2.0.0 in /usr/local/lib/python3.10/dist-packages (from torch>=1.0.1->pytorch_fid) (2.0.0)\n",
            "Requirement already satisfied: cmake in /usr/local/lib/python3.10/dist-packages (from triton==2.0.0->torch>=1.0.1->pytorch_fid) (3.25.2)\n",
            "Requirement already satisfied: lit in /usr/local/lib/python3.10/dist-packages (from triton==2.0.0->torch>=1.0.1->pytorch_fid) (16.0.6)\n",
            "Requirement already satisfied: requests in /usr/local/lib/python3.10/dist-packages (from torchvision>=0.2.2->pytorch_fid) (2.27.1)\n",
            "Requirement already satisfied: MarkupSafe>=2.0 in /usr/local/lib/python3.10/dist-packages (from jinja2->torch>=1.0.1->pytorch_fid) (2.1.3)\n",
            "Requirement already satisfied: urllib3<1.27,>=1.21.1 in /usr/local/lib/python3.10/dist-packages (from requests->torchvision>=0.2.2->pytorch_fid) (1.26.16)\n",
            "Requirement already satisfied: certifi>=2017.4.17 in /usr/local/lib/python3.10/dist-packages (from requests->torchvision>=0.2.2->pytorch_fid) (2023.7.22)\n",
            "Requirement already satisfied: charset-normalizer~=2.0.0 in /usr/local/lib/python3.10/dist-packages (from requests->torchvision>=0.2.2->pytorch_fid) (2.0.12)\n",
            "Requirement already satisfied: idna<4,>=2.5 in /usr/local/lib/python3.10/dist-packages (from requests->torchvision>=0.2.2->pytorch_fid) (3.4)\n",
            "Requirement already satisfied: mpmath>=0.19 in /usr/local/lib/python3.10/dist-packages (from sympy->torch>=1.0.1->pytorch_fid) (1.3.0)\n",
            "Installing collected packages: pytorch_fid\n",
            "Successfully installed pytorch_fid-0.3.0\n"
          ]
        }
      ]
    },
    {
      "cell_type": "code",
      "source": [
        "!unzip \"/content/drive/MyDrive/研究/進行中の研究/角膜スマートフォンAIプロジェクト/画像生成/generated_normal.zip\" -d \"/content/generated_normal\""
      ],
      "metadata": {
        "id": "DSt4Pnrx-NcK"
      },
      "execution_count": null,
      "outputs": []
    },
    {
      "cell_type": "code",
      "source": [
        "# Resize images to 299x299 pixcels\n",
        "from PIL import Image\n",
        "from tqdm import tqdm\n",
        "import os\n",
        "\n",
        "def resize_images(folder_path, size=(299, 299)):\n",
        "    files_to_resize = []\n",
        "    for root, dirs, files in os.walk(folder_path):\n",
        "        for file in files:\n",
        "            if file.endswith(\".png\") or file.endswith(\".jpg\"):\n",
        "                files_to_resize.append(os.path.join(root, file))\n",
        "\n",
        "    for file_path in tqdm(files_to_resize, desc=f'Resizing images in {folder_path}'):\n",
        "        img = Image.open(file_path)\n",
        "        img_resized = img.resize(size)\n",
        "        img_resized.save(file_path)\n",
        "\n",
        "# Resize images in the 'true' folder\n",
        "true_folder = '/content/generated_normal/true'\n",
        "resize_images(true_folder)\n",
        "\n",
        "# Resize images in other folders\n",
        "parent_folder = '/content/generated_normal'\n",
        "folders = os.listdir(parent_folder)\n",
        "for folder in folders:\n",
        "    if folder == 'true':\n",
        "        continue\n",
        "    other_folder = os.path.join(parent_folder, folder)\n",
        "    resize_images(other_folder)"
      ],
      "metadata": {
        "id": "Y7pBHrMAHIkW"
      },
      "execution_count": null,
      "outputs": []
    },
    {
      "cell_type": "code",
      "source": [
        "import os\n",
        "import pandas as pd\n",
        "\n",
        "# Path to the folder with the real images\n",
        "true_images_folder = '/content/generated_normal/true'\n",
        "\n",
        "# Path to the parent folder of the generated images\n",
        "parent_folder = '/content/generated_normal'\n",
        "\n",
        "# Get a list of all folders in the parent folder\n",
        "folders = os.listdir(parent_folder)\n",
        "\n",
        "# Create an empty dataframe to store FID scores\n",
        "fid_scores = pd.DataFrame(columns=['folder', 'fid_score'])\n",
        "\n",
        "for folder in folders:\n",
        "    if folder == 'true':\n",
        "        continue\n",
        "    other_folder = os.path.join(parent_folder, folder)\n",
        "\n",
        "    # Calculate the FID score\n",
        "    fid_score = !python -m pytorch_fid {true_folder} {other_folder}  # Note: replace this with your FID calculation command\n",
        "    print(fid_score)\n",
        "    fid_score = float(fid_score[11].split(':')[1].strip())  # Note: adjust this line based on the output of your FID calculation command\n",
        "    fid_score = round(fid_score, 2) #round FID value to two decimal places\n",
        "\n",
        "    # Add the FID score to the dataframe\n",
        "    print(f\"{folder}: {fid_score}\")\n",
        "    current_score = pd.DataFrame({'folder': [folder], 'fid_score': [fid_score]})\n",
        "    fid_scores = pd.concat([fid_scores, current_score], ignore_index=True)\n",
        "\n",
        "# Print the dataframe\n",
        "print(fid_scores)"
      ],
      "metadata": {
        "id": "QuY81M49_Gkd"
      },
      "execution_count": null,
      "outputs": []
    },
    {
      "cell_type": "code",
      "source": [
        "# Extract the step number and whether the row is negative into new columns\n",
        "fid_scores['step'] = fid_scores['folder'].str.extract('(\\d+)').astype(int)\n",
        "fid_scores['negative'] = fid_scores['folder'].str.contains('negative')\n",
        "\n",
        "# Sort by the new columns\n",
        "fid_scores_sorted = fid_scores.sort_values(['step', 'negative'])\n",
        "\n",
        "# Reset the index of the sorted DataFrame\n",
        "fid_scores_sorted = fid_scores_sorted.reset_index(drop=True)\n",
        "\n",
        "# Print the sorted DataFrame\n",
        "fid_scores_sorted\n"
      ],
      "metadata": {
        "id": "E6FgRobXNmh_"
      },
      "execution_count": null,
      "outputs": []
    },
    {
      "cell_type": "code",
      "source": [
        "import matplotlib.pyplot as plt\n",
        "\n",
        "# Create a figure and an axis\n",
        "fig, ax = plt.subplots()\n",
        "\n",
        "# For each value of 'negative'\n",
        "for negative in [True, False]:\n",
        "    # Select the rows where 'negative' is the current value\n",
        "    subset = fid_scores_sorted[fid_scores_sorted['negative'] == negative]\n",
        "    # Plot 'step' vs 'fid_score' for the selected rows\n",
        "    ax.plot(subset['step'], subset['fid_score'], label=f'negative={negative}')\n",
        "\n",
        "# Add title and labels\n",
        "ax.set_title('FID Score by Step Number')\n",
        "ax.set_xlabel('Step Number')\n",
        "ax.set_ylabel('FID Score')\n",
        "\n",
        "# Add a legend\n",
        "ax.legend()\n",
        "\n",
        "# Display the plot\n",
        "plt.show()\n"
      ],
      "metadata": {
        "id": "WDszXGaYN3-P"
      },
      "execution_count": null,
      "outputs": []
    },
    {
      "cell_type": "markdown",
      "source": [
        "#**人力評価用データセットの作成**"
      ],
      "metadata": {
        "id": "6kCXbYcFP5He"
      }
    },
    {
      "cell_type": "code",
      "source": [
        "!unzip \"/content/drive/MyDrive/研究/進行中の研究/角膜スマートフォンAIプロジェクト/画像生成/generated_normal.zip\" -d \"/content/generated_normal\""
      ],
      "metadata": {
        "id": "Upwzkxj3QdSq"
      },
      "execution_count": null,
      "outputs": []
    },
    {
      "cell_type": "code",
      "source": [],
      "metadata": {
        "id": "YYi83bB5QfIU"
      },
      "execution_count": null,
      "outputs": []
    }
  ]
}