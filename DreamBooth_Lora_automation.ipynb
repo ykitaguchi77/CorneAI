{
  "nbformat": 4,
  "nbformat_minor": 0,
  "metadata": {
    "colab": {
      "provenance": [],
      "authorship_tag": "ABX9TyPLfueMMzWWw78FkWDW12yU",
      "include_colab_link": true
    },
    "kernelspec": {
      "name": "python3",
      "display_name": "Python 3"
    },
    "language_info": {
      "name": "python"
    }
  },
  "cells": [
    {
      "cell_type": "markdown",
      "metadata": {
        "id": "view-in-github",
        "colab_type": "text"
      },
      "source": [
        "<a href=\"https://colab.research.google.com/github/ykitaguchi77/CorneAI/blob/main/DreamBooth_Lora_automation.ipynb\" target=\"_parent\"><img src=\"https://colab.research.google.com/assets/colab-badge.svg\" alt=\"Open In Colab\"/></a>"
      ]
    },
    {
      "cell_type": "code",
      "execution_count": 1,
      "metadata": {
        "colab": {
          "base_uri": "https://localhost:8080/"
        },
        "id": "DOMFql9SeFFP",
        "outputId": "d81cd47d-7022-429b-880a-356e76d41fb6"
      },
      "outputs": [
        {
          "output_type": "execute_result",
          "data": {
            "text/plain": [
              "'C:\\\\Users\\\\CorneAI\\\\sd-scripts'"
            ]
          },
          "metadata": {},
          "execution_count": 1
        }
      ],
      "source": [
        "pwd"
      ]
    },
    {
      "cell_type": "code",
      "source": [
        "import os\n",
        "%cd TrainingData_pterygium"
      ],
      "metadata": {
        "colab": {
          "base_uri": "https://localhost:8080/"
        },
        "id": "3NbX2fKZeSDy",
        "outputId": "1aaabbda-0686-472f-c794-4b59b4efdf57"
      },
      "execution_count": 1,
      "outputs": [
        {
          "output_type": "stream",
          "name": "stdout",
          "text": [
            "C:\\Users\\CorneAI\\sd-scripts\\TrainingData_pterygium\n"
          ]
        }
      ]
    },
    {
      "cell_type": "code",
      "source": [
        "%ls"
      ],
      "metadata": {
        "colab": {
          "base_uri": "https://localhost:8080/"
        },
        "id": "5MWGm262eYBN",
        "outputId": "c7ec8470-ad84-45b3-9675-9cdff22bd71a"
      },
      "execution_count": null,
      "outputs": [
        {
          "output_type": "stream",
          "name": "stdout",
          "text": [
            " ドライブ C のボリューム ラベルは WINDOWS です\n",
            " ボリューム シリアル番号は 2880-08EC です\n",
            "\n",
            " C:\\Users\\CorneAI\\sd-scripts\\TrainingData_pterygium のディレクトリ\n",
            "\n",
            "2023/07/23  17:03    <DIR>          .\n",
            "2023/07/11  01:02    <DIR>          ..\n",
            "2023/07/22  13:46    <DIR>          cataract_image_768letterbox\n",
            "2023/07/15  03:05             1,297 command_dreambooth.txt\n",
            "2023/07/22  13:55               745 command_dreambooth_multiclass_letterbox.txt\n",
            "2023/07/15  23:24               651 command_dreambooth_myt16mai.txt\n",
            "2023/07/17  20:06               702 command_dreambooth_myt16mai_letterbox.txt\n",
            "2023/07/18  00:53             1,060 command_dreambooth_myt16mai_letterbox_add.txt\n",
            "2023/07/22  16:04               700 command_dreambooth_normal_letterbox.txt\n",
            "2023/07/23  01:09               705 command_dreambooth_pterygium_letterbox.txt\n",
            "2023/07/23  17:06               764 command_dreambooth_pterygium123mai.txt\n",
            "2023/07/23  13:54               924 command_lora.txt\n",
            "2023/07/01  22:55                 0 config.txt\n",
            "2023/07/21  18:56               644 datasetconfig.toml\n",
            "2023/07/11  23:12               443 datasetconfig_dreambooth.toml\n",
            "2023/07/18  03:46               456 datasetconfig_dreambooth_letterbox.toml\n",
            "2023/07/22  02:33               445 datasetconfig_dreambooth_multiclass_letterbox.toml\n",
            "2023/07/15  23:31               459 datasetconfig_dreambooth_myt16mai.toml\n",
            "2023/07/18  03:32               466 datasetconfig_dreambooth_myt16mai_letterbox.toml\n",
            "2023/07/23  17:06               637 datasetconfig_dreambooth_pterygium_123mai.toml\n",
            "2023/07/22  17:17               630 datasetconfig_dreambooth_pterygium_letterbox.toml\n",
            "2023/07/23  13:55               649 datasetconfig_lora.toml\n",
            "2023/07/22  02:03    <DIR>          multiclass_768px_letterbox_dreambooth\n",
            "2023/07/23  19:40    <DIR>          outputs\n",
            "2023/07/22  13:45    <DIR>          pterygium_image_768letterbox\n",
            "2023/07/23  16:58    <DIR>          pterygium_image_768letterbox_123mai\n",
            "2023/07/23  09:53    <DIR>          pterygium_image_768letterbox_28mai\n",
            "2023/07/11  12:23    <DIR>          regularized_image\n",
            "2023/07/15  23:13    <DIR>          regularized_image_768_normal_myt16mai_dreambooth\n",
            "2023/07/18  03:20    <DIR>          regularized_image_768letterbox_normal_dreambooth\n",
            "2023/07/16  01:06    <DIR>          regularized_image_768letterbox_normal_myt16mai_dreambooth\n",
            "2023/07/11  12:36    <DIR>          regularized_image_768px\n",
            "2023/07/14  08:54    <DIR>          regularized_image_768px_dreambooth\n",
            "2023/07/11  18:16    <DIR>          regularized_image_768px_dreambooth_4mai\n",
            "2023/07/18  08:01    <DIR>          regularized_image_768px_normal_dreambooth\n",
            "2023/07/22  13:46    <DIR>          rojinkan_image_768letterbox\n",
            "2023/07/22  13:42    <DIR>          sltphoto_normal_image_768letterbox\n",
            "2023/07/03  10:19               256 tags_to_exclude.txt\n",
            "2023/07/11  00:38    <DIR>          train_image\n",
            "2023/07/21  18:35    <DIR>          train_image_10mai_pte_768px_letterbox\n",
            "2023/07/11  01:34    <DIR>          train_image_768px\n",
            "2023/07/21  18:26    <DIR>          train_image_768px_letterbox\n",
            "              20 個のファイル              12,633 バイト\n",
            "              22 個のディレクトリ  1,647,381,504,000 バイトの空き領域\n"
          ]
        }
      ]
    },
    {
      "cell_type": "code",
      "source": [
        "# pterygiumのフォルダを作る（command, tomlファイルを作成）\n",
        "%mkdir dreambooth_pterygium\n",
        "%cd dreambooth_pterygium"
      ],
      "metadata": {
        "colab": {
          "base_uri": "https://localhost:8080/"
        },
        "id": "3h3klru1gw2b",
        "outputId": "ffd08246-c49c-4218-af17-5fe389a04223"
      },
      "execution_count": null,
      "outputs": [
        {
          "output_type": "stream",
          "name": "stdout",
          "text": [
            "C:\\Users\\CorneAI\\sd-scripts\\TrainingData_pterygium\\dreambooth_pterygium\n"
          ]
        },
        {
          "output_type": "stream",
          "name": "stderr",
          "text": [
            "サブディレクトリまたはファイル dreambooth_pterygium は既に存在します。\n"
          ]
        }
      ]
    },
    {
      "cell_type": "markdown",
      "source": [
        "#**DreamBooth**"
      ],
      "metadata": {
        "id": "GWbteZueIOSr"
      }
    },
    {
      "cell_type": "code",
      "source": [
        "%cd C:\\Users\\CorneAI\\sd-scripts\\TrainingData_pterygium\\dreambooth_pterygium"
      ],
      "metadata": {
        "id": "k03rY4Pr97CF",
        "outputId": "8c1e06f1-8800-429f-954a-5801ee35a730",
        "colab": {
          "base_uri": "https://localhost:8080/"
        }
      },
      "execution_count": 2,
      "outputs": [
        {
          "output_type": "stream",
          "name": "stdout",
          "text": [
            "C:\\Users\\CorneAI\\sd-scripts\\TrainingData_pterygium\\dreambooth_pterygium\n"
          ]
        }
      ]
    },
    {
      "cell_type": "code",
      "source": [
        "# tomlファイルを作成\n",
        "%%writefile datasetconfig_dreambooth_pterygium_123mai.toml\n",
        "\n",
        "[general]\n",
        "enable_bucket = true                       # Aspect Ratio Bucketingを使うか否か\n",
        "bucket_no_upscale = true\n",
        "\n",
        "[[datasets]]\n",
        "#resolution = 768, 768                           # 学習解像度\n",
        "batch_size = 4                              # バッチサイズ\n",
        "\n",
        "[[datasets.subsets]]\n",
        "image_dir = 'C:\\Users\\CorneAI\\sd-scripts\\TrainingData_pterygium\\pterygium_image_768letterbox_123mai'\n",
        "caption_extension = '.txt'\n",
        "num_repeats = 10\n",
        "\n",
        "#[[datasets.subsets]]\n",
        "#is_reg = true\n",
        "#image_dir = 'C:\\Users\\CorneAI\\sd-scripts\\TrainingData_pterygium\\sltphoto_normal_image_768letterbox'\n",
        "#class_tokens = 'sltphoto'\n",
        "#num_repeats = 1"
      ],
      "metadata": {
        "id": "qPyLR5ApgO7A"
      },
      "execution_count": null,
      "outputs": []
    },
    {
      "cell_type": "code",
      "source": [
        "# protocolの記録\n",
        "%%writefile protocol_dreambooth_pterygium_123mai.txt\n",
        "\n",
        ".\\venv\\Scripts\\activate\n",
        "300 - 600 - 1200 - 2400 - 4800 - 9600 stepsで比較\n",
        "\n",
        "以下command\n",
        "\n",
        "# 300 steps\n",
        "accelerate launch --num_cpu_threads_per_process 1 train_db.py --pretrained_model_name_or_path=C:\\Users\\CorneAI\\stable-diffusion-webui\\models\\Stable-diffusion\\ACertainty.ckpt --dataset_config=C:\\Users\\CorneAI\\sd-scripts\\TrainingData_pterygium\\datasetconfig_dreambooth_pterygium_letterbox.toml --output_dir=C:\\Users\\CorneAI\\sd-scripts\\TrainingData_pterygium\\outputs --output_name=sltphoto_pterygium_123mai_10times300steps --save_model_as=safetensors --resolution=768,768 --prior_loss_weight=1.0 --train_batch_size=4 --max_train_steps=300 --learning_rate=1e-6 --optimizer_type=\"AdamW8bit\" --xformers --mixed_precision=\"fp16\" --cache_latents --gradient_checkpointing\n",
        "\n",
        "# 600 steps\n",
        "accelerate launch --num_cpu_threads_per_process 1 train_db.py --pretrained_model_name_or_path=C:\\Users\\CorneAI\\stable-diffusion-webui\\models\\Stable-diffusion\\ACertainty.ckpt --dataset_config=C:\\Users\\CorneAI\\sd-scripts\\TrainingData_pterygium\\datasetconfig_dreambooth_pterygium_letterbox.toml --output_dir=C:\\Users\\CorneAI\\sd-scripts\\TrainingData_pterygium\\outputs --output_name=sltphoto_pterygium_letterbox768_10times600steps --save_model_as=safetensors --resolution=768,768 --prior_loss_weight=1.0 --train_batch_size=4 --max_train_steps=600 --learning_rate=1e-6 --optimizer_type=\"AdamW8bit\" --xformers --mixed_precision=\"fp16\" --cache_latents --gradient_checkpointing\n",
        "\n",
        "# 1200 steps\n",
        "accelerate launch --num_cpu_threads_per_process 1 train_db.py --pretrained_model_name_or_path=C:\\Users\\CorneAI\\stable-diffusion-webui\\models\\Stable-diffusion\\ACertainty.ckpt --dataset_config=C:\\Users\\CorneAI\\sd-scripts\\TrainingData_pterygium\\datasetconfig_dreambooth_pterygium_letterbox.toml --output_dir=C:\\Users\\CorneAI\\sd-scripts\\TrainingData_pterygium\\outputs --output_name=sltphoto_pterygium_letterbox768_10times1200steps --save_model_as=safetensors --resolution=768,768 --prior_loss_weight=1.0 --train_batch_size=4 --max_train_steps=1200 --learning_rate=1e-6 --optimizer_type=\"AdamW8bit\" --xformers --mixed_precision=\"fp16\" --cache_latents --gradient_checkpointing\n",
        "\n",
        "# 2400 steps\n",
        "accelerate launch --num_cpu_threads_per_process 1 train_db.py --pretrained_model_name_or_path=C:\\Users\\CorneAI\\stable-diffusion-webui\\models\\Stable-diffusion\\ACertainty.ckpt --dataset_config=C:\\Users\\CorneAI\\sd-scripts\\TrainingData_pterygium\\datasetconfig_dreambooth_pterygium_letterbox.toml --output_dir=C:\\Users\\CorneAI\\sd-scripts\\TrainingData_pterygium\\outputs --output_name=sltphoto_pterygium_letterbox768_10times2400steps --save_model_as=safetensors --resolution=768,768 --prior_loss_weight=1.0 --train_batch_size=4 --max_train_steps=2400 --learning_rate=1e-6 --optimizer_type=\"AdamW8bit\" --xformers --mixed_precision=\"fp16\" --cache_latents --gradient_checkpointing\n",
        "\n",
        "# 4800 steps\n",
        "accelerate launch --num_cpu_threads_per_process 1 train_db.py --pretrained_model_name_or_path=C:\\Users\\CorneAI\\stable-diffusion-webui\\models\\Stable-diffusion\\ACertainty.ckpt --dataset_config=C:\\Users\\CorneAI\\sd-scripts\\TrainingData_pterygium\\datasetconfig_dreambooth_pterygium_letterbox.toml --output_dir=C:\\Users\\CorneAI\\sd-scripts\\TrainingData_pterygium\\outputs --output_name=sltphoto_pterygium_letterbox768_10times4800steps --save_model_as=safetensors --resolution=768,768 --prior_loss_weight=1.0 --train_batch_size=4 --max_train_steps=4800 --learning_rate=1e-6 --optimizer_type=\"AdamW8bit\" --xformers --mixed_precision=\"fp16\"\n",
        "\n",
        "\n"
      ],
      "metadata": {
        "id": "3mGw3UjJotMG"
      },
      "execution_count": 8,
      "outputs": []
    },
    {
      "cell_type": "code",
      "source": [
        "import subprocess\n",
        "import threading\n",
        "\n",
        "%cd C:\\Users\\CorneAI\\sd-scripts\n",
        "\n",
        "def reader(pipe, func):\n",
        "    try:\n",
        "        with pipe:\n",
        "            for line in iter(pipe.readline, b''):\n",
        "                func(line)\n",
        "    except Exception:\n",
        "        pass\n",
        "\n",
        "def train_dreambooth(num_train_step):\n",
        "    command = [\n",
        "    \"accelerate\", \"launch\",\n",
        "    \"--num_cpu_threads_per_process\", \"1\",\n",
        "    \"train_db.py\",\n",
        "    \"--pretrained_model_name_or_path=C:\\\\Users\\\\CorneAI\\\\stable-diffusion-webui\\\\models\\\\Stable-diffusion\\\\ACertainty.ckpt\",\n",
        "    \"--dataset_config=C:\\\\Users\\\\CorneAI\\\\sd-scripts\\\\TrainingData_pterygium\\\\datasetconfig_dreambooth_pterygium_letterbox.toml\",\n",
        "    \"--output_dir=C:\\\\Users\\\\CorneAI\\\\sd-scripts\\\\TrainingData_pterygium\\\\outputs\",\n",
        "    f\"--output_name=sltphoto_pterygium_123mai_10times{num_train_step}steps\",\n",
        "    \"--save_model_as=safetensors\",\n",
        "    \"--resolution=768,768\",\n",
        "    \"--prior_loss_weight=1.0\",\n",
        "    \"--train_batch_size=4\",\n",
        "    f\"--max_train_steps={num_train_step}\",\n",
        "    \"--learning_rate=1e-6\",\n",
        "    \"--optimizer_type=AdamW8bit\",\n",
        "    \"--xformers\",\n",
        "    \"--mixed_precision=fp16\",\n",
        "    \"--cache_latents\",\n",
        "    \"--gradient_checkpointing\"\n",
        "    ]\n",
        "    process = subprocess.Popen(command, stdout=subprocess.PIPE, stderr=subprocess.PIPE, text=True)\n",
        "\n",
        "    threading.Thread(target=reader, args=[process.stdout, lambda x: print(f\"stdout: {x}\")]).start()\n",
        "    threading.Thread(target=reader, args=[process.stderr, lambda x: print(f\"stderr: {x}\")]).start()\n",
        "\n",
        "    process.wait()\n"
      ],
      "metadata": {
        "id": "t9mezTuXQFOk",
        "outputId": "51abde10-dbca-436c-b85a-782d91646dc7",
        "colab": {
          "base_uri": "https://localhost:8080/"
        }
      },
      "execution_count": 3,
      "outputs": [
        {
          "output_type": "stream",
          "name": "stdout",
          "text": [
            "C:\\Users\\CorneAI\\sd-scripts\n"
          ]
        }
      ]
    },
    {
      "cell_type": "code",
      "source": [
        "# 300 steps\n",
        "train_dreambooth(num_train_step=300)"
      ],
      "metadata": {
        "id": "Ufoewmv6Qu6B"
      },
      "execution_count": null,
      "outputs": []
    },
    {
      "cell_type": "code",
      "source": [
        "# 600 steps\n",
        "train_dreambooth(num_train_step=600)"
      ],
      "metadata": {
        "id": "fEG4wOE8R3X2"
      },
      "execution_count": null,
      "outputs": []
    },
    {
      "cell_type": "code",
      "source": [
        "# 4800 steps\n",
        "train_dreambooth(num_train_step=4800)"
      ],
      "metadata": {
        "id": "zQ_wWH9pSDkQ"
      },
      "execution_count": null,
      "outputs": []
    },
    {
      "cell_type": "code",
      "source": [],
      "metadata": {
        "id": "dkUdVQSdE_CN"
      },
      "execution_count": null,
      "outputs": []
    },
    {
      "cell_type": "markdown",
      "source": [
        "#**Lora**"
      ],
      "metadata": {
        "id": "N0KrDJ1hIc_2"
      }
    },
    {
      "cell_type": "code",
      "source": [
        "import os\n",
        "%cd C:\\Users\\CorneAI\\sd-scripts\\TrainingData_pterygium\n",
        "\n",
        "# pterygiumのフォルダを作る（command, tomlファイルを作成）\n",
        "%mkdir lora_pterygium\n",
        "%cd lora_pterygium"
      ],
      "metadata": {
        "colab": {
          "base_uri": "https://localhost:8080/"
        },
        "id": "dDFUZPubLe6U",
        "outputId": "8cc6d4da-8f14-439d-d361-b001a3ea58cb"
      },
      "execution_count": 2,
      "outputs": [
        {
          "output_type": "stream",
          "name": "stdout",
          "text": [
            "C:\\Users\\CorneAI\\sd-scripts\\TrainingData_pterygium\n",
            "C:\\Users\\CorneAI\\sd-scripts\\TrainingData_pterygium\\lora_pterygium\n"
          ]
        },
        {
          "output_type": "stream",
          "name": "stderr",
          "text": [
            "サブディレクトリまたはファイル lora_pterygium は既に存在します。\n"
          ]
        }
      ]
    },
    {
      "cell_type": "code",
      "source": [
        "# tomlファイルを作成\n",
        "%%writefile datasetconfig_Lora_pterygium_28mai.toml\n",
        "\n",
        "[general]\n",
        "enable_bucket = true                       # Aspect Ratio Bucketingを使うか否か\n",
        "bucket_no_upscale = true\n",
        "\n",
        "[[datasets]]\n",
        "#resolution = 768, 768\n",
        "#batch_size = 4                           # バッチサイズ\n",
        "\n",
        "[[datasets.subsets]]\n",
        "image_dir = 'C:\\Users\\CorneAI\\sd-scripts\\TrainingData_pterygium\\pterygium_image_768letterbox_28mai'\n",
        "caption_extension = '.txt'\n",
        "num_repeats = 6\n",
        "\n",
        "# 正則化をする場合は以下を追加\n",
        "#[[datasets.subsets]]\n",
        "#is_reg = true\n",
        "#image_dir ='C:\\Users\\CorneAI\\sd-scripts\\TrainingData_pterygium\\regularized_image_768letterbox_normal_dreambooth'\n",
        "#class_tokens = 'sltphoto'\n",
        "#num_repeats = 1"
      ],
      "metadata": {
        "colab": {
          "base_uri": "https://localhost:8080/"
        },
        "id": "18-F1dvLIsuN",
        "outputId": "e60ec3a0-82f9-451b-fba5-02261993b40e"
      },
      "execution_count": null,
      "outputs": [
        {
          "output_type": "stream",
          "name": "stdout",
          "text": [
            "Overwriting datasetconfig_Lora_pterygium_28mai.toml\n"
          ]
        }
      ]
    },
    {
      "cell_type": "code",
      "source": [
        "# protocolの記録\n",
        "%%writefile protocol_lora_pterygium_123mai.txt\n",
        "\n",
        ".\\venv\\Scripts\\activate\n",
        "2 - 4 - 8 - 16 - 32 - 64 epochsで比較 (repeat=6)\n",
        "\n",
        "以下command\n",
        "\n",
        "# 2epochs\n",
        "accelerate launch --num_cpu_threads_per_process 1 train_network.py --pretrained_model_name_or_path=C:\\Users\\CorneAI\\stable-diffusion-webui\\models\\Stable-diffusion\\sltphoto_pterygium_123mai_10times300steps.safetensors --output_dir=C:\\Users\\CorneAI\\sd-scripts\\TrainingData_pterygium\\outputs --dataset_config=C:\\Users\\CorneAI\\sd-scripts\\TrainingData_pterygium\\lora_pterygium\\ datasetconfig_Lora_pterygium_28mai.toml --output_name=lora_pte_28mai_rep6epoch2 --train_batch_size=4 --max_train_epochs=2 --resolution=768,768 --optimizer_type=AdamW8bit --learning_rate=1e-4 --network_dim=128 --network_alpha=64 --lr_scheduler=cosine_with_restarts --lr_scheduler_num_cycles=4 --lr_warmup_steps=500 --keep_tokens=1 --shuffle_caption --caption_dropout_rate=0.05 --save_model_as=safetensors --clip_skip=2 --seed=42 --color_aug --xformers --mixed_precision=fp16 --network_module=networks.lora --persistent_data_loader_workers\n",
        "\n",
        "# 4epochs\n",
        "accelerate launch --num_cpu_threads_per_process 1 train_network.py --pretrained_model_name_or_path=C:\\Users\\CorneAI\\stable-diffusion-webui\\models\\Stable-diffusion\\sltphoto_pterygium_123mai_10times300steps.safetensors --output_dir=C:\\Users\\CorneAI\\sd-scripts\\TrainingData_pterygium\\outputs --dataset_config=C:\\Users\\CorneAI\\sd-scripts\\TrainingData_pterygium\\lora_pterygium\\ datasetconfig_Lora_pterygium_28mai.toml --output_name=lora_pte_28mai_rep6epoch4 --train_batch_size=4 --max_train_epochs=4 --resolution=768,768 --optimizer_type=AdamW8bit --learning_rate=1e-4 --network_dim=128 --network_alpha=64 --lr_scheduler=cosine_with_restarts --lr_scheduler_num_cycles=4 --lr_warmup_steps=500 --keep_tokens=1 --shuffle_caption --caption_dropout_rate=0.05 --save_model_as=safetensors --clip_skip=2 --seed=42 --color_aug --xformers --mixed_precision=fp16 --network_module=networks.lora --persistent_data_loader_workers\n",
        "\n",
        "# 8epochs\n",
        "accelerate launch --num_cpu_threads_per_process 1 train_network.py --pretrained_model_name_or_path=C:\\Users\\CorneAI\\stable-diffusion-webui\\models\\Stable-diffusion\\sltphoto_pterygium_123mai_10times300steps.safetensors --output_dir=C:\\Users\\CorneAI\\sd-scripts\\TrainingData_pterygium\\outputs --dataset_config=C:\\Users\\CorneAI\\sd-scripts\\TrainingData_pterygium\\lora_pterygium\\ datasetconfig_Lora_pterygium_28mai.toml --output_name=lora_pte_28mai_rep6epoch8 --train_batch_size=4 --max_train_epochs=8 --resolution=768,768 --optimizer_type=AdamW8bit --learning_rate=1e-4 --network_dim=128 --network_alpha=64 --lr_scheduler=cosine_with_restarts --lr_scheduler_num_cycles=4 --lr_warmup_steps=500 --keep_tokens=1 --shuffle_caption --caption_dropout_rate=0.05 --save_model_as=safetensors --clip_skip=2 --seed=42 --color_aug --xformers --mixed_precision=fp16 --network_module=networks.lora --persistent_data_loader_workers\n",
        "\n",
        "# 16epochs\n",
        "accelerate launch --num_cpu_threads_per_process 1 train_network.py --pretrained_model_name_or_path=C:\\Users\\CorneAI\\stable-diffusion-webui\\models\\Stable-diffusion\\sltphoto_pterygium_123mai_10times300steps.safetensors --output_dir=C:\\Users\\CorneAI\\sd-scripts\\TrainingData_pterygium\\outputs --dataset_config=C:\\Users\\CorneAI\\sd-scripts\\TrainingData_pterygium\\lora_pterygium\\ datasetconfig_Lora_pterygium_28mai.toml --output_name=lora_pte_28mai_rep6epoch16 --train_batch_size=4 --max_train_epochs=16 --resolution=768,768 --optimizer_type=AdamW8bit --learning_rate=1e-4 --network_dim=128 --network_alpha=64 --lr_scheduler=cosine_with_restarts --lr_scheduler_num_cycles=4 --lr_warmup_steps=500 --keep_tokens=1 --shuffle_caption --caption_dropout_rate=0.05 --save_model_as=safetensors --clip_skip=2 --seed=42 --color_aug --xformers --mixed_precision=fp16 --network_module=networks.lora --persistent_data_loader_workers\n",
        "\n",
        "# 32epochs\n",
        "accelerate launch --num_cpu_threads_per_process 1 train_network.py --pretrained_model_name_or_path=C:\\Users\\CorneAI\\stable-diffusion-webui\\models\\Stable-diffusion\\sltphoto_pterygium_123mai_10times300steps.safetensors --output_dir=C:\\Users\\CorneAI\\sd-scripts\\TrainingData_pterygium\\outputs --dataset_config=C:\\Users\\CorneAI\\sd-scripts\\TrainingData_pterygium\\lora_pterygium\\ datasetconfig_Lora_pterygium_28mai.toml --output_name=lora_pte_28mai_rep6epoch32 --train_batch_size=4 --max_train_epochs=32 --resolution=768,768 --optimizer_type=AdamW8bit --learning_rate=1e-4 --network_dim=128 --network_alpha=64 --lr_scheduler=cosine_with_restarts --lr_scheduler_num_cycles=4 --lr_warmup_steps=500 --keep_tokens=1 --shuffle_caption --caption_dropout_rate=0.05 --save_model_as=safetensors --clip_skip=2 --seed=42 --color_aug --xformers --mixed_precision=fp16 --network_module=networks.lora --persistent_data_loader_workers\n",
        "\n",
        "# 64epochs\n",
        "accelerate launch --num_cpu_threads_per_process 1 train_network.py --pretrained_model_name_or_path=C:\\Users\\CorneAI\\stable-diffusion-webui\\models\\Stable-diffusion\\sltphoto_pterygium_123mai_10times300steps.safetensors --output_dir=C:\\Users\\CorneAI\\sd-scripts\\TrainingData_pterygium\\outputs --dataset_config=C:\\Users\\CorneAI\\sd-scripts\\TrainingData_pterygium\\lora_pterygium\\ datasetconfig_Lora_pterygium_28mai.toml --output_name=lora_pte_28mai_rep6epoch64 --train_batch_size=4 --max_train_epochs=64 --resolution=768,768 --optimizer_type=AdamW8bit --learning_rate=1e-4 --network_dim=128 --network_alpha=64 --lr_scheduler=cosine_with_restarts --lr_scheduler_num_cycles=4 --lr_warmup_steps=500 --keep_tokens=1 --shuffle_caption --caption_dropout_rate=0.05 --save_model_as=safetensors --clip_skip=2 --seed=42 --color_aug --xformers --mixed_precision=fp16 --network_module=networks.lora --persistent_data_loader_workers"
      ],
      "metadata": {
        "colab": {
          "base_uri": "https://localhost:8080/"
        },
        "id": "V8R3rHgeIs0m",
        "outputId": "1cf761ff-0b45-49dc-8016-4114c2c37f6b"
      },
      "execution_count": 4,
      "outputs": [
        {
          "output_type": "stream",
          "name": "stdout",
          "text": [
            "Overwriting protocol_lora_pterygium_123mai.txt\n"
          ]
        }
      ]
    },
    {
      "cell_type": "code",
      "source": [
        "import subprocess\n",
        "import threading\n",
        "\n",
        "%cd C:\\Users\\CorneAI\\sd-scripts\n",
        "\n",
        "def reader(pipe, func):\n",
        "    try:\n",
        "        with pipe:\n",
        "            for line in iter(pipe.readline, ''):\n",
        "                func(line)\n",
        "    except Exception:\n",
        "        pass\n",
        "\n",
        "def train_lora(num_epochs):\n",
        "    %cd C:\\Users\\CorneAI\\sd-scripts\n",
        "    command = [\n",
        "        \"accelerate\", \"launch\",\n",
        "        \"--num_cpu_threads_per_process\", \"1\",\n",
        "        \"train_network.py\",\n",
        "        \"--pretrained_model_name_or_path=C:\\\\Users\\\\CorneAI\\\\stable-diffusion-webui\\\\models\\\\Stable-diffusion\\\\sltphoto_pterygium_123mai_10times2400steps.safetensors\",\n",
        "        \"--output_dir=C:\\\\Users\\\\CorneAI\\\\sd-scripts\\\\TrainingData_pterygium\\\\outputs\",\n",
        "        \"--dataset_config=--dataset_config=C:\\\\Users\\\\CorneAI\\\\sd-scripts\\\\TrainingData_pterygium\\\\lora_pterygium\\\\datasetconfig_Lora_pterygium_28mai.toml\",\n",
        "        f\"--output_name=lora_pte_28mai_rep6epoch{num_epochs}\",\n",
        "        \"--train_batch_size=4\",\n",
        "        f\"--max_train_epochs={num_epochs}\",\n",
        "        \"--resolution=768,768\",\n",
        "        \"--optimizer_type=AdamW8bit\",\n",
        "        \"--learning_rate=1e-4\",\n",
        "        \"--network_dim=128\",\n",
        "        \"--network_alpha=64\",\n",
        "        \"--lr_scheduler=cosine_with_restarts\",\n",
        "        \"--lr_scheduler_num_cycles=4\",\n",
        "        \"--lr_warmup_steps=500\",\n",
        "        \"--keep_tokens=1\",\n",
        "        \"--shuffle_caption\",\n",
        "        \"--caption_dropout_rate=0.05\",\n",
        "        \"--save_model_as=safetensors\",\n",
        "        \"--clip_skip=2\",\n",
        "        \"--seed=42\",\n",
        "        \"--color_aug\",\n",
        "        \"--xformers\",\n",
        "        \"--mixed_precision=fp16\",\n",
        "        \"--network_module=networks.lora\",\n",
        "        \"--persistent_data_loader_workers\"\n",
        "    ]\n",
        "    process = subprocess.Popen(command, stdout=subprocess.PIPE, stderr=subprocess.PIPE, text=True)\n",
        "\n",
        "    threading.Thread(target=reader, args=[process.stdout, lambda x: print(f\"stdout: {x.strip()}\")]).start()\n",
        "    threading.Thread(target=reader, args=[process.stderr, lambda x: print(f\"stderr: {x.strip()}\")]).start()\n",
        "\n",
        "    process.wait()\n",
        "\n"
      ],
      "metadata": {
        "id": "0g3jiAZ8W0ij",
        "outputId": "9e8df5f6-9338-4e77-9141-f4fc6cd3e8a2",
        "colab": {
          "base_uri": "https://localhost:8080/"
        }
      },
      "execution_count": 5,
      "outputs": [
        {
          "output_type": "stream",
          "name": "stdout",
          "text": [
            "C:\\Users\\CorneAI\\sd-scripts\n"
          ]
        }
      ]
    },
    {
      "cell_type": "code",
      "source": [
        "train_lora(num_epochs=2)"
      ],
      "metadata": {
        "id": "74nomVDbcTVh"
      },
      "execution_count": null,
      "outputs": []
    },
    {
      "cell_type": "code",
      "source": [
        "train_lora(num_epochs=4)"
      ],
      "metadata": {
        "id": "wy3GaNFSAJqE"
      },
      "execution_count": null,
      "outputs": []
    },
    {
      "cell_type": "code",
      "source": [
        "train_lora(num_epochs=8)"
      ],
      "metadata": {
        "id": "01BfZmbGAJr9"
      },
      "execution_count": null,
      "outputs": []
    },
    {
      "cell_type": "code",
      "source": [
        "train_lora(num_epochs=16)"
      ],
      "metadata": {
        "id": "NSgtcZiPAJt9"
      },
      "execution_count": null,
      "outputs": []
    },
    {
      "cell_type": "code",
      "source": [
        "train_lora(num_epochs=32)"
      ],
      "metadata": {
        "id": "z2dzTbaCAJwG"
      },
      "execution_count": null,
      "outputs": []
    },
    {
      "cell_type": "code",
      "source": [
        "train_lora(num_epochs=64)"
      ],
      "metadata": {
        "id": "jmF6WTPYAJyG"
      },
      "execution_count": null,
      "outputs": []
    }
  ]
}