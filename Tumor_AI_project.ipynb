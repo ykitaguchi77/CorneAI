{
  "nbformat": 4,
  "nbformat_minor": 0,
  "metadata": {
    "colab": {
      "provenance": [],
      "authorship_tag": "ABX9TyNloxlQ8fBf/5ms0xn21Kyf",
      "include_colab_link": true
    },
    "kernelspec": {
      "name": "python3",
      "display_name": "Python 3"
    },
    "language_info": {
      "name": "python"
    }
  },
  "cells": [
    {
      "cell_type": "markdown",
      "metadata": {
        "id": "view-in-github",
        "colab_type": "text"
      },
      "source": [
        "<a href=\"https://colab.research.google.com/github/ykitaguchi77/CorneAI/blob/main/Tumor_AI_project.ipynb\" target=\"_parent\"><img src=\"https://colab.research.google.com/assets/colab-badge.svg\" alt=\"Open In Colab\"/></a>"
      ]
    },
    {
      "cell_type": "markdown",
      "source": [
        "#**Tumor_AI_project**\n",
        "\n",
        "csvより症例を抽出する"
      ],
      "metadata": {
        "id": "V_cl4IH4gnRr"
      }
    },
    {
      "cell_type": "code",
      "execution_count": 11,
      "metadata": {
        "colab": {
          "base_uri": "https://localhost:8080/"
        },
        "id": "wYEhwQbrgZXC",
        "outputId": "dccfec25-84f7-493c-8bf7-14bc90584334"
      },
      "outputs": [
        {
          "output_type": "stream",
          "name": "stdout",
          "text": [
            "Drive already mounted at /content/drive; to attempt to forcibly remount, call drive.mount(\"/content/drive\", force_remount=True).\n"
          ]
        }
      ],
      "source": [
        "from google.colab import drive\n",
        "drive.mount('/content/drive')"
      ]
    },
    {
      "cell_type": "code",
      "source": [
        "csv_path = \"/content/drive/MyDrive/研究/進行中の研究/角膜スマートフォンAIプロジェクト/眼腫瘍スマホ_slit/eyelid_conj_tumor_list.csv\""
      ],
      "metadata": {
        "id": "yptF9Oj-g6zC"
      },
      "execution_count": 12,
      "outputs": []
    },
    {
      "cell_type": "code",
      "source": [
        "import pandas as pd\n",
        "\n",
        "# Load the CSV file\n",
        "df = pd.read_csv(csv_path)\n",
        "\n",
        "# Insert an index column\n",
        "df.insert(0, 'Index', range(1, len(df) + 1))\n",
        "df.head()"
      ],
      "metadata": {
        "id": "QE1zk9vqhICx"
      },
      "execution_count": null,
      "outputs": []
    },
    {
      "cell_type": "code",
      "source": [
        "\"\"\"\n",
        "col\n",
        "5: 採取日\n",
        "10: 申し込みコメント\n",
        "20: 診断コメント\n",
        "21: 診断（→See descriptionを削除する）\"\"\n",
        "\"\"\"\n",
        "\n",
        "df.columns"
      ],
      "metadata": {
        "id": "y28ZsxwBh78S",
        "outputId": "16b59e56-8223-43d3-9ab6-397e55003c68",
        "colab": {
          "base_uri": "https://localhost:8080/"
        }
      },
      "execution_count": 14,
      "outputs": [
        {
          "output_type": "execute_result",
          "data": {
            "text/plain": [
              "Index(['Index', 'ID', 'Name', 'Sex', 'BirthDate', 'Unnamed: 4', 'ExamDate',\n",
              "       'Unnamed: 6', 'Unnamed: 7', 'Unnamed: 8', 'PreOpDiagnosis', 'History',\n",
              "       'Surg_comment', 'Unnamed: 12', 'Unnamed: 13', 'Unnamed: 14',\n",
              "       'Unnamed: 15', 'Unnamed: 16', 'Unnamed: 17', 'Unnamed: 18',\n",
              "       'Unnamed: 19', 'Diag_comment', 'Diagnosis', 'Unnamed: 22',\n",
              "       'Unnamed: 23', 'Unnamed: 24', 'Unnamed: 25', 'Unnamed: 26',\n",
              "       'Unnamed: 27', 'Unnamed: 28', 'Unnamed: 29', 'Unnamed: 30',\n",
              "       'Unnamed: 31', 'Unnamed: 32', 'Unnamed: 33', 'Unnamed: 34',\n",
              "       'Unnamed: 35', 'Unnamed: 36', 'Unnamed: 37', 'Unnamed: 38',\n",
              "       'Unnamed: 39', 'Unnamed: 40', 'Unnamed: 41', 'Unnamed: 42',\n",
              "       'Unnamed: 43', 'Unnamed: 44'],\n",
              "      dtype='object')"
            ]
          },
          "metadata": {},
          "execution_count": 14
        }
      ]
    },
    {
      "cell_type": "code",
      "source": [
        "\"\"\"\n",
        "GPT for Sheets™ and Docs™\n",
        "を用いて、スプレッドシートから部位と診断を自動判定\n",
        "\n",
        "=GPT_CLASSIFY(U4:Y4,$Z$2)　※$Z$2に部位（Eyelid, Conjunctiva, Cornea, Others)を入れる\n",
        "=GPT_EXTRACT(U3:V3, \"diagnosis\")\n",
        "\n",
        "\"\"\""
      ],
      "metadata": {
        "id": "ZiH8zU5DmfWX"
      },
      "execution_count": null,
      "outputs": []
    },
    {
      "cell_type": "code",
      "source": [],
      "metadata": {
        "id": "AwzxE21qnxq_"
      },
      "execution_count": null,
      "outputs": []
    },
    {
      "cell_type": "code",
      "source": [],
      "metadata": {
        "id": "KqT1guUC6_BJ"
      },
      "execution_count": null,
      "outputs": []
    }
  ]
}