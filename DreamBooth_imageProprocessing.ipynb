{
  "nbformat": 4,
  "nbformat_minor": 0,
  "metadata": {
    "colab": {
      "provenance": [],
      "authorship_tag": "ABX9TyP5JyVENEaVFLrbCraPl4IO",
      "include_colab_link": true
    },
    "kernelspec": {
      "name": "python3",
      "display_name": "Python 3"
    },
    "language_info": {
      "name": "python"
    }
  },
  "cells": [
    {
      "cell_type": "markdown",
      "metadata": {
        "id": "view-in-github",
        "colab_type": "text"
      },
      "source": [
        "<a href=\"https://colab.research.google.com/github/ykitaguchi77/CorneAI/blob/main/DreamBooth_imageProprocessing.ipynb\" target=\"_parent\"><img src=\"https://colab.research.google.com/assets/colab-badge.svg\" alt=\"Open In Colab\"/></a>"
      ]
    },
    {
      "cell_type": "markdown",
      "source": [
        "#**画像をリサイズする（横幅768px）**\n",
        "\n",
        "※ローカルです"
      ],
      "metadata": {
        "id": "Hkp8J-YfkoLX"
      }
    },
    {
      "cell_type": "code",
      "execution_count": null,
      "metadata": {
        "colab": {
          "base_uri": "https://localhost:8080/"
        },
        "id": "NoXQ0R0tklCj",
        "outputId": "82e235fa-42ed-4077-97dd-64eca586bd09"
      },
      "outputs": [
        {
          "output_type": "stream",
          "name": "stdout",
          "text": [
            "Width: 3216\n",
            "Height: 2136\n"
          ]
        }
      ],
      "source": [
        "from PIL import Image\n",
        "\n",
        "image_path = r\"C:\\Users\\CorneAI\\sd-scripts\\TrainingData_pterygium\\train_image\\【腫瘍】翼状片_myt0005.jpg\"\n",
        "\n",
        "image = Image.open(image_path)\n",
        "width, height = image.size\n",
        "\n",
        "print(\"Width:\", width)\n",
        "print(\"Height:\", height)"
      ]
    },
    {
      "cell_type": "code",
      "source": [
        "from PIL import Image\n",
        "import matplotlib.pyplot as plt\n",
        "\n",
        "\n",
        "image_path = r\"C:\\Users\\CorneAI\\sd-scripts\\TrainingData_pterygium\\train_image\\【腫瘍】翼状片_myt0005.jpg\"\n",
        "\n",
        "# 画像の読み込み\n",
        "image = Image.open(image_path)\n",
        "\n",
        "width, height = image.size\n",
        "print(\"Width:\", width)\n",
        "print(\"Height:\", height)\n",
        "\n",
        "\n",
        "# 画像の表示\n",
        "plt.imshow(image)\n",
        "plt.axis('off')  # 軸を非表示にする\n",
        "\n",
        "# 画像ウィンドウを開く\n",
        "plt.show()\n"
      ],
      "metadata": {
        "id": "4W20gwRil7kq"
      },
      "execution_count": null,
      "outputs": []
    },
    {
      "cell_type": "code",
      "source": [
        "from PIL import Image\n",
        "import matplotlib.pyplot as plt\n",
        "\n",
        "image_path = r\"C:\\Users\\CorneAI\\sd-scripts\\TrainingData_pterygium\\train_image\\【腫瘍】翼状片_myt0005.jpg\"\n",
        "\n",
        "# 画像の読み込み\n",
        "image = Image.open(image_path)\n",
        "\n",
        "# 横の長さが768pixになるようにリサイズ\n",
        "aspect_ratio = float(image.size[1]) / float(image.size[0])\n",
        "new_width = 768\n",
        "new_height = int(new_width * aspect_ratio)\n",
        "resized_image = image.resize((new_width, new_height))\n",
        "\n",
        "# 縦横比が2:3になるように中央で切り抜き\n",
        "desired_aspect_ratio = 2 / 3\n",
        "if aspect_ratio > desired_aspect_ratio:\n",
        "    desired_height = int(new_width * desired_aspect_ratio)\n",
        "    top = int((new_height - desired_height) / 2)\n",
        "    bottom = top + desired_height\n",
        "    cropped_image = resized_image.crop((0, top, new_width, bottom))\n",
        "else:\n",
        "    desired_width = int(new_height / desired_aspect_ratio)\n",
        "    left = int((new_width - desired_width) / 2)\n",
        "    right = left + desired_width\n",
        "    cropped_image = resized_image.crop((left, 0, right, new_height))\n",
        "\n",
        "width, height = cropped_image.size\n",
        "print(\"Width:\", width)\n",
        "print(\"Height:\", height)\n",
        "\n",
        "# 画像の表示\n",
        "plt.imshow(cropped_image)\n",
        "plt.axis('off')  # 軸を非表示にする\n",
        "\n",
        "# 画像ウィンドウを開く\n",
        "plt.show()\n"
      ],
      "metadata": {
        "id": "a4qw6v-1nDo9"
      },
      "execution_count": null,
      "outputs": []
    },
    {
      "cell_type": "markdown",
      "source": [
        "##**リサイズした画像を保存**"
      ],
      "metadata": {
        "id": "VC5-pAjwB_qJ"
      }
    },
    {
      "cell_type": "code",
      "source": [
        "import os\n",
        "from PIL import Image\n",
        "from tqdm import tqdm\n",
        "\n",
        "def resize_images(input_dir, output_dir, new_width):\n",
        "    # 出力ディレクトリが存在しない場合は作成する\n",
        "    if not os.path.exists(output_dir):\n",
        "        os.makedirs(output_dir)\n",
        "\n",
        "    # 入力ディレクトリ内の画像ファイルを処理する\n",
        "    filenames = os.listdir(input_dir)\n",
        "    progress_bar = tqdm(total=len(filenames), desc='Resizing Images')\n",
        "    for filename in filenames:\n",
        "        # 画像ファイルのパスを作成\n",
        "        input_path = os.path.join(input_dir, filename)\n",
        "\n",
        "        # 画像の読み込み\n",
        "        image = Image.open(input_path)\n",
        "\n",
        "        # 横の長さが指定された幅になるようにリサイズ\n",
        "        aspect_ratio = float(image.size[1]) / float(image.size[0])\n",
        "        new_height = int(new_width * aspect_ratio)\n",
        "        resized_image = image.resize((new_width, new_height))\n",
        "\n",
        "        # 出力ファイルのパスを作成\n",
        "        output_path = os.path.join(output_dir, filename)\n",
        "\n",
        "        # リサイズされた画像を保存\n",
        "        resized_image.save(output_path)\n",
        "\n",
        "        # 進捗を更新\n",
        "        progress_bar.update(1)\n",
        "\n",
        "    # 進捗バーをクローズ\n",
        "    progress_bar.close()\n",
        "\n",
        "# 画像のリサイズと保存\n",
        "input_dir1 = r\"C:\\Users\\CorneAI\\sd-scripts\\TrainingData_pterygium\\train_image\"\n",
        "output_dir1 = r\"C:\\Users\\CorneAI\\sd-scripts\\TrainingData_pterygium\\train_image_768px\"\n",
        "resize_images(input_dir1, output_dir1, 768)\n",
        "\n",
        "input_dir2 = r\"C:\\Users\\CorneAI\\sd-scripts\\TrainingData_pterygium\\regularized_image\"\n",
        "output_dir2 = r\"C:\\Users\\CorneAI\\sd-scripts\\TrainingData_pterygium\\regularized_image_768px\"\n",
        "resize_images(input_dir2, output_dir2, 768)\n"
      ],
      "metadata": {
        "colab": {
          "base_uri": "https://localhost:8080/"
        },
        "id": "zFVqkXpWnnWg",
        "outputId": "93abe272-8dba-4d04-dd10-9daae86c041f"
      },
      "execution_count": null,
      "outputs": [
        {
          "output_type": "stream",
          "name": "stderr",
          "text": [
            "Resizing Images: 100%|███████████████████████████████████████████████████████████████| 214/214 [00:22<00:00,  9.46it/s]\n",
            "Resizing Images: 100%|███████████████████████████████████████████████████████████████| 810/810 [00:29<00:00, 27.05it/s]\n"
          ]
        }
      ]
    },
    {
      "cell_type": "markdown",
      "source": [
        "#**一辺768pxのletterboxにする場合**"
      ],
      "metadata": {
        "id": "MzLfFocYFauy"
      }
    },
    {
      "cell_type": "code",
      "source": [
        "import shutil\n",
        "import os\n",
        "\n",
        "# ディレクトリのパスを定義\n",
        "src_dir = \"C:/Users/CorneAI/sd-scripts/TrainingData_pterygium/regularized_image_768_normal_myt16mai_dreambooth\"\n",
        "dst_dir = \"C:/Users/CorneAI/sd-scripts/TrainingData_pterygium/regularized_image_768letterbox_normal_myt16mai_dreambooth\"\n",
        "\n",
        "# 新しいディレクトリを作成\n",
        "os.makedirs(dst_dir, exist_ok=True)\n",
        "\n",
        "# ファイルを新しいディレクトリにコピー\n",
        "for filename in os.listdir(src_dir):\n",
        "    src_file = os.path.join(src_dir, filename)\n",
        "    dst_file = os.path.join(dst_dir, filename)\n",
        "    shutil.copy(src_file, dst_file)\n",
        "\n",
        "\n",
        "from PIL import Image\n",
        "import os\n",
        "\n",
        "# ディレクトリのパスを定義\n",
        "dir_path = \"C:/Users/CorneAI/sd-scripts/TrainingData_pterygium/regularized_image_768letterbox_normal_myt16mai_dreambooth\"\n",
        "\n",
        "# 新しい画像のサイズを定義（768ピクセル四方）\n",
        "new_size = (768, 768)\n",
        "\n",
        "# ディレクトリ内の全てのファイルに対して\n",
        "for filename in os.listdir(dir_path):\n",
        "    # ファイルがJPEG画像なら\n",
        "    if filename.lower().endswith(\".jpg\"):\n",
        "        file_path = os.path.join(dir_path, filename)\n",
        "\n",
        "        # 画像を開く\n",
        "        img = Image.open(file_path)\n",
        "\n",
        "        # 元の画像のサイズを保持したまま新しいサイズにリサイズ\n",
        "        img.thumbnail(new_size, Image.ANTIALIAS)\n",
        "\n",
        "        # 新しい画像を作成（黒塗り）\n",
        "        new_img = Image.new(\"RGB\", new_size, \"black\")\n",
        "\n",
        "        # 元の画像を中央に配置\n",
        "        new_img.paste(img, ((new_size[0] - img.size[0]) // 2, (new_size[1] - img.size[1]) // 2))\n",
        "\n",
        "        # 画像を保存\n",
        "        new_img.save(file_path)\n"
      ],
      "metadata": {
        "id": "cRWIbJMLFjtT"
      },
      "execution_count": null,
      "outputs": []
    },
    {
      "cell_type": "markdown",
      "source": [
        "#**フォルダ内にあるタグ（.txt）を書き換え**"
      ],
      "metadata": {
        "id": "vMCCbG9HCFmP"
      }
    },
    {
      "cell_type": "code",
      "source": [
        "#既存のタグを消去して指定のものに書き換える場合\n",
        "\n",
        "import glob\n",
        "\n",
        "file_path = r\"C:\\Users\\CorneAI\\sd-scripts\\TrainingData_pterygium\\regularized_image_768px_dreambooth\"\n",
        "\n",
        "# 指定されたパス内のテキストファイルを抽出\n",
        "file_list = glob.glob(file_path + \"\\*.txt\")\n",
        "\n",
        "# 各ファイルの内容を消去して上書き\n",
        "for file in file_list:\n",
        "    with open(file, \"w\") as f:\n",
        "        f.write(\"sltphoto\")\n",
        "\n"
      ],
      "metadata": {
        "id": "N7iD5nuNp42J"
      },
      "execution_count": null,
      "outputs": []
    }
  ]
}