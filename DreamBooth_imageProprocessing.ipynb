{
  "nbformat": 4,
  "nbformat_minor": 0,
  "metadata": {
    "colab": {
      "provenance": [],
      "authorship_tag": "ABX9TyNQa8grGnVEedxwud3+aTHL",
      "include_colab_link": true
    },
    "kernelspec": {
      "name": "python3",
      "display_name": "Python 3"
    },
    "language_info": {
      "name": "python"
    }
  },
  "cells": [
    {
      "cell_type": "markdown",
      "metadata": {
        "id": "view-in-github",
        "colab_type": "text"
      },
      "source": [
        "<a href=\"https://colab.research.google.com/github/ykitaguchi77/CorneAI/blob/main/DreamBooth_imageProprocessing.ipynb\" target=\"_parent\"><img src=\"https://colab.research.google.com/assets/colab-badge.svg\" alt=\"Open In Colab\"/></a>"
      ]
    },
    {
      "cell_type": "markdown",
      "source": [
        "#**画像をリサイズする（横幅768px）**\n",
        "\n",
        "※ローカルです"
      ],
      "metadata": {
        "id": "Hkp8J-YfkoLX"
      }
    },
    {
      "cell_type": "code",
      "execution_count": null,
      "metadata": {
        "colab": {
          "base_uri": "https://localhost:8080/"
        },
        "id": "NoXQ0R0tklCj",
        "outputId": "db1ba0f9-31ba-46cf-a152-df8b2a026bd7"
      },
      "outputs": [
        {
          "output_type": "stream",
          "name": "stdout",
          "text": [
            "Width: 3216\n",
            "Height: 2136\n"
          ]
        }
      ],
      "source": [
        "from PIL import Image\n",
        "\n",
        "image_path = r\"C:\\Users\\CorneAI\\sd-scripts\\TrainingData_pterygium\\train_image\\【腫瘍】翼状片_myt0005.jpg\"\n",
        "\n",
        "image = Image.open(image_path)\n",
        "width, height = image.size\n",
        "\n",
        "print(\"Width:\", width)\n",
        "print(\"Height:\", height)"
      ]
    },
    {
      "cell_type": "code",
      "source": [
        "from PIL import Image\n",
        "import matplotlib.pyplot as plt\n",
        "\n",
        "\n",
        "image_path = r\"C:\\Users\\CorneAI\\sd-scripts\\TrainingData_pterygium\\train_image\\【腫瘍】翼状片_myt0005.jpg\"\n",
        "\n",
        "# 画像の読み込み\n",
        "image = Image.open(image_path)\n",
        "\n",
        "width, height = image.size\n",
        "print(\"Width:\", width)\n",
        "print(\"Height:\", height)\n",
        "\n",
        "\n",
        "# 画像の表示\n",
        "plt.imshow(image)\n",
        "plt.axis('off')  # 軸を非表示にする\n",
        "\n",
        "# 画像ウィンドウを開く\n",
        "plt.show()\n"
      ],
      "metadata": {
        "id": "4W20gwRil7kq"
      },
      "execution_count": null,
      "outputs": []
    },
    {
      "cell_type": "code",
      "source": [
        "from PIL import Image\n",
        "import matplotlib.pyplot as plt\n",
        "\n",
        "image_path = r\"C:\\Users\\CorneAI\\sd-scripts\\TrainingData_pterygium\\train_image\\【腫瘍】翼状片_myt0005.jpg\"\n",
        "\n",
        "# 画像の読み込み\n",
        "image = Image.open(image_path)\n",
        "\n",
        "# 横の長さが768pixになるようにリサイズ\n",
        "aspect_ratio = float(image.size[1]) / float(image.size[0])\n",
        "new_width = 768\n",
        "new_height = int(new_width * aspect_ratio)\n",
        "resized_image = image.resize((new_width, new_height))\n",
        "\n",
        "# 縦横比が2:3になるように中央で切り抜き\n",
        "desired_aspect_ratio = 2 / 3\n",
        "if aspect_ratio > desired_aspect_ratio:\n",
        "    desired_height = int(new_width * desired_aspect_ratio)\n",
        "    top = int((new_height - desired_height) / 2)\n",
        "    bottom = top + desired_height\n",
        "    cropped_image = resized_image.crop((0, top, new_width, bottom))\n",
        "else:\n",
        "    desired_width = int(new_height / desired_aspect_ratio)\n",
        "    left = int((new_width - desired_width) / 2)\n",
        "    right = left + desired_width\n",
        "    cropped_image = resized_image.crop((left, 0, right, new_height))\n",
        "\n",
        "width, height = cropped_image.size\n",
        "print(\"Width:\", width)\n",
        "print(\"Height:\", height)\n",
        "\n",
        "# 画像の表示\n",
        "plt.imshow(cropped_image)\n",
        "plt.axis('off')  # 軸を非表示にする\n",
        "\n",
        "# 画像ウィンドウを開く\n",
        "plt.show()\n"
      ],
      "metadata": {
        "id": "a4qw6v-1nDo9"
      },
      "execution_count": null,
      "outputs": []
    },
    {
      "cell_type": "markdown",
      "source": [
        "##**リサイズした画像を保存**"
      ],
      "metadata": {
        "id": "VC5-pAjwB_qJ"
      }
    },
    {
      "cell_type": "code",
      "source": [
        "import os\n",
        "from PIL import Image\n",
        "from tqdm import tqdm\n",
        "\n",
        "def resize_images(input_dir, output_dir, new_width):\n",
        "    # 出力ディレクトリが存在しない場合は作成する\n",
        "    if not os.path.exists(output_dir):\n",
        "        os.makedirs(output_dir)\n",
        "\n",
        "    # 入力ディレクトリ内の画像ファイルを処理する\n",
        "    filenames = os.listdir(input_dir)\n",
        "    progress_bar = tqdm(total=len(filenames), desc='Resizing Images')\n",
        "    for filename in filenames:\n",
        "        # 画像ファイルのパスを作成\n",
        "        input_path = os.path.join(input_dir, filename)\n",
        "\n",
        "        # 画像の読み込み\n",
        "        image = Image.open(input_path)\n",
        "\n",
        "        # 横の長さが指定された幅になるようにリサイズ\n",
        "        aspect_ratio = float(image.size[1]) / float(image.size[0])\n",
        "        new_height = int(new_width * aspect_ratio)\n",
        "        resized_image = image.resize((new_width, new_height))\n",
        "\n",
        "        # 出力ファイルのパスを作成\n",
        "        output_path = os.path.join(output_dir, filename)\n",
        "\n",
        "        # リサイズされた画像を保存\n",
        "        resized_image.save(output_path)\n",
        "\n",
        "        # 進捗を更新\n",
        "        progress_bar.update(1)\n",
        "\n",
        "    # 進捗バーをクローズ\n",
        "    progress_bar.close()\n",
        "\n",
        "# 画像のリサイズと保存\n",
        "input_dir1 = r\"C:\\Users\\CorneAI\\sd-scripts\\TrainingData_pterygium\\train_image\"\n",
        "output_dir1 = r\"C:\\Users\\CorneAI\\sd-scripts\\TrainingData_pterygium\\train_image_768px\"\n",
        "resize_images(input_dir1, output_dir1, 768)\n",
        "\n",
        "input_dir2 = r\"C:\\Users\\CorneAI\\sd-scripts\\TrainingData_pterygium\\regularized_image\"\n",
        "output_dir2 = r\"C:\\Users\\CorneAI\\sd-scripts\\TrainingData_pterygium\\regularized_image_768px\"\n",
        "resize_images(input_dir2, output_dir2, 768)\n"
      ],
      "metadata": {
        "colab": {
          "base_uri": "https://localhost:8080/"
        },
        "id": "zFVqkXpWnnWg",
        "outputId": "93abe272-8dba-4d04-dd10-9daae86c041f"
      },
      "execution_count": null,
      "outputs": [
        {
          "output_type": "stream",
          "name": "stderr",
          "text": [
            "Resizing Images: 100%|███████████████████████████████████████████████████████████████| 214/214 [00:22<00:00,  9.46it/s]\n",
            "Resizing Images: 100%|███████████████████████████████████████████████████████████████| 810/810 [00:29<00:00, 27.05it/s]\n"
          ]
        }
      ]
    },
    {
      "cell_type": "markdown",
      "source": [
        "#**一辺768pxのletterboxにする場合**"
      ],
      "metadata": {
        "id": "MzLfFocYFauy"
      }
    },
    {
      "cell_type": "code",
      "source": [
        "import shutil\n",
        "import os\n",
        "\n",
        "# ディレクトリのパスを定義\n",
        "src_dir = r\"C:\\Users\\CorneAI\\sd-scripts\\TrainingData_pterygium\\train_image_768px\"\n",
        "dst_dir = r\"C:\\Users\\CorneAI\\sd-scripts\\TrainingData_pterygium\\train_image_768px_letterbox\"\n",
        "\n",
        "# 新しいディレクトリを作成\n",
        "os.makedirs(dst_dir, exist_ok=True)\n",
        "\n",
        "# ファイルを新しいディレクトリにコピー\n",
        "for filename in os.listdir(src_dir):\n",
        "    src_file = os.path.join(src_dir, filename)\n",
        "    dst_file = os.path.join(dst_dir, filename)\n",
        "    shutil.copy(src_file, dst_file)\n",
        "\n",
        "\n",
        "from PIL import Image\n",
        "import os\n",
        "\n",
        "# ディレクトリのパスを定義\n",
        "dir_path = dst_dir\n",
        "\n",
        "# 新しい画像のサイズを定義（768ピクセル四方）\n",
        "new_size = (768, 768)\n",
        "\n",
        "# ディレクトリ内の全てのファイルに対して\n",
        "for filename in os.listdir(dir_path):\n",
        "    # ファイルがJPEG画像なら\n",
        "    if filename.lower().endswith(\".jpg\"):\n",
        "        file_path = os.path.join(dir_path, filename)\n",
        "\n",
        "        # 画像を開く\n",
        "        img = Image.open(file_path)\n",
        "\n",
        "        # 元の画像のサイズを保持したまま新しいサイズにリサイズ\n",
        "        img.thumbnail(new_size, Image.LANCZOS)\n",
        "\n",
        "        # 新しい画像を作成（黒塗り）\n",
        "        new_img = Image.new(\"RGB\", new_size, \"black\")\n",
        "\n",
        "        # 元の画像を中央に配置\n",
        "        new_img.paste(img, ((new_size[0] - img.size[0]) // 2, (new_size[1] - img.size[1]) // 2))\n",
        "\n",
        "        # 画像を保存\n",
        "        new_img.save(file_path)\n"
      ],
      "metadata": {
        "id": "cRWIbJMLFjtT"
      },
      "execution_count": null,
      "outputs": []
    },
    {
      "cell_type": "markdown",
      "source": [
        "#**フォルダ内にあるタグ（.txt）を書き換え**"
      ],
      "metadata": {
        "id": "vMCCbG9HCFmP"
      }
    },
    {
      "cell_type": "code",
      "source": [
        "#新規のタグをつける場合\n",
        "import os\n",
        "\n",
        "file_path = r\"C:\\Users\\CorneAI\\sd-scripts\\TrainingData_pterygium\\train_image_768px_letterbox\"\n",
        "tag = \"pte, letterboxed\"\n",
        "\n",
        "def create_text_files_for_images(image_folder):\n",
        "    for root, _, files in os.walk(image_folder):\n",
        "        for file in files:\n",
        "            if file.lower().endswith(('.jpg', '.jpeg', '.png', '.bmp', '.gif')):\n",
        "                image_name, image_ext = os.path.splitext(file)\n",
        "                text_file_name = os.path.join(root, f\"{image_name}.txt\")\n",
        "                with open(text_file_name, 'w') as text_file:\n",
        "                    text_file.write(tag)\n",
        "\n",
        "create_text_files_for_images(file_path)"
      ],
      "metadata": {
        "id": "WXHz4yhLvilg"
      },
      "execution_count": null,
      "outputs": []
    },
    {
      "cell_type": "code",
      "source": [
        "#既存のタグを消去して指定のものに書き換える場合\n",
        "\n",
        "file_path = r\"C:\\Users\\CorneAI\\sd-scripts\\TrainingData_pterygium\\multiclass_768px_letterbox_dreambooth\"\n",
        "\n",
        "# 指定されたパス内のテキストファイルを抽出\n",
        "file_list = glob.glob(file_path + \"\\*.txt\")\n",
        "\n",
        "# 各ファイルの内容を消去して上書き\n",
        "for file in file_list:\n",
        "    with open(file, \"w\") as f:\n",
        "        f.write(\"sltphoto\")\n",
        "\n"
      ],
      "metadata": {
        "id": "N7iD5nuNp42J"
      },
      "execution_count": null,
      "outputs": []
    },
    {
      "cell_type": "code",
      "source": [
        "#既存のタグを条件付き書き換え\n",
        "import glob\n",
        "\n",
        "file_path = r\"C:\\Users\\CorneAI\\sd-scripts\\TrainingData_pterygium\\multiclass_768px_letterbox_dreambooth\"\n",
        "\n",
        "# 指定されたパス内のテキストファイルを抽出\n",
        "file_list = glob.glob(file_path + \"\\*.txt\")\n",
        "\n",
        "# 各ファイルの内容を置換して上書き\n",
        "for file in file_list:\n",
        "    with open(file, \"r\") as f:\n",
        "        content = f.read()\n",
        "\n",
        "    # 置換処理\n",
        "    content = content.replace(\"sltphoto, pte\", \"sltphoto pte\")\n",
        "    content = content.replace(\"sltphoto, cataract\", \"sltphoto cataract\")\n",
        "    content = content.replace(\"sltphoto, snl\", \"sltphoto senile\")\n",
        "\n",
        "    with open(file, \"w\") as f:\n",
        "        f.write(content)\n"
      ],
      "metadata": {
        "id": "-sctIdcroPrA"
      },
      "execution_count": 1,
      "outputs": []
    },
    {
      "cell_type": "markdown",
      "source": [
        "#**Multiclass 画像の移動と処理**"
      ],
      "metadata": {
        "id": "S4_bXPb2SGmn"
      }
    },
    {
      "cell_type": "code",
      "source": [
        "import os\n",
        "import shutil\n",
        "\n",
        "# ファイルのコピー\n",
        "src_dir1 = r\"C:\\Users\\CorneAI\\sd-scripts\\TrainingData_pterygium\\regularized_image_768px\"\n",
        "src_dir2 = r\"C:\\Users\\CorneAI\\sd-scripts\\TrainingData_pterygium\\train_image_768px_letterbox\"\n",
        "dst_dir = r\"C:\\Users\\CorneAI\\sd-scripts\\TrainingData_pterygium\\multiclass_768px_letterbox_dreambooth\"\n",
        "\n",
        "# ディレクトリ1からコピー\n",
        "for filename in os.listdir(src_dir1):\n",
        "    if filename.endswith(('.jpg', '.bmp', '.png')):\n",
        "        shutil.copy(os.path.join(src_dir1, filename), dst_dir)\n",
        "\n",
        "# ディレクトリ2からコピー\n",
        "for filename in os.listdir(src_dir2):\n",
        "    if filename.endswith(('.jpg', '.bmp', '.png')):\n",
        "        shutil.copy(os.path.join(src_dir2, filename), dst_dir)\n",
        "\n",
        "# テキストファイルの作成と書き込み\n",
        "for filename in os.listdir(dst_dir):\n",
        "    if filename.endswith(('.jpg', '.bmp', '.png')):\n",
        "        txt_filename = filename.rsplit('.', 1)[0] + '.txt'\n",
        "        txt_filepath = os.path.join(dst_dir, txt_filename)\n",
        "\n",
        "        with open(txt_filepath, 'w') as f:\n",
        "            if '腫瘍' in filename:\n",
        "                f.write('sltphoto, pte')\n",
        "            elif '老人環' in filename:\n",
        "                f.write('sltphoto, snl')\n",
        "            elif '水晶体混濁' in filename:\n",
        "                f.write('sltphoto, cataract')\n",
        "            elif '正常' in filename:\n",
        "                f.write('sltphoto')\n",
        "            else:\n",
        "                f.write('') # ここに\"正常\"以外のファイル名に対する記述を入れてください\n",
        "                print(filename)\n"
      ],
      "metadata": {
        "id": "DhL80AGwSZWe"
      },
      "execution_count": null,
      "outputs": []
    },
    {
      "cell_type": "code",
      "source": [
        "# 画像をletterbox化して上書き\n",
        "\n",
        "import os\n",
        "from PIL import Image\n",
        "from tqdm import tqdm\n",
        "\n",
        "dst_dir = r\"C:\\Users\\CorneAI\\sd-scripts\\TrainingData_pterygium\\multiclass_768px_letterbox_dreambooth\"\n",
        "\n",
        "# サポートされている画像形式の拡張子\n",
        "img_exts = [\".jpg\", \".jpeg\", \".png\", \".bmp\", \".tiff\"]\n",
        "\n",
        "# 画像ファイルのリストを作成\n",
        "img_files = [os.path.join(root, file)\n",
        "             for root, dirs, files in os.walk(dst_dir)\n",
        "             for file in files\n",
        "             if os.path.splitext(file)[1].lower() in img_exts]\n",
        "\n",
        "# tqdmで進捗を表示しながら画像を処理\n",
        "for img_path in tqdm(img_files, desc=\"Processing images\", unit=\"image\"):\n",
        "    # 画像を開く\n",
        "    img = Image.open(img_path)\n",
        "    img.thumbnail((768, 768))\n",
        "\n",
        "    # 新しい画像を作成し、中央に元の画像を配置する\n",
        "    letterbox_img = Image.new(\"RGB\", (768, 768), (0, 0, 0))\n",
        "    letterbox_img.paste(img, ((768 - img.width) // 2, (768 - img.height) // 2))\n",
        "\n",
        "    # 元のファイルを上書きする\n",
        "    letterbox_img.save(img_path)\n",
        "\n",
        "print(\"All images have been processed.\")\n",
        "\n"
      ],
      "metadata": {
        "id": "v8VBXp3Ue29g",
        "outputId": "ce2469c7-d02a-4a80-c97c-4c3299f37c59",
        "colab": {
          "base_uri": "https://localhost:8080/"
        }
      },
      "execution_count": null,
      "outputs": [
        {
          "output_type": "stream",
          "name": "stdout",
          "text": [
            "All images have been processed.\n"
          ]
        }
      ]
    }
  ]
}