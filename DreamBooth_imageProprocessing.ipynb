{
  "nbformat": 4,
  "nbformat_minor": 0,
  "metadata": {
    "colab": {
      "provenance": [],
      "authorship_tag": "ABX9TyOqxmQ99TkJNKQ8xdJ5JX7J",
      "include_colab_link": true
    },
    "kernelspec": {
      "name": "python3",
      "display_name": "Python 3"
    },
    "language_info": {
      "name": "python"
    }
  },
  "cells": [
    {
      "cell_type": "markdown",
      "metadata": {
        "id": "view-in-github",
        "colab_type": "text"
      },
      "source": [
        "<a href=\"https://colab.research.google.com/github/ykitaguchi77/CorneAI/blob/main/DreamBooth_imageProprocessing.ipynb\" target=\"_parent\"><img src=\"https://colab.research.google.com/assets/colab-badge.svg\" alt=\"Open In Colab\"/></a>"
      ]
    },
    {
      "cell_type": "markdown",
      "source": [
        "#**画像をリサイズする（横幅768px）**\n",
        "\n",
        "※ローカルです"
      ],
      "metadata": {
        "id": "Hkp8J-YfkoLX"
      }
    },
    {
      "cell_type": "code",
      "execution_count": null,
      "metadata": {
        "colab": {
          "base_uri": "https://localhost:8080/"
        },
        "id": "NoXQ0R0tklCj",
        "outputId": "7ec630ef-d496-4e2e-d10a-42ffc79510c1"
      },
      "outputs": [
        {
          "output_type": "stream",
          "name": "stdout",
          "text": [
            "Width: 3216\n",
            "Height: 2136\n"
          ]
        }
      ],
      "source": [
        "from PIL import Image\n",
        "\n",
        "image_path = r\"C:\\Users\\CorneAI\\sd-scripts\\TrainingData_pterygium\\train_image\\【腫瘍】翼状片_myt0005.jpg\"\n",
        "\n",
        "image = Image.open(image_path)\n",
        "width, height = image.size\n",
        "\n",
        "print(\"Width:\", width)\n",
        "print(\"Height:\", height)"
      ]
    },
    {
      "cell_type": "code",
      "source": [
        "from PIL import Image\n",
        "import matplotlib.pyplot as plt\n",
        "\n",
        "\n",
        "image_path = r\"C:\\Users\\CorneAI\\sd-scripts\\TrainingData_pterygium\\train_image\\【腫瘍】翼状片_myt0005.jpg\"\n",
        "\n",
        "# 画像の読み込み\n",
        "image = Image.open(image_path)\n",
        "\n",
        "width, height = image.size\n",
        "print(\"Width:\", width)\n",
        "print(\"Height:\", height)\n",
        "\n",
        "\n",
        "# 画像の表示\n",
        "plt.imshow(image)\n",
        "plt.axis('off')  # 軸を非表示にする\n",
        "\n",
        "# 画像ウィンドウを開く\n",
        "plt.show()\n"
      ],
      "metadata": {
        "id": "4W20gwRil7kq"
      },
      "execution_count": null,
      "outputs": []
    },
    {
      "cell_type": "code",
      "source": [
        "from PIL import Image\n",
        "import matplotlib.pyplot as plt\n",
        "\n",
        "image_path = r\"C:\\Users\\CorneAI\\sd-scripts\\TrainingData_pterygium\\train_image\\【腫瘍】翼状片_myt0005.jpg\"\n",
        "\n",
        "# 画像の読み込み\n",
        "image = Image.open(image_path)\n",
        "\n",
        "# 横の長さが768pixになるようにリサイズ\n",
        "aspect_ratio = float(image.size[1]) / float(image.size[0])\n",
        "new_width = 768\n",
        "new_height = int(new_width * aspect_ratio)\n",
        "resized_image = image.resize((new_width, new_height))\n",
        "\n",
        "# 縦横比が2:3になるように中央で切り抜き\n",
        "desired_aspect_ratio = 2 / 3\n",
        "if aspect_ratio > desired_aspect_ratio:\n",
        "    desired_height = int(new_width * desired_aspect_ratio)\n",
        "    top = int((new_height - desired_height) / 2)\n",
        "    bottom = top + desired_height\n",
        "    cropped_image = resized_image.crop((0, top, new_width, bottom))\n",
        "else:\n",
        "    desired_width = int(new_height / desired_aspect_ratio)\n",
        "    left = int((new_width - desired_width) / 2)\n",
        "    right = left + desired_width\n",
        "    cropped_image = resized_image.crop((left, 0, right, new_height))\n",
        "\n",
        "width, height = cropped_image.size\n",
        "print(\"Width:\", width)\n",
        "print(\"Height:\", height)\n",
        "\n",
        "# 画像の表示\n",
        "plt.imshow(cropped_image)\n",
        "plt.axis('off')  # 軸を非表示にする\n",
        "\n",
        "# 画像ウィンドウを開く\n",
        "plt.show()\n"
      ],
      "metadata": {
        "id": "a4qw6v-1nDo9"
      },
      "execution_count": null,
      "outputs": []
    },
    {
      "cell_type": "markdown",
      "source": [
        "##**リサイズした画像を保存**"
      ],
      "metadata": {
        "id": "VC5-pAjwB_qJ"
      }
    },
    {
      "cell_type": "code",
      "source": [
        "import os\n",
        "from PIL import Image\n",
        "from tqdm import tqdm\n",
        "\n",
        "def resize_images(input_dir, output_dir, new_width):\n",
        "    # 出力ディレクトリが存在しない場合は作成する\n",
        "    if not os.path.exists(output_dir):\n",
        "        os.makedirs(output_dir)\n",
        "\n",
        "    # 入力ディレクトリ内の画像ファイルを処理する\n",
        "    filenames = os.listdir(input_dir)\n",
        "    progress_bar = tqdm(total=len(filenames), desc='Resizing Images')\n",
        "    for filename in filenames:\n",
        "        # 画像ファイルのパスを作成\n",
        "        input_path = os.path.join(input_dir, filename)\n",
        "\n",
        "        # 画像の読み込み\n",
        "        image = Image.open(input_path)\n",
        "\n",
        "        # 横の長さが指定された幅になるようにリサイズ\n",
        "        aspect_ratio = float(image.size[1]) / float(image.size[0])\n",
        "        new_height = int(new_width * aspect_ratio)\n",
        "        resized_image = image.resize((new_width, new_height))\n",
        "\n",
        "        # 出力ファイルのパスを作成\n",
        "        output_path = os.path.join(output_dir, filename)\n",
        "\n",
        "        # リサイズされた画像を保存\n",
        "        resized_image.save(output_path)\n",
        "\n",
        "        # 進捗を更新\n",
        "        progress_bar.update(1)\n",
        "\n",
        "    # 進捗バーをクローズ\n",
        "    progress_bar.close()\n",
        "\n",
        "# 画像のリサイズと保存\n",
        "input_dir1 = r\"C:\\Users\\CorneAI\\sd-scripts\\TrainingData_pterygium\\train_image\"\n",
        "output_dir1 = r\"C:\\Users\\CorneAI\\sd-scripts\\TrainingData_pterygium\\train_image_768px\"\n",
        "resize_images(input_dir1, output_dir1, 768)\n",
        "\n",
        "input_dir2 = r\"C:\\Users\\CorneAI\\sd-scripts\\TrainingData_pterygium\\regularized_image\"\n",
        "output_dir2 = r\"C:\\Users\\CorneAI\\sd-scripts\\TrainingData_pterygium\\regularized_image_768px\"\n",
        "resize_images(input_dir2, output_dir2, 768)\n"
      ],
      "metadata": {
        "colab": {
          "base_uri": "https://localhost:8080/"
        },
        "id": "zFVqkXpWnnWg",
        "outputId": "93abe272-8dba-4d04-dd10-9daae86c041f"
      },
      "execution_count": null,
      "outputs": [
        {
          "output_type": "stream",
          "name": "stderr",
          "text": [
            "Resizing Images: 100%|███████████████████████████████████████████████████████████████| 214/214 [00:22<00:00,  9.46it/s]\n",
            "Resizing Images: 100%|███████████████████████████████████████████████████████████████| 810/810 [00:29<00:00, 27.05it/s]\n"
          ]
        }
      ]
    },
    {
      "cell_type": "markdown",
      "source": [
        "#**フォルダ内にあるタグ（.txt）を書き換え**"
      ],
      "metadata": {
        "id": "vMCCbG9HCFmP"
      }
    },
    {
      "cell_type": "code",
      "source": [
        "#既存のタグを消去して指定のものに書き換える場合\n",
        "\n",
        "file_path = r\"C:\\Users\\CorneAI\\sd-scripts\\TrainingData_pterygium\\regularized_image_768px_dreambooth\"\n",
        "# ファイルを書き込みモードで開く\n",
        "with open(file_path, \"w\") as file:\n",
        "    file.write(\"slitlamp\")\n"
      ],
      "metadata": {
        "id": "N7iD5nuNp42J",
        "outputId": "2d3d2b81-7979-4ae7-841d-19cac1866b08",
        "colab": {
          "base_uri": "https://localhost:8080/",
          "height": 407
        }
      },
      "execution_count": 4,
      "outputs": [
        {
          "output_type": "error",
          "ename": "PermissionError",
          "evalue": "ignored",
          "traceback": [
            "\u001b[1;31m---------------------------------------------------------------------------\u001b[0m",
            "\u001b[1;31mPermissionError\u001b[0m                           Traceback (most recent call last)",
            "Cell \u001b[1;32mIn[4], line 5\u001b[0m\n\u001b[0;32m      3\u001b[0m file_path \u001b[38;5;241m=\u001b[39m \u001b[38;5;124mr\u001b[39m\u001b[38;5;124m\"\u001b[39m\u001b[38;5;124mC:\u001b[39m\u001b[38;5;124m\\\u001b[39m\u001b[38;5;124mUsers\u001b[39m\u001b[38;5;124m\\\u001b[39m\u001b[38;5;124mCorneAI\u001b[39m\u001b[38;5;124m\\\u001b[39m\u001b[38;5;124msd-scripts\u001b[39m\u001b[38;5;124m\\\u001b[39m\u001b[38;5;124mTrainingData_pterygium\u001b[39m\u001b[38;5;124m\\\u001b[39m\u001b[38;5;124mregularized_image_768px_dreambooth\u001b[39m\u001b[38;5;124m\"\u001b[39m\n\u001b[0;32m      4\u001b[0m \u001b[38;5;66;03m# ファイルを書き込みモードで開く\u001b[39;00m\n\u001b[1;32m----> 5\u001b[0m \u001b[38;5;28;01mwith\u001b[39;00m \u001b[38;5;28;43mopen\u001b[39;49m\u001b[43m(\u001b[49m\u001b[43mfile_path\u001b[49m\u001b[43m,\u001b[49m\u001b[43m \u001b[49m\u001b[38;5;124;43m\"\u001b[39;49m\u001b[38;5;124;43mw\u001b[39;49m\u001b[38;5;124;43m\"\u001b[39;49m\u001b[43m)\u001b[49m \u001b[38;5;28;01mas\u001b[39;00m file:\n\u001b[0;32m      6\u001b[0m     file\u001b[38;5;241m.\u001b[39mwrite(\u001b[38;5;124m\"\u001b[39m\u001b[38;5;124mslitlamp\u001b[39m\u001b[38;5;124m\"\u001b[39m)\n",
            "File \u001b[1;32m~\\sd-scripts\\venv\\lib\\site-packages\\IPython\\core\\interactiveshell.py:284\u001b[0m, in \u001b[0;36m_modified_open\u001b[1;34m(file, *args, **kwargs)\u001b[0m\n\u001b[0;32m    277\u001b[0m \u001b[38;5;28;01mif\u001b[39;00m file \u001b[38;5;129;01min\u001b[39;00m {\u001b[38;5;241m0\u001b[39m, \u001b[38;5;241m1\u001b[39m, \u001b[38;5;241m2\u001b[39m}:\n\u001b[0;32m    278\u001b[0m     \u001b[38;5;28;01mraise\u001b[39;00m \u001b[38;5;167;01mValueError\u001b[39;00m(\n\u001b[0;32m    279\u001b[0m         \u001b[38;5;124mf\u001b[39m\u001b[38;5;124m\"\u001b[39m\u001b[38;5;124mIPython won\u001b[39m\u001b[38;5;124m'\u001b[39m\u001b[38;5;124mt let you open fd=\u001b[39m\u001b[38;5;132;01m{\u001b[39;00mfile\u001b[38;5;132;01m}\u001b[39;00m\u001b[38;5;124m by default \u001b[39m\u001b[38;5;124m\"\u001b[39m\n\u001b[0;32m    280\u001b[0m         \u001b[38;5;124m\"\u001b[39m\u001b[38;5;124mas it is likely to crash IPython. If you know what you are doing, \u001b[39m\u001b[38;5;124m\"\u001b[39m\n\u001b[0;32m    281\u001b[0m         \u001b[38;5;124m\"\u001b[39m\u001b[38;5;124myou can use builtins\u001b[39m\u001b[38;5;124m'\u001b[39m\u001b[38;5;124m open.\u001b[39m\u001b[38;5;124m\"\u001b[39m\n\u001b[0;32m    282\u001b[0m     )\n\u001b[1;32m--> 284\u001b[0m \u001b[38;5;28;01mreturn\u001b[39;00m io_open(file, \u001b[38;5;241m*\u001b[39margs, \u001b[38;5;241m*\u001b[39m\u001b[38;5;241m*\u001b[39mkwargs)\n",
            "\u001b[1;31mPermissionError\u001b[0m: [Errno 13] Permission denied: 'C:\\\\Users\\\\CorneAI\\\\sd-scripts\\\\TrainingData_pterygium\\\\regularized_image_768px_dreambooth'"
          ]
        }
      ]
    }
  ]
}