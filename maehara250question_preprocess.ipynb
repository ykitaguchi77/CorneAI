{
  "cells": [
    {
      "cell_type": "markdown",
      "metadata": {
        "id": "view-in-github",
        "colab_type": "text"
      },
      "source": [
        "<a href=\"https://colab.research.google.com/github/ykitaguchi77/CorneAI/blob/main/maehara250question_preprocess.ipynb\" target=\"_parent\"><img src=\"https://colab.research.google.com/assets/colab-badge.svg\" alt=\"Open In Colab\"/></a>"
      ]
    },
    {
      "cell_type": "markdown",
      "metadata": {
        "id": "MsHw5vziNYBg"
      },
      "source": [
        "# **前原の250問　前処理**"
      ]
    },
    {
      "cell_type": "markdown",
      "metadata": {
        "id": "JzDnglgVNYBh"
      },
      "source": [
        "## **スマホ画像resize**\n",
        "\n",
        "ここはローカルでやる（ファイルサイズが大きいため）"
      ]
    },
    {
      "cell_type": "markdown",
      "metadata": {
        "id": "1KwyykdlNYBh"
      },
      "source": [
        "### PNGでリサイズ (今回はjpgでやるので省略)"
      ]
    },
    {
      "cell_type": "code",
      "execution_count": null,
      "metadata": {
        "id": "0IbMCaFbNYBi",
        "outputId": "678ca083-770e-4abd-8e31-247e9f513f29"
      },
      "outputs": [
        {
          "name": "stderr",
          "output_type": "stream",
          "text": [
            "100%|██████████| 240/240 [02:06<00:00,  1.90file/s]"
          ]
        },
        {
          "name": "stdout",
          "output_type": "stream",
          "text": [
            "リサイズが完了しました。\n"
          ]
        },
        {
          "name": "stderr",
          "output_type": "stream",
          "text": [
            "\n"
          ]
        }
      ],
      "source": [
        "import os\n",
        "from PIL import Image\n",
        "from tqdm import tqdm\n",
        "\n",
        "# 元のディレクトリのパスを指定\n",
        "original_directory = \"/Users/kitaguchi/Downloads/スマホ\"\n",
        "\n",
        "# 新しいディレクトリのパスを指定\n",
        "new_directory = \"/Users/kitaguchi/Downloads/スマホ_resized\"\n",
        "\n",
        "# 新しいディレクトリが存在しない場合は作成\n",
        "if not os.path.exists(new_directory):\n",
        "    os.makedirs(new_directory)\n",
        "\n",
        "# 元のディレクトリ内のすべてのファイルを処理\n",
        "png_files = [filename for filename in os.listdir(original_directory) if filename.lower().endswith(\".png\")]\n",
        "\n",
        "with tqdm(total=len(png_files), unit=\"file\") as pbar:\n",
        "    for filename in png_files:\n",
        "        # 画像を開く\n",
        "        image_path = os.path.join(original_directory, filename)\n",
        "        with Image.open(image_path) as img:\n",
        "            # 画像のサイズを取得\n",
        "            width, height = img.size\n",
        "\n",
        "            # 横幅を640pxに設定し、縦幅を比率に合わせて計算\n",
        "            new_width = 640\n",
        "            new_height = int(height * (new_width / width))\n",
        "\n",
        "            # 画像をリサイズ\n",
        "            resized_img = img.resize((new_width, new_height), Image.LANCZOS)\n",
        "\n",
        "            # リサイズした画像を新しいディレクトリに保存\n",
        "            new_image_path = os.path.join(new_directory, filename)\n",
        "            resized_img.save(new_image_path)\n",
        "\n",
        "        pbar.update(1)\n",
        "\n",
        "print(\"リサイズが完了しました。\")"
      ]
    },
    {
      "cell_type": "markdown",
      "metadata": {
        "id": "6aBu24DiNYBj"
      },
      "source": [
        "### JPGでリサイズ"
      ]
    },
    {
      "cell_type": "code",
      "execution_count": null,
      "metadata": {
        "id": "WD99Iv06NYBj",
        "outputId": "4ce25a73-d7fc-4ce4-b5ee-98fd13edf795"
      },
      "outputs": [
        {
          "name": "stderr",
          "output_type": "stream",
          "text": [
            "100%|██████████| 240/240 [01:16<00:00,  3.14file/s]"
          ]
        },
        {
          "name": "stdout",
          "output_type": "stream",
          "text": [
            "リサイズが完了しました。\n"
          ]
        },
        {
          "name": "stderr",
          "output_type": "stream",
          "text": [
            "\n"
          ]
        }
      ],
      "source": [
        "import os\n",
        "from PIL import Image\n",
        "from tqdm import tqdm\n",
        "\n",
        "# 元のディレクトリのパスを指定\n",
        "original_directory = \"/Users/kitaguchi/Downloads/スマホ\"\n",
        "# 新しいディレクトリのパスを指定\n",
        "new_directory = \"/Users/kitaguchi/Downloads/スマホ_resized\"\n",
        "\n",
        "# 新しいディレクトリが存在しない場合は作成\n",
        "if not os.path.exists(new_directory):\n",
        "    os.makedirs(new_directory)\n",
        "\n",
        "# 元のディレクトリ内のすべてのファイルを処理\n",
        "jpg_files = [filename for filename in os.listdir(original_directory) if filename.lower().endswith(\".png\")]\n",
        "\n",
        "with tqdm(total=len(jpg_files), unit=\"file\") as pbar:\n",
        "    for filename in jpg_files:\n",
        "        # 画像を開く\n",
        "        image_path = os.path.join(original_directory, filename)\n",
        "        with Image.open(image_path) as img:\n",
        "            # 画像のサイズを取得\n",
        "            width, height = img.size\n",
        "\n",
        "            # 横幅を640pxに設定し、縦幅を比率に合わせて計算\n",
        "            new_width = 640\n",
        "            new_height = int(height * (new_width / width))\n",
        "\n",
        "            # 画像をリサイズ\n",
        "            resized_img = img.resize((new_width, new_height), Image.LANCZOS)\n",
        "\n",
        "            # 画像をRGBモードに変換\n",
        "            rgb_img = resized_img.convert(\"RGB\")\n",
        "\n",
        "            # リサイズした画像を新しいディレクトリに保存\n",
        "            new_filename = os.path.splitext(filename)[0] + \".jpg\"  # ファイル名をjpg形式に変更\n",
        "            new_image_path = os.path.join(new_directory, new_filename)\n",
        "            rgb_img.save(new_image_path, \"JPEG\")  # JPEG形式で保存\n",
        "\n",
        "        pbar.update(1)\n",
        "\n",
        "print(\"リサイズが完了しました。\")"
      ]
    },
    {
      "cell_type": "markdown",
      "metadata": {
        "id": "KeWkqitjNYBk"
      },
      "source": [
        "### 対応表にないものを削除"
      ]
    },
    {
      "cell_type": "code",
      "execution_count": null,
      "metadata": {
        "id": "Hzmr8kVNNYBk"
      },
      "outputs": [],
      "source": [
        "import os\n",
        "import pandas as pd\n",
        "from tqdm import tqdm\n",
        "\n",
        "# 対応表のCSVファイルを読み込む\n",
        "csv_file = \"/Users/kitaguchi/Downloads/対応表2022.xlsx - Sheet1.csv\"\n",
        "df = pd.read_csv(csv_file)\n",
        "\n",
        "# 画像ファイルがあるディレクトリのパス\n",
        "image_dir = \"/Users/kitaguchi/Downloads/スマホ_resized\"\n",
        "\n",
        "# ディレクトリ内の画像ファイルを取得\n",
        "image_files = [filename for filename in os.listdir(image_dir) if filename.lower().endswith((\".jpg\", \".png\"))]\n",
        "\n",
        "# tqdmを使用してファイル処理の進捗を表示\n",
        "for filename in tqdm(image_files, desc=\"Processing files\"):\n",
        "    # ファイル名から拡張子を除いたベース名を取得\n",
        "    basename, extension = os.path.splitext(filename)\n",
        "\n",
        "    # 対応表からimg_idがベース名と一致する行を検索\n",
        "    matched_rows = df[df[\"img_id\"] == basename]\n",
        "\n",
        "    # 一致する行が見つかった場合\n",
        "    if not matched_rows.empty:\n",
        "        # 最初の一致行のbasenameを取得\n",
        "        new_basename = str(matched_rows.iloc[0][\"basename\"])  # 文字列に変換\n",
        "\n",
        "        # 新しいファイル名を生成（拡張子を維持）\n",
        "        new_filename = new_basename + extension\n",
        "\n",
        "        # ファイルをリネーム\n",
        "        old_path = os.path.join(image_dir, filename)\n",
        "        new_path = os.path.join(image_dir, new_filename)\n",
        "        os.rename(old_path, new_path)\n",
        "\n",
        "        # Matchしたファイルのメッセージを表示\n",
        "        tqdm.write(f\"Matched and renamed: {filename} -> {new_filename}\")\n",
        "    else:\n",
        "        # 対応表にないファイルを削除\n",
        "        file_path = os.path.join(image_dir, filename)\n",
        "        os.remove(file_path)\n",
        "\n",
        "        # 削除したファイルのメッセージを表示\n",
        "        tqdm.write(f\"No match found. Deleted: {filename}\")"
      ]
    },
    {
      "cell_type": "markdown",
      "metadata": {
        "id": "2BkqiVAUNYBk"
      },
      "source": [
        "### さらにリストにないものを削除"
      ]
    },
    {
      "cell_type": "code",
      "execution_count": null,
      "metadata": {
        "id": "CvDtiOy3NYBk"
      },
      "outputs": [],
      "source": [
        "import os\n",
        "import pandas as pd\n",
        "\n",
        "# CSVファイルを読み込む\n",
        "csv_file = \"/Users/kitaguchi/Downloads/updated_corr_table_modified3.csv\"\n",
        "df = pd.read_csv(csv_file, encoding='shift_jis')\n",
        "\n",
        "# 画像ファイルがあるディレクトリのパス\n",
        "image_dir = \"/Users/kitaguchi/Downloads/スマホ_resized\"\n",
        "\n",
        "# ディレクトリ内のファイルを取得\n",
        "files = os.listdir(image_dir)\n",
        "\n",
        "# CSVファイルをbasename列で辞書化\n",
        "csv_dict = df.set_index('basename').to_dict(orient='index')\n",
        "\n",
        "# 一致するベース名を検索し、一致しないファイルを削除\n",
        "matching_basenames = []\n",
        "for file in files:\n",
        "    basename = os.path.splitext(file)[0]\n",
        "    if basename in csv_dict:\n",
        "        matching_basenames.append(basename)\n",
        "    else:\n",
        "        file_path = os.path.join(image_dir, file)\n",
        "        os.remove(file_path)\n",
        "        print(f\"一致するベース名が見つからないため、ファイルを削除しました: {file}\")\n",
        "\n",
        "# 結果を出力\n",
        "if matching_basenames:\n",
        "    print(\"一致するベース名が見つかったファイル:\")\n",
        "    for basename in matching_basenames:\n",
        "        print(basename)\n",
        "else:\n",
        "    print(\"一致するベース名が見つかりませんでした。\")\n",
        "\n",
        "print(f\"一致するベース名が見つかったファイルの数： {len(matching_basenames)}\")"
      ]
    },
    {
      "cell_type": "markdown",
      "metadata": {
        "id": "zq4Yn-XANYBk"
      },
      "source": [
        "## **フォトスリット画像Resize**\n",
        "\n",
        "フォトスリットもダウンロードしてリサイズする"
      ]
    },
    {
      "cell_type": "code",
      "execution_count": null,
      "metadata": {
        "id": "I6MibA_QNYBk",
        "outputId": "fbec0779-0584-4087-bb44-4baf61986980"
      },
      "outputs": [
        {
          "name": "stderr",
          "output_type": "stream",
          "text": [
            "100%|██████████| 238/238 [00:16<00:00, 14.61file/s]"
          ]
        },
        {
          "name": "stdout",
          "output_type": "stream",
          "text": [
            "リサイズが完了しました。\n"
          ]
        },
        {
          "name": "stderr",
          "output_type": "stream",
          "text": [
            "\n"
          ]
        }
      ],
      "source": [
        "import os\n",
        "from PIL import Image\n",
        "from tqdm import tqdm\n",
        "\n",
        "# 元のディレクトリのパスを指定\n",
        "original_directory = \"/Users/kitaguchi/Downloads/フォトスリット\"\n",
        "\n",
        "# 新しいディレクトリのパスを指定\n",
        "new_directory = \"/Users/kitaguchi/Downloads/フォトスリット_resized\"\n",
        "\n",
        "# 新しいディレクトリが存在しない場合は作成\n",
        "if not os.path.exists(new_directory):\n",
        "    os.makedirs(new_directory)\n",
        "\n",
        "# 元のディレクトリ内のすべてのファイルを処理\n",
        "image_extensions = (\".jpg\", \".png\", \".PNG\")\n",
        "image_files = [filename for filename in os.listdir(original_directory) if filename.lower().endswith(image_extensions)]\n",
        "\n",
        "with tqdm(total=len(image_files), unit=\"file\") as pbar:\n",
        "    for filename in image_files:\n",
        "        # 画像を開く\n",
        "        image_path = os.path.join(original_directory, filename)\n",
        "        with Image.open(image_path) as img:\n",
        "            # 画像のサイズを取得\n",
        "            width, height = img.size\n",
        "\n",
        "            # 横幅を640pxに設定し、縦幅を比率に合わせて計算\n",
        "            new_width = 640\n",
        "            new_height = int(height * (new_width / width))\n",
        "\n",
        "            # 画像をリサイズ\n",
        "            resized_img = img.resize((new_width, new_height), Image.LANCZOS)\n",
        "\n",
        "            # 画像をRGBモードに変換\n",
        "            rgb_img = resized_img.convert(\"RGB\")\n",
        "\n",
        "            # リサイズした画像を新しいディレクトリに保存\n",
        "            new_filename = os.path.splitext(filename)[0] + \".jpg\"  # ファイル名をjpg形式に変更\n",
        "            new_image_path = os.path.join(new_directory, new_filename)\n",
        "            rgb_img.save(new_image_path, \"JPEG\")  # JPEG形式で保存\n",
        "\n",
        "        pbar.update(1)\n",
        "\n",
        "print(\"リサイズが完了しました。\")"
      ]
    },
    {
      "cell_type": "code",
      "execution_count": null,
      "metadata": {
        "id": "WafgenSZNYBl"
      },
      "outputs": [],
      "source": [
        "import os\n",
        "import pandas as pd\n",
        "\n",
        "# CSVファイルを読み込む\n",
        "csv_file = \"/Users/kitaguchi/Downloads/updated_corr_table_modified3.csv\"\n",
        "df = pd.read_csv(csv_file, encoding='shift_jis')\n",
        "\n",
        "# 画像ファイルがあるディレクトリのパス\n",
        "image_dir = \"/Users/kitaguchi/Downloads/フォトスリット_resized\"\n",
        "\n",
        "# ディレクトリ内のファイルを取得\n",
        "files = os.listdir(image_dir)\n",
        "\n",
        "# CSVファイルをbasename列で辞書化\n",
        "csv_dict = df.set_index('basename').to_dict(orient='index')\n",
        "\n",
        "# 一致するベース名を検索し、一致しないファイルを削除\n",
        "matching_basenames = []\n",
        "for file in files:\n",
        "    basename = os.path.splitext(file)[0]\n",
        "    if basename in csv_dict:\n",
        "        matching_basenames.append(basename)\n",
        "    else:\n",
        "        file_path = os.path.join(image_dir, file)\n",
        "        os.remove(file_path)\n",
        "        print(f\"一致するベース名が見つからないため、ファイルを削除しました: {file}\")\n",
        "\n",
        "# 結果を出力\n",
        "if matching_basenames:\n",
        "    print(\"一致するベース名が見つかったファイル:\")\n",
        "    for basename in matching_basenames:\n",
        "        print(basename)\n",
        "else:\n",
        "    print(\"一致するベース名が見つかりませんでした。\")\n",
        "\n",
        "print(f\"一致するベース名が見つかったファイルの数： {len(matching_basenames)}\")"
      ]
    },
    {
      "cell_type": "markdown",
      "metadata": {
        "id": "qwECTOxdNYBl"
      },
      "source": [
        "### スマホ&スリットで欠損している画像を同定"
      ]
    },
    {
      "cell_type": "code",
      "execution_count": null,
      "metadata": {
        "id": "-0ql2Kn9NYBl"
      },
      "outputs": [],
      "source": [
        "import os\n",
        "\n",
        "dir1 = \"/Users/kitaguchi/Downloads/スマホ_resized\"\n",
        "dir2 = \"/Users/kitaguchi/Downloads/フォトスリット_resized\"\n",
        "\n",
        "# dir1とdir2のファイル一覧を取得\n",
        "files1 = os.listdir(dir1)\n",
        "files2 = os.listdir(dir2)\n",
        "\n",
        "# dir1のファイルをループ\n",
        "for file1 in files1:\n",
        "    # 拡張子を除いたファイル名を取得\n",
        "    basename1 = os.path.splitext(file1)[0]\n",
        "\n",
        "    # dir2のファイルをループ\n",
        "    found = False\n",
        "    for file2 in files2:\n",
        "        # 拡張子を除いたファイル名を取得\n",
        "        basename2 = os.path.splitext(file2)[0]\n",
        "\n",
        "        # basenameが一致すればfound=Trueにしてループを抜ける\n",
        "        if basename1 == basename2:\n",
        "            found = True\n",
        "            break\n",
        "\n",
        "    # dir2で一致するファイルが見つからなかった場合、パスを表示\n",
        "    if not found:\n",
        "        print(os.path.join(dir1, file1))\n",
        "\n",
        "# dir2のファイルをループ\n",
        "for file2 in files2:\n",
        "    # 拡張子を除いたファイル名を取得\n",
        "    basename2 = os.path.splitext(file2)[0]\n",
        "\n",
        "    # dir1のファイルをループ\n",
        "    found = False\n",
        "    for file1 in files1:\n",
        "        # 拡張子を除いたファイル名を取得\n",
        "        basename1 = os.path.splitext(file1)[0]\n",
        "\n",
        "        # basenameが一致すればfound=Trueにしてループを抜ける\n",
        "        if basename2 == basename1:\n",
        "            found = True\n",
        "            break\n",
        "\n",
        "    # dir1で一致するファイルが見つからなかった場合、パスを表示\n",
        "    if not found:\n",
        "        print(os.path.join(dir2, file2))"
      ]
    },
    {
      "cell_type": "markdown",
      "metadata": {
        "id": "PZckpAQkNYBl"
      },
      "source": [
        "--> 不一致ファイルを削除し、updated_corr_table_modified4.csvとして保存"
      ]
    },
    {
      "cell_type": "code",
      "source": [
        "#画像に黒塗り白字の番号をマージ（Claude3が読み取りやすいようにするため）\n",
        "\n",
        "from PIL import Image, ImageDraw, ImageFont\n",
        "import os\n",
        "\n",
        "# 入力ディレクトリと出力ディレクトリのパスを指定\n",
        "input_dir = \"/Users/kitaguchi/Desktop/前原の240問/スリット_serial\"\n",
        "output_dir = \"/Users/kitaguchi/Desktop/前原の240問/スリット_serial_merge\"\n",
        "\n",
        "# 出力ディレクトリが存在しない場合は作成\n",
        "if not os.path.exists(output_dir):\n",
        "    os.makedirs(output_dir)\n",
        "\n",
        "# ファイル名を描画するためのフォントを指定\n",
        "font = ImageFont.load_default(36)\n",
        "\n",
        "# 入力ディレクトリ内のすべてのJPGファイルを処理\n",
        "for filename in os.listdir(input_dir):\n",
        "    if filename.endswith(\".jpg\"):\n",
        "        # 画像を開く\n",
        "        img_path = os.path.join(input_dir, filename)\n",
        "        img = Image.open(img_path)\n",
        "\n",
        "        # 画像に描画するためのDrawオブジェクトを作成\n",
        "        draw = ImageDraw.Draw(img)\n",
        "\n",
        "        # ファイル名を描画する座標を指定\n",
        "        text_position = (10, 10)\n",
        "\n",
        "        # 黒塗りのボックスを描画\n",
        "        bbox = draw.textbbox(text_position, filename, font=font)\n",
        "        draw.rectangle(bbox, fill=(0, 0, 0))\n",
        "\n",
        "        # ファイル名を黒塗りのボックス上に描画\n",
        "        draw.text(text_position, filename, font=font, fill=(255, 255, 255))\n",
        "\n",
        "        # 新しいファイル名を生成して保存\n",
        "        new_filename = os.path.join(output_dir, filename)\n",
        "        img.save(new_filename)\n",
        "\n",
        "print(\"処理が完了しました。\")"
      ],
      "metadata": {
        "id": "mC78iwh3sckg"
      },
      "execution_count": null,
      "outputs": []
    },
    {
      "cell_type": "markdown",
      "metadata": {
        "id": "bC8APWNgNYBl"
      },
      "source": [
        "## ここでスマホ画像をgdridveにuploadする --> ここからはgdrive上でやる"
      ]
    },
    {
      "cell_type": "markdown",
      "source": [
        "## **前原の100問を追加**"
      ],
      "metadata": {
        "id": "11lrY7EDO2Re"
      }
    },
    {
      "cell_type": "code",
      "execution_count": null,
      "metadata": {
        "id": "vB4Sx5ZFNYBl",
        "outputId": "c74e6009-b4b3-4f3e-bb27-f627127af6e0",
        "colab": {
          "base_uri": "https://localhost:8080/"
        }
      },
      "outputs": [
        {
          "output_type": "stream",
          "name": "stdout",
          "text": [
            "Mounted at /content/drive\n"
          ]
        }
      ],
      "source": [
        "from google.colab import drive\n",
        "drive.mount('/content/drive')"
      ]
    },
    {
      "cell_type": "code",
      "source": [
        "maehara100_dir = \"/content/drive/MyDrive/研究/進行中の研究/角膜スマートフォンAIプロジェクト/前原の100問/前原Dr_100問\""
      ],
      "metadata": {
        "id": "VXTI1IcURajN"
      },
      "execution_count": null,
      "outputs": []
    },
    {
      "cell_type": "code",
      "source": [
        "import os\n",
        "from PIL import Image\n",
        "from tqdm import tqdm\n",
        "\n",
        "maehara100_dir = \"/content/drive/MyDrive/研究/進行中の研究/角膜スマートフォンAIプロジェクト/前原の100問/前原Dr_100問\"\n",
        "maehara100dir = \"/content/drive/MyDrive/研究/進行中の研究/角膜スマートフォンAIプロジェクト/前原の100問/maehara100_resized\"\n",
        "\n",
        "# maehara100dirが存在しない場合は作成\n",
        "if not os.path.exists(maehara100dir):\n",
        "    os.makedirs(maehara100dir)\n",
        "\n",
        "# maehara100_dirの画像をリサイズしてmaehara100dirに保存\n",
        "image_files = [filename for filename in os.listdir(maehara100_dir) if filename.lower().endswith(('.jpg', '.png', '.jpeg'))]\n",
        "total_images = len(image_files)\n",
        "\n",
        "with tqdm(total=total_images, unit='image') as pbar:\n",
        "    for filename in image_files:\n",
        "        filepath = os.path.join(maehara100_dir, filename)\n",
        "        img = Image.open(filepath)\n",
        "\n",
        "        # 画像を640pxにリサイズ（アスペクト比を維持）\n",
        "        img.thumbnail((640, 640))\n",
        "\n",
        "        # RGBAモードの場合はRGBモードに変換\n",
        "        if img.mode == 'RGBA':\n",
        "            img = img.convert('RGB')\n",
        "\n",
        "        # リサイズした画像をJPEG形式で保存\n",
        "        new_filename = os.path.splitext(filename)[0] + '.jpg'\n",
        "        new_filepath = os.path.join(maehara100dir, new_filename)\n",
        "        img.save(new_filepath, 'JPEG')\n",
        "\n",
        "        pbar.update(1)\n",
        "\n",
        "print(\"画像のリサイズが完了しました。\")"
      ],
      "metadata": {
        "id": "nQK8OSplTeOC",
        "outputId": "8037fafa-5711-4483-919c-f1b64c83eca5",
        "colab": {
          "base_uri": "https://localhost:8080/"
        }
      },
      "execution_count": null,
      "outputs": [
        {
          "output_type": "stream",
          "name": "stderr",
          "text": [
            "100%|██████████| 100/100 [00:43<00:00,  2.29image/s]"
          ]
        },
        {
          "output_type": "stream",
          "name": "stdout",
          "text": [
            "画像のリサイズが完了しました。\n"
          ]
        },
        {
          "output_type": "stream",
          "name": "stderr",
          "text": [
            "\n"
          ]
        }
      ]
    },
    {
      "cell_type": "markdown",
      "source": [
        "#**前原の100問をリネームして前原250問に統合**"
      ],
      "metadata": {
        "id": "tQqHp9Hn4Gjq"
      }
    },
    {
      "cell_type": "code",
      "source": [
        "from google.colab import drive\n",
        "drive.mount('/content/drive')"
      ],
      "metadata": {
        "colab": {
          "base_uri": "https://localhost:8080/"
        },
        "id": "YLaDNIxC590w",
        "outputId": "d5c31deb-c2ae-490b-b9e2-8453bb95d0bd"
      },
      "execution_count": null,
      "outputs": [
        {
          "output_type": "stream",
          "name": "stdout",
          "text": [
            "Drive already mounted at /content/drive; to attempt to forcibly remount, call drive.mount(\"/content/drive\", force_remount=True).\n"
          ]
        }
      ]
    },
    {
      "cell_type": "code",
      "source": [
        "import pandas as pd\n",
        "\n",
        "# CSVファイルのパスを指定する\n",
        "csv_path = '/content/drive/MyDrive/研究/進行中の研究/角膜スマートフォンAIプロジェクト/前原の240問/updated_corr_table_modified4.csv'\n",
        "\n",
        "# CSVファイルを読み込んでデータフレームを作成する\n",
        "df = pd.read_csv(csv_path, encoding='shift_jis')\n",
        "\n",
        "# データフレームの最初の5行を表示する\n",
        "print(df.head())"
      ],
      "metadata": {
        "id": "O_t-_I354Uad"
      },
      "execution_count": null,
      "outputs": []
    },
    {
      "cell_type": "code",
      "source": [
        "import os\n",
        "\n",
        "# フォルダのパスを指定する\n",
        "folder_path = '/content/drive/MyDrive/研究/進行中の研究/角膜スマートフォンAIプロジェクト/前原の240問/スマホ_resized'\n",
        "\n",
        "# フォルダ内のファイル名を取得する（拡張子を除く）\n",
        "files_in_folder = [os.path.splitext(file)[0] for file in os.listdir(folder_path)]\n",
        "\n",
        "# データフレームの 'basename' 列の値を取得する\n",
        "basenames_in_df = df['basename'].tolist()\n",
        "\n",
        "# 一致するファイル名を保存するリストを初期化する\n",
        "matching_files = []\n",
        "\n",
        "# データフレームの 'basename' 列の値がフォルダ内のファイル名と一致するかどうかを調べる\n",
        "for basename in basenames_in_df:\n",
        "    if basename in files_in_folder:\n",
        "        matching_files.append(basename)\n",
        "\n",
        "# 一致するファイル名の数を表示する\n",
        "print(f\"一致するファイル名の数: {len(matching_files)}\")"
      ],
      "metadata": {
        "id": "EN__k_N54WTI",
        "colab": {
          "base_uri": "https://localhost:8080/"
        },
        "outputId": "60115da4-2a3a-42bd-abed-e3b4a3ef6a5e"
      },
      "execution_count": null,
      "outputs": [
        {
          "output_type": "stream",
          "name": "stdout",
          "text": [
            "一致するファイル名の数: 184\n"
          ]
        }
      ]
    },
    {
      "cell_type": "code",
      "source": [
        "# CSVファイルのパスを指定する\n",
        "csv_path = '/content/drive/MyDrive/研究/進行中の研究/角膜スマートフォンAIプロジェクト/前原の100問/100問_正解リスト_2.csv'\n",
        "\n",
        "# CSVファイルを読み込んでデータフレームを作成する（エンコーディングを指定）\n",
        "df_answer = pd.read_csv(csv_path, encoding='utf-8')\n",
        "\n",
        "# データフレームの最初の5行を表示する\n",
        "print(df_answer.head())"
      ],
      "metadata": {
        "id": "2tk68JOT4Y6z"
      },
      "execution_count": null,
      "outputs": []
    },
    {
      "cell_type": "code",
      "source": [
        "classification_mapping = {\n",
        "    'infection': 0,\n",
        "    'normal': 1,\n",
        "    'non-infection': 2,\n",
        "    'scar': 3,\n",
        "    'tumor': 4,\n",
        "    'deposit': 5,\n",
        "    'APAC': 6,\n",
        "    'lens-opacity': 7,\n",
        "    'bullous': 8\n",
        "}\n",
        "\n",
        "df_answer['classification_num'] = df_answer['classification'].map(classification_mapping)"
      ],
      "metadata": {
        "id": "flrlTOt94aaI"
      },
      "execution_count": null,
      "outputs": []
    },
    {
      "cell_type": "code",
      "source": [
        "import os\n",
        "import pandas as pd\n",
        "\n",
        "# ディレクトリのパスを指定\n",
        "directory = '/content/drive/MyDrive/研究/進行中の研究/角膜スマートフォンAIプロジェクト/前原の240問/maehara100/maehara100_slit'\n",
        "\n",
        "# ディレクトリ内のファイル名を取得\n",
        "file_names = os.listdir(directory)\n",
        "\n",
        "# 番号を格納するリストを初期化\n",
        "numbers = []\n",
        "\n",
        "# ファイル名から番号を抽出してリストに追加\n",
        "for file_name in file_names:\n",
        "    if file_name.endswith('.jpg'):\n",
        "        number = int(file_name.split('_')[1].split('.')[0])\n",
        "        numbers.append(number)\n",
        "\n",
        "# 番号リストを小さい順に並べ替え\n",
        "sorted_numbers = sorted(numbers)\n",
        "\n",
        "# df_answerの中で、numberがsorted_numbersリストと一致する行を抜き出す\n",
        "df_answer_slit = df_answer[df_answer['number'].isin(sorted_numbers)]\n",
        "\n",
        "# 抜き出した行を表示\n",
        "print(df_answer_slit)"
      ],
      "metadata": {
        "id": "1Cmne2Lz4cT8"
      },
      "execution_count": null,
      "outputs": []
    },
    {
      "cell_type": "code",
      "source": [
        "import os\n",
        "import pandas as pd\n",
        "\n",
        "# ディレクトリのパスを指定\n",
        "directory = '/content/drive/MyDrive/研究/進行中の研究/角膜スマートフォンAIプロジェクト/前原の240問/maehara100/maehara100_slit'\n",
        "\n",
        "# ディレクトリ内のファイル名を取得\n",
        "file_names = os.listdir(directory)\n",
        "\n",
        "# 番号を格納するリストを初期化\n",
        "numbers = []\n",
        "\n",
        "# ファイル名から番号を抽出してリストに追加\n",
        "for file_name in file_names:\n",
        "   if file_name.endswith('.jpg'):\n",
        "       number = int(file_name.split('_')[1].split('.')[0])\n",
        "       numbers.append(number)\n",
        "\n",
        "# 番号リストを小さい順に並べ替え\n",
        "sorted_numbers = sorted(numbers)\n",
        "\n",
        "# df_answerの中で、numberがsorted_numbersリストと一致する行を抜き出す\n",
        "df_answer_slit = df_answer[df_answer['number'].isin(sorted_numbers)]\n",
        "\n",
        "# 新しいデータフレームを作成\n",
        "new_data = pd.DataFrame({\n",
        "   'basename': df_answer_slit['number'].astype(str),\n",
        "   'class_num': df_answer_slit['classification_num'],\n",
        "   'disease_English': df_answer_slit['classification'],\n",
        "   'top1': '',\n",
        "   'top1_prob': '',\n",
        "   'top2': '',\n",
        "   'top2_prob': '',\n",
        "   'top3': '',\n",
        "   'top3_prob': '',\n",
        "})\n",
        "\n",
        "# 元のデータフレームと新しいデータを結合\n",
        "df = pd.concat([df, new_data], ignore_index=True)\n",
        "\n",
        "# 通し番号の列を追加\n",
        "df.insert(0, 'serial_number', range(1, len(df) + 1))\n",
        "\n",
        "# 結果を表示\n",
        "print(df)"
      ],
      "metadata": {
        "id": "doH9oMEs4ezo"
      },
      "execution_count": null,
      "outputs": []
    },
    {
      "cell_type": "code",
      "source": [
        "df_sumaho_total = df.copy()\n",
        "\n",
        "import re\n",
        "\n",
        "def replace_basename_sumaho(basename):\n",
        "    if pd.isna(basename):\n",
        "        return basename\n",
        "    basename = str(basename)\n",
        "    if re.match(r'^\\d+$', basename):\n",
        "        return f'sumaho_{int(basename):03d}'\n",
        "    else:\n",
        "        return basename\n",
        "\n",
        "df_sumaho_total['basename'] = df_sumaho_total['basename'].apply(replace_basename_sumaho)"
      ],
      "metadata": {
        "id": "Dz3K4euB4hex"
      },
      "execution_count": null,
      "outputs": []
    },
    {
      "cell_type": "code",
      "source": [
        "df_slit_total = df.copy()\n",
        "\n",
        "def replace_basename_slit(basename):\n",
        "    if pd.isna(basename):\n",
        "        return basename\n",
        "    basename = str(basename)\n",
        "    if re.match(r'^\\d+$', basename):\n",
        "        return f'slit_{int(basename):03d}'\n",
        "    else:\n",
        "        return basename\n",
        "\n",
        "df_slit_total['basename'] = df_slit_total['basename'].apply(replace_basename_slit)"
      ],
      "metadata": {
        "id": "rt2qG4i81ciD"
      },
      "execution_count": null,
      "outputs": []
    },
    {
      "cell_type": "code",
      "source": [
        "# CSVファイルとして保存\n",
        "df_sumaho_total.to_csv('/content/drive/MyDrive/研究/進行中の研究/角膜スマートフォンAIプロジェクト/前原の240問/maehara_sumaho_total.csv', index=False)\n",
        "df_slit_total.to_csv('/content/drive/MyDrive/研究/進行中の研究/角膜スマートフォンAIプロジェクト/前原の240問/maehara_slit_total.csv', index=False)"
      ],
      "metadata": {
        "id": "ku-B4DLS4ol4"
      },
      "execution_count": null,
      "outputs": []
    },
    {
      "cell_type": "code",
      "source": [
        "import pandas as pd\n",
        "\n",
        "# CSVファイルのパスを指定（適宜変更してください）\n",
        "csv_file_path = '/content/drive/MyDrive/研究/進行中の研究/角膜スマートフォンAIプロジェクト/前原の240問/maehara_slit_total.csv'\n",
        "\n",
        "# CSVファイルを読み込んでデータフレームを作成\n",
        "df = pd.read_csv(csv_file_path)\n",
        "\n",
        "# データフレームの先頭5行を表示\n",
        "print(df.head())"
      ],
      "metadata": {
        "id": "c41o_7tQ77ns"
      },
      "execution_count": null,
      "outputs": []
    },
    {
      "cell_type": "code",
      "source": [
        "import os\n",
        "import shutil\n",
        "import pandas as pd\n",
        "\n",
        "# CSVファイルのパスを指定（適宜変更してください）\n",
        "csv_file_path = '/content/drive/MyDrive/研究/進行中の研究/角膜スマートフォンAIプロジェクト/前原の240問/maehara_slit_total.csv'\n",
        "\n",
        "# CSVファイルを読み込んでデータフレームを作成\n",
        "df = pd.read_csv(csv_file_path)\n",
        "\n",
        "# データフレームの先頭5行を表示\n",
        "print(df.head())\n",
        "\n",
        "# 新しいフォルダのパスを指定\n",
        "new_folder_path = '/content/drive/MyDrive/研究/進行中の研究/角膜スマートフォンAIプロジェクト/前原の240問/フォトスリット_serial'\n",
        "\n",
        "# フォルダが存在する場合は削除する\n",
        "if os.path.exists(new_folder_path):\n",
        "    shutil.rmtree(new_folder_path)\n",
        "    print(f\"既存のフォルダ '{new_folder_path}' が削除されました。\")\n",
        "\n",
        "# 新しいフォルダを作成する\n",
        "os.makedirs(new_folder_path)\n",
        "print(f\"新しいフォルダ '{new_folder_path}' が作成されました。\")\n",
        "\n",
        "# 画像フォルダのパスを指定\n",
        "image_folders = [\n",
        "    '/content/drive/MyDrive/研究/進行中の研究/角膜スマートフォンAIプロジェクト/前原の240問/フォトスリット_resized',\n",
        "    '/content/drive/MyDrive/研究/進行中の研究/角膜スマートフォンAIプロジェクト/前原の240問/maehara100/maehara100_slit'\n",
        "]\n",
        "\n",
        "# 画像がコピーされたかどうかを追跡するフラグ\n",
        "image_copied = False\n",
        "\n",
        "# 画像フォルダ内のファイルを処理\n",
        "for folder in image_folders:\n",
        "    for filename in os.listdir(folder):\n",
        "        basename, extension = os.path.splitext(filename)\n",
        "\n",
        "        # basenameがデータフレームに存在するか確認\n",
        "        if basename in df['basename'].values:\n",
        "            # 一致する行を取得\n",
        "            row = df[df['basename'] == basename].iloc[0]\n",
        "\n",
        "            # 新しいファイル名を作成\n",
        "            new_filename = f\"{row['serial_number']}{extension}\"\n",
        "\n",
        "            # 画像をコピーしてリネーム\n",
        "            src_path = os.path.join(folder, filename)\n",
        "            dst_path = os.path.join(new_folder_path, new_filename)\n",
        "            shutil.copy(src_path, dst_path)\n",
        "\n",
        "            print(f\"画像 '{filename}' を '{new_filename}' としてコピーしました。\")\n",
        "            image_copied = True\n",
        "\n",
        "        else:\n",
        "            print(f\"画像 '{filename}' が見つかりませんでした\")"
      ],
      "metadata": {
        "id": "V8QA73Ty8a7m"
      },
      "execution_count": null,
      "outputs": []
    },
    {
      "cell_type": "code",
      "source": [
        "import os\n",
        "import shutil\n",
        "\n",
        "import pandas as pd\n",
        "\n",
        "# CSVファイルのパスを指定（適宜変更してください）\n",
        "csv_file_path = '/content/drive/MyDrive/研究/進行中の研究/角膜スマートフォンAIプロジェクト/前原の240問/maehara_sumaho_total.csv'\n",
        "\n",
        "# CSVファイルを読み込んでデータフレームを作成\n",
        "df = pd.read_csv(csv_file_path)\n",
        "\n",
        "# データフレームの先頭5行を表示\n",
        "print(df.head())\n",
        "\n",
        "# 新しいフォルダのパスを指定\n",
        "new_folder_path = '/content/drive/MyDrive/研究/進行中の研究/角膜スマートフォンAIプロジェクト/前原の240問/スマホ_serial'\n",
        "\n",
        "# フォルダが存在する場合は削除する\n",
        "if os.path.exists(new_folder_path):\n",
        "    shutil.rmtree(new_folder_path)\n",
        "    print(f\"既存のフォルダ '{new_folder_path}' が削除されました。\")\n",
        "\n",
        "# 新しいフォルダを作成する\n",
        "os.makedirs(new_folder_path)\n",
        "print(f\"新しいフォルダ '{new_folder_path}' が作成されました。\")\n",
        "\n",
        "# 画像フォルダのパスを指定\n",
        "image_folders = [\n",
        "    '/content/drive/MyDrive/研究/進行中の研究/角膜スマートフォンAIプロジェクト/前原の240問/スマホ_resized',\n",
        "    '/content/drive/MyDrive/研究/進行中の研究/角膜スマートフォンAIプロジェクト/前原の240問/maehara100/maehara100_sumaho'\n",
        "]\n",
        "\n",
        "# 画像がコピーされたかどうかを追跡するフラグ\n",
        "image_copied = False\n",
        "\n",
        "# 画像フォルダ内のファイルを処理\n",
        "for folder in image_folders:\n",
        "    for filename in os.listdir(folder):\n",
        "        basename, extension = os.path.splitext(filename)\n",
        "\n",
        "        # basenameがデータフレームに存在するか確認\n",
        "        if basename in df['basename'].values:\n",
        "            # 一致する行を取得\n",
        "            row = df[df['basename'] == basename].iloc[0]\n",
        "\n",
        "            # 新しいファイル名を作成\n",
        "            new_filename = f\"{row['serial_number']}{extension}\"\n",
        "\n",
        "            # 画像をコピーしてリネーム\n",
        "            src_path = os.path.join(folder, filename)\n",
        "            dst_path = os.path.join(new_folder_path, new_filename)\n",
        "            shutil.copy(src_path, dst_path)\n",
        "\n",
        "            print(f\"画像 '{filename}' を '{new_filename}' としてコピーしました。\")\n",
        "            image_copied = True\n",
        "\n",
        "        else:\n",
        "            print(f\"画像 '{filename}' が見つかりませんでした\")\n"
      ],
      "metadata": {
        "id": "XwD-D2SV_Ovn"
      },
      "execution_count": null,
      "outputs": []
    }
  ],
  "metadata": {
    "kernelspec": {
      "display_name": "env",
      "language": "python",
      "name": "python3"
    },
    "language_info": {
      "codemirror_mode": {
        "name": "ipython",
        "version": 3
      },
      "file_extension": ".py",
      "mimetype": "text/x-python",
      "name": "python",
      "nbconvert_exporter": "python",
      "pygments_lexer": "ipython3",
      "version": "3.12.2"
    },
    "colab": {
      "provenance": [],
      "include_colab_link": true
    }
  },
  "nbformat": 4,
  "nbformat_minor": 0
}