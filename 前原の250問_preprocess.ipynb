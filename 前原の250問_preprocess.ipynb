{
  "cells": [
    {
      "cell_type": "markdown",
      "metadata": {
        "id": "view-in-github",
        "colab_type": "text"
      },
      "source": [
        "<a href=\"https://colab.research.google.com/github/ykitaguchi77/CorneAI/blob/main/%E5%89%8D%E5%8E%9F%E3%81%AE250%E5%95%8F_preprocess.ipynb\" target=\"_parent\"><img src=\"https://colab.research.google.com/assets/colab-badge.svg\" alt=\"Open In Colab\"/></a>"
      ]
    },
    {
      "cell_type": "markdown",
      "metadata": {
        "id": "MsHw5vziNYBg"
      },
      "source": [
        "# **前原の250問　前処理**"
      ]
    },
    {
      "cell_type": "markdown",
      "metadata": {
        "id": "JzDnglgVNYBh"
      },
      "source": [
        "## **スマホ画像resize**\n",
        "\n",
        "ここはローカルでやる（ファイルサイズが大きいため）"
      ]
    },
    {
      "cell_type": "markdown",
      "metadata": {
        "id": "1KwyykdlNYBh"
      },
      "source": [
        "### PNGでリサイズ (今回はjpgでやるので省略)"
      ]
    },
    {
      "cell_type": "code",
      "execution_count": null,
      "metadata": {
        "id": "0IbMCaFbNYBi",
        "outputId": "678ca083-770e-4abd-8e31-247e9f513f29"
      },
      "outputs": [
        {
          "name": "stderr",
          "output_type": "stream",
          "text": [
            "100%|██████████| 240/240 [02:06<00:00,  1.90file/s]"
          ]
        },
        {
          "name": "stdout",
          "output_type": "stream",
          "text": [
            "リサイズが完了しました。\n"
          ]
        },
        {
          "name": "stderr",
          "output_type": "stream",
          "text": [
            "\n"
          ]
        }
      ],
      "source": [
        "import os\n",
        "from PIL import Image\n",
        "from tqdm import tqdm\n",
        "\n",
        "# 元のディレクトリのパスを指定\n",
        "original_directory = \"/Users/kitaguchi/Downloads/スマホ\"\n",
        "\n",
        "# 新しいディレクトリのパスを指定\n",
        "new_directory = \"/Users/kitaguchi/Downloads/スマホ_resized\"\n",
        "\n",
        "# 新しいディレクトリが存在しない場合は作成\n",
        "if not os.path.exists(new_directory):\n",
        "    os.makedirs(new_directory)\n",
        "\n",
        "# 元のディレクトリ内のすべてのファイルを処理\n",
        "png_files = [filename for filename in os.listdir(original_directory) if filename.lower().endswith(\".png\")]\n",
        "\n",
        "with tqdm(total=len(png_files), unit=\"file\") as pbar:\n",
        "    for filename in png_files:\n",
        "        # 画像を開く\n",
        "        image_path = os.path.join(original_directory, filename)\n",
        "        with Image.open(image_path) as img:\n",
        "            # 画像のサイズを取得\n",
        "            width, height = img.size\n",
        "\n",
        "            # 横幅を640pxに設定し、縦幅を比率に合わせて計算\n",
        "            new_width = 640\n",
        "            new_height = int(height * (new_width / width))\n",
        "\n",
        "            # 画像をリサイズ\n",
        "            resized_img = img.resize((new_width, new_height), Image.LANCZOS)\n",
        "\n",
        "            # リサイズした画像を新しいディレクトリに保存\n",
        "            new_image_path = os.path.join(new_directory, filename)\n",
        "            resized_img.save(new_image_path)\n",
        "\n",
        "        pbar.update(1)\n",
        "\n",
        "print(\"リサイズが完了しました。\")"
      ]
    },
    {
      "cell_type": "markdown",
      "metadata": {
        "id": "6aBu24DiNYBj"
      },
      "source": [
        "### JPGでリサイズ"
      ]
    },
    {
      "cell_type": "code",
      "execution_count": null,
      "metadata": {
        "id": "WD99Iv06NYBj",
        "outputId": "4ce25a73-d7fc-4ce4-b5ee-98fd13edf795"
      },
      "outputs": [
        {
          "name": "stderr",
          "output_type": "stream",
          "text": [
            "100%|██████████| 240/240 [01:16<00:00,  3.14file/s]"
          ]
        },
        {
          "name": "stdout",
          "output_type": "stream",
          "text": [
            "リサイズが完了しました。\n"
          ]
        },
        {
          "name": "stderr",
          "output_type": "stream",
          "text": [
            "\n"
          ]
        }
      ],
      "source": [
        "import os\n",
        "from PIL import Image\n",
        "from tqdm import tqdm\n",
        "\n",
        "# 元のディレクトリのパスを指定\n",
        "original_directory = \"/Users/kitaguchi/Downloads/スマホ\"\n",
        "# 新しいディレクトリのパスを指定\n",
        "new_directory = \"/Users/kitaguchi/Downloads/スマホ_resized\"\n",
        "\n",
        "# 新しいディレクトリが存在しない場合は作成\n",
        "if not os.path.exists(new_directory):\n",
        "    os.makedirs(new_directory)\n",
        "\n",
        "# 元のディレクトリ内のすべてのファイルを処理\n",
        "jpg_files = [filename for filename in os.listdir(original_directory) if filename.lower().endswith(\".png\")]\n",
        "\n",
        "with tqdm(total=len(jpg_files), unit=\"file\") as pbar:\n",
        "    for filename in jpg_files:\n",
        "        # 画像を開く\n",
        "        image_path = os.path.join(original_directory, filename)\n",
        "        with Image.open(image_path) as img:\n",
        "            # 画像のサイズを取得\n",
        "            width, height = img.size\n",
        "\n",
        "            # 横幅を640pxに設定し、縦幅を比率に合わせて計算\n",
        "            new_width = 640\n",
        "            new_height = int(height * (new_width / width))\n",
        "\n",
        "            # 画像をリサイズ\n",
        "            resized_img = img.resize((new_width, new_height), Image.LANCZOS)\n",
        "\n",
        "            # 画像をRGBモードに変換\n",
        "            rgb_img = resized_img.convert(\"RGB\")\n",
        "\n",
        "            # リサイズした画像を新しいディレクトリに保存\n",
        "            new_filename = os.path.splitext(filename)[0] + \".jpg\"  # ファイル名をjpg形式に変更\n",
        "            new_image_path = os.path.join(new_directory, new_filename)\n",
        "            rgb_img.save(new_image_path, \"JPEG\")  # JPEG形式で保存\n",
        "\n",
        "        pbar.update(1)\n",
        "\n",
        "print(\"リサイズが完了しました。\")"
      ]
    },
    {
      "cell_type": "markdown",
      "metadata": {
        "id": "KeWkqitjNYBk"
      },
      "source": [
        "### 対応表にないものを削除"
      ]
    },
    {
      "cell_type": "code",
      "execution_count": null,
      "metadata": {
        "id": "Hzmr8kVNNYBk"
      },
      "outputs": [],
      "source": [
        "import os\n",
        "import pandas as pd\n",
        "from tqdm import tqdm\n",
        "\n",
        "# 対応表のCSVファイルを読み込む\n",
        "csv_file = \"/Users/kitaguchi/Downloads/対応表2022.xlsx - Sheet1.csv\"\n",
        "df = pd.read_csv(csv_file)\n",
        "\n",
        "# 画像ファイルがあるディレクトリのパス\n",
        "image_dir = \"/Users/kitaguchi/Downloads/スマホ_resized\"\n",
        "\n",
        "# ディレクトリ内の画像ファイルを取得\n",
        "image_files = [filename for filename in os.listdir(image_dir) if filename.lower().endswith((\".jpg\", \".png\"))]\n",
        "\n",
        "# tqdmを使用してファイル処理の進捗を表示\n",
        "for filename in tqdm(image_files, desc=\"Processing files\"):\n",
        "    # ファイル名から拡張子を除いたベース名を取得\n",
        "    basename, extension = os.path.splitext(filename)\n",
        "\n",
        "    # 対応表からimg_idがベース名と一致する行を検索\n",
        "    matched_rows = df[df[\"img_id\"] == basename]\n",
        "\n",
        "    # 一致する行が見つかった場合\n",
        "    if not matched_rows.empty:\n",
        "        # 最初の一致行のbasenameを取得\n",
        "        new_basename = str(matched_rows.iloc[0][\"basename\"])  # 文字列に変換\n",
        "\n",
        "        # 新しいファイル名を生成（拡張子を維持）\n",
        "        new_filename = new_basename + extension\n",
        "\n",
        "        # ファイルをリネーム\n",
        "        old_path = os.path.join(image_dir, filename)\n",
        "        new_path = os.path.join(image_dir, new_filename)\n",
        "        os.rename(old_path, new_path)\n",
        "\n",
        "        # Matchしたファイルのメッセージを表示\n",
        "        tqdm.write(f\"Matched and renamed: {filename} -> {new_filename}\")\n",
        "    else:\n",
        "        # 対応表にないファイルを削除\n",
        "        file_path = os.path.join(image_dir, filename)\n",
        "        os.remove(file_path)\n",
        "\n",
        "        # 削除したファイルのメッセージを表示\n",
        "        tqdm.write(f\"No match found. Deleted: {filename}\")"
      ]
    },
    {
      "cell_type": "markdown",
      "metadata": {
        "id": "2BkqiVAUNYBk"
      },
      "source": [
        "### さらにリストにないものを削除"
      ]
    },
    {
      "cell_type": "code",
      "execution_count": null,
      "metadata": {
        "id": "CvDtiOy3NYBk"
      },
      "outputs": [],
      "source": [
        "import os\n",
        "import pandas as pd\n",
        "\n",
        "# CSVファイルを読み込む\n",
        "csv_file = \"/Users/kitaguchi/Downloads/updated_corr_table_modified3.csv\"\n",
        "df = pd.read_csv(csv_file, encoding='shift_jis')\n",
        "\n",
        "# 画像ファイルがあるディレクトリのパス\n",
        "image_dir = \"/Users/kitaguchi/Downloads/スマホ_resized\"\n",
        "\n",
        "# ディレクトリ内のファイルを取得\n",
        "files = os.listdir(image_dir)\n",
        "\n",
        "# CSVファイルをbasename列で辞書化\n",
        "csv_dict = df.set_index('basename').to_dict(orient='index')\n",
        "\n",
        "# 一致するベース名を検索し、一致しないファイルを削除\n",
        "matching_basenames = []\n",
        "for file in files:\n",
        "    basename = os.path.splitext(file)[0]\n",
        "    if basename in csv_dict:\n",
        "        matching_basenames.append(basename)\n",
        "    else:\n",
        "        file_path = os.path.join(image_dir, file)\n",
        "        os.remove(file_path)\n",
        "        print(f\"一致するベース名が見つからないため、ファイルを削除しました: {file}\")\n",
        "\n",
        "# 結果を出力\n",
        "if matching_basenames:\n",
        "    print(\"一致するベース名が見つかったファイル:\")\n",
        "    for basename in matching_basenames:\n",
        "        print(basename)\n",
        "else:\n",
        "    print(\"一致するベース名が見つかりませんでした。\")\n",
        "\n",
        "print(f\"一致するベース名が見つかったファイルの数： {len(matching_basenames)}\")"
      ]
    },
    {
      "cell_type": "markdown",
      "metadata": {
        "id": "zq4Yn-XANYBk"
      },
      "source": [
        "## **フォトスリット画像Resize**\n",
        "\n",
        "フォトスリットもダウンロードしてリサイズする"
      ]
    },
    {
      "cell_type": "code",
      "execution_count": null,
      "metadata": {
        "id": "I6MibA_QNYBk",
        "outputId": "fbec0779-0584-4087-bb44-4baf61986980"
      },
      "outputs": [
        {
          "name": "stderr",
          "output_type": "stream",
          "text": [
            "100%|██████████| 238/238 [00:16<00:00, 14.61file/s]"
          ]
        },
        {
          "name": "stdout",
          "output_type": "stream",
          "text": [
            "リサイズが完了しました。\n"
          ]
        },
        {
          "name": "stderr",
          "output_type": "stream",
          "text": [
            "\n"
          ]
        }
      ],
      "source": [
        "import os\n",
        "from PIL import Image\n",
        "from tqdm import tqdm\n",
        "\n",
        "# 元のディレクトリのパスを指定\n",
        "original_directory = \"/Users/kitaguchi/Downloads/フォトスリット\"\n",
        "\n",
        "# 新しいディレクトリのパスを指定\n",
        "new_directory = \"/Users/kitaguchi/Downloads/フォトスリット_resized\"\n",
        "\n",
        "# 新しいディレクトリが存在しない場合は作成\n",
        "if not os.path.exists(new_directory):\n",
        "    os.makedirs(new_directory)\n",
        "\n",
        "# 元のディレクトリ内のすべてのファイルを処理\n",
        "image_extensions = (\".jpg\", \".png\", \".PNG\")\n",
        "image_files = [filename for filename in os.listdir(original_directory) if filename.lower().endswith(image_extensions)]\n",
        "\n",
        "with tqdm(total=len(image_files), unit=\"file\") as pbar:\n",
        "    for filename in image_files:\n",
        "        # 画像を開く\n",
        "        image_path = os.path.join(original_directory, filename)\n",
        "        with Image.open(image_path) as img:\n",
        "            # 画像のサイズを取得\n",
        "            width, height = img.size\n",
        "\n",
        "            # 横幅を640pxに設定し、縦幅を比率に合わせて計算\n",
        "            new_width = 640\n",
        "            new_height = int(height * (new_width / width))\n",
        "\n",
        "            # 画像をリサイズ\n",
        "            resized_img = img.resize((new_width, new_height), Image.LANCZOS)\n",
        "\n",
        "            # 画像をRGBモードに変換\n",
        "            rgb_img = resized_img.convert(\"RGB\")\n",
        "\n",
        "            # リサイズした画像を新しいディレクトリに保存\n",
        "            new_filename = os.path.splitext(filename)[0] + \".jpg\"  # ファイル名をjpg形式に変更\n",
        "            new_image_path = os.path.join(new_directory, new_filename)\n",
        "            rgb_img.save(new_image_path, \"JPEG\")  # JPEG形式で保存\n",
        "\n",
        "        pbar.update(1)\n",
        "\n",
        "print(\"リサイズが完了しました。\")"
      ]
    },
    {
      "cell_type": "code",
      "execution_count": null,
      "metadata": {
        "id": "WafgenSZNYBl"
      },
      "outputs": [],
      "source": [
        "import os\n",
        "import pandas as pd\n",
        "\n",
        "# CSVファイルを読み込む\n",
        "csv_file = \"/Users/kitaguchi/Downloads/updated_corr_table_modified3.csv\"\n",
        "df = pd.read_csv(csv_file, encoding='shift_jis')\n",
        "\n",
        "# 画像ファイルがあるディレクトリのパス\n",
        "image_dir = \"/Users/kitaguchi/Downloads/フォトスリット_resized\"\n",
        "\n",
        "# ディレクトリ内のファイルを取得\n",
        "files = os.listdir(image_dir)\n",
        "\n",
        "# CSVファイルをbasename列で辞書化\n",
        "csv_dict = df.set_index('basename').to_dict(orient='index')\n",
        "\n",
        "# 一致するベース名を検索し、一致しないファイルを削除\n",
        "matching_basenames = []\n",
        "for file in files:\n",
        "    basename = os.path.splitext(file)[0]\n",
        "    if basename in csv_dict:\n",
        "        matching_basenames.append(basename)\n",
        "    else:\n",
        "        file_path = os.path.join(image_dir, file)\n",
        "        os.remove(file_path)\n",
        "        print(f\"一致するベース名が見つからないため、ファイルを削除しました: {file}\")\n",
        "\n",
        "# 結果を出力\n",
        "if matching_basenames:\n",
        "    print(\"一致するベース名が見つかったファイル:\")\n",
        "    for basename in matching_basenames:\n",
        "        print(basename)\n",
        "else:\n",
        "    print(\"一致するベース名が見つかりませんでした。\")\n",
        "\n",
        "print(f\"一致するベース名が見つかったファイルの数： {len(matching_basenames)}\")"
      ]
    },
    {
      "cell_type": "markdown",
      "metadata": {
        "id": "qwECTOxdNYBl"
      },
      "source": [
        "### スマホ&スリットで欠損している画像を同定"
      ]
    },
    {
      "cell_type": "code",
      "execution_count": null,
      "metadata": {
        "id": "-0ql2Kn9NYBl"
      },
      "outputs": [],
      "source": [
        "import os\n",
        "\n",
        "dir1 = \"/Users/kitaguchi/Downloads/スマホ_resized\"\n",
        "dir2 = \"/Users/kitaguchi/Downloads/フォトスリット_resized\"\n",
        "\n",
        "# dir1とdir2のファイル一覧を取得\n",
        "files1 = os.listdir(dir1)\n",
        "files2 = os.listdir(dir2)\n",
        "\n",
        "# dir1のファイルをループ\n",
        "for file1 in files1:\n",
        "    # 拡張子を除いたファイル名を取得\n",
        "    basename1 = os.path.splitext(file1)[0]\n",
        "\n",
        "    # dir2のファイルをループ\n",
        "    found = False\n",
        "    for file2 in files2:\n",
        "        # 拡張子を除いたファイル名を取得\n",
        "        basename2 = os.path.splitext(file2)[0]\n",
        "\n",
        "        # basenameが一致すればfound=Trueにしてループを抜ける\n",
        "        if basename1 == basename2:\n",
        "            found = True\n",
        "            break\n",
        "\n",
        "    # dir2で一致するファイルが見つからなかった場合、パスを表示\n",
        "    if not found:\n",
        "        print(os.path.join(dir1, file1))\n",
        "\n",
        "# dir2のファイルをループ\n",
        "for file2 in files2:\n",
        "    # 拡張子を除いたファイル名を取得\n",
        "    basename2 = os.path.splitext(file2)[0]\n",
        "\n",
        "    # dir1のファイルをループ\n",
        "    found = False\n",
        "    for file1 in files1:\n",
        "        # 拡張子を除いたファイル名を取得\n",
        "        basename1 = os.path.splitext(file1)[0]\n",
        "\n",
        "        # basenameが一致すればfound=Trueにしてループを抜ける\n",
        "        if basename2 == basename1:\n",
        "            found = True\n",
        "            break\n",
        "\n",
        "    # dir1で一致するファイルが見つからなかった場合、パスを表示\n",
        "    if not found:\n",
        "        print(os.path.join(dir2, file2))"
      ]
    },
    {
      "cell_type": "markdown",
      "metadata": {
        "id": "PZckpAQkNYBl"
      },
      "source": [
        "--> 不一致ファイルを削除し、updated_corr_table_modified4.csvとして保存"
      ]
    },
    {
      "cell_type": "markdown",
      "metadata": {
        "id": "bC8APWNgNYBl"
      },
      "source": [
        "## ここでスマホ画像をgdridveにuploadする --> ここからはgdrive上でやる"
      ]
    },
    {
      "cell_type": "code",
      "execution_count": null,
      "metadata": {
        "id": "vB4Sx5ZFNYBl"
      },
      "outputs": [],
      "source": []
    }
  ],
  "metadata": {
    "kernelspec": {
      "display_name": "env",
      "language": "python",
      "name": "python3"
    },
    "language_info": {
      "codemirror_mode": {
        "name": "ipython",
        "version": 3
      },
      "file_extension": ".py",
      "mimetype": "text/x-python",
      "name": "python",
      "nbconvert_exporter": "python",
      "pygments_lexer": "ipython3",
      "version": "3.12.2"
    },
    "colab": {
      "provenance": [],
      "include_colab_link": true
    }
  },
  "nbformat": 4,
  "nbformat_minor": 0
}