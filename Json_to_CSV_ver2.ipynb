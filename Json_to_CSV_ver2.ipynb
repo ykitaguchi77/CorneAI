{
  "nbformat": 4,
  "nbformat_minor": 0,
  "metadata": {
    "colab": {
      "name": "Untitled105.ipynb",
      "provenance": [],
      "include_colab_link": true
    },
    "kernelspec": {
      "name": "python3",
      "display_name": "Python 3"
    },
    "language_info": {
      "name": "python"
    }
  },
  "cells": [
    {
      "cell_type": "markdown",
      "metadata": {
        "id": "view-in-github",
        "colab_type": "text"
      },
      "source": [
        "<a href=\"https://colab.research.google.com/github/ykitaguchi77/CorneAI/blob/main/Json_to_CSV_ver2.ipynb\" target=\"_parent\"><img src=\"https://colab.research.google.com/assets/colab-badge.svg\" alt=\"Open In Colab\"/></a>"
      ]
    },
    {
      "cell_type": "markdown",
      "source": [
        "#**Jsonファイルを結合してcsvに出力するスクリプト**"
      ],
      "metadata": {
        "id": "APnW-eS-Sszl"
      }
    },
    {
      "cell_type": "markdown",
      "source": [
        "#**テスト用データ作成**"
      ],
      "metadata": {
        "id": "tL-lbA3pSkLi"
      }
    },
    {
      "cell_type": "code",
      "execution_count": null,
      "metadata": {
        "id": "RDNlPg8M5Qrj"
      },
      "outputs": [],
      "source": [
        "from IPython.core.display import JSON\n",
        "import os\n",
        "import json\n",
        "#サンプルデータセットの作成\n",
        "data1 = {\"pq1\":\"20220102\", \"pq2\": \"hashhashhash\", \"pq3\": \"idididid\", \"pq4\": \"1\", \"pq5\": \"右\", \"pq6\": \"●●大\", \"pq7\": \"正常\", \"pq8\": \"\"}\n",
        "data2 = {\"pq1\":\"20220103\", \"pq2\": \"ashhashhashh\", \"pq3\": \"didididi\", \"pq4\": \"1\", \"pq5\": \"左\", \"pq6\": \"■■大\", \"pq7\": \"翼状片\", \"pq8\": \"\"}\n",
        "data3 = {\"pq1\":\"20220108\", \"pq2\": \"shhashhashha\", \"pq3\": \"didididi\", \"pq4\": \"2\", \"pq5\": \"左\", \"pq6\": \"■■大\", \"pq7\": \"正常\", \"pq8\": \"\"}\n",
        "data4 = {\"pq1\":\"20220102\", \"pq2\": \"hhashhashhas\", \"pq3\": \"didididi\", \"pq4\": \"3\", \"pq5\": \"左\", \"pq6\": \"▲▲病院\", \"pq7\": \"瘢痕\", \"pq8\": \"\"}\n",
        "data5 = {\"pq1\":\"20220105\", \"pq2\": \"icecreamicec\", \"pq3\": \"iiiidddd\", \"pq4\": \"1\", \"pq5\": \"右\", \"pq6\": \"●●大\", \"pq7\": \"正常\", \"pq8\": \"\"}\n",
        "data6 = {\"pq1\":\"20220106\", \"pq2\": \"pafeitpafeit\", \"pq3\": \"ddddiiii\", \"pq4\": \"1\", \"pq5\": \"左\", \"pq6\": \"■■大\", \"pq7\": \"翼状片\", \"pq8\": \"\"}\n",
        "data7 = {\"pq1\":\"20220109\", \"pq2\": \"tiramisutira\", \"pq3\": \"idididid\", \"pq4\": \"2\", \"pq5\": \"左\", \"pq6\": \"■■大\", \"pq7\": \"正常\", \"pq8\": \"\"}\n",
        "data8 = {\"pq1\":\"20220101\", \"pq2\": \"pannacottapa\", \"pq3\": \"iiddiidd\", \"pq4\": \"1\", \"pq5\": \"左\", \"pq6\": \"▲▲病院\", \"pq7\": \"瘢痕\", \"pq8\": \"\"}\n",
        "\n",
        "\n",
        "#テストデータをcontentフォルダ内に格納\n",
        "dir = \"/content/json_files\"\n",
        "os.makedirs(dir, exist_ok=True)\n",
        "\n",
        "with open(dir+\"/1.json\", 'w') as f:\n",
        "    json.dump(data1, f, ensure_ascii=False)\n",
        "\n",
        "with open(dir+\"/2.json\", 'w') as f:\n",
        "    json.dump(data2, f, ensure_ascii=False)\n",
        "\n",
        "with open(dir+\"/3.json\", 'w') as f:\n",
        "    json.dump(data3, f, ensure_ascii=False)\n",
        "\n",
        "with open(dir+\"/4.json\", 'w') as f:\n",
        "    json.dump(data4, f, ensure_ascii=False)\n",
        "\n",
        "with open(dir+\"/5.json\", 'w') as f:\n",
        "    json.dump(data5, f, ensure_ascii=False)\n",
        "\n",
        "with open(dir+\"/6.json\", 'w') as f:\n",
        "    json.dump(data6, f, ensure_ascii=False)\n",
        "\n",
        "with open(dir+\"/7.json\", 'w') as f:\n",
        "    json.dump(data7, f, ensure_ascii=False)\n",
        "\n",
        "with open(dir+\"/8.json\", 'w') as f:\n",
        "    json.dump(data8, f, ensure_ascii=False)\n",
        "\n",
        "\n",
        "with open(\"/content/json_files/1.json\") as f:\n",
        "    json1 = json.load(f)\n",
        "\n",
        "with open(\"/content/json_files/2.json\") as f:\n",
        "    json2 = json.load(f)\n",
        "\n",
        "with open(\"/content/json_files/3.json\") as f:\n",
        "    json3 = json.load(f)\n",
        "\n",
        "with open(\"/content/json_files/4.json\") as f:\n",
        "    json4 = json.load(f)\n",
        "\n",
        "with open(\"/content/json_files/5.json\") as f:\n",
        "    json5 = json.load(f)\n",
        "\n",
        "with open(\"/content/json_files/6.json\") as f:\n",
        "    json6 = json.load(f)\n",
        "\n",
        "with open(\"/content/json_files/7.json\") as f:\n",
        "    json7 = json.load(f)\n",
        "\n",
        "with open(\"/content/json_files/8.json\") as f:\n",
        "    json8 = json.load(f)\n",
        "\n",
        "#contentフォルダ内のjsonファイルを読み込み\n",
        "print(\"サンプルデータ\")\n",
        "print(json1)\n",
        "print(json2)\n",
        "print(json3)\n",
        "print(json4)\n",
        "print(json5)\n",
        "print(json6)\n",
        "print(json7)\n",
        "print(json8)"
      ]
    },
    {
      "cell_type": "markdown",
      "source": [
        "#**Jsonファイルを結合してCSVに出力**\n",
        "\n",
        "下記①のスクリプトを実行すると、contentフォルダ内に\"json-files\"というフォルダが作成されます。（表示されなければフォルダのアイコンをクリックして下さい）\n",
        "contentフォルダ内にjsonファイルをドラッグ&ドロップ（アップロードされます） <br>\n",
        "②のスクリプトを実行すると、contentフォルダ内に症例リストが\"施設名.csv\"として出力されますので、ダウンロードして下さい。（表示されなければフォルダのアイコンをクリック）<br>\n",
        "<br>\n",
        "<br>\n",
        "\n",
        "![noname.png](data:image/png;base64,iVBORw0KGgoAAAANSUhEUgAAAZAAAAGbCAYAAADqeMYPAAAACXBIWXMAAAsSAAALEgHS3X78AAAgAElEQVR4nOydeXwUVbqwn+ol3dlXQkICAmFfBUFQEcQBFUUFZBkEvAPiCOp1nPGOV+84o/fOjPu4fm4jg6OACu4ysoiMKCIIgorIHnYIJCSQPenuqvr+6JzidKVDEtLs5/n9IOnqWk5Vp9/3vOvRTNM0DcPA4XAAYJommqZZP8O9Z/+9PsQ55HNFEl3XcTgcaJqGrus4nc5GHW+aJsAJ3Vuk8Pv9uN3usM/dPibTNDFNs9azlPcJBAK4XK5TdwMKxXnA559/zpw5c7j00ku5/vrrLdlRF/v37+ell14CqPP7GwgEyMnJ4be//S3x8fGNGs8HH3zAv/71LxwOB3379mXixIl4PB5cLldYOWaaJj/88AOzZs2ipKSElJQU7rnnHjIzMy25L4+1PlzyjQihJW5Q0zTrPVkw24VdfYh9xLkNw8DpdEZEUNsVhvwhya8bMj5xXDgBfrIQ13G73dZYAoGAdU+GYVjjE7+Lf/LnJO/jcDiU8lAoIoAsE8Vrp9NJfHw86enp9coIv99vHRvu+wrHvvNCNjZG7gwYMIA9e/awfv16Vq1aRVRUFGPGjCEmJsYat2wQbNu2jbfeeouioiJiYmK4/vrradasWcg55f3rwxFOg8o3YRhGcEfpIcrCriEYhoGu69Yx9nM3BSFo7QpDFrJ2xAcpfhdjk987VRaIbN1B8A/O5XKFKF1xL+J3wzAsZSJvk/8w5XtUKBQnhvh+2idp8nvHwzRNAoEAmqbhcrlwOBw4nU4cDge6rmOaJh6Px5JVjZWNqampTJ48mY4dO6JpGsuWLeOjjz6ioqIiZDKsaRobNmzglVde4ejRo3g8HsaOHUv//v0tY0Dcpxh3A5+PQ35haVhxE/IDlG9KVgr14XQ6cTqdIUrENM1Gu5rqQhaW8odclyKQ/xg0TQsZmyywG3p/TUX8gcEx5SyuLWYl8j06HI4QS1Eg/lAaa4YqFIrwyJYHECLgGyJkDcMgOjqaQCBgfacDgYA1UTRNk8rKStxuN7quh52wHw+n00lCQgKTJ0/mwgsvxO1288UXXzB79mx8Pp+llNatW8esWbMoLi7G6/Uyfvx4Bg4cGOJJkq/XUCvIZX848oFCAAk3kTzbly2J4yG7mE40RlEfQuDbzb9w/j/7dp/PR1RUFE6ns1bcINLjrAv5mkJh+P1+awx2FxuE3nO4z+JkPWuF4nzieBPQhkzQmjdvzt13343b7cbn8xEIBIiKirImf5WVlbzyyitUVVVZlkk4N1d9pKenM2HCBKqrq9m0aROrV68mKiqKESNGcOTIEebMmUNhYSFer5cxY8bQv3//WnFpoQfCxVfrwgW1tZ39BoQQkoPV8n7HQ8Q6jnedpiIEZV2JAIJwCkV8mMLEFNsb8xAjMXbZmvjss89YsGABt99+O506dbLeF8/eNE3y8/NZu3YtnTp1ok2bNui6zqZNm1i+fDlDhgyhffv2SnkoFBFCli0NtT4AYmJi6Ny5MxA6IRWy9OjRo2iahsfjOW5SzPEQE8nU1FRuu+02XnvtNbZu3cry5cspLi5m7969FBcXExMTw/jx47n88sut+ziRmLGMS1YWss/M6XSSm5vLRx99RLt27Rg6dCiGYbBz584QV1d9D9IwDNq1a4fH4wkZYCTdKw6Hg927d5OXl4fb7baUgZjFh1N4uq4TCATo0qULiYmJlvUhNPKpcv/YYzjffvstDz30EE6nkxtvvJGuXbuGfD7iuW/YsIEHHniA3/zmN7Ru3drycb744ovk5OTQvn3705JNplCcS4Sz4htjHYQ7XnbfC9eV3+8PkVcNzaK0e4Pi4+O55ZZbmDt3Lj/99BMbNmzAMAxLefTv3986t+y2kifMjZEZLtn1I1scpmny9ddfs3HjRnbv3k2nTp04dOgQb7zxhjVooUXru8EHHniADh06hAy2sQM9Hpqm8f777zNjxgwrIGWP34jrit/FB3b33Xczffp068OSraRTKXw1TWPRokU8+uijVFdX85e//IWBAwdaz9nupnI6nZSUlBAdHR0yThGkO9XjVyjORewTvHAT7vqOt+8ne0gCgQAQdGPL+zbUe2Afh9PppHnz5gwYMIB169ZZcqNVq1Z069YtRCnJGWbhMnEbIj9c8sORT6BpGl26dGH9+vW0adOG9PR0oqKiGDp0qHXjDdGQwrSSB9QYDVsf4rz9+/cnMTGRuLg4HA5HyPmFySksDIB58+bxww8/kJqaGnLfYnwi4CUC7Hbz0/4BBwKBkOB2OHeZvE2ujfH7/cyZM4cnnniCpKQknn/+eUt5ACGuK/l6UVFRVtBdHpf9ucoZWvZ6EqVkFIq6kSeTdpdPQ7879v1kOSMmfPbsT13XG2WByKxfv57Zs2dbx+u6zsaNG/nggw8YM2YM8fHxYV30J1K64ILQGIcsGHv16kVOTg4Oh4OkpCQSEhJo1apViKasz4UlZ0XJloHsLmoKYhwXX3wxl156qXWtcJaE2H7kyBHef/99UlJS6N27d9iYiWEY/O53v2Pfvn3ExMTU8nvKWRW6rqPrOtOmTeO6666zUvScTmeIQpaVkmDXrl288MILLFiwgO7du3Pfffdx0UUX1bI8xHmEQhPXEK5B2Tdrn+3YCxLFvqpWRKE4PnbrXsiwSKXIi2xWuwyqqxCwLsS+mzZt4s033+To0aN4vV6uu+46cnNzWb9+PStXrkTXdW6++eZangtxf/J9NyQJx2XPwJLdU06nk+Tk5LDZPo3J8pEVhT1tuKmIMdsD4GKM9vRXgH379rFx40YuvfRSMjIyQlKXRV1IIBAgOTnZKvBxuVy4XC5LeItYC0Bubi4//PAD+/bts64lB75l4S+nQi9evJhnnnmGzZs3M3ToUB588EFatmxpjTNcAoL4HMrLy3G73cTExITcq938rSs971QkCCgUZztyQo09AzISCNeVnNkleyfqk6+yHN60aRMzZszg6NGjuN1uxowZw2WXXcbAgQN57rnnyM3NZeXKlcTExHDTTTfh9XprTZrlZIGGyHaXvZBNCBxxcFlZGU6nk+joaOsgka8su0+OR12mUiRcKPJNC7eVLHjDpcC+//77+Hw+rrzySuLi4qx7khWFy+Xi4YcfDqnEDwQC7Nmzh+TkZFJSUtA0jT179vCf//mf9OnThxEjRoS4vGSXndim6zpffPEFb775Jl9++SWappGUlMTUqVMt5SHuSdyPHPQSs6AjR45gmiaxsbG1nme4z1R+BnXFVRQKRSjhlEU4gXuiiFoNMXGVaWgcxOl08v333/PWW29RUlJipepeccUVAERFRXHHHXcwe/ZsfvrpJz777DNKS0uZMGGC1TpFds9Bw11oIXvYM6S+//57Pv74Y7Kyshg3bhxlZWV8//33uN3uBptxuq4zYMAAkpKSQgRcpExAWXDKZp/8IQuFaBgGW7du5fPPPyctLY3rr7/eOk+4FDtZiDudTg4ePMhtt93GnXfeyahRo8jLy+Mvf/kLeXl5PPHEE2RmZoacSwhpTdMoKipizZo1vPvuu/z4449omsbYsWOBYNquXWnIVpX8wWqaht/vp7CwEKfTSWJiovUshRKUEceWl5fjdDqtWYdK8VUoGoY8QRNdICAyVryoTrd7Zho6uTYMw2pPkp+fT2xsLOPGjeOyyy6z3gdISUlh7Nix+Hw+Nm/ezHfffYfH4+Gmm24iISGhlqJsqHvbZa95kH33wi2Tn5/P5ZdfTkFBAR9++CGBQAC3243f76/3ITqdTjp27EhSUlKIVmuIedZQ5HPZU9PkGIJhGMybN4/CwkKmT59OTExMrZoP2S0nxwkMw6C6upr9+/dTWlrK559/zrPPPkthYSF/+MMfGDhwoLWf+DCcTidLly7l888/Z+3atWzfvp2YmBiuu+46xowZQ+/evXn++eetfe1KQ5xLjjkJy2/btm04nU7S0tJqFQLZJwIACxcuZNu2bdx1112W1aVQKOpHdvvarfumIuRSQ2RpOLZs2cI//vEPCgsLiY6OtpSHPflH13UyMjL49a9/zcsvv8zmzZtZsWIFDoeD0aNHExsbGzaltz6sQkIx65YF8WWXXUZ+fj7Z2dlkZ2eTmprKpEmTGiX4TdMkPT09eDEpcB6pZopwLFYQznUk0HWd9957jzlz5nDxxRdzyy23hL2+uDd7XQhASUkJPp+Pw4cPM2vWLFJTU3n44Yfp3bt3SCaFPIPYunUrS5YsoV27dtx3330MHTqUVq1aWVaGnGElZ2DYZyVCSQorZcOGDaSlpZGUlFTLpJY/H8MwKCoq4r333iM/P5+pU6cSHx9vNcRUKBR1I08IZbf9jh07WLhwYZP7+YnqdK/Xe0IlBAcOHKCiooL4+HjGjBnDgAEDQtoyyUXWpmmSkJDA1KlTmTVrFj/99BN5eXmUl5cTGxtrXVeOHdenSFxy/rBACLP27dtz55134vV6cblcxMTEMGjQoJB9Goo9kB0p5SFnOdWVvmqaJitWrOC5554jOTmZ3/zmNyQlJYWMzR68kutCIPhgt2/fjtvt5qqrrmLYsGFkZmaSmppaZwAbYMyYMfTt25fWrVtb+8rjlvuDie32ljHC5SSe4bp16ygoKGDkyJEhqcmyQpKPf//999mwYQO/+c1vSExMBFDKQ6FoAPb6iLS0NJKTk9m1axe5ublNlmGmaRIdHU2rVq1qZUY1REYOGDAAv99PbGws/fr1s+RgXRN10zRJTU1l4sSJzJ8/n6FDh5KWlgbUToxqiBXikoWmPHMWr+Pi4moJuYbenEAeVGM1bEMJl4orBPS8efN47LHHcDgcPPnkk1x00UW1Mg7E/vLY5DYj1dXV/Otf/yI+Pp62bduSkJAQcv26Am1paWnWByRTV9VnOAUr/6yoqGD27Nk4HA6uvPJK6xh7x2Nx/JdffsmLL75I27ZtGT9+vErdVShOAPEd7NixI9OnT2f79u2Ul5c3OQ6iaRoZGRl07do15LvZ0AxXj8fDNddcU2u7PSXX/ntaWhqTJ0+udVxji5Bd9kpEODaTraqqshpwpaSkWO81JntHzKjt7cbFe039AOwBeVmL5ubmMmfOHObOnUt6ejp33303V155Zcg162o1YI89fPHFF2zcuJHhw4db5l4kEEpO3INwLdndb6LZ49q1a/nss8+44oor6NevH3DM3SanNFdXVzN//nwee+wxWrRowX//939bsQ+5aCnSijxSVFebfPllFZ99VkVurp+DB4NWVkaGg5wcN0OGeLniCi9e75k5fsW5Qbj6jPbt29O2bduIxHDDdfmVvQhnOlYlut39AbB69WrmzZtHu3btmDRpEocPH2bZsmWNEvymaTJy5EiaNWsW4qaByGQx2DMkAoEAVVVVLFiwgH/+859s27aNCy+8kD/96U90797diiGIWIlc7BfuwzQMgx9//JFHHnkETdOYMGFCiIUWifHL/fjDzUJEQGzHjh08+uijBAIBJk+ebCUBiGNKS0vRNI2NGzcyc+ZMli1bRlpaGo888khIwaTs0z3T/lArKkxefrmUGTNK6dvXw7Bh0UycGEtmZvDLeuCAzqZNfubMKefuu4uYOjWOu+5KICbmzLoPxbmB7M2wJ+dEAvm8cjzlbEmvt4LoYvByVeSePXvw+/1s2bKFwsJCCgoKWLNmjZVN1ZD1MoSrpXnz5paQt/v4m4Kc+qppGs888wzvvfceBQUFpKenM3XqVO64444Ql5OcWSWnFcvuI8MwrGaSb731FomJiTz33HN06tSpSeMNh9/vD8mgklOHBbt27eLXv/41+fn53HnnnfTo0SNE0YlnKbLCRKzmd7/7HS1atKjlBz0Ta0DWrfMxZcphrrkmmhUrMklJqT2+5s2d9OoVxc03x3L4sMETTxRzySV5vP56Gr17R52GUSvOZcIVD0ayDsTucj/bcNmj9LLQuuKKK6ioqCAnJ4fWrVuTlZVFy5YtLTeRyCQ6HqZp0rx5c8s1E2752SbfRE2xHUBGRgapqakMGzaM8ePH0759+1p+/3AC1F6Bf/DgQe6++24KCgro3r07f/rTn8jJyQlpaR+JTKaKiopabjj7+iCaFmz3nJaWxoABA7j99tuJjo6udR8ZGRm0adOGjh07MmnSJLp27WopTqEUZSvzTFov5JNPKnjwwaO8/noaF10URX6+wdGjBvHxDsQQdR0qK0103SQx0UFamoMnnkhm1KgYJk06zKOPJnHDDTGn90YU5xRyRlJd8cqmnh/qbr90pqOZNSOWBVi49C1Z2zZF8ERaaNlnAeXl5RQXF9OiRQvreuEyk2T3jfwhyu6dpUuXomnBPluyBRNJE3bNmjXk5uYyaNAgMjMza41X3IPT6eTAgQPExcURExNTy/0GQWVUVFREixYtrD9GUbNjf16RvIemsnp1NbfdVsinn6aTnR1Unv37H2TTJn/Y/X/xCw8ffJAesm337gDXXZfP66+n0rev56SPWXH+YP+u2GOuJ4tIuclPJpoZJMS1JKeYytlC9htqTEddeyPBSAkwcR45riGuZ09hExaD/T7CKTXZpSRbG/IMIRLKMNwztGfCifE0NOgd7pxyfOdMUh5HjxoMHHiQN99M48ILj7mgjqdAbrwxmjffrJ3ZtmZNNVOmFPL11xkkJp7ZXzzF2cnJsBDCZYSeKd/P+nDAsUwpOZ1VuLPkG5GD1dCwcndxThEMFtuEadhUZP+hELrieuJ9uee+sK7E4i3i3u3xHHE+cbxQPLKFEglLSnYDykpLLkgMd3/y/mIfcQ9yjEe8LwoTI/nsI8FTT5Vw882xIcqjPuLiwiuHvn093HRTDM8+WxKp4SkUFvbMxZPxHRLnF26zMx3LhaVQnGoOHzYYNOgg336bSVxc6Izr/vuPUFpqEh+vsWxZdYg1MmVKHM88kxz2nCUlBv375/HNN5kkJSkrRKE4maiqMsVpY8GCCoYNi66lPAAee+yYgpg+vahOd5adhAQHV10Vw6JFlfzyl5Gr11EoFLVRUzTFaWPx4iquuy7yWVPXXutl4cLKiJ9XoVCEohSI4rSxbVuA7t0j35OrW7cocnPrr1FSKBRNQykQxWmjsFAnNTXyf4LNmjnIzw9E/LwKhSIUpUAUpw3ThJORreh0ajSgSYJCoWgiSoEoThuJiRrFxU1bTyEchYUGaWlnRoW9QnEuoxSI4rRxwQUutm2LvKspN9dPy5ZKgSgUJxulQBSnjSFDolm8OPLZUosWVTJkSHTEz6tQKEJRCkRx2rj22mg+/LCSJq4KGkIgEGzMOHy4N3InVSgUYVGFhOcRFRUG331Xzpo15WzdWkVubhX79/spK9MpLw9K8dhYB3FxTrKy3OTkeOnQwUvfvrH06RNLTExk5xtt27ro2tXFW2+VM3Fi3UV/jemV8MYbZfTu7bWaMioUipOH+pad4xw86OeTT47w4YdHWLWqHF0/vjQuLtYpLtbZv9/H6tXl1naXS6Nfv1hGjkzmhhuSyciITP3GQw8lceON+Vx1VTTp6eEVlFBux16Hv4e8PJ2nnipm4cLmERmbQqE4PsqFdY6yZUsVv/71Ljp3/on/+q+9rFhRVq/yOB6BgMmKFWX813/tpXPnn/j1r3exZUtVk8fZtq2L3/8+gZtvPkx1dfjxlZUZtte1c3QrK03Gjz/Mgw8m0bq1mhcpFKcC9U07x1i/voKnnjrIxx8faZTrpzHousk77xQyd24hI0Ykc++9GfToceItSW65JY4dOwLceGMBc+ak1SouvPhiD0lJx7KqunYNtX4KCgzGjz/MkCFeJkxQ/a8UilOF6sZ7jlBUFOB3v9vDBx8cOS3XHzUqmWeeaUVy8onPSf75zzKef76kxq1Vv0IyTfjwwwoefvgov/tdAr/6VdwJX1uhUDQepUDOAZYvL+W223Zy4EDDOtaeLLKyonjttdYMGBB/wufYtMnPQw8dJT/fYNy4WIYN89ZySe3cGWDhwireeaec5s0dPPxwUi2rRKFQnHzOewUSbrnKcEv6iveg4auFneyV//x+k8cey+Opp/Ia7K7q0MHLwIHx9O0bS/PmblJTXdY/gMLCgPXv0CE/q1eXs3x5KVu3NizeoWnw+99ncv/9mbhcJ37vP/7o4+OPK/jss2r27QsQGxs8V3m5SXa2i6uu8nDjjTH07NnwhagUCkVkOe8VCIQqjXDLyR7vOLF6mH2VspO9JGVFhcGYMdtZvry03n0HD05g4sRULr88/oSzpw4e9LN8eSmzZxfyxRf1r/h3+eXxvPtuu4il/paUBAPpCQkq70OhOFM47xWIvK65vO653QqRH5NdOdRlaZwsC6SqymDs2O0sW1a38oiK0hg3LpU77kina9fIVmVv2FDJSy8dYt68Iny+uv98Bg9OYO7cHLxeJfQVinOR816BQHDtcLEGfFMtCHnd9JOBz2cyYUIuixcX17nPFVfE89JLrcnOPrnunX37fEyfvosvv6xbkV1zTSKzZ+cQFXVyLTKFQnHqOe+nhsJKcDqd6LreoEXtTdO0lI5e0zfcqOnHUZ/bqynousltt+2sU3l4vQ4ef7wlH33U4aQrD4Ds7Cg+/rgDjz/eEo8nvIJYtKiY227b2aQaFIVCcWaiLJAaAoEAmqZRXV1NeXm5FQ8Jp0g0TcPhcOB0OklISLD2Fe/ByYmFvPDCIf7wh31h30tPd/PJJ+3p0uX0NBH8+edKbrxxG/n54TPBHnkkm7vuUhXiCsW5hFIgNRiGgc/n49VXX2Xr1q1UVlZiGAZutxvDMCzXFASVgsvlwu12M23aNDp06EBUVFStfSLJ7t3VXHzxRiora3ceTE11sWBBBzp3Pr0daDdurOTaa7dSVFS7RXt0tIPVq7twwQWe0zAyhUJxMlAuLClgvmDBAn744Qeqq6utmEggELAUg8PhQNM0dF2nurqaiooKZs6cyQ8//GCdQ45/REo3mybcc8+esMojMdHJxx+3P+3KA6BLl2g+/rg9iYm11+KorDT47W/3nLTqeIVCcepRrUw4Zi3s27cPp9NJeno6o0ePtmIi9v0cDgcffvgh+/bto6SkhLfeeouYmBg6d+5sBeIjGUh/990ili4Nnzr74out6dEjJiTjS2SWbdu2jVWrVlFcXGyNJxAI4HK50HUdh8NBUlISY8aMISoqqlZacl1ZZMdLce7ZM4b/9/8uYNKkHbXe+/zzEt57r4gxY1Iadf/hrmeaJocOHeLrr7+mqKiIyspKK5sOgp+RYRhER0czbNgwMjMzLSUvzmdPv5bTt09VOrZCcTZz3isQISCEC0vTNDIyMrjwwgvDCkkhYJYtW8b+/fsxDIMjR47wj3/8gwkTJtCnTx/LSpEF2oni95s89ND+sO9dc00i11+fFHItYTnt3buX1157jYKCAlwul3VvLpfLSgIA8Hg8lJaWMmnSJDweDy7XsT8JWXgKxSOnN9d1jzfckMzVVyeGDfb/6U/7GTEiGbe74cWY4npi3E6nk6qqKt5++202btyI3++3YlKBQKBWTc+uXbuYPn06LVq0sO5DVkry73bFolAo6ua8VyACIUD8fr8lhMIVCMo/xe9Op5OSkhLmzp2Lruv06dPHEmayQD4RPvnkKPv3+2ptj4528NRTrdC00MwvYWXk5+dTUFCAw+GwlIeI0xiGYVkhZWVlrFu3DoArr7zSctVVV1fjdrtr3bOI/WRkZBAVFT7TS9Pgb39rxVdf/VzL7bZ/v4/5848yalRyg+7fbg0JhaVpGuvXrw+5bzFOh8OBw+GwLMh9+/YxY8YMrrvuOhITE4Haqdsim87hcBAVFUVKSgoJCQkNGqNCcb5y3isQuW7D5XJZwkcIKjE7FYrE6XSGbBOKRNd1jhw5wuzZs0lOTqZdu3ZNVh4Ar79eEHb7rbc2o1WrqJDZs1BYsvIyTdMqjqyurgbA7Xaj6zqGYeD1etF1nXXr1vHtt99a9yz2EQpFWCy6rpOQkMCNN97I5ZdfjscTPijeqlUUU6Y048UXD9V6b+bMggYrkHAWga7rltUhFIUYnzgGQpXPrl27ePnllzFNM6RgVNd1yyIRz83r9dK3b19uvvlmoqNPf2xJoThTOe+D6LJyMAwDXdcJBAIh74v35BmuED7CXeJ2uwkEAlRVVfH888+zevXqJo+tqCjA11+HL9IbNy4YR5AFqxirEPpVVVUEAgFL4EZFRVkKUMzmTdPE5/NZ9ywsFaE8xDMR1/F6vZSXl/PJJ59YCqkufvnL8LGOFSvKOHKkdqZWXcifj2w1mKZpWYtykoOwshwOh3VfTqcTn8+Hx+Ohffv2ZGdn06ZNGzIyMqz3hRKprq7mhx9+CLFwFApFbc57CwQIEagul+u4zRXFzF7sLysWcVxlZSWLFi2if//+TRrXkiUlYdcL79DBa62/IcdbhGIT9+P1ejEMg//8z/8kOTnZmqXLRY9yYFmMPxAIWDN08QzE+z///DPz58+ntLQ0RNGGo0ePGNq397JtW2gjRl03WbKkhLFj6w+mh4tPAJY7TlaasqIBQp6JuKd+/fpx7bXXWtbhgQMHmDlzJvn5+URFRVnPs7y8vN77UyjOd5QCgRDBay8ctAdTxesBAwbQtWtXS/gKQbxq1Sp27tyJ3+9vUEPG47F2bXnY7TfdlIwYlpg1y+MTVfV+vx+Xy0WrVq1ISUkJW+woC115rPYAudi3uLg4JEZ0PDQNRo9O5tFH88LeW0MUiN0dJcbm9/stq0NOCgin/IXLKi4ujuLiYhISEvB4PBiGQWJiIv369WPJkiWWK8ztdltxIIVCUTfnvQKRBWdd6beykBXCuU+fPmHPk5eXx/bt25usPCBY3R2OPn2OrbpX1zXkOha5uFEIfXvmlvwMxLGypSLfu2x91cdFF4VfIbCue6vrXmRLS4zD5XJZsRD5HuX7BCzL4sYbbyQxMZElS5YwbNgwyxU2bNgw1q5dS35+vnUe4fJTKBR102AJZ89CgmOuAnlbXeBvJ7kAACAASURBVL+fqdhdIOHGLMc+fD5fiNtKzH7DpYQ2lV27ws+A27f31nusuBf7WORkAHmbPIOXXVt2ZRoVFUVqaipJSUlhkwTsbrIOHcKPdefOhs/uw41ZrmUR45drXWS3nGmatGvXjl69etG9e3eKioo4dCgY3DdNk/j4eK6++mrrfuTgu0KhqJsGSTo5iGoP2oovqSyA7CmwZzuaplkuqaVLlzJjxgyOHj1qvVdfMdqJUlysh90uFn+KBMLPL7KZBPLn7ff7LeHdo0cPnnjiCZ566imSkpKsY+yxInF8Skr4sZaUhL+3xiIsE2EtCLedeE/8fV533XUkJyfjdrvp3bs3a9asCVH2F198MS1btrQyssQ9KRSKummQJJJTWmWfuyw8RcZLJFJXzzREJtKSJUv44IMPcLvd+P1+pkyZQlxcXIigkp9VUykvD3+O6OjIJc+JVF8gpIreNE3KysrYt28fu3fvpry8nObNm9OuXTsSEhKYOXMmZWVlTJ06ldTU1DonC3UtKFVW1vTnIyMy4pxOp6X0RJrvxRdfTKdOnYDg32ynTp1Yu3Yt27dvJycnB6fTSVxcHCNGjODFF1+0nsm5MgFSKE4WDZL2YqYm/oXLyxcZTMA5Zf4LRbBs2TI++ugjDMOgqqqKH3/8kU8//ZThw4cTHR1tzWRFqmgkFEhsrCPsTL2y0iA+vulV7jJiJi8mBTt37uS9995j06ZNIZ97SkoKgwYNoqioiLKyMsrLy0lNTQ05lzyzr6gI/xzi4iKjBEVxo/gbFL3LRKZcYmIiQ4YMCVGOhw8fZuvWrZSVlZGTk2N9Vp07d6Znz56sXbsWXddDLDKFQlGbBikQ2UXlcDgoKSnB5XLh9XqtVElBdXU1Ho/nuL2UziYMw2DRokV8+OGHIW4a0zT57LPPMAyDESNGEB0dbblPqqqqwsYPGktiojOsAiksDERUgdhjDDt27ODxxx8Hgq6d7t274/V62bNnDytXrmTevHm43W5SU1ND0p7DJSGE68wLkJAQmfGHm6zI1eWXXHIJOTk5VrzE5/OxbNky8vLyrF5a2dnZVqpv165dWbduHQ6H45y0phWKSNLgb0hlZSWrV69m5cqVVFRUUFlZSVJSEl26dGHQoEGkpqZimiYejwefz2dlvpztfPXVV8yfPx+AZs2acfDgQZxOJ6mpqeTn57Ns2TIcDgejRo3C7XbjdDqtKu6m0rq1h717a7cx2batitatI9sWXbgnS0tLee+993C5XIwbN45+/frhdrs5evQoO3fupHnz5pSUlOD3+0PSZyF848GtW6tqbQNo0yYy45ddqqLWA4ITmbZt23LVVVcBx5Il8vLy2LJlC23atEHTNNasWcOPP/4IBCv0q6urad68Ofn5+fj94dc2USgUQepVIKZpcvjwYd588002b94cElAtKipi9+7d/Pzzz/zyl7+kXbt2GIZhdXaFs7+baVJSEtHR0aSmpnLDDTfwwgsvWFbHqlWr2LVrFykpKZbgktcRaSpdu0azfHntSvTvvitn6NDEJp8fjlkNwk0l0pB79uxJnz598Hg8Vi3FZ599ZglVEWuQXUPhzltXLUuk1mkXz1ooM1GjEhUVRVZWFtHR0ZZLze/3s3TpUm677TZatGhhnUNu+yLanjz99NMR+QwVinOZehVIUVERL7/8Mrt27aJTp04MHz6cjh07Ypom+/fv51//+hfr1q3jpZde4ve//z1ZWVkAVp7+2U6vXr1o1qwZiYmJlJaWWooxJiaGO++8kz179tC+fXvLReL1eq14QlNdeHXVULz33hHuv78FkdDN9kLCHTt2YJom/fr1IybmWLV7fHw806dPD6kF8Xg8JCQkhLiRQrPSgmNtzL01FpHQIPp6VVdXW2Ncu3Yt11xzDS1btsQ0TdauXUvz5s1p0aJFSB2MHDQ3DIMVK1ZQUVFxzsTxFIqThQPCpyuKWoevv/6a/fv3065dO26//Xa6dOliNR684IILmDx5MoMGDaKkpIRFixZZXzw5HfJsQS6SE2iaRsuWLYmPjw8ptgOsvkpCGGmaZtWJiNdNYejQBJzO2ufYtq2K9esrQsYtEGm54epR5P3sLja5v5fL5QpR/mJdjd69e9OzZ0969+7NhRdeSJcuXYiNja2zAHP9+opabUwAnE6NoUMb1ulW/tuUxyyesRybE5lX4nVVVRXLli3D5/NRWlrK1q1b6du3b80YQmMwwvrIzc1l5cqVDRqbQnG+45JnyXKQWHwhv/76a7xeL2PHjrVaYYv33G430dHRXHPNNWzdupV169YxcuRIPB6PdY6zCSGQfL7QuIPs4hCCWbhuxHEQrEHweDw4nU78fn+T1wRJSXFx2WVxfPVVbTfW3LlF9OwZE3J9kX0Ex2p0TNPkk08+sSwjueeV/LvL5eLqq68mJSWFiooK9u/fT8+ePS33lszRo0dZuHAhmZmZDBo0qE5F+c47RWG3X3ZZHMnJDbNO5XPbFbtcZW9veikU2po1a2jbti15eXkEAgGriFDX9RDXl9vtxufzsXDhQioqKkI+X4VCER5XXRk0YqGkI0eOkJWVRZs2bULWkhBfPk3TSElJoXXr1uzfv5+tW7fSv3//kCrhMx17Jbnd9SZeezweLr74YkzTtOo/5HOIIKywwCKxoNTkyc3CKpB//KOAadPSyc521SreM03TqhYvLS3liy++sBSBXK/i8/msbTExMcTHx9O1a1cyMjL49ttv6datGy1btgxp526aJu+//z4rVqxg3LhxdY579+5qZs4M34p+ypRmjX4OcjsTocDbtm3Lzp07rffDVaWXlJTw+uuvA8HPUUyIRLW6mDQJy0u4wBITE0PiJAqFojaWpLT760WbbzGrlou0BPLsVQglITQjITxPBfZOu9HR0VRXV1NYWBjSeTcQCODxeCyh6XA4KCwsDEnrFZaZmNVGYlXCG25IIisrqtaiUpWVBvfeu4d589phtyI1TaNt27Zcf/31fPXVVxQXF4coj3AxC13X2bBhA5deeimDBg3inXfe4e233+amm26iRYsWuFwuSktLmT9/PmvXrqVt27ZcdNFFYScIpgn33rs37BruWVlRXH99UoPv3+6KE88zJiaGESNGsGjRIoqLiykrKwtR3CItV/TLktf/cLvdVFZW4na7QxIeDMMgLi4Or9fL0KFDadWqVYPHqVCcj1gKRO50KpRBQkKCNasuLy+vFQcQX+7q6mrKysoArMDr2YLceqRZs2b8/PPP5Obmcu+99+LxeEJiCva2JXI/LJfLFbJcanp6ekSUqNut8b//m8XUqTtrvbd4cTHz5x/lhhuSQpSIGMfgwYMZPHhw2PPaBbPcfuUXv/gFR48e5auvvuKxxx6jdevWuN1uioqKyM/Pp02bNkyaNIm0tLSw5/7kkyN89lnt5WwB/u//shq8nC2E9iqzT3K6d+9O165drcmNfC/hYjJ1bZfXiT9bJj4KxZlArSCF7HaKjo6mXbt2HDp0iDVr1oS4eeBYKue2bdvYsWMHWVlZZGRkhG28eCYj7mvIkCG0atXKit8Id5RQEIC1QJMcKxKzXJG+nJmZybXXXhuxSuYxY1L4xS/CB53vvHMXP/5YUatHmVB89s9AbgwpbxO9sEQtz7hx4/jVr35F3759qa6upqioiNjYWMaOHcvdd9/NBRdcEHY8P/5YwV137Q773pAhCYweXX8Ldzv2PmuAlU5sj0fZXbGyorcvHia2C+UvYmD2RcUUCkV4NDNI8EWYmdnq1auZNWsW0dHRTJ8+ndatW1tuHb/fT0FBATNmzGDPnj1ce+213HDDDRHJQDpVyLNawzA4fPgwu3cfE4DC5y4LG8Baj0IINeEicrvdtGjRgtTU1IjWEezeXc3FF28M6xZKSXGxYEEHOnaMCgl6y1aGmF3bZ/HhLBF7LOzQoUM4HA4SExOtYslwKcobN1Zy7bVbw1afR0c7WLOmK61aNb5F+vF6rMnL7sIxBVmXlSGOsS9ZbOdc6KKgUJxsNFOaoto7qkLwC/b++++zZMkSnE4n3bt3p127dni9Xnbt2sXq1autrJVbb72VHj16WG6ss+FLKDcPtMcR7PsJ6mrTEi6OFMn7f+GFQ/zhD/vCvpee7uajj9rRrVtMna4aeVxQuwYkXFv6cM9HPo/Y9vPPldx44zby88NXbz/ySDZ33dW88TctYR9TXfdmv6/6Pge5BiTcAlYKhSI8IQqkLsrLy1mxYgX//ve/KSgIZtYIRZOQkEC/fv2sViddu3Zl0qRJxMfHH7tII7/QivDousmUKTv58MPwxXkej8b//m8206alc6oyqA0DXnkln4ce2kd1dfg/pZEjk5k5s03YmhaFQnH2Uq8CkWsgDh06xI4dO9i7dy+appGWlkZOTg6tWrUiNzeXp556CoAuXbpwxx13hLgM7PUE50qrk1ONz2cyYUIuixeHD1IDDBoUz8svtyY7++SuqLdvn4/p03fx5Ze104wF11yTyOzZOURFqc9ZoTjXaJAFIlxbsitDpH7KvuTt27fz6quvUlJSQrdu3ZgyZUqIJQLH92crGkZVlcHYsdtZtqxuwR0VpTF2bAp33tk8Yn2nBBs2VPLii4d4990ifL66/3wGD05g7twcvN6zq6BUoVA0jAYrkPD5/qEZLgDff/89c+bMoaSkhB49ejBp0iRiY2OP23hP0XgqKgzGjNkettminSuuiGfixDQGDownI+PEAvsHD/r56qtSZs8+fFzFJbj88njefbddnQtKKRSKs59GWyD2Sl+BvG3btm08++yzVFdXM3LkSK655hqrwZ3c9kN1O20agYDJY4/l8eSTeTQ0Y7p9ey8DB8bTt28szZu7SU11Wf8guNaI+HfokJ/Vq8tZvrw0bE+rcDgc8PvfZ/Lf/52Jy6UmCgrFuUyDYyBQ2xKxZ++IUxmGwaZNm/jhhx+stajlfeX0V2WNNJ2vvy7lttt21apWP9VkZUUxY0YbLrss7rSOQ6FQnBoaZIFAaNC7IQFwUYwlL+9qz8BSlb+R48iRAL/97R4++CB8htbJ5qabknn66VYNbpKoUCjOfpocA7EH08NZLPL74bYpIsf69RX87W8H+eijIw12a50omhZM0b333ky6d49soF6hUJz5NNgCOVNQbq+GsXVrFX/720HmzStC1yP7ETudwQyve+/NoEMHb0TPrVAozh7OeAXS0KpjRXgOHvTzySdH+eijI6xaVUYgcGIft8ul0b9/HCNGJHPDDUknnM2lUCjOHc54BSII135D13XKy8Ovua2oTVWVyfffV7FuXTW5uT527vRz4ECAigqDigqxVK9GTIyDFi1ctGnjJicnit69PfTq5cXrVcpaoTiXEIsEnuhE/KxRIECtALyu6xw8ePA0j0qhUCjOTlq2bAmcJwrEjnJhKRQKxYnTVBl6VisQhUKhUJw+zrqkfbu+UxaIQqFQnB7OeAViN7GUwlAoFIozgzO+051SGAqFQnFmcsYrEIVCoVCcmSgFolAoFIoTQikQhUKhUJwQSoEoFAqF4oRQCkShUCgUJ4RSIAqFQqE4IZQCUSgUCsUJcdYrENM0rRUPIdhkEYLdeiPRpUWsBy+j63rINvn64nf7MeG2y8eJ9+o6XtxXuOPqu7Z4LS85rFAoFE3lnOmFJS+bG2nE6oliXfdwyBXzQumItd/lMcprx8vrwtsr7sXKjuJc4jjDMKyxCOQxySs9yuvPh1sB8nj3o1AoFPVxzkgPWVjbrZKm4Pf7LcErn19GCGr5urJgDgQC1vGycrErDdM0LUujsrKSHTt2UFVVhcPhsK7hdDqt6zscDus9cbysJBwORy3lIdZRsY9RoVAoGss5I0FkBaJpWsSEo9vtJhAI4PP5KCsro6ysjPLyciorKyktLaW0tNQS0uK6dkVjXyNejE3TNEv4i/GLY//9738zatQoli1bZr0vWy7imsuXL+e1114jPz/fGrOsPGWlIiwO8drv90fkGSkUivOTM76ZYkMQM2zZxRMpAoEAe/fu5a233iIqKopAIGDFV4QwzszM5JZbbgk5RlgLcExwC8UhXoufuq5bikcoCr/fT2lpaYjFIu5VVlILFixg+fLl9OrVi/T09BBrIxAIhPwuFJn43e1Wy9IqFIoT56xXIPIM+2Q0XiwvL+e9994jNzfXUk7imn6/H4fDwfbt2wEYNWoUcXFxlqCWrQsZoUiE8ggXsxDHiW2yEpKX9Z02bRojR46kW7duACHK064wxDlEbEU1qlQoFE3hrFcgQgiWlZURFxcXUesDoKqqin379llBbPFP13VcLhc+nw+3282XX37JTz/9ZAlnWdk4HA58Ph+xsbFccsklXHXVVZaiEOMV+0FQMYi4SVVVFd9++y07duwgLi6Ojh070r59ewzDwO12U1FRQWVlpeXeWr9+PYcOHaJXr15s2bKFHTt2EB8fT8+ePWnTpk3Ic1NBdIVC0RTOegUCQYG7Z88emjdvTkpKSkRn1iKILmdDaZpmCfioqCgqKytxu90UFhZaLiaXy2UdK5RNYWEhhw4dolOnTrRu3dq6hj0o73A4cLvd6LrOzJkz2bt3L9XV1ZimSXZ2No888gj9+vXD7/cze/Zsli1bxssvv0znzp2ZN28ec+bMYciQIaxevZry8nIAunTpwmuvvUZ6errlJlPKQ6FQNIVzQoI4HA727t3LCy+8wOHDh63tkchQltNnZStEdjsJqwOCLiQR4La7qoTiyc3NDbmGPYNMnFfTNEpKSvjrX//Kv//9b/7whz9QXFzMI488QllZWYgbSgTnRYZVQUEBzz77LJ988gk33XQTP//8M++++26IW+wcyeBWKBSnibNegQiBqWkae/fuZebMmRw4cMDadroJV9Qnb6triV6hVKZMmcLVV19NdnY2t9xyC0OGDGHjxo1s3rzZimsI5STiMpqm8fDDDzNw4EC6dOnC2LFjSU1NZc+ePSGK8Ex4PgqF4uzlrFcgsnspEAiwbds2Zs2aRVFR0RlVcW2v9zgespLJzMzE4/EAQUumX79+6LrO4cOH8fl8aJqGx+NB1/WQIsOsrCzr94SEBDweD4FAgMrKypDAvEKhUJwoZ70CEcJWpKXqus7mzZt57rnnQmojzhTsbUXCWQFyTYhwh4nU4fj4eBwOB4WFhbjdbkzTxOfzhWRoud1uqqqqAEKKEB0OBx6PJ8SlplAoFCfKWa9AZN9/IBBA13U8Hg95eXlnjAKxC+pwFkhdVkl1dTVOp9NSDgcOHMA0zVo1H8LaEC4tkcILWNt9Pl9I1bpSIAqFoimc9QpECF4hNKOiojAMgxEjRtC1a9fTPLra2PtjydsFIk1Y13W+++47ysvL0XWdoqIiPv30U6Kjo+nQoQMOh8PKBgsEAlZho70SX9M0XC6X5cYSFptyYSkUiqZw1qfxChePaDkSGxvL6NGjueyyyyJeE3KiNDbbSaTYulwu5s2bx4EDB+jWrRtr1qzhhx9+YOLEiVY6rrA0hMIQNSFyV2JN0/D7/VZBoVBWKo1XoVA0hbNegcCxNNno6GiGDx/OpZdeSlRU1OkeVqOQXUoOhwOv10tcXBwTJkzgm2++YebMmXg8HkaNGsXtt99ObGwsfr+f6OhoEhMTLRdWamoqycnJREVFWeeMiooiNTWVuLi4sNdTKACoroYvvoCFC2H7dsjLC27PzIR27eDqq+HKK8HrPb3jVJwxnPXt3IUgXL58OaWlpVx77bURrbA+cOAAf/vb3zhy5IiV5STqOeTOuMcbnxiLsJTGjh3L0KFDGzxOn89HVVUVTqeT6OjoWj21FIomUVEBL7wAr74K/frBdddBly7QokXw/f37YeNG+PRTWLkSbr8d7rkHYmJO77gVp52z3gIRs+icnBzS09OB0Myjps6yhftHbtYotyBpCMKl5Ha78fl8jW6n7nK5iIuLCyk2jGTHYcV5zHffwaRJQaWxZg2kptbeJyMDLroouF9BATzyCPTuDbNnQ58+p37MijOGs16BQFCgtqiZLYl010jFP5xOJ3FxcZSUlIRYHw0txhP7CWHvdruJi4s7bhqvTLiWI/YOvQrFCfHhh3D//UFF0LdvcFtVFSxZAt98A/n54HTCBRdATg4MHw7NmsEzz8CYMfDLX8KTT8LIkaf3PhSnjbNegchuHDkTKVKkpKTQq1cvDh8+bKXU2rvnHg9ZUei6TmZmJr17966ValsX8iJU8joiSokomsSqVfDAA/D559CyZXDb/Plw991Q08mhFqmpQdfVfffBpZcGjx06NOjq6tfv1I1dccZwzsRA7PGASLmwTNOksrKSrVu3hlRxi3/1pcLKwt7lctG2bVvS0tIsS6YhSsQ+HnFeheKEOHIE+veHt98OuqIgaI3cfDM0JLX7oYfgf/4n+Pu33wZdW2vWQGLiyRuz4ozkrFcgAlmw+/3+k7JYkn1d8YYEse37KKtBcdq5/36Ii4MHHwy+LimBbt3g0KHQ/bxeiI8Pxj1kNA2+/x46dw6+fvDB4LY///nkj11xRtGoKKy9EWBj3z8ZhJuRixYfkTq/CHrLrquGZkCJgL68LrpcDd4UVCGgotEUFMB77wVdUYKPP66tPP7wBzh8GPbtg5kzQ98zTVi69Njr++6Dt94KWjaK84oGK5DjdZBtyPsnC7k9uf36kRqHWNNDnFNenrYhiKJA+Xgx9vqwP1f5tcrCUjSaf/0rmHEl1QTx+eeh+zRvDn/8Iwgrftw4sNdVHT167PeEBLjmGliw4OSMWXHG4gDCzojtwtcwDCoqKli4cCEHDx4Mu29BQQELFiyw1qqQzy3vF+mZs10gyzGKpiLOEallc8P1xTqeopP3j9Q9Kc5jFi6EG24I3fb3v8O2bbB8Obz7Lrz+etAlJXj9dfD5Qo9p3z709fXXB+tEFOcVrvrSRMVPn8/HG2+8wZo1a9izZw+33357iBvHNE0+/vhjVq9ezY4dO7j11lutojc5PmGPI5zv1NfmXSkMRUTZsgV69Ajd5vFAq1bBfzKGEaz5+MtfQrdnZQWtGJnu3YPV64rzipAUIFlhyCvWlZWV8e677/Ldd9/RvHlzrrrqqpA1v8X+V199Nbm5uaxbt47Y2FhuuummWuuU26u3lYAMorKrFKeEwkJIS6t/v4MH4ZZb4MsvQ7d7PDB3bqgLDCA9vXYcRXHO47CnosotwTVNo7y8nLfffpvly5eTlZXFtGnTaN26dYjyEPGBli1bMn36dFq2bMnKlSuZM2dOSHM/efVA5Y4JRT0PxSnBNEPdU+H45ptghbldeWRmBtN9RdGhjNMJNd9vxfmDwx6AFmtPOJ1OysrKePvtt1mxYgXNmjXj1ltv5YILLghxS9ktkQsuuIDp06eTkpLC2rVr+ec//0lZWVlIAZ5AZCYpQjkd2WyK84TExNAAuJ3Fi4PuKXvq7tixwdTdX/wi/HGHDzfMslGcUzjEQkUQGuQuKyvjww8/5JtvviEjI4MpU6bQunVraz8R+7DHT0S19eTJk2nRogXff/8977zzDmVlZUCo0mhsEd35grJGFCeN1q1h69bw761eDTfdFGyuKPB64ZVXYNYsSE6u+7zbt9eOoSjOeUKkv4h7iLRTeY1tODYzlv8BlrtLLpJzOp34/X5M08TtdlvbXS6XtUSr4hjhLA7R10tZI4qIcdVVwUwsO0eOwIQJ4Pcf2xYTE6z3mDy5/vMuWBBs9644r9DMILWygTRNo7S0lLfeeovvvvuO5ORk7rrrLrKzsy0XlvxTztrat28fL730EgUFBVx00UVMmjSJmJgYVZF9HOTnYZomfr/fWu9DTk9WnHuYgIZBcJoQatHX94mLqUWD/zJyc2HECPjxe3A4jl3vt7+Fl14K3fdXvwoqFetiZtA6KS8PWiPCnRUIQM+esGjRsb5aivOCeluZlJeXM3v2bL799luys7OZPHkybdq0qbMSe+fOncyYMYPDhw/TvXt3pkyZgsfjseIfdkHZVKEoxiGnB0c6o8muLKF2W5Nw+4cbR129u+RjNU1j1apVvPHGG0ydOpU+ffqE3V8+//GepTxW+TzCCrSvL2JP4VacPExAx8CJgQ6YHBPqGuAIiXkbxxSF6QAN/DX7ubBb9I5j2gUwaw7UTGDCeLh6KOZ/3IKGA46WQNu2QcXQUIYODRYlQrCOZMUKeOONhh+vOCeoNwgRHR3NpEmT8Hq9/Pvf/+aVV15h2rRptGzZMqS2Q9M0du/ezd///ncKCgro378/48ePD1EediIhnGTlIQtUIRwjcY2ysjK+/fZbysvLa1kDhmHQpk0bevbsWasiXvyu6zpyrCmc8hHbhDDfu3cvy5YtY/jw4bWaLop97deyKwAgpLX98RSgruuYpsnBgwfJy8ujW7dueDyeJj87Rf0EPwUHTkC3WyCasC5q3Jk1+4IJpha0XjTQ/QZOlwtTMzBMA6dWc56geYPIj3IB/Pn/YNi1cM3V0Dwr2MqkMcpD5sABeOyx0NYmivOGehWIWF513LhxVFRUsHbtWpYuXcp//Md/hMQ7dF1n8eLFHDlyhN69e3PzzTcTY1ux7GT58sX1RbwmkostlZeX88EHH/Dll19aQlzEcIQQ93q9TJ06lQsvvDDkWCGw7Q0YZUtJxJzksYv3fD6fte65Pb4kxiHuVVYIcnsXuXhTtjTE9cQ2ceyrr77KsmXLePvtt8nMzFQWyElGwwhaEzW47D4pzaixJIygtaA5jrmtTIiC4PtO8VV2YGoOAgFf8O/VcFjnM8V5c9pjPvA/MGY85pIlaKtXn9jgKyth9Gh4+GFo0+bEzqE4q2lQGpQIqv/qV78iOzubvn37WkINsFboGzduHC1atOCKK64gOjraOr4uV45924kgziML4HAz8ROlurqajRs3AsEMMlkYiyB3VVUVr732Gv379ycuLg6Px0N5eTlerxefz0dUVBSBQAC3202vXr2sxa/sY5Ozr5xOhGcE4QAAIABJREFUp7Wuu2EY7Nu3j/j4eBJrWmbLSkc8h927d+NwOGjRokXY4k1N0zhy5AhHjx4lMTGRpKQk69hAIEB1dTVlZWUUFhZSUlJCUlJSSAxGcRIwJUtBVh4mQeVhiI3HlIxWowxMLbgLEPRlOUFzgW7oRNUkwTi04PmcOGpcZEH0yZNx5ObiGDYMJk4MrjjodgfrOerCMIIxkMrKYPzk6quDQflbbonEk1CchdQbAzneehvhgul2d0tdiiJS/nVx3Z07d9KiRQs8Ho+19KzsNjpR9u7dy9NPP015eTk+n88SxmJ5WnHvImtNWBWyVeTz+fB4PBiGQWJiIg8//DBxcXEhcRIgxPqYO3cu999/P2PHjuXHH38kPz8fl8tF3759eeihh0hLS7OUxOeff86zzz7LwYMHcTqdJCUlcffdd/OLX/wCr9drjevNN99kzpw5HK2pA+jQoQP33HMPffr0Yd26ddx1112UlpZSVlZGZmYmnTt3ZubMmUqBnEQsnSEUgSZe1Gwwa8/xTMPAdDgwNHASQAvoUAm4nBDlwO+s8VsRjI0EfwvGVoIxl2PXdf3jH2hPPx1sxT5qVAMGbAa7+T74YLAL7623nsBdK84VnA8//PDDx9tB9vkLX75wu4ifgUAgxH1SXwPASAZnxXnWrVvH999/T4cOHSwLIRLXqKioYMWKFZSVlVldeA3DwO/3hzwbv99PVFQU/po0SOFWAkIsBZ/PR1ZWFtnZ2bWaP8ourc2bN7N06VK2bt1K3759GTZsGD6fj6+//pqCggIGDx6Mpmls2LCBBx54gCNHjjBlyhS6d+/Opk2bWLhwITk5ObRt2xZN01i8eDF//vOfadasGePHj6dNmzZ88803LFq0iKFDh5KUlERaWhqHDh2iuLiYW265hcGDB9Pe3jRPcVLQxH8amJhoSJaHFrQ2TEAzTTRn8G/GYQbQfJXgNzBXrmXtoqW06N0Nh8tJUAUZgAMNrUaJmNbvQsU4evdGGzwYnn4ann8+aGGkp9eu+dixI1gLcs89wd9ffTXYgVdxXlOvC0turGgP/Mq1HQ3JCDoZMRC5ncqiRYtwu91cddVVViPHpiKUgLBsqqurrcWqxPMIBAJ4PJ6QJXWFy0og3gsEApYysge7IbSzsK7rTJw4kQceeACv18uECROYNm0a8+fP54477qB58+Y89thjlJeX89xzz3HppZdiGAbDhw9n9OjRPPfccwwePJi8vDwef/xxWrRowcsvv0xWVhaGYdCrVy/uvvtu/v73v/PQQw8xceJENm3axJYtWxg9ejStVGHYSUcTloYGwkII/nTUxEeCaVgBgkrErZk12w0oq4KyKspefZ2Fi5dx6dhRYBoE0NFw4sRVE6A3LIWBGYyduMQ1NaBLF/joo2Cl+YcfBqvO9+2D2Njg2MrLITsbhg2Dl1+GXr1O3QNSnNHUq0DsFkS4NFzZjXW8/U+GJWI/ftGiRei6zvXXX09UVFSTzy8sGbEeulisSu4BJoomhRtLWGqyS0sUUMrrgoRLZxb7G4aB2+2mT58+eL1eAOLj4xk+fDgrV65ky5YtJCYmsnbtWnr37k2fPn0s66VNmzZcdtllrFixgj179rBnzx7y8vKYMGECGRkZ1nPr06cP3bp1Y+PGjZSVlZGammrdZ6RiSIp6qIl1CNeSE0doqq6UiyvkPX4TSsug6AhbH3qcnZu3MGrSeJyTxoJDw4WGhvz5OTAtlxjHzA87vXoF//3f/wVfl5QEfyYkRPaeFecMjZ6ih0tTrautiX3/xrzXGETMQVgIS5cuZf78+ZaAj9T5xe8ycvV+uNRhkSUlB/hlJWvPvAJCXGVyu3xN00hJScHpdHL48GFKSkrw+XxkZ2eHVPsbhsEFF1yA3+/n0KFDlJaWYhgGWVlZVmxGZI+lpaVRUVFBcXExELQmRbsZVQF/CtBANwlaGDWOJzlQYWoQwMCFgdvUwWdCeQC+XsOPv7qT7Rt+5up7puH81UhI0sDtRDM1MEAzNEv/iFRgMEQ4xKoNqZOEBKU8FMflnGhGJVsImqZRUVHB4sWLyc7Opn///iftmo3Zty5hLGb69nVZ5GI++XqlpaUEAgErI8vlcnH06NGQ/RwOB0VFRVYmV2pqKqZpUl6T6y9iMn6/n7KyMlwul7VNVpZ1FS6e6HNQhMOBo0ZJAEGXFQQViAvQNDRTR9P1oJapCKDPmcd3f5+Jr7qSa//8RxjYF+Kj8TmdRJkOq8gwJJvr2OWCiglh8TSiil2hsHHOrInqcrnw+XyWm6hHjx506tTpdA+rTuzZV0KRBAKBkNTc/Px8yyKoqKhg1apVeDweWrdujdvtpmPHjuTm5rJr1y5L4ZSUlLBy5Uri4uLIyckhMTGRzMxM1q5dS2FhoXXdPXv2sHXrVtLT00lPT7fcdeI8dguuvuQIReMxTdBw4MGFBxdaTdQCl4FJICjkNQf4dcg/TOlv7uXHx1+gwqVx+TN/hasGQ1o6OGJxEU0wl1fDr3GsNt0M+WFpDKU8FE3lrFcgsttHVE736NGDm2++2apzONOwz+RFFbgoGpTdYa+++ipz585l06ZNvP322yxZsoROnTrRrl07oqOjGT16NHl5eTzyyCNs3ryZzZs389hjj7F7925GjhxJSkoKHTt2ZMCAAaxatYoZM2awbds21q1bx1NPPUVxcTGTJk0iOjoaXdeJj4+nsrKSr776in379llWiUApjsgiAtsmENClvwvDj2aauPx+KK6An7bw7W3Tyf3sa6KTYxj86B/hskshJgbT7SJgOEAPuqyCSgkMK2giWqNIva8Uighw1ruwNE2zCvx0XeeSSy5h7NixVsFdpGhKQDlc3ER+T87mkoPspmnSpk0bnnvuOUpKSjAMg06dOvHHP/7Rak45evRoioqKmDdvHiNGjMDhcOB2u7nzzju5/fbbMU0Tj8fDfffdR2lpKbNnz2bWrFnouk5KSgoPPfQQgwYNAoJKePDgwXzwwQf86U9/4uKLL2bWrFkRS4lW2DAJLsLkclJuGjidDkxM3JigeYKdcUtLYcFifv6fx2mmOTjYuhkXPvVX6Nkj2Grd5QITXI6g4rDqO0T8RKuxNMxQxaErK0QRAc56BQJB95Vw54wbN47YmvTDuhoWngiRrluRX8vWhwiqDxw4kH/+85907NiRAwcOsGPHDqKjo+ncuTNZWVlWnUlcXBzTpk3j6quvZsuWLQBkZGTQo0cP6zmYpkl8fDxPPvkkP/30EwcOHEDXddq1a0fnzp1Danh69uzJq6++yvbt28nKyjquxaGytCKAw4nuN3C7HeiYuNDBHwhmWhUcofRvL5D78RLiD1ZClwwufeEp6NoRojzgcllKQ6Om6aL4OAwAE1PTrHCKvXWvSpFQNJV6K9HPdETK7NatW8nMzCShJmskUsItLy+PJ5980qreFhwvMB4OMR6Hw8Evf/lLhgwZEvJ+Xe1X6ur6a9+vrm69cupwuM7F8r7hemQpJXESEZFsLdiyStMMNNMXbBWydTcH7v8z/iXb8WlQeVkrejz7V+iUA1FR4HAf628ld+mtKR4MahUHYnUPt7hejbYxNaN22rBC0UjOegtECMKcnBxrBg/hU4qbSmOVRl3HhBP89gJM4c6S+1gdbw0We0t2cR25yFMcI59T/JQLReVr1FXTc74iNzIMyW4CGhZfEMcca3II4NB1MGqUx7Kv+PGBvxK/vRgMJzGXdaL9K0/DBRkQ5cTvdOMwwKGBiW6VH5qGgeZwIJRISH2RuJT08Sn3laKpnPUKRCBm2ZFWHImJiWRkZFjps0L42tf8qAt7iq7T6aRdu3YhFgnUdm3J/cTqqrcJV6BZXy2O/Zi6FEJja3rOVkwxY+dYQDtY2CdtA4RQPtYWvaYaXMayCML8DZoAOppmBluVGDWptg5A9wfdViVl8NzLbPp/75BeWk2p24FjdB+yHv1faJEBHg9oJm4MjJouidqx8sIa5SFwoGmiVbykPGo0iaaC6YoIcNa7sE4FeXl5fPrpp1RWVlouIJfLZVkFx0NurKhpGr179+aSSy45RSNX1I9R0zakhroUSI3gDdS8rKVApDbr1JzPJNjA9v+z995xUtX3/v/z8zlnZnZnG7tLWTpSRYootiBGjD3Yo/40sRE1Rb96471qgnqNMSSmaGJi1FhQAzHq1RCjRi/hhmA0NkANFpQqUhZYtpfZmTnl98fnfM58ZnZBVAwsntfjsY/ZmTlt2vv1ebfXW0ptu7MIhCIQPxaUXmUhnYYt9ay7/iac/3mRXni0YVFyxmH0vu2H0L8arGIllhicxBMuHiIKQUXYrYgIZCeh+zO08q7rumQymTy9qx1Bh5I08cCuTfJH+JTQuYEgxJS3QjdyB44A8ALD7YVPdwbbF6unDWFErXfl4XsOPja+AClshONBewr+8TLvX/8jyt/aQDmSBiT2jKPpf8v3obwULAl2QpERgAWO8PDxsJGRNxFhtyEikJ2AnumxoyT0jmAST5RH2MNgfvtFbi65KPxVhMlnNYJWTxAUKK9EJ6uLTa2pwMj7vofUEwKR4DpKv6S5DR7+I/+6cy79V22iCIdmEgz8+peRP/pvqEiCHVOluua1Skj7WSyhPZCIQCLsHkQEspP4pG+TSRY6MV444jbCbkTBQA6HoDKpm487px3lhaNn9QTBvJnj6ConDws/WHAU4XouUnrIdBo21dH2w59RO/d5Kp0UpdjUk6Ty6pNIzrwKkmUQS4SejJP1sW2Ry7MEnlBEHhF2JyIC2QmYoabCZr+dIYHCIVvdHTfCbkIBgYS5D994Xn/EgdEGcAoIJA+htpWHrQ/g2eB60NkOy95h5TU3kHx5BWWksShmE8WMmnkRXH0pFNtQlMRFKhkTHRIDPNdH2uqOa84+jxBhNyAikI+AWToL+SWuO4Pthbs+bhgswmcEw2OAIPehSSPvl2EmzLshmoBcNLHo8JbrqlATWaApBU/9lbU3/YKqTWspYhudlLC5tC9jZl0NF3wVShIQs/FENkySu56PJaxclRiQ9TyELaNS3Ai7FRGBfAJ8kjzG9hr9ojDWngEVujJDUOpWgPIc3CwIF0QcLDuXIC+YrZGr0kJxjutAqhNa2un89b18+PMn6E8zZbTTSpbN5f0Ydct/wtfOhWQJnrDwbF2xpZ0PSyXL/eBapMSXkZpuhN2PyP/9GCiculj4nPZSTDVdjT25r0L3qmh0d/2f9vjm7a4+/qeDh4fqzTDh4pHFVclx14FUik3znoaMk6vK0qqF6jDgg+X7OfLI+tCWhlVr2fr1b9Hw84cYQD1xsrRQyubyoYy6+4dwzlegWPV4SAuE6xPDCpTX1TRCF9S5bBn+aiPyiLC7ERHIR0BLmm9vPoeusDIl2bfXHLgnYntTJGHXXL8+vu6Dga6NkLsTyoHww6nheB74LipBHYyP9Vz417sseej34PgQyOsL4YPv4ntOeDyBUCSTykB7B/z9Bd46/3KsBa/Sl3XEaKGNGOtrejPqgVvgxBOgvAIsocgBsHwBvkR6NrmfqJfjrX/TexMhwkchIpCPgM5TaCLRzYNmTkSX9pqSIz0FZje967p5eli76vhmB382mw2f2xM8EO15hNkoIZRGCMGCHxc6M7TfO4eqd2th5Sq1natJQyCExJO+Cnv5vlLYbW6Cn/2CFWd+h6HvrqKCDjwkGUrZNrKacXN/DsdPg7Ikri/wLYmDh6/f98DliCPz5CJEwV+ECLsTe42UyWcFXUFlVlF1l8swE+JmqKYnVVmZY3s/brHA9qCbJ3WYbGcbL/898HLTwv1gNSVU9lyV8mYhnYH33qP28RcYhI2/9HXE2JGQCF6H8MBxkbalejvaM7BpC1uuu5GOP73MUJpIkMGhiHYGsG14NWPu+RkcdiAki/B9gRDg4uP6GWwRlO4GITFFYkrfykyiq3P/+96pCBG6Q8+xbrsJJnGYE/rM/80Z4nq1DZ+NoONngcLchPamdtX1m4KNmkjMkNbuRtemwWAqU9aHjjQND/2e6kyKkkwjW5e+AekseD5qZqCjankdB9rTsOglPjzjEsSfXmIgLdhkaCfGNkppnDSCUY/NhsMOVbpWeAjhInERvoftxRSBiWAYlKG3qMjDy49h7X4HLsLnHD3Dwu1GmAlm08sIVU6DVXU2mw1X2/rxngDTy9Ck2F3PyidFofKwqfy7J71HQjfo6fwPlsp3rFjH+v9ZQJJ2kvhsefMtyGTBUQpato+qsmrtxLt7Nmsv/R69l6+mknXEaCZNCY30pvOwfRl+3y9hxHBIFINU+Q3HdSDo97AsS5GHD8IqGEnr53IhCC/sio8QYXciCmF9BLQB3LZtG67rks1micViYa7D93169epFcXFxuI9eXe8pK+wdwZSBj8VieUrDuwr6vdIE/FlK7n9s+CqNrqucbDO7kHJh9iMMacwiSNNJFrFxG6xbB+P3A0dCRkBdB+3Xz6Lx4X9QxXqSeEACh3LqSOIfO45hv7oFhg4OusstvEwGGY9jiyLQ0wNx8fCxpFQ1WIX8GsijgC4XjvpAIuxeRATyEchms/zjH//gsccey/NGzB6OQYMGccUVV1BZWYmUMi+XsKeTiL5Gx3G44447WLt2LTNnzmTAgAG79BxSSubOncuTTz7Jz3/+c4YPH74HvD8yT9o8dIg8oCMNW+tZ/dhChtIONBOnguKNbfDyYhgxUoW4/vU27914C+XPv8Eg2oE2wCZNJXWUYn35QAb9YhYM6Q9FCfBUrkTG4ipRrmp1g+sQQU7GRXoeUhg/z+BtyueUnBR9hAi7A3s8gXRnZHY0tW97ZandleDujAFrb2/nb3/7W3iewmO4rsu6det46KGHOO200ygrK0NKSWdnJ4lEgmw2S1FREel0GiklFRUVFBUVdXt+89pN4UatBJxIJPJem/m6HMchnU5TUlKSt79JelrQsb29HcuyKCoqCsnDcRzWrVvHsmXLaG9vzytN1q8zk8mEVWfaWzFLdPV5dKVVUVFRHuGuXbuWN954g7a2tlAPbHcj7Cj3lOgtoKqostA+91ESrS1ItiGxKKGT3rTBy0vg5OkwfwGrbr6L/pvrKKURaAGStFPGVqopOetw+v7iB1BRosJWwlYJF+02GMM61N3c+yG6fW9y0u162z17eRJhb8ceTyDdGXvTeFuWlTeGtbshT+Z+2tiasuo7QiqVIp1Oh4nywn1isRie57Fs2TLeffdd0uk0xcXFeefJZrPYtk08HmfcuHFceumlIRmYhr5wqqDjODz++OMsXbqU9vZ2Bg4cyMknn8zEiRNDInFdl/nz57Nw4UIymQxVVVUcd9xxTJkyJTTsCxYsYOnSpZxxxhn85S9/Yf369cTjcY4//nimTZvGihUreOihh3jzzTdpbW3lrrvuYsqUKZx++ulIKWlra+Ppp5/m5ZdfRkrJ8OHDOeecc+jbty+e5/HXv/6V5cuXM336dP70pz+xdetWLMviuOOOY9q0aWzevJk5c+bw2muvIYTgnnvuYcyYMVx++eW7Xc7FxwfPV5pS+mvj+rBlE8vnPc0Y3MBsO0hcyujEe2YJ0prFu/NfYER9Awk2o9hAkUcDfen1tS9SOes6qKiA0qLcvBAhwuFOhQuIoEvmI644Io4Iew6sm2666abdfRE7A5NI9H1daqqNaSaTwbKsvGofyE8UmyW3et8dobm5mZdeeonOzs7wPIUKu5CL58fj8bx+Ck1y2iupq6tjxIgR9OnTJ1TkNfW2NJF0dHTwm9/8hltvvTV8/pVXXuGZZ55h9OjRDBkyBNd1efDBB/nZz35Gc3MzAO+99x4PP/wwFRUVTJgwAcuymDt3Lr/73e9YsGABGzdupK2tjddee41FixYxevRoMpkMCxcuZMuWLaRSKeLxOH369OHAAw/EcRxuvPFGZs+eTTweJ5PJ8Oyzz/Laa69x5JFHUlZWxmOPPcb999/Pn//8Z7Zu3Up7ezuvvPIKL7zwAiNHjiQej7NgwQLWrVtHS0sLJSUlIcHs3hCWhwgaBlWiWiWn6UzDXffS+eTfKWMDcXIVdxKfbLaNzFtbKU61UEI7gmJA0Eo52+L9qPr6sVTcMhN694K4Ig8IIlVGisUPwlYRIvRU7P4YwseE6V3oMIiuHorH43klooWzvh3HyQvJ7Izx0l6NSWDmXywW60JaZhmsee5EIgGohLxJYmZntiaSV199lTlz5nDcccdx3333MXv2bG6++eYwl5BKpXj99de54447GD16NPfccw+zZ8/m5z//Ofvssw/33HMPq1atCl8DwIQJE/jNb37D/fffz7XXXks6nebll1/moIMO4u677+awww6jurqam2++mW9+85vYts2f//xnnnrqKb72ta/x0EMPcccdd3DFFVfwyiuv8L//+7/hUC3XdZk0aRIPPPAA9913H9dffz1NTU28+uqr7Lvvvvz617/mmGOOQUrJ97//fW6++eY9JD/k4/tO0Hvhqy7y+m2snvcU/YLKKwV9rRnidGCzkUocoAMPlzQD2EJvBnzrZMpu/h5UVUAibsTFtD6j4R1HZVQRejh6BIGY3oQ25q7r0tTUxMaNG9myZQsffvghmzdvpra2lq1bt1JbW8uWLVvC5zs7O8OGto+jhFtIGBqanLLZbJij0NelPQ7tnZjeiA5tmd6GeUy9/ZIlS+jo6OCyyy6jpqaGRCLB0Ucfzfnnn0/fvn2xLIunnnqKjo4OrrzySoYPH04ymWTSpEl89atfpa6ujldffTU8XnFxMZdffjmjRo2iT58+HHbYYVRUVFBbW4tlWWFOQ4fa4vE4qVSKZ555hqFDh3LWWWfh+z7JZJKTTz6ZgQMH8o9//ANQ5FhRUcFll13GgAEDqKqq4uijjyaZTPLBBx9gWRa2bZNIJMLXnEwmdzuB+EAWQUZKfCFV7qMjC48+hf3eJkpoQ1AGlALVQBKIAxXEKEV5MEnaKGVlcZyR3z+f+E1XQ1U52HF8YeELH6QHOAiRVT0fQVOgjPgjQg/HHp8D2VGiW0rJM888w9tvvx1ODCw05DU1NZx77rn069evy7F2JoluEkdhAhtyORAgzHfkxbWFCIdI6fCZLgM2CUO/Hl0m/N577wEwatSo8FiWZXHxxRcjpSSTybBp0ybKysoYMGBA3nUddNBBSCn54IMP8q5RG3B9Tfq+GQY0vaaGhgbq6+v54IMPmDFjRhie0+RdX19PZ2dneA5N0Po1ep4XJtQ1UZrSL7s7/wEy6LWww/tsa+Cd3/8PA8kARajcRgLCMJaHT2NALKobPYNg/NUXwaUXKFaIWUo0N9hetZTvOT0vESLsKuzxBFIIbQAty6K8vJxTTz2V2tpa1q1bh+u6ecnxqqoqTjjhBAYPHpx3jEJRvx1BezzdiQ2a3ozv+2QymS6NeY7jhKE1vV06ne4yF90kJICWlpa8a9DH0+TjOA5CCBKJRHhcs4JLnwcISS0ej4f7xuNxHMchm82G3ob2DrTnpK+lX79+HHPMMSSTyTxdqwEDBoTkaOZ99L5m97n+zLTHtvvJQ8FCqr48gQpfPT6PXu9soAyLDM3E6BV0idSjKMFC4OPTAsQQlFBJFYgEbGuF4hJI+1hxUE1/KumhR+UWInJCIvRk9BgCMQ2khmVZ9OvXj8suu4zZs2ezZs0aPM/DcRz69evHN77xDUaOHNlFqtw02DsbRumua1ofx/QgTG9Dh4U0yWgCMLvV9TFMEUYpJWPGjGHZsmWsWbOGUaNGhSv3v//97zQ1NXHKKacwePBgFi5cyMaNGxk8eHB4nLfeeotsNsuwYcPC4wkhSKVSQM5T0t6G/t/03ACSySRVVVVkMhkuuugihgwZ0mUyoxmyM6vjNGl1V24dj8fzPtPdBaUzhYpluUBrGx/M/R/60IRLO3Eqgif0Z2/hkg2qcAVqSlQan1bW3fxbWh/7IyNOO5bi074Mo4dDzIZYDCyJkDEcgzODDBg9JIocIUK3kJA/y0LfNxPCQJfnzdvCY3RnbAv32VkZi8LS3e6e79OnD+eddx4jR47E8zwGDRoU3i88hpmw/jjGy1xN7+j6zf4J7QmY4SFTQ2tHlWVHHHEEtm1z7733hjmcxYsXM2vWLJ5++mkcx2H69OkUFRVx//3388EHH9DR0cHy5ct55JFHqK6uZsqUKXmfiylRokufzTxMLBajo6ODLVu20NHRQTKZZOrUqXz44Yf84Q9/oK6ujo6ODtauXcu1117LggULurxu7YXoxLpZrGDbNlJK1q9fT2tr627PgYSVV24WUml4+lnke7WU0EIcD2hFkUQrKvcRw6KUXPefB6QRNFFDPUPeX0vrT+/nwy+cS+d534Y/PwcNLdCeBQfs4KP3vEhNN8LeAds0cKZMh4bZY9Glbr1g1dzdatPsuTDDPbsK+piDBg3ikksuYe7cuRx11FFMnDhxl0hyaKOvvQfP83Bdl3g8Tjqd/kjdKG2gdbWSfh/0c/p500uxLIspU6Ywffp0nnzySVavXk1NTU3oWXz9618nHo8zYcIEzj33XObOnUttbS39+/dnzZo11NbWcuuttzJy5Mgw32GWLDuOE3pI+rFYLMbgwYOpr6/nxhtv5KyzzmLGjBl89atfZf78+Tz44IO8/vrrVFRUsGbNGhoaGjjmmGNCgtKVaJoAde+L2ZU/YcIEfN/npz/9KQcddBA/+tGPdr86r+upv9YWlj38OAOCTnLIBBt0osgDFHEIoBzVNKi++xZpBC0kEJTj41BG23OLee/td2ie8Bijv3Ia/b98EvTphXBBWgRej6uqtCImidBDYf33f//3TWaCs7seikIRQU02puqsNkrmsXTcXxvMHZHRJ4WZH0gkEkyZMoWamppdlqRtamrilVdeIZNRBkVrRpm5jR3BXH3rbSdMmMCIESPyvCD9HurtYrEYxx13HL1796a5uRnHcTjiiCO47rrrwv4Oy7KYOnUqY8eqEAt4AAAgAElEQVSOpbW1lVQqxT777MN//ud/ctRRR4Whovr6ekpLSzniiCMoLy8Pk/X19fWMHTuWAw44ACklY8eODTvm+/Tpw8SJEykrK+Okk06iurqatrY2PM/joIMO4rrrruPQQw9FSklTUxMlJSUceuihVFVVha9p/fr1TJw4kcmTJyOEYOjQoWEOJplMcuyxx+5+L0QCHZ3wxJM0P/gX+jhZbDrIyd7Gg40kilSKUclzCTj4uAjKgryIQJAgTRHbsNnay6alvJh0RTF2rwrKamqQcTXbXGjy0G3oESL0QIQz0QuTv2Zi1jT2pmHeHgmYXkkmkwmrdz6LxGmhjInpcewKD2Tjxo3cfvvt1NXV5YXANCl+1PG1sdZegGVZnHXWWRx//PFdyLTw/dQeoeu6pNNpkslkl89GHyObzYZd8IWzSbo7tgnTi/A8j46OjjxJFHPRoAsV9OspfL/NRs3Cc2gC1ccvLGP+t8MPvI+GFtafdSFl/1hGKW3YZFCeRwxIo8lCkUcSlRR3yCDxKaIZB0EpncFeVVP2pfcxU9XMj0kTIVkKRTGwbdU8KG3AC8S3rIhAIvRYdIm/mB5HYe8D5EuaFyqsdleeqVfB3Xkfu8IL0cctzFGYxv7THr+zszM05NpImkOSdgRtcLUOVaHnpq9Vex+QS1Drc1qWRTKZzKvkKqwkk1JSWlqat7+ZrzGrvvR7ZYYXzfextLS0ixaWPodZ5VZYjFC4ACn8LujnNRHuStn4TwQX6HThby/ivriWEpqDwt4iPNqQYegKVNo7FdwWkSFBM0kaS4toG1xB38njGfLFw+ELh8KgwUquPWarMbVCqyV6CAmun8ESdlChFSFCz4VtNujpW3NF2trayoYNG8hms0ycOBHIX2lqI6GNijZwCxYsoG/fvvTr14+ampq8+PiuDGFtj5R2lcdj2zY1NTWsWLEiDF3p120S1vZgvjdaaqV///5dhBNNQtKEo/fX6C5nAuSRj94f8gsPdNe+qbdl7mMSgf78CyvEzPG++jzdeUxm7sv8LmnyNK9jt8J1oT3FOw/MpcZrJYaHIohOJGVkcbEpo50sGRJABSkkbUjKD9qH/odOpO8Rh8PBB0F5CdgWlCTBVkfyhAqC2YDwPXU+GagWAK7n6zHoESL0SNhmmMKEZVls3bqV++67j8bGRiZMmMC4ceO6rEq1USkMcQkhmDt3Lr169WLGjBkMGDAgT+xwV8W+C42pNoCFK/VPisrKylAQEHIJ6EQiEarT7gi687yoqIhYLMbIkSMZNmxYnjaX6YkUPgZdK7sgn1jMctruwnbdeYr6PPpchZ9fYYhKn9sknsLjFV6T2f8B5CXMTdLbbXAdWPg3ihe/QxHtQDuQCLIZJfjEaMClnWqah/ehaNxIRkw7Ann4IbBPjer5sGNKZddxIWGBJfA9D2lJcEFKVKhKeopgUFM8fKSpchIhQo9EmAMxoY3CnDlzWLRoEWeccQYnnXQS0H3OoTuvwnVdXn75ZWbPns3hhx/OJZdcAuQbrV1h4M1jfNzejp2F67p0dnbS3t4OkGfIt3tdwSVYQuZVuOmZIfkbo0aiCsBzVVzeU7O2tRAfvgiHH+V2Qq1qbSucKdHtbW7gRDDujtx9/bwbGDjzeb2fF5QOmduHl2IcVwpDlFDmb+/5Kmlsbmde146u/7O6TaVovuBS/P97lQraEaTxKKMFiw6qyQypYNi0/eGIw+Cww6FfXyiKQ5ENlo8vJXoEFQSfl2UBEtfzsUKtEg8PBymCZLwvcX1FLlEQK0JPhr29xLPrutTX1yOEoH///l1CIKlUipaWltAo+r5Pa2srbW1t9O7dm1gsxsCBAxFC0NLSQjqdJhaLhavdXTX1rrCs+LOAZVmUlJRQUlLS9cnAIPlBU5hWrMgKAE+FLwCQqv5fb2AOE/JQxiebhXQa1qyGl1+DDzeQ3tJAtiOF05rGdz1iQiJ9ge+rMCK2j4sKvES3O38rPI9Yewp38XuU4gCdZIkR22c/ek0/nF4nHA0H7A/FxWALtWPMVkRuqVZCn5xciQ9gW8HscnLkIdRnL3W6MRhNa2kOjRChB8M2jbgZX29vbyeTyYQ9ENrryGQyvPLKK7z22mvU1dXRq1cvLrvsMhzH4f7776euro6TTz6ZL37xi5SWluL7Pu3t7WGZremB7DXwwQ08BR2UCanM85SlkBIhApLTq+BUGnxLkcba1WQX/JW1CxaRWb2W5Po2Sj0PQScxBHFs7GBenU8GiYWFjUMGG4HAj2534lbN9pAo1vaoIB10hceQSGjpUB5UXEIipsgiboN0ycQgjsRzfKSdG+70EV+N4PtQMKI2qt6NsBcgDELrEAuoFbceeKTlOHSoSEpJUVERU6dO5dlnn2X58uX885//DAUN+/btSywWy5PKsG2bVCoVVhKZMfjd3gfwaWDOkNCSFMIBH2zfJuwfcF1lMIRaq0rfUd3PThqWr6L57vv58JF/0DuTYgAZBPVABgtJEUWo/oP8kJkX3I+TAOK7LQq0+28zO47ehXIhHn5AJLnJfkolN4jBYSHJ1n9Iw5330z77CXoddSBVV1wBkydCZYnay3eRtoUfRPE0EWjPI48VjOhcuK0mkcJtI0TogQirsDR5aKOeSqWQUpJOp0My0SSjG8NWrlzJxo0bee6559hvv/2YMWMG2WyWZDIZlr/qRLMu5zW713s0eRRAh0YA03oFZThBjsJ1kMKHVArqttIw+yFWPjyPoes6GUsHNo3kOqB1WKyj2/Pl/Lc0WvFVBCeObs1bHUSUKFFE88PJGh8SgI2kgd4UU9G5jc7nlrD8xcsZduF0ir95PvbIISqPY8uCClztXQQkL7zc4wVnDElDs8re8xOI8DmEvT2JkaKionAIUlVVFZCTBdfbjhw5kueffx7btjn22GMpKirKG9Uaj8fDaiVd2qnLOPcKaM/DMAI+UsnvCbXytS3wXB/LEuD70NoG769m5VU3UvTKasbRgc1WbIqBKlSvgQOU4NOBwEIZpkD+hCxqioWGhZYV/3zio167E9hpi65tTwkUAWeACkBp7SoiiQGNjGjdSutvHqD2fxcw/Gc3wjFHQZGv+v8Kjb+QAenrr4QX5jz0B6a9oty+e8lvIcLnEjaQ18/heR6NjY288cYbbN68mTFjxlBWVgZ0rcAaMGAAruuSTCbDbUxCisfj7Lvvvnz44Yc8//zzTJkyhYqKip4fujKQGyrnoYs01T0VY3eR2AKVIG/vhIUv8eb3ZjFg1TaqaMAmhbYuPoIOqkgh6CRBlsogCJYLuGSTPsICmepEOBIPC19KhOfjS/E5vJVhaGp7twhV3OAHISRV0Obi42PjIfEoQiJpp4QEkjQWfhA+bKaaDkpXuay69DpGfv8quOAcKBaqMk2XUgWpLReJFXz2JjloL0Qn8vNDkhGJROiZsLWxN/so6uvreemll2hra2PkyJFUVASrM4M8AJYsWYJlWTQ1NdHY2Ejfvn3ztisrK2Pffffl/fff57XXXmPYsGGUlpZ+pBRKT4E2CAB2GB6R2EZoQnioEt22NDwyj1VX/prhXh2lZJA0BHuX45KgmWK22AkyBw5k0KEHM2jfUVDdWzWplZeoxK4LuTJZkbNDe0ZCYs+/1WXKrqfKk7dtgfpG2lasYeMrb1K7eDV9Mxa9yaIEE9XCKEGCgfUdrL7yDkZsrIVrv6U+E4oCz+MjYHwnXHrQHIUIEXYAuztdpREjRvDtb3+bO+64g0WLFvGFL3yBfv36AYRJ8CVLlrB06VKGDx/OqlWr2LBhA0OHDmXFihWMGzcO27ZpaGjg2WefpU+fPnzjG9+gX79+3Y5w3TuQF6PARipD73vQ6cBf/85bN/6K4V49JaSAbfhI0lTSQSlNooQh/9/hVF14FkyYCMVJVTZqCVUJJINkvSeC7jTdH+LlThrh48ENem9cl9J0ljGdLix/D554kpW/m09ph6QMl1IsoJ5iUgzHY9VPH2bk4D5w3lmQtEDG0FVWVhDWDPnC+FroxcaeMUorQoRPj7w+EFPjKB6PU1ZWxvr168MJdRs3bmTVqlWUlJQwb948Tj31VFpaWlizZg1Lly5l27ZtdHZ2MmHChHCgUEdHB4MGDaKsrKzbDumenA/RKVrXdcEKOq8hSJD6gdZSCpav4J1rZjG0oYli0kADIOmklE30pfT0gxj+HxfDxHGQKFaEIWzt0ATeRkyVBNsyVzgkAOkGnogXEIsB8zH9vxdMyRNBTsa8hUBi3Mp/zPzfPKbOmZnnL9xPP28ex9xGY0f77Whfv5tzCpH/OvTjXb5rARkLR3WUF3tw0P5w4ERGfeMC6u68j21zFuFltlJOMdCGoJG+uKz88b2M6tMPpn8p+IziIFTaXtV75W5NWGhO0e9h1E0YoefCLvQCzHJdU6LddV3++c9/8txzz4VS4wceeCDr1q0jHo+zcuVK0uk0l1xySdhwqOdl6BGu5oClPUYPaRdBlWkKcLIqNu5L6EhBfQOvX3MDQzc0U8JmPFL4WKQoYzPVjLz2bLjyW1BZCkU2vojhCkuFwXwfpCDrOthSIqyg2kfHPzwPtAcZyIK4joPQ762U+AFh6OcpVAAoNKyBTpPoZjvP95GGREnh43lKzZ6H6CZU6ToOlilhYhj/wgVFSMhC5F6HJj+9jQsiqHLzfE91e8vgNej3KwhhuZ6LJS18tXHuPRFxkJ665kRChbbGjqLPT26iz4g5rPjJ/fjNTVRQDGQppR1/01beveHH7De0BiZNUASkmwc9P2jEF3m+YY489MVH5BGhZyMkkO4k27Wmlb5/yCGHhB7F0UcfDcCIESM4/fTTqaurY9q0aQwYMCA8uJb80HMzdrXU+p4ADxffssKC0LgtwHPAt5VxvPMBql9YTZIGrMDyd1DBB1VVjP/Bd+BrX1UCfBbg+hALhPZcVOUWELMkPk5wBh9fSHwh8aRU4RCh+njsWAzLjgcOkI8vQEo7vK+IyELIQHk3aG7MOFnidkzZ2pAXVPIZwPFcJckSGEjHc4hZluppCSqPfF/g+mrGuIePEFauoFYETRNChNeXzWSIxeNoCy/IkZbre9jSwhc+vudTt20bmzZsRFiSwQMHUVHZC1taZF2HbDrD5q211PTtR6JY5yNUoYGHi+e6WLatnC4LXDeLtCxVJeeBEBIcDz8uVVLezSpCjSWgzILLLmL0vsNZ+bXrsDtqKcFH4pFkI9Ur49Q/9Aeqb7oeqmNkiON7kJAykH/JsYPwyEu2Q2EpcIQIPQ/hUrBQEkQbf7NvY8iQIZx33nmhCJ4mlmOPPbZbXSytxGr+aQXavSv/EaQnPF8tKn0HMh6sWs37D/+JfcIRqRKHBE2UMuobZ8K5X4HSJI6lqoQ6MilE1kUKG98FS0qk9HDcDMmSYjzfQWIhRI5ONOxYDMd1wJfYtgyNtxcs8B3XJ2YbYoauz1/nP4vvwvSTTsQHHNdBYGFZIgi+BAWwMlDh9Vx8T2DZVkhKjgdWoAoYC0hIvSGqDgq0QnJQnRZcTyweV4ZeL1p0ZEwILGEFJOry8O8f4YEH76e1pR3LFiTixfzq17/kgEmTsS2b5xY+x09+egs/mjWLaUdOI+Nkw+sQCCzbDj0PQJEHviJPpGoFicmwSFoGryUrJHY8jogJOPJwRt38LT649i6kV0cxDcSAEhpZ8+jfqT7xBDj+SIStpHo8P6icy7oQMxZJgdivrsSK2kAi9HTk5UAKw0ta+6m5uTl8rlCi25SDNxVWhRA0NjYihKCkpITy8vLd8wo/Y0gEQntvMliF+xZ0tLPtgQcp3dJAnGbAwqeUZqopOe1QElf+PygtBWnhZBzmL1rEO++/R8wXSNcjISw8N4vjuVRUqKmA/QYOVCf1fWLCx/cVIav3PU7M0sl1DyEkvu+ixDt8YraW75B4nkNTYwO/+sVtgOS4Y48ikSgO9hd5+6kIkw9IbKkT+B6e5ys1WUvgulmEsIJImCoeEMIK97eE9jhRx/dctb3IHd+SEtfNYlkxwCOTcVi27E3u+e1dgMell3wdz3N499336FNdhSUVwbQ2t1C3uY7OjjT4gridAPI9XDtc2KjvqwzIzPXAjylSs8kicMn6PpZQAolZH6RrYZdUwIyv0WvtaprvnEdx0KuTwGVQUxtb755D36mHYMdsfFGkPAvfVRpaJgQUKgpEiNCTYZuquKZXYNs2BxxwAG+88QavvPIKgwcPplevXnlDiCDnuZjk4bou27Zt48UXX8SyLMaPH99lPseuGii1J0Dggacny0mVB1m9mrV/+T9G0Y7qJi+nFUFt/wrGf/NSKK+AeBH4kteXLOWRRx4hVlwEGQfL80kIC8fNhO/1qlVruPLKK+nfvz/YaqKdAGP+h84vKQOljLFe50LOcCnD2rdvb2bNmoVlWYH0TDpQI/CCcKOWrwnCWbiBN+oEHqZaR3ueE36uWqlAk4X6bFXsRgRDlYTwA3LTMZ3crepDUr5VPG7z1ltvsXXrZmbOnMnFF18chlP1dViWKvYoXMzoRVB3ytHmDBcpVW+6FMpbcQPi9bCwCCqqbAmehJIiev2/b7DmmX+SWtdJEZ3YdFJJGyv/9w36vrwUccw0RBxc11TiDb8k4ftv6c6eyAWJ0MNhQ9e55/qHd8ABB/CVr3yFpUuX8sADD3DVVVeFHoj5Ay0cW2tZFk888QQtLS2cfvrpfOlLX+q292NvII9cdZC6ayFV6GL+Qqo/bKYYUFaiE5d+9D3hSDj4ELCLlWHCY+3atZQXF9He2UnCtsGSpLMu8aJiHM8jm82SaWjktl/fQb/KajKeS8bLYNk20iecN5JKpRg1ahTHH3881dXVFDaoFYpilpf3AlQuPhZTK/etW7eydu1aamtrqaysZNiwYQwdOtTYX5Vnr169mk2bNlFZWcnQoUMZPHhweIyOjnaWL1/O4MGDyWazvPPOO9i2zaBBgxgxYkRAisrb0V8BcwGSzWZ5//13ee+9Fdh2HNf1WbLkdcaNG0d9fT319fWMGTMmVDnwfT9Ui9ah082bN7N8+XLa29sZMGAAkyZNyguhplIpPvjgA1avXIOUksFDB7HPiGGUJIvA93M5C1Cl0jEbBvRn+FmnsuHWOfSlkTitQD2VlNP8f/+k4gtHgPCwYjIns4+nwmNCfdahOnNUeR1hL4ANdAlhaSOTTCY58cQTOeGEE2hrawPyJwDqVZ9OkptjUy+77LLwvl7xmfvCXkIgQqjeDAE4PoFFZ+v/PU9fHCStKMmMGI34DD/nTChKqFCQDvkAmc4URZaF57vK9tgW6UwGV0AsEcfLOjQ0NNDU0KjySQJ8SyI8lRjXBliXXV9wwQXhZ1LYLArQ2dnJNddcg+/7zJs3D9u2Wb16Nddddx2vv/56OD1wyJAhzJo1iy984QtYlsXmzZu59dZb+dOf/hQef+DAgVx99dWcfPLJgGowvfjii5k6dSorV66krq4Oz/Oorq7mtttu44tf/CKQP0/GXJg0NTVxww038PbbbwPwk5/8hJqaGn77298yb948nnvuOe655x4OOOCAkHTM17ZkyRJ+8IMf8Pbbb4eDsc4880xmzpxJZWUlqVSK22+/nUcffZRUczuegLJeFZx9zllcfvnllJeo5kHtIfhSgJAIOw7nf43G+56isrktHHhr08L6BS9S8Z1WSMYVWVg5If/g25//vTEJZC/4GUT4fEJFpXfgEehwQHl5efh/d/uYz5kT7sxtzH17EnmYI191T0yoG6a1jjxULMRNw4YPaP3nakpoIUYMF0EHCWIjB8LEsRDzIBgtgVBVTlLa+L5A+BJbSHzXw5JBDtbNKhFGPLWelT5S+EjfRZKbKKlvV6xYEYZ6IN+4apiTG7PZLI7jcOedd/L2229z+eWXM3/+fG666SZaW1v5xS9+wdatW8lms/z4xz/mmWee4YorrmDBggXMmTMHKSW33HILixcvzss9LFu2jK9+9avMmzeP73znO3R0dPC73/2O1tbWkHwK1ZkBevfuzX333cf5559PMpnkJz/5CfPmzWP48OFdFiX6tehCj40bN/Ld736Xzs5O5s6dy/z587nkkkuYN28ev//97wFYtGgRc+fOZeLEiTzx1DwemvsQ++8/gTkP/Y5/LHo+OKoblE75EOSAsOPQry/JI/YjFWpwFVGMTWLVJnj5RfCV9haOCn25oaCiDOT4gzxVz/n6R4iwXXzuFRW2l4fRVWPmDHRQuaFMJpNTFPaVgbZFLOg3cGHxGxR7LiJQ1vUoxaGUwYdOVBPt4rrC7aPLmMUOQh3dPWeS3c7AcRxisRipVIpt27ZRWlrKkUceyejRoxkyZAixWIwNGzYgpWTZsmXMnz+fadOm8e1vf5tEIsGIESO4/vrrueqqq5g3bx4HHXRQeOyzzz6biy++mOLiYgYNGsQbb7zB+vXraW1tDbXTTJgLjN69e9O3b19s26ZPnz70798/JDrtJZvFHKBCbPPmzWP9+vX89Kc/ZcqUKViWxaWXXsrChQtZtGgR5513Hk1NTaTTacaPH8/wkSMoSZZQVFTEsGHDqCjrFVyMCAhEBtVkqDLmRIIhhx3EtmdeQHd6SlxK0q2wfDmccqKKahZMjMpRuIxSHxH2GnzuCaS7PhgNz/N44YUXWLlyJaAMXDarOj608KQQPgMHDuaYLx1PaVEc0tBWuy1QdVV1my4uncQonzgKM5TxWRqRnSURbXyLi4uZOnUqixcv5nvf+x5HH300hx12GNOnTw+N/XPPPYfneRx77LEkEgkcRyXUJ0+eTE1NDStXrgyJ1/d9Bg0aRDKZBKCkpCSU+Pc8r0tRhemRaM9IDzMr9HYLvY9sNks8Hqezs5P3338fy7J48cUXWbVqVbgIyGaztLS0kEqlmDRpEkOGDOGRRx6hoaGBSZMmceSRR/L9738fgcBzXaQtgqZ9oQqiReCJWB6xfUcGJQzKC7ERJIDG91dQaaoRUCDzX4iIRSL0cHzuCcSESSJSSmzb5sADD2T58uUsWbKEWCwWJmv1diNGDee0gw+mtKwYOrPgCerXbaIIgGLAxcWjHRf6VgbaVZ9tF/7H9UAymQxlZWVcdNFF9OrVi7/85S8888wzPPzww1RVVTFr1iwmT54czoTX4po6/1BSUoJt26xbty4s9Qby5t5rItC5DrOoQt/q0KZZOaVzGGaJuX4OcqHTjo4OXNcllUphWRbvvvsuK1euDLevqKigpqYGx3EYOXIkd999N/feey9vvvkmCxYs4Be/+AVnnnkm3774m5RXVag+mmDksPqsfRXwjQuoLg9E4oGgpsomS0ttA5WukSQPIlVmB3qXTyYikQg9GBGBBDBXvyaJVFZWMmPGDNrb21mzZk24cnZdl0GDBjFjxgz6VPfN5UAcD6e5BV93jZHBJ0mm1IbKXhDPNfN1Jwn170YsFqOoqAjXdclkMpx66qmcdNJJrF+/nhdeeIH77ruPW265hbvvvpvBgwcjhKCurg4gzLm0tLTQ2dkZimVqktXhJl1qrB8z9zW9C/2Yfl57eVoRQT8OuTyb3ieRSGDbNlVVVZSUlHDDDTcwevRoXNcNS4sTiQTJZBLHcRg8eDC33XYbmzZsZPXaNdx9z1387ne/Y8KYcXz5lOlkfQ8pwA4q7FzPV2EoW0B1BR4x1OfbCUAxxTQ3tearIwfo9iOOiCPCXoCeryXyKVEYDikMY0kpSSaTXHbZZYwbNw5Qsfbhw4dz2WWX0a9PX2xbhnpL+AI/7RDHRhkXT61PLR8qSsLKK9f1d6kR+aRFCdoDqa+vZ/r06Vx99dVIKRk9ejQXXHABBx98MO+99x7Nzc2MGzeORCLBH//4R5qamsLV/VNPPUVtbS1Tp04NDbxOjpsVeDrBrglBeyZmVV7hZ+C6bnhM7YmYr9csbigqKmLfffelrq6OV199ld69e9O/f3+qq6tZvnw5a9aswbIsbr31Vr785S/z5ptvMnDgQKZMmcKFF16IJzzefPPNnOYWqC5DUBpaUijOqCrHxUUFpzygnTjgtqTVqsD3c63m23EGoyreCHsDIg9kB9D9BbZtU1FREZbGZrNZzjnnHGpqagiXnI4HWQeEhy88snSi2MLHx1NJVWxwBR4+biD4t7ulvXVYqaysjAMOOIDnn3+e//qv/+Lwww9n9erVvPLKK0yaNImKigoGDhzIOeecw6OPPso111zDtGnTqKurY86cOey///6ce+65YfipcEyADk25rht6JoX9R4U5EK2jpqHJR38uQNhIqNUTzjjjDB5//HH+8Ic/0NDQwMSJE1m7di2PP/44xx57LGPGjGHy5Mk8+eST3HDDDZxy0smUlJXy+J//CMB+Eyeoa0EEHRxWWM4rhKVGhEkrqK6KoyZI2kAWK+2oEKUmn244Xa8zIOojjNDz8bknkMKVbGH5sY7ZA/Tq1YuLL76Yzs5O+vTpE3Zqq6RrDDwbOlIIywomEgLYePjEZFw1l0mVlJVi16xCC5P/Hyf/YW5fXFzMtddei2VZ/PWvf+Uvf/kLsViM/fbbj+9+97sMGjQIIQTf/va3KS0t5aGHHmLhwoUIIZg8eTI33HADw4YNA3LFBpocdLhJj0j2PI9Vq1aFSXId9rIDRd9kMsmgQYPCx7t7vdr70WMD9P3Kykpuv/12br/9dh577DEeffRRSktLOe6447jqqqtIJpN86UtfoqWlhXvuuYdbf/5zsp5Ldf8+XPGd/+C4E47H8z0sIVVTqFY/9MGzfDwE0nGw4nYwvl6Pym0nHqr7eniOQFrd04NJIhEi9GQI/+NanAgFCIjCk5DJQns773/jcnrNe4l+bAIStJFkY2kVY/58Lxw2GT9ZnDdcaO6cOSxatKhL2GdnpF70tnplns1mGThwID/4wQ/yVu+Fmmetra2cc845SCl54oknwln2vu/jOA6NjY0UFxdTUlLSpdEUIJ1O09bWRiwWI5lMhonzwtStQCAAACAASURBVIZSva9ZfLBp0yYuueQSli9f3iX3JKVk/PjxPPDAA0E3/Sf8VIJKr+bmZkpLSykqKupyfb7v01jfAFIQLysmEUsEg8CCbXwX/MBDkrmGQFG7mdUDjmEE61EsoiqyNg3YlwFv/w2/slQJNULgZhjjbXX70PadlAgRegw+9x7ILkPQFNgVgdkRVt7zOnAjIKxQ0qEZHb4xyWR70EY5nU5jWRaJRCL/7AUrdt2xvnz5cpqamhgyZAjxeDzMR0gpicVi9O7du9tKMX28RCJBLBbLq6jq7tq664Lv06cPs2bNCmVIdHWb9jaKi4vDSq+dRSHZ6pBZVVVVHgEWSulUVVfj+R5u8FIdVKeG5Xf/gXaVIRH5t8GN3mR7/B95IRH2BkQE8ikRGorwEQ/L9yis/vdiFNoYtb/vU1JSkldtpA2rDul8FPS+8XicTCZDcXFxXkjO/F97KldccQWNjY2cccYZOI5DPB7vko8oRGHPTJfhT0Hy2TTSZi5EE5Quj9b7aZIxz6kT558Uhcn4QsHQLoQD4SDJ3E7Gkxjk4eePitK5DC+IeEWjayN8XhARyKeA0qglHOqkHxSevuugEq027g6aASZPnszzzz9POp0mk1EKvPF4nFQq9ZH9IuaqWlciTZ48mUQi0a3chz7el770JcaPH8/pp58eapkVKtbuKD9kltN2t7Lv7vrM/hnToBc+bobydra6bHvbmcczH+v2GCiPQep4lR/0fpifW5fKKj15JRftioobI3xeEBHIp4YaRmRDaFy2b/K6GhYhBMOGDePqq69m5cqVeSOAd2bsb2HfSllZGRMmqEqiwionc1X/wx/+MJBvz8mwa2+hu3CQLqHVxr7w+UIDXliaW/icllAxQ3b6NWhPZVeg8PzmeTSklGHNVR43KJ1342AeaoyhLuHN6FeEUioLKtD05sauYcWV8WCU/4jQ0xERyB4ArXq7zz77fKL9za7swkY8/b/ZIQ65ccM659Gdl2EmvrvzNKBrUrrwOszzm4/pcxYSERBWvn3S3pbtodswVkD6fjALJJh51TWXUVBz60thqNLEgz92uICIynYj7G2IfO1PAS1TYUF3yZAd7yg81TNSIAhoegm6a3tH0Ma567CkXNe3mZsobMbTOZbC6inI5S/Cyy4wvma12I6S/YXEZioaa2LS12/mfHZFgaB5bd15QwgBQiCFjSVkOMbcU5Peu+pYCQp+NYVrMNklzFWYVomS5xH2Ftgfx+5F6B6F713OQOSMi1YG77JvgXE1PQPTY9geCqXQzWOZK/nuEtWQIwmz3LZwVLHpeXSX5+gO3Xk0+ngmaRRuWzgu4NOiu+OYHpHveggdzvJ8MCYJeh/jV6GVl7fPDrlS3ui3FmFvgZ1Ffa0t1GS68LfkoWZe6zp2Pfci+vYXQHsMRpK2G79O+ua2+duHjxjzVD4uujPUJsxqKMh5HIWr/MLRsPr24xr07kJT23vevNZdHbbqDnnnM6f+5lVliUBRueAr70s1vjhEzku03EDapNDJCf8z+kGIQloRej6kQBk3gSIM/YWWFJQ0akT+9/aRZw1MA/7RoajPCt0RhhkmM/tPutvnc4FgjnxhgrvbThD9lng7WaRb+BZ+Tt7SCJ8P2DE6ja4mC3wLIXJMojpmJUIU1uVH6ZOeALM0F+gSOjLDRt2FqiJEiBBhe5C4ATHo7J7wlCCcsVJS5Y3BKM4IPQo76n8wy3O316sRIUKECNuDjZXER41wBojpOnc/g5q1phK5DrrqSObJMETr1D0fZtLY1J6Crkn4wu0jRIgQYXuwyW5EuJJYohJEkUp8+K7yQuQOSjP/jRcZ4dOhMGRVWPlVSBbdiSdGiBAhQiHsNTdOIVU6nMHTLqH8oOMgHhAJniISUdhZG+VCehIKVXjNpLmeEqhRKPsRkUeECBF2BLt/64ds6fiQ0uypIB3w/WA6a3fEoPMlQTmijmVFdmaPhUkeUkpaWlp4++23w/nlQJ5ibjabJR6PM3r0aMaPH/+Zzm6PECFCz4ZteWpMt++7ICQIocrhfVDC1vnqokrPR0bliD0Muplw7ty5LF26NHzMFFE0t6uoqODCCy8MVXMhP6Sl9bMg38vRMB/T/2cyGdra2qisrOzSPGmeo6Ojg9ra2lBq3kRhY6TpVZl5ncLn9b6aSLt/fvvy6xEiROgKaXtg+fmNbi50KYK3KHQ0pGqqin5wezR0f4fneTQ2NlJbWxvmPQoVdYUQFBUVccQRR+A4DnPmzOGll14K9zertmKxGNlsNtwfcol4PbIWIJVKsXr1aubOnct5553HXXfdheM44XWZne76HH//+98599xzefrpp8NzaGjVYS39osnEFJ/U5KCnFUL+5MJMJhPuny/VkjvPp5WTjxDh8wA7zJML3UWrlEXN1jcLEL5WIlXlvNFEtZ6BwmFPqVQqNKp6RrllWTiOEw6HOvjggxk4cCBPP/00jz/+OCUlJey///552lVAngdiJuK1BMu6deu48847ee2119iwYQO+7zNo0KDwPIU9J9po9+/fn/33359Ro0YRi8VCL0UTkz5+d8Oq9LE9zwuvTxOe/l97NXnejwcuPpYl1EjbKHQXIcJHQrqicLyB22X8gUK+mJMWtI4iWXs+tIHXkwf1qt0UQ4Tc6j6RSHDCCSdw1llnkc1mmT17NosXL+4icaK9iEKxRlBeSG1tLStWrOCQQw5h5syZVFRUYNt2KOOuj2OSF8D+++/PL3/5S8aOHRuSln4NdXV1bNy4kfb29jwZeNODqa+vp7a2lra2trxrcl0Xx3Fob28Pz7t+/XoaGhpUsYiVk275KIHICBEigJ21wA0ZwwPPw5aqA10ThAvYIn8CW3czDyLsmdAGPpvN5qn3mqN0Tcl2jcMPPxzLspgzZw5PPPEEQggmTZoUhorM0buQ3+Vu2zYTJkzgt7/9LVVVVaxevZrZs2eTzWbDsbqQE33U8H2fF198kZ/97GdceeWVHH/88QC8/vrr/Pa3v2X16tV4nkd5eTkzZszg5JNPDq+7sbGR22+/nRdeeAHXdSkpKeG0007j3HPPpaKiAsuy+OUvf8nSpUs58sgjWbhwIfX1dWSzWU4/9Uwu/eY3KC1Nhu9ZhAgRdgzpCXBl1+Jc4efyHmYQxDcURaOfWM9AoR5WYce5STBasVcPfJo6dSpnn302jY2NzJkzh8bGxpB8ukuAg1rZe55HSUkJffv2DUNG6XSa4uLivLCVPhbkPKWWlhbef/99GhsbEUKwbds2rrnmGl599VUOPfRQjjrqKLZu3crNN98c5mhSqRS33HILf/jDHxg/fjxnn302ZWVl/PrXv+a2224Lr2/Lli0sXryYO++8k4qKCg499FBc1w2JBwgnDEZ5kAgRdgxb+mB5AJbKbxgjPAVgE+Q+fPWI9la6JtUj7Kkwq49Mgw3keSB6UuC//vUvmpqayGSURHkymWTs2LH861//orW1ld69e3fJOwghwsfMHIVJMIlEgs7Ozi5VVHo/7Uno/TXJvPXWW2zYsIGzzz6bWbNm4boup5xyCtdffz0rV65k6tSpPPHEEzz11FN8/etf57vf/S62bXPJJZfwrW99i8cff5zTTjuNAw44IMz7/Md//AczZswAPN59911OP+UrvPDCC5x44vG4notEdKksixAhQj5so/8YNb9CBq0dxurLl+QS6Ar5TYWFP7Qdy5arY+YdKMJnCFO2vTDhrT0PKSVFRUV0dnYyf/78vEoqbXS761DXRKCPbYbBChP4Olzlum7olXRXzus4Tt65hg0bRnFxMS+++CLPPfcckyZNYsSIEdx7770kk0mklLzxxhuUl5dz/PHHh8csLi7mzDPP5NVXX2XJkiVhIUBZWRmHHHJIcH2C3r17k0gk2Lx5MxDMLCF/LnyECBG6QuqRnngikKgO4tG+G/xJPE+CUORi4SmvxHfU0BBdnUVhwl1VdYWJ+PAfL/8vylP+W2CW6mqY0xBNIjEVfHXpbndqvpBPEmYvSaEgo0lY2iMyk/jmvrriSj82dOhQZs6ciZSSK6+8klNOOYVrr72WFStW0KtXLzzPo7a2luLiYmpqavLIp6amhmQyyYYNG8Jzm7Pm9X3LtsOSYUH+a44QIUL3kD5qiJRl2aoQ3nXxfC8c9en76nkfcEOycHPNIkFZL77Km3wUcpVdwX7Rb3Svhg5XQW6crUlO2xtspT0Vvd3ZZ5/NvHnzePDBBznttNNYvXo1V1xxBU8++SSWZYVEYvarCCHo7OyktbWVZDKZR16mB6TPrR9zPTck0ggRImwfUtrKkfDcTsABy8cTAgdJxnEVPwjw8RGBu+Ig8CwbR1pkkQXjkvTUtRg+dljuC6qyy0GSQeIIwl6SCHsvTA9HV24VNhyaDX+e54Vd7vqxJ598kh/84Ac0NDRwxBFHMHPmTG688UZSqRSLFi0im80yatQompqaeP311/PO/8YbbwDKizFnn2Sz2TwZe1BJft/3sWQuJxMhQoTtw/Z8Fb2SwkO1D3pYeHhYSDuhfmAIfM9BWjrz4eIJO4w+FUS60XkUCp4XkW7W5w6mwTbzKDof4jgOL7/8MitWrOD000+nqqqK4uJi2trawrBbIpHg97//PS0tLcyYMYPS0lJWrlwJQHl5ObFYjOnTp/PEE09w++23069fP4YMGcLixYt54IEHmDhxYlgObIbyFHHkQmua6Hy2P9M9QoQIOdiOC9IGZAwcFywPKQS+HyRbEeB7wapMufQxLBwg60FCBlkTHxAOyldxEUHyPKzWChglJjwjhBVhb4dOsutGRsdR/qoOHWWzWZ566inmz5/P2LFjOfzww/P6RHzfZ9q0aZx//vk8++yzLFq0CNu2yWQyHHLIIVxwwQV4nsfo0aO59tprueuuu/jmN79JIpEglUoxZswYbrjhBiorKwHo7OzM09cyvZDCmSiFRQARIkTIhy1lMPvc8yD8wXhY+OBnwU2Dl1U5Ed8B4SFknBglxGScMOkejL4t7CgJq7nCCi7PcEIiEtnboY3w4MGDueGGG+jfv3+eAS8qKuLCCy9k6tSpTJgwAcgl0nWCO5FIMHPmTE466SSWL19OOp2mpqaGyZMnM2DAgPBYp512Gvvttx/Lli2jsbGR6upqDj74YIYOHRpuc+GFF3LssccycODA8FyVlZX88Ic/pG9Nvy7XHSFChO3DFkGSHCECey7w3CxSZCC1Fda9A+kWJfXuOmBLEHGIV8GQsZDoiyeTCGEBEjcgBVuPx9UI//fzbqKQ1ucDZWVlnHjiiUBOyVdXgU2YMIEJEyaE3kB9fT2gyAUISWTy5MkcfPDBeeXCWlhRh5rGjBnDvvvum1cWbJYaT5gwgUmTJoXXpUuKTz7lJBAqL2PZdlTCGyHCTsD2A8cj4zrEkSCFymC0b2Hj//2RlmXzibdvVISCg4xJ2rOSePk+jDz8ZDh4OjJWDtggYti+DOaqB6l1IUAkQBYRBrR0LiQq4f1coNAYmwKJWg5FCEFbWxu/+tWvmD9/PpZlsc8+++Tta3av6/t2YOzNx/X/OudiCjcWyq/o51zHw4pJdbx/y7sSIULPhy0kpD3ATqDLcfHTsG0tTe8spKzhecqyyjmxbHBboQLw2z9k69PP07ejFvoMhVhCZeNtS5VX+YBvQ7IXDBgNRQNBluITiPn5HlJ4Ya4kwmeHwhh/d2WzH7Wvljf5JONuu9uusMJJCEEqleLJJ58kFotx0UUXMX78+J06x/a2McNQ5jbdnduyuz4WIUKEHcPu8ogXiLm7nSScdmKoJHtHVlVRSRtkoLL4/7N35mFSVOfifmvpZaZnZxiQnQFkj9wgqBBFDW4kGmOiorg+MXEPxh9okoeYa2KMccHdG5WropckrgkGEUTcEAUFF6Iju5hB2WGYrbeqOr8/qk/N6Z4BRhiEIef1Gae7uupUdTfzffXtngufzfkbxLqQQpByPIRlILAxCGWC8B5dB4/msHFXQHEUPBNhGbuYeKhpa9SWIUBwx+66bmAJ7A41vTYSiWR14G0rpEDv0KED77zzTlb8Q6PRHLzYpgDbVYoAMz2v8EwckUdj7L8o69UP14iRMCOYhsBxUpiei2FaFFv5uFaEpAcxw8YzDQzXIyQsIu5Okl++w461b3PYzu9DYUcMM4QgghB+8N7SMmK/orpvYrFYcFee21J9d6h9ssrLy9s8PiBdSp7nNcuQ0paARnPwYtuerAmXMQsThC9k0maYrocfTeSUM4gUdwPyMjm/HnhOU2GHhx9YN2X8A/BMSGyAmdWsWbsS0nG/NQo2AhfXsPzELnQcfX+iCuG8vDwmTJjAvHnzgtYee0K6rjp37swxxxxDQUFBM3fYvl6ftDTUoU9qOxSNRnNwYmcaigCuL/xN0xf+hotrwE5sCmPlYJcC+X69iDDA9sBxwAoRtPA1DX8dAXg2WA2k05kmjYYFWCAsDMMKkn11suT+RdYzSFfWoEGD6Nu3b9D2ozWo7d9t225xBvreIpWFOl43t/28RqM5OMmJgZi+oA/+Zi3SRgRE1LcwrAIEIVwy+VRhstJxBeAJB9MwMEwLyMMIFWCGYn6AXVb9+mfClV1PNPuN3GwjeWcvU2Rbg9oOXt3WFsI9tzJcnW+ulYdGc3BjNvXFlZaE6bdvFwJLuBhm2H9uhAELIfw4e3DzGtzEehg4WAgMqVVMixQmibTlWzbSQvHShPCI6F6K+x217bq801ddRa1dI7d77dfJ5NodasNEWdOhtjvRaDQHL7Zn+MaBkF0TAb/Nuv/H6xcIGhm3lokQEJINFkXGMwWZcnYy6buZ1ryGgWGG8AyRcX0J/xSe3+3XQF1As79QC+mg+UyQPdFSLUZbWSC5GWLqNeosLI3m4MY0Q5CS8XBE03wPwyQtDJJeOuNzanI/STx13ofhxzf8qYZS6bgYuIQsA9xUxj1m+cWF2OgIyP5HnfgHzeeCSOHtum7WfA4VNZVXInta5e7fWquhpQFXuTNCNBrNwY2ZSEPIJiPkHfBSfraUaWPaYSwbsAxIOyCEn2iF3+PKMsDwm7v7qxkGwsgoETwwHNLpdEaoGP66Bn5FouYbQbUS5KxydYKgOnUwd3iUrPlQM66kglDdYKryyXU/qUoh97pypxyqaOtDozn4MYWRmR2Y9lu5++4rAa4g5QrctJMR+hYyYu75A0RApICU33QROe9DTiB0wHOx7AieEQI7M7Aqc7xA6ADIN0QymQR8F5E6cla1LFqqUs+Nc8hYSO5Mddu2d+nOUoPj8jjXdbOyw+S23EC6RqM5uLGNZsZAxo1lWoRMgxIS0Lge8gWYBb5lAviKQ4bg/SC7gUnIwN/mukANURr9jr6pBLhpwPQD8xi4ni4k/CaIRCKBZeG6bjDtT1oi6t3+7lp+yGPU/lXqMao7Sp1vbtt2cAz41o5siyKvQVbI6zbqGk37wcYDQpmhUiZNbd2tEKaIk/jibfjnaiCGI8IkzTCGbYGT9OMmponwTAxcbAHCSPrNGEUI222gbt0CCsI9IGpnMrGsoGOvZwQVJJr9hNr51jT9ZoFffvklNTU1gaCWglvNsOrQoQMdO3YM3Ey5abVq3AJaDszLoVESdd66Ou9D/kjlpNaGaFeWRnPwYpuZlFxfEJhgh/y03aJOdBowgq3/msfy5VUI18KwYyREGCtkY6QbsCwbh7DfJ4kkBkkMUggMMPJ9oUA5nSuPgsLyzAxbv9tv2vMIm5ZWHvsZ2e9KWgCvvfYar7/+OrW1tXieF/TEkkJbuo8OP/xwJkyYQHl5ebCW6v6S5HbIhaYMKrm/53nE43E8zyMajRIOh1ssHISmYH4ymSQWi+3Pj0aj0ewjNgIiQMi0fMXhWmBGoKQPncddTuchx0KiBs8zwcoj7hpYuNjpRizLIG1GcYVHmCQGLp6RGUdlRBECorE86NQDinojjGimiNAjYmRShTNzRDT7Dxm3SKVSvPLKK2zatCkQ8KZpkk6nA1eTbduUl5fz8ccfk0qluOiii+jUqVNgyUB2Kq/8rVok8nXHcdixYwdPP/00VVVVwSCosWPHcsIJJwRKRJ5bKrolS5bw8MMPc+WVV/Ltb3/7AHxiGo2mNdiW5/cz8TwP0xUQthCmhRAFmPlR6FsMRgrTs8AMEROZNCyRBOEQNvMy9R1JQGAaBhACI9PyRAgghCCUqQERYLiZCYc6VXN/IwW6aZo0NDQghAjcR9JtJYcqpdNpYrEYP/rRj3jvvfdYunQpjz76KFdeeSUdOnTIWk/SUj2JLAqsrq7muuuuY926dQwYMIBoNMorr7zC/PnzmTx5MmeddRbQFP8wTRPHcdiyZQtr1qzhyy+/1ApEozmIsUP4CVWuJTBDfhsTB3AMMLGJ2HmAnTESQoDRFLQQERAZxUCmBYqR2Qe/8FCWrMvYul9gaCEws5bS7B/UQLdaayGfW5YVpFrLGEVeXh7jx48HYMmSJTzxxBNcfPHFlJeXtxiTyJ1hLtd+7rnnWLFiBRMnTmTChAkUFBQwe/ZsbrrpJp599lnOPPPMZi4s27YZPXo0lZWVdO/ePdieW4MiM8okqjUk91UD+qrik3EdwzBIp9N+JpkVxnUFhiEwlFiNRqPZNTZkQhOi+R+LBwgsDCnmg7nnAOGMJZJ5HggBf6Jb0C/LMHPG15pBC16XlgaSaL5J0uk00Wg0K5AOUFJSwvjx47Esi0WLFvHII49w+eWXU1ZWluWqailQDn6m1XvvvUdRURHjx4+nqKgIgFNPPZWHHnqIlStX4jgOoVAoq5WJbdts2bKFmTNncsYZZwTjaevr65k9ezbLli0D4LDDDuOMM86gS5cuwRrpdJpFixbxxhtvsGPHDnr27MkJJ5zA0KFDA+XxyiuvsHbtWo4//njeeecdVq1aQV5eHqecNI6jjhmZadXjYWklotHsEdsxfK+SwPY1iScImWBnBHzWxEABvgJpadZ55jW/g0kmvSuzLaNbhNHUAV7WomsOLDKlVgbTpVUihKCkpISLLrqIxsZGqqqqePTRR7n66quJxWLNgudqUFwqgnvvvZdUKkVJSUlwvg0bNlBXV0fPnj2zAu3qeNrPPvuMadOm0b17dwYMGEA6neaGG25g4cKFdO7cGdM0Wb9+Pa+88gr33HMPffr0wXEcZsyYwX333Ud+fj4dO3ZkwYIFPP/881x77bWcffbZAMyZM4fZs2fz9NNP4zgOeXkR/v3vf/P8s//g//4yg0GDBmC2kN6s0WiaY/p9sORTgeyDZQgHm0xxoYx7BPtl3FOq/8nINGI0UGadNykXWbAop936/9PN8g40UnjLTCzwrRI5QMq2bS655BIGDx5MVVUVW7dubdF1JLfJOhOALl260KtXr6w6kTlz5lBTU8Npp50WZIipFe7SGkmn04FC+eSTT5g/fz7Dhw9n+vTp/O///i9XXnkly5cvZ9asWQC899573HffffTp04fHH3+c6dOnc++99+I4Dvfffz9btmxBCEE0GiWVStG9e3ceeeQRHn/8cSZNmkRDfX0wi90TTZaYRqPZNbYIvFMOfvTDzSiHdGaXcEY5KEglgBl4rgQmrpHpbmXkWC4K0rWlOTiQWViyBqO2tpa77747KBqUc0Oi0WiQKZWb8qvGMGR1eW7Fu2EYLFy4kLvuuoujjz6a8847L+i+qyLPpxYr5lbAd+vWjUsvvZR+/fpRWVlJMpnk5ZdfRgjBT37yE/r164fneYwaNYrLLruMP/7xj7z66qucc845gRKZPHkyAwcOBDy+//3vc9sfbmfVqlWB28pAzyPRaPaEbQjfKjCDfla5pX2ZXkWZx4aiPFy8jDIwcdkNhlKxrlN2DyqkxSCEIJVKkZeXRzqdDl6TbqZ4PJ7VORcIhL9M8ZVBeLldFb7vvvsu//3f/01lZSU33HADoVAoK/AuUYPbcvvAgQM5+eSTeeONNzj33HMZNmwYxx13HGPGjKG8vBzHcfj888/Jy8tjwIABwTpCCAYNGkQsFmPVqlWBcrNtO0hJlhQUFtLY2Ogfp7wnjUaza2xTgPyRLUmEYWZUiF9c6IctVEUiaVIcFp6/T1bAnEB5GAgsXAIFkhWQ1xwo1IpvKbhlWq/as0pma8m+V6qAlfPVcxWMtDDWrVvH7373O2pqanjooYcYNGhQ8LpcTwbRZXsTqZCEEOTl5fH73/+exYsXM3/+fN59911mz57NwIED+dOf/sTgwYODrCw5KEtNX04kEsH7lOnC8r2Bl2VVgR9E18pDo9kzpisnCRpN1oHvzDIRWL7yCOIV3h7Sbncf09DOgIOPXPeT/C0rwqXglemuMltL7cYr25DkKhHZNmXixIns2LGDu+66ixEjRgTnkxaIdE3J57JVvBTsK1eu5MMPP+SYY47htttuY86cOdx0001UVVXxt7/9Dcdx6N69Ow0NDaxduzarT9cXX3yB4zhUVFRkvW85uErGf9RjTKPlDsEajSYb07MgZYAww/4WI4WBh4uHo1oIHn47dvw/7ibLI5Ouq7qn1GB78OPvmRWL1xwQcudu5M7ikLTUWFEK2tz4BjQpHvl848aN3HLLLXz22Wdce+21HHnkkSQSCRKJBPF4nGQyied51NbW8sUXX5BKpZpNOzQMg3feeYfrrruOf/7zn8TjcUzTZPDgwRiGwaZNm7Btm6OPPhrXdXnuuefYsWMHjY2NrF+/nqeeeoqSkhJGjx4drK3WlOQG8Hf1/jUaTXNs18kUjXue3y3X8rAMzy/0I1OrEVggfgjcDeIZPll/Zi3+zWlX1cHC15lE2NKx8nfu4Cfp6lIztGbMmMG8efMoKyvjtdde44033gg6AXueH7z+3ve+xy233MLcuXN57LHHGDlyZFb9hWEYjB07lr/85S/ceuutzJ49m1gsxooVKwiHw/zgBz8A4MQTT2TcuHH87W9/o7q6mh49evDxxx+zefNmJk+ezJAhQ4LrkteQ+5kEM0wQJeEMTQAAIABJREFUCE/oNF6NZg/YBSbUuxAy0r6vyhMYlhnoAZlVlYvMndH3aP9Z7OouXQ2cSzdXeXk53/nOd4KYg9wuCwhlBbx0a5WVlWWtLZVT586defjhh3nhhRdYunQpDQ0NDBgwgFtvvZWRI0cCEI1GmTJlCkcccQRz586lurqa7t27c+ONN3LccccF8ZbDDz+cxsbGoLAR/BjOiSecQK8+lf57wMAw9b9sjWZP2MFcJzftVxSamTGohtWUWSVrOwzL77SLjIugNUg7Q21lsrfHqqhxD7UdvGVZXHTRRVx88cUtnk91UZ1zzjn86Ec/CuIqMgNLFjnatk3v3r2ZOHFikCGmZlJJt1pBQQHjx4/nxz/+MYlEglgsFhRISi677LJm76uoqIh77rsn+LfsCQ+TvbfUNJr/FOwEYIQBwwYMMA0Mw8LDxRCGH9sIMqaUVNysgkFNe2B/BIVVy0MdiduSq2xXLdzVDLBFixYxd+5c0uk0Xbp0CVKMZfqt2jZFPV7N6LIsi4KCgmbKQ00KUGfFW5aF5whMW+kbhpHV40uj0TTHro3ANrcDheSRZ0fAs0gLB9tqKhJsamFCMAxK0/7YH3fU0i0llYCqOFKpFOFwONg3dxyuWoVuWRbbtm3zq8IbGhg+fDjDhw8PrlstUMwdNqXWsqh1KKrwV62g3LkmnudhWnamOXTTqGWtPDSa3WOvDw+mMdyFslAFeUY+WFYmV8rzx3VkVaE3r0jXtB92ZRl8neNzA8u5M0DUALtUHrJqXQ2yqyN1pXIoLS3l5ptvxrIsvvWtbwXHy5oTdYKiGleRgl7t46VaG7KqXa16b6qkzwTLRdN2T3h4QgfRNZo9YX/7t0+CVQBWJ/BMyATQXTeNbYX9P6xMA8TgNyCCmhD9R9ZeyFUeXycWoioI9Xggq6JcbRuvblOzqqT7SG2JIpXLySef3Kz9uqzTUEfiqi4odZsah8l1U+WOyvVfU/q1ZRqBGoaBmaMYNRpNc2zC3f0giBnLxEE8DDxsSzHflb8hnX3V/pACuqioiO985zvMnTs3aJa4p7tstdnigAED6NatWzNXkUQVtrkKZ3ev5cZRcveHpjoUVRHlvparIHeVMbar9yw3y/EFWnloNLvHxirB735oqwYGMlgeNFtU2rDrLrrtB3kXLgX+uHHjGDp0KDU1NTiOs0chKRVIYWEhPXv2xLKswFWk0Wj+s7H9CYI+QWquojyCinMDjFzFIdu8aw5aVLeSjCX07t271RlGuW4mIKg21zECjeY/G1OGOPY8n8PL/t3CBEPNwYeMG0g3lOM4WYHnPaG6fWSPKtmhV6PR/Gdj+r2pZLv1YDPgGxd+BytPcV0p/a609XHQI2se1ID3rnpf7ep4qYDkPBCJmpKr0Wj+82jhNjS7IWKTclFneTS1dtc65OBGWgqqwmgpAL6n49UiQLmejoNoNP/ZZBRIk9LI7lDij7dt2tCkONRuvFqJHNyo6a1AVj1FazKN1PjH1zlOo9Ec2piqxpCKwUV3Kdk3zEzPsAiQOtAX02LAW51/sSfUegu5XmtdYAc/imWtvB2hPlXf5i4/skjzTfI4NV6o9a7mEMJU/0E3xTxoKhI0Mj857duz9/vPxWj2TFppStUzHp6MGWUmNGYJqP1Mbuv13T1u6bk6yU99rSUFJPdt6by555TPZYPEls6du/aurld1z+3qve0qfiPc7GJCgcABf2xBswmbyPGdOYQIesRBkwYKvmgTgYlQ4o3/6X87mvZPs1Sa5rHxlueY6xi6TzNRIjI6AgMI41sg6dy9vlHUzreQ7ZJSLRHVwpACVm2OmLuPur4q3HPbm8jXc4c3qZXm6rGQrVRyUSvd1bXUKnT1WuV7lgpQbW8iBBiWtEBE5t+1dODmKCrlsRdEDxXlZ8ibhpxsxpw/lEPBbtNooMUguqa1SJefJQ05QWBhmHj4ysPwb0IPUBsxtW+UZVmsXr2a+fPns3bt2kCIypnmqgAePnw4p556KtFoNEtZyGPUNVWBro62Vc8vUdOKpSBXYzRqyrFUKLJmRX29JetnV+1TILv6XU0IcD2/ximzF64nMC0Dz3OxTCOr63TwHXu553YAA88k+4vNucvSN1yaQw2tQNoAl+YfpKVEkjxkR1plxO83OE9FZkyl02leeOEFPvvssyxhrO4nq8znzp0LwPe+9z1CoVBglah3+KqyUK0O1dXlOA5VVVWsWrWKRCJB37596d+/P6WlpVkddtX+Vxs2bGDJkiUcffTRVFRUZPWxUpVCbjNFuYaaOZa7TV63EAJhgDANOQYHPA/L9sOCYdPC9dJ+f5NAiZjgeS2aELuyKpzMbzvYyZQmqkbT7tEKZJ9RTQvhl/ObcvxvCgghMH2Z8U0GPjKo7pydO3fy1VdfBQJbCm/ZDj2VSlFaWsppp53Gq6++yty5c0mlUpx77rktpv6q888lapv1eDzOvffey1//+lfq6uoCYX7yySfz29/+Nks5qML+zTffZPLkydx2221ccMEFzZozSoWgXo/aUl72+cqdBSJ/y/1cz0VIhei4YPrrpZ00YTuEbeakKX/d707JatR+K82hiC4nbgP2VA3R1LW45XjS/kQVuKFQCNu2cRyHdDodFAbKNicFBQU4jkO3bt246qqrKCsr45VXXuEf//gHrusGcRG5puygKxWJtBCki+i5555jxowZjBo1ivnz57N48WKuuOIK3nzzTaZNm6a0VDeyLJgTTjiBqVOncvLJJ2edE8g6hxo4z90mO/hKcq/PcRws0wriHVgWwkkjgJAd+tpFkgaZ+wYyumKXlqWnuzhoDhm0BbIPyGy0Jhd6JpBsgNs0EBgTCzNNC+mgSmX//rpGpY9VMpn0ryejTGQ3XilYa2trKS0tJRQKUVlZyYUXXsiMGTOYNWsWruty5plnZrVEz22ZLgW5tCSWL19OQUEBkyZNonfv3niex4QJE5g5cyafffZZYPmo1+p5HkVFRQwdOpS8vLws99WGDRtYvXo1oVCIzp07BxMLVXdcbW0ta9eupba2li5dutCpUyeKioqCNTZv3kxjYyMdO3Zk+6aNrP78c4oLCji8TyUFBcUZI1FgmRYIt3lMQ/0d4B9l7CL/Xcc+NIcqWoHsI3sWDuEWt36TI+XVCX1qJpIUulIARyKRrLv6gQMHctlll/Hggw8GLeDPPPPMrMFQqossN8134sSJXH755XTt2jXr9UgkQkNDQ9bgJzXIPX/+fH7xi19w6623cs455yCE4KmnnuJ//ud/2LFjB4lEglAoxMUXX8zEiRMpLCzENE2WLVvGb37zG5YtW4bneYTDYcaOHcvPf/5zBg4ciOu63H333bz00kscf/zxvPrqqzQm4li2zbAhg5k2bRpFJeWYpmzDYDRXCCZq11EFgd2C0dLs+1WC8hpNe0fb0m2FEH52jjAQnoGvmx0gTZgInuOBcDK7HhgJkhtryB3CpGZsyee9evXikksuoWvXrrz88sts3LixxetXg+Dyp6Kigh49epBIJPjyyy9Zvnw59957L9u2bePMM89sMUYhFZrruoGSq66uZurUqcRiMR588EEef/xxRo8ezRNPPMHLL7+M53msW7eOX/3qV2zYsIHbbruNF198kauuuoqFCxdy8803k0qlgkSChoYGli1bxo033sgjf36YE44bw4cffcSL//wnMqQjEP536j/J4CIypbbCSOPbnwLIAzxMYYDr255B77HMXi1aMhpNO0dbIPuInGLXVMOgxjmiQIg4dYRiBb5LhEwg9yBpBRIOh0mlUoHQr6+vZ/bs2bz11lsAWe4vz/NIJBItZjmpVoSqDIQQLFy4kPvvv59t27axYcMGrrvuOsaPH98s3Ve6sGRmlXSHVVdXU19fzymnnMKYMWOwLItevXrx0EMPBfvMmjWLFStWMHnyZM4++2wMw2DIkCFs2rSJF154gbfeeouxY8cCviV24403ctppp4GAPr0ref31+XzwwUdcfDE4jodtZ3Jycxq+GRjgeliuiZ8kIX9H8AwBdtNwrKYxucHBGs0hhVYg+4jITNoyDDlty8S0ZVsL/zUTgRFPQ0MD4GEaJn7u6IE3AOVQKTWbavny5VnDptRsJxmzUOeJqBlaMjivKpPu3btz8skns3XrVhYsWMDf/vY3Bg0axEknnRTsI5HuNGmBAAwcOJCePXsye/ZsAEaPHs2wYcO49dZbg3qRZcuWUV5eHozEldf0/e9/nxdeeIFPPvmEMWPGBPGfXr16+S48AYWFhUSj+ezcuRMhyCiPzHu0fBekyDSnwRPQEMfyZKZdXuY1G6PQt6iCTyu4uyAYzCbRukRzKKAVyD4SZPH4ZghYJnklRfgfre/mCBEhnHZh6zZwlYptYRxwSeK6biCEZVBbjY2AL0ilgpAzQXZVXCjdUmp9R//+/Rk4cCDpdJpPP/2Ua6+9lttvv53jjz8+qDFR3Wu2bWfFWTp06MDUqVOZPn06H374IW+88QaRSIRx48Zx+eWXU1xczI4dO7KC7tINFolEiEaj1NTUBNcTjUazsr+yssBAVodiyQC/yLxfF3AF7KhThqslMSghiYnVsRhpfXpe5kZB/ayRymX/J09oNN8EWoHsMx6eAMswfYvCNoh0KiepuLIM0kSTDtTsBCmAZYHaAUYK3NxWH2rbdpmplas0cuMWqhvKsizeffdd4vE4xx57bKBcvvWtb3HYYYexaNGirFoN9XwyzVa1TIYNG8aQIUP46quvqKqqYsaMGTz66KN07tyZiy66iB49elBdXU0ikci6xoaGBuLxOOFwGMuycByHRCIRFD96noeHaGpb0lJ4KsiYE5D0YMNW7ECB5OERpR6DcJfSwArdnYcyqGgPnmg07RN9G7SP+LLF9eWBZULIpKRHV9KBgLGxgDANsOJzMKygoPBgSMZR6y+kQJUKQ21ZIuMkucWEstWIfCwVked5TJs2jUmTJrFq1SrAt17q6urYunUrPXr0IBzOuIeEIB6PB48h2232wAMPcNxxx7F48WJ69OjBSSedxG9/+1sMw+CNN95ACMGgQYOor68PguoAqVSKv//975imyahRowC/PkStXzFNE8fzLRXANxMMpfAQEJnYFR7gmLByLaHg27NJ4VKPRVFlNzAMhOdlKxBZahIMZtNoDg20BbKviMzdOPgWiGVgDR2ElZ8HjX4/LAuPQkr44u0l9HRd349uG4FL40AKFVVgq/EQNT1XbWWSTqebVX2rtRyqC+nUU09lyZIl/PKXv+SnP/0psViMF154ga1btzJ+/HgMwyCVSjF9+nQ++OCDIN1WCnfJt7/9baZNm8btt9/O6aefTqdOnZg3bx6maTJixAhs2+bkk09m1qxZPPHEE9i2TZ8+fViwYAHz58/ne9/7HqNGjcqKraTT6eB7C4VCNMbjeI7bdEvliYy/yfOVghAYQkAixbr3/0VMUf9JBOn8EAz/VuZ4ZeBaC5nAGs2hglYg+4gQHoZhBhmfhmlC/8Ox+laQXrYVm1oMYoRpIFW1EVasgm8f4VsilnnA70jVanAgqFRX+0epMRA1NqG6mGRGlerGGjduHLW1tTzxxBP8/Oc/RwhBWVkZ559/Pj/72c+CddasWcM777zDT37yk2AtVUGNGjWKX/3qVzz66KPcfvvtJBIJSkpKGD9+POedd14QqP/d737HHXfcwd133w34brEf/vCHXH/99YTD4SzFFw6HA7eV53nkhf1YCYLMFAMTD4GLh43AMAS4adjZwNZF/6KEBH6jTAePIhp7FsF/DQPDQpaRHPAvV6PZz2gFso+ITDsMI5NwIzOrDjv1RLYsW08ZBhZbAYNCGqh//u8UDDwcjAhYEfzWFlIQW4HQSaddQiGr+e1rUKeQ9bTVqC4rqQBya0ByLRAZJLdtO8syyI2JqNtM0yQWi3HppZdy1llnUVNTA0BxcTHFxcXB/qFQiJtuuolJkyZRUlISnFPGVeR6Z599NuPGjWPnzp2kUikKCgqCqnnwlc7gwX4x4LZt22hsbCQWi1FaWhq4ygBuuukmpkyZQjgcDhIgysvLefv11/z9bEgJ+bkaGFgI0hik/fjVs8/T86tGIjRk9kiTBDoeNxoqOoFt+w17hRcoEvU7Cr43rVw0hwBagewDmQRe0o5HKDNTwhUuVn4ITh3L+geeJdqYpBALSFNCktXPvsSQH58JRwzBxkN4Dobpfw3yLt4TELItPwtUPWHQxbX1oavc1iMy00q2MdlTUaNaca6m7ubOGNnd8aWlpRQXF2etp15bfn4++fn5uK5LQ0MD69atw/M83yKgKZBfWFhIYWFhVpBffmZSIYXDYTp16hRkl+WeKy8vL+u6BWCbFgUlZX6nXcA0mvpe2mQKz1Np2LGDz6f9lXK2ZOYPmiRI0VAYo8/YEyAaQc5oswyTprkgftaVkqy8289Mo2kv6H/JbYCZyajyhINrAiELhvSj7IfH4FCIL4YEEeroWr2RxNT/gUQSXDfj/hKkXQ9hWaQyBe0eimHiR2/x59OrP3tGNkpUFYHafLA1qPMzJOrwp92hWjmq60s9PpXyx/7u2LGDCy+8kPvvv5+CggKOPPLIZuuo1+F5HoZlBsLeFb5TyjBN7FAoeyiggX/bn/kJLAE51MVfGc8R/l2V4xECP103kYZ6AX/+P6x/b6EQgYlHEpcUvREDu8OJ34FQJhMv83XJRAkHEycrK887IJ2ZNZq2RiuQfcAgKP3wn5smghDCMKEwn54/u5SvcElRAJQBSUpJs/m5t+GJv0BdAlIuBhYhyw4K0AS+EgnKCLJ86lIIte6rU1NlpQUhA8m5c9J3hXQlqcWFQKsUUEtKJjclWLqYwuEwXbp04dxzz+Wuu+6iY8eOzfZXx9eapomBgcj8J+su5HNPeHjCyxT6KXNPVMmdKclwXf+3afn1HiHbxBAOOGlIOfCPOax4dCYxaoE6II5FCRuNMH2vutS3Pkwr+y/Ka7JygvcePPB0jETT7tEurH3EBL840PRvbl1MUmaUSNSDYYMYcPX32PTgcxTxFQUU4uJSjMcnv3uIIYd1hnGnguXPEfEQhCx/FJXvQ/fvlg1MXykpBDGXPSBdTq7rEg6HgxiHbdtZlsnuUGs7ZAyktcont6ZExl7U1GGpEPLz83nggQeaHZ+rhFRlYhgGwpNrZV5Xiztbej+B5PYQloeBwLIAw8LxBIZp+Mo8GYd4HD5Zxee/vocuW7dTEPS/gjg2xWceCaedBHaU4M/JQFEOu06UEHitvhHQaA5G9L/efUFAtjupKRvLwQTbwrrsQrYO70YdZcRpxCJKjEZ67Kyh6qrfwVPPws44xNNYaQdDOJi4hAz/7loVPi6KtyU4/x4uMTNcybIsCgsL6dGjR7PMqz0ha0A6dOhA9+7d/feXU+i3K3LdVtBUeKh24JVKTRYSQvaQqNz04txz5Pbhyn28K/w8Ky9QNrZhYbme72KMJ+GlV/jkJ9dQtnkjhdRi4OASwuUwthR3pNM1l0HU9q2PTN8sT4mUG/jZwEG6tjAzri0P92u4IjWagxFDHKjWsIcEHnj+JDuh6GJD+redlO8CWfguVZddR7d/b6EQF4Mk4JGkhE10oMdF34Wf/wx6d4W8KER9l47n+QFd6e7whY7pz2CXcqe1bhDP33fLlq28//77bPjqKwDcPbihZNPHsg4dGDFiBJ06dSIcCe32mBbJTRvzwBP+/PGgs4eyj+cKpa16zjqZVNvguaE8bmn/ltKgIDNZ2P9McQW2YUBSQDoBX30J0x7n33c9SwU7sNmKTQhBEXWU8UWHPIbePgnO/gHk54FjgGmD7T80vKZpuFnXkPkehOFkRiF/80PGNJq2QiuQfaLpDtLBxnUhIpNvBBnB70F9HGb8jVWT7uGwxm0UUIffwTUPiLKdQr7qXsKQi38EPz4TunWDkB/C9X1VgJXxmRuZznxeRvDsSYE4btAhNutxa5ENAV2vKdgj1xGt8KOp++xuf8f11zeMlq+zNefam/0Nx39vbhgcDzZtg3/+k4//7xlK/7WeLmzBZicALhYNdGVDXgd63XAukYlXQmGEtGEQMjKpwgakMy3OTH+YcYup2AKtQDTtH61A9gm/i5KP7/8OZg3Ju07D862QuiTpe/7MF797jJ7UECIBJPDbvbs4FNFImBozRPmxA+kweiQM7g8dO0JhERQWgh0CkfaFo/D8YkQDDuiIVNlE8mAlV5HI63VdcBKwfSts3wbLq2lYsJRN8z6jQCQI0UAecaLEgUYAGinjy/yOFJ9/ChV3/B4K8sC2cDB3MdZYti4xs5SIP7HSv/nQCkTTntEKZJ/YjQLJIAwPPAfDMaE+AU/+lZX/fQ/lO+sopB6TWiwEHh4mYSDKTlxcOrADk0RZHuloBNey8YRAeC62ITBMD8MSpD3Y81T2b4bW1oZ8k7QUGwlG8aYdLDdJZHOKMgQxUuSTxCCOL/EjgEsCmyQxNoZj9J90EfziKsiLIGL5gKnEpTzfvajENZrShc3gpqJJgZDZX6Npn2gFss+oMQS/JkFVIp6R9oPhnu27SBob4f13ef/ySXT/fAsdcbBoABIynItJGIc8HMK4hBFElDC9i4mHQQqPNLsamavJRijfk4EZpCdYGFh4hPz8OfwbgW34VoGHRyGbKOTL3l048uZJcNopUJQHtomLh2VGZEMUaCGrysl8o7ZQrBBTlon4FohWIJr2ilYg+4qMdUjBkWuB4IJh+IFax8M2gEQDrFpJwz0PUj39TSoQhGkkTJoQNRiZynXIx7cu8vAFm9+csenHQWditxZppeUOLs/D/6wBGhGEcMknRYh6Quww8yg9fSQVP78Khv8X5EdwDLWBZNB9ETUbT5LOKJUsBWL4gXatQDTtHa1A2hpBJj4Bqu9bhin8yuc0ePXQ0AiLP6bq/v+FD9ZQsnEbFezEpi5n0UKaLA0X3yfv+OsrdQma3aEqWkd5nAfEkXPNXQx2UsS2kmLiR/TkW9f8DL57AkQsCBlgm2DYpNMC0wo1ZVp5mYQJIwid+9XxaqzDk/8IfAXS5PLSaNonWoG0JWpdiFQgjgmmX5Sc8hwilhwDG8dCQDINjQ68ugBef5vqWW8R+nInJgkESWzkmFTpeDFxSZPAwUNgE8E6QApEVoG3J+T1+jU2IUxCJHEQeCQAenSgy7HDCX93DIw7BYoKmrLDLJExLgwEdhCf91N1M9aH0ZILy/MtEPDvJIL7Cl1IqGnfaAXSVgT5/WRagKvuDDNwkthkBI4rHzh+l1dXQMKBtAuL36Puo2XUVH9B7fovMRsTiMYkXtp3v7i2iWtbmTGrTlNNyH4gN/j8dY870AF10/J7jYlMhTkQPBZ2iHBRMZHyEg7rW0n+EQNh2FDo0AEMG2wbwjYeZpOYdwVYBp7p15Hb0sLMWBRgNtUBGeAYUoEQWCcuZI7LuD61CaJpp2gF0hZkCQzZxdULsnFcAZ7hWx627LCb2d8VmQ7wItOvyXF9d0gq7dcnOA64TpOLRJi+tDIzd8X7e7Sh+s/j69ZhfN1j9he51yKfW5mGY7blV2yGTMgL42JgCX9bSvgv2X5XxKCk3MVDGGZGMTQ5xSzIUiDCyA6uO5nfWoFoDgUOCQUiW160tkPsvq6fex7XdbFMvybD8fzHBuB5csKf4mQK1vDlWVZTQxGc0K9wD2pKvODxq/83g5WrV3LV5F/5VetWZn+5xq4eQ/Y2+Xt3BXdCsO2z5TzzzNOcdtpp9BoxgqCjrYrrgpUpLPQ8iCd46s//Q0VFJ045/zz/NVl/cTAoFBUjI8ANI2MsZtdlZBW351S677YIPqsCvinJotl6B9nHodF8Hdp9Co+cBwFkzaxQt+8rqVSKlStXEo/Hs3o6yUFL3bp1o1OnToRCIWzTn8onANOU8Q6lHXqOAjJNs2nOhpFx/ZgGhtXULkSd9vfMe4t46623+NEvfkGn/OIs5SY/AyGEP/cjM+c7mUyyc+dOLMuiqKgoawiTbJAo15fbZZbRxzu2c+czz1A8dCi9jjsu63PZlZvqyx07eHz+fLp3787xF11IJBIJPje1FXtrGzIeSIxdPsl+2kwPZG0wW96slYemndPuFYhUElIIS8HXVsIplUoxa9Ys5syZk9XJVghBKpXCNE06duzINddcQ48ePYDdKzIpOFWhLa9ZHdiUTqcJhUJ+wZsi5KWwVre1pCzVOeXxeJybbrqJcDjMLbfcgmmaWUOY1GPl+5NdcNPpdKCQJLKtu3pcOp3Gtu2gUWIymcxSSrlTDg90bESj0ew77V6BAFlCuK3dWTt37uSDDz4glUoRjUZJp9Mkk0ls2w6E8KZNm5g6dSpnnHEGoVAo2C934p9t2/Tp04eysrJA8KuCVRXIUvh6nkdNTQ2WZRGLxQLlpO5vGAbJZJLa2lpM06S4uDj4PJLJJI2NjWzZsgXP82hsbCQ/Pz84j7SOtm3bhmmaFBUVZc09D4fDCCGCVvDyfQDU1taSSCQoKioiGo0G1ysVlHzvtbW1JJPJYJStfG1/uRw1Gs03Q7tXIFIIbd68mZKSEsLhcCAU20JAOY5DPB7HsqxAcchpfpZlkU6niUQi1NfX89RTT2VZF/IaoMnN07VrV6ZMmYJpmllWgnpMKpUiHA6zefNmbr31VtauXYthGIwcOZJNmzZlDYhyXZc333yT559/nurqaizLok+fPlxzzTX06tWL559/nqeffpo1a9YAcPnllzN+/HjOOeccPM9j4cKFPPLII9TX1+N5Hn379uXqq6+mX79+eJ4XKLlUKhUI/o0bN/Lggw9SVVVFbW0txcXFnHvuuZx11lnBZ2JZFnV1ddx33328++67uK5LRUUF/+///T/69euX9d41Gk375OB3Qu8BKZg/++wzXnvtNaBpfGpb3N3KWRryrhqaZlt4nodt2yQSicAtoyoteccuXUCGYbBx40aWLl0aDGkCAmUk1wyHw2zZsoWrr75UsHzAAAAgAElEQVSal156ieLiYoYMGcL8+fNZtmxZ4EKybZtXXnmFG264gVWrVnHUUUdRUVHBvHnzuPHGG6mpqaFLly4MGDCAwsJCSktLOeKII+jUqROWZfHyyy9z7bXXsn37doYPH063bt14+eWXuf7666mrqws+Q/Wz3Lx5MxMnTmTmzJl06dKF4447jk2bNnHzzTfzz3/+M7AG0+k0H374ITNnzqRPnz507NiRd999l6uvvpr169e3alaHRqM5uDkkbgM9zyOVSjFz5kwsy+LYY48lGo22ydoyjpFOp7PcOKFQCMdx8DyPUCiUNWdcKhK5j6rI0uk09fX1zeIO8rd0Ub311lv861//Yvz48fzyl78kGo2yevVqJk6cyJo1axBCkEgkqKqqYuTIkVx//fX07duXeDzOlClTmDt3LitXruS4445j8ODBrFy5EsMwmDhxIsXFfvB92bJlDBo0iKlTp9KpUyfS6TQ33HADc+fOZfXq1QwbNgzIHh61bt06QqEQkydP5kc/+hGmaXL00Udz/fXX89Zbb3H66acDvhLv0qULt99+O0cffTSJRIInnniCqVOn8vLLL3PFFVdoF5ZG085p9wpEzeyJx+OBEhkzZkybWCHS2pBKQloOqg9fup9UJWKaZuD2kXfxMjAO2VlIuZaLZVksXboU13U577zziMViOI5D//796dmzZ+DSikajXHnllSQSCQzDYNWqVdTV1VFUVEQikaC+vj44h7wOabm4rsu1115LIpEgFAqxatUqamtrKSkpwbIstmzZknU9Mp4zbNgw7r33XlKpFNu2bWPbtm2k02ny8vKCY+Rn07dvX4YPH44Qgmg0yvjx4/njH//I+++/zxVXXKGVh0bTzmn3CkQKcPCthZ07d/Lss8/iui4nnnhim6TySqWhpt6qCqClGhGZPSXv3HOftzTnWx3h+u9//xvDMOjdu3dWkoA8nwyk79y5k3vuuYe5c+eSTqeJxWLE4/GsUbLqYzXzqqamhvvvv58XX3wRIQRFRUXE4/GsGJI8Xg34v/LKKzz88MNUV1cTiUTIy8ujpqYmeN/SJZdrWUWjUbp06cLGjRtxHCdQphqNpn3S7mMg0JTSKu90k8kkzzzzDMuWLTvQl7bLu2x1e26NhBCCWCyG53nE4/GseInrukEAPp1O86c//Yn58+fz05/+lJdffpmXXnqJK664IisVV64pBTxAIpHgD3/4A3PmzOHGG2/k73//O7NmzeLKK68MFI0U/KlUKqjleO2117jtttvo2bMnM2bMYO7cuTz22GN06dIliBcBWem/8vplYD0vL08rD43mEKDdWyBqkZ6sRQA/26lr164H8tJaRa4bDPyYQ2VlJW+88QafffYZo0ePzgrMp1KpICV38eLF9OrVi0svvZSioqIg3VgqGnmM67pEMoWFruuyfft21q5dS8+ePbn00ksDKyMSiWSlCkslkk773bw++eQTHMdhwoQJjBgxIstlJd18oVAI27ZJpVJZVtuKFStIJpN06dIluI62KvbUaDTfPO3eApEZV7ZtB4V3hx9+ONdccw0VFRUH+vJ2Sa4rS1UeoVCIE088kWg0ym233caCBQv4/PPPeeSRR/joo4+wLCuoQyktLWX9+vXMnDmTlStX8o9//INp06bheV4g9G3bJj8/n7Vr17J8+XJqa2sDK2DNmjXMmTOHqqoqnn76ae6//36EEDiOEyQAqJlYJSUlNDY28vzzz7NixQqWLl3KL3/5SzZs2BCkAsufJUuWcNddd7F69Wo++ugj7rjjDmzb5owzzsiyVjQaTfuk3VsgEnlXPnjwYM4991zKy8sPijvc3EyjltJXc9uxAAwbNozLLruMRx55hMmTJxONRoP3KC2C0tJSLrjgAh544AFuvfVWSktLSaVSxGIxIpEIn3/+OalUirKyMgYOHMj777/P5MmTmTBhAj/72c8455xzuO+++5g0aRLl5eXE43E6dOjAF198wYYNGwI3mOpeGzNmDK+++ioLFixgyZIl2LZNQUEB+fn5fPnll4HykW1TXnvtNebOnUsqlaKuro4f/vCHHHXUUQf8e9FoNPtOu1cgauC5srKSCy64gE6dOgFt186kLcmNieQG12U2l2VZXHPNNfTv359PPvmESCTCkUceieM4rFmzhtLSUlzXZcKECVRWVvLBBx9gGAYDBgygT58+LFiwgIEDBwaFlT//+c/p2rUrmzdvpn///pimyUUXXUS/fv1YtmwZ8XicoUOHUllZycKFC+nXrx+O49C3b19+//vfBym9/fr14+6772bOnDns3LmT4uJiTjjhBJYsWUJjYyO2bVNSUsI111xDeXk5JSUlvPPOOyQSCSorKzn11FODFGudxqvRtG8OiW68QgiWL19OLBYL+lG1FV999RV33HFHkGW0N6jBa8MwGD9+PCeddBKQLUTVfVSrJDc+IntxqZlbapBd9qSS5Nao5K4v04v31OBQTWO2LItUKkUoFMq6frURo3rtap+vg8Ey1Gg0+067t0CkIO3du3fQj0kVrAcLrVE+6j5q11q1Al66ldRUYrUxo5rdJF9XPwepzNRtMnakZoHlpiTLOIi8Hlkxr2Z6ycp8NatMTRtW11HPo9Fo2icHj4TdS6QAkm4RNeunLYjFYpSXlweCG5qnxLYWmdKqWkl7SvPNFf7qNrVIsKW1cj8DtXCxpTqU3Me5v1s6t3oO9Tpyz62es6V1NRpN++OQcGHtb9asWcMzzzyTVUwng8t7EoLyblzWqAwdOpSTTjpJ10FoNJp2j1YgrUBmFiUSiWZ+/tYoECCIGRQVFWUPkdJoNJp2ilYgrUAK+5aE/p4+vtyAde6x2o2j0WjaK1qB7IFdCX9Z6b0nBdDS8QdbgF+j0Wj2Bi3F9oAckAQEjQLl9tZYD6rykE0f1aaDGo1G017RFkgrUS0Jtf9Wa1AtDrVbrXZhaTSa9oxWIK1gd26sr1sQp91XGo3mUEFLslbSkp6Vc0AkMrVXPm6JvVEe6uhbiXSHaTQazYFCWyCtJHfWuRpA39WQqLZI1c21WNTn2prRaDQHEi199kCuRaFO21N1r6pM5CyNtqjzkApCrglN1ocOwms0mgOJtkD2wK7u8nfV+FA9rqWWIW11fl2IqNFoDjRagbQCdSyrFNq5GVTSGlBbnbSle0ltWijPo7O4NBrNgUS7sPaAdFmpnWXldtVdBQRxEak82ko3qzNP1q5dy9KlS0kkElp5aDSaA4q2QFpJTU0N4LuO1E60UrHEYrFg35bmnO8taqt2wzD46U9/yltvvcU777xDaWmpDqJrNJoDhnai7wHXdfnwww957rnnAmtDHeAEUFlZyfnnn09xcXFW3KMthiap0wolLc300Gg0mm+aQ0KBqC4jdeBRWwjY+vp6Zs2axdatW4PJfTILSq6/ePFibNvmwgsvJBKJZE3/g6ZA+656Z+VOJczdR74nOWt8V8dLa6UlF5pUOOrALbldHrO/4jcajebQpN0rECkk6+vrKSgoCO7Y20oANjQ00NjYiOM4zQYhyXOHQiEWLlzIokWLcF2XSCQS7K9OD4xGoxx99NFcfPHFLY6klQpGBu0dx2HevHl88skn2LbNiBEjaGxsRAhBKpUCfOVSW1vL22+/zUcffUQkEmHYsGGMHj2a/Px8Fi1aRFVVFaeccgpdu3bFMAxSqRRLlixh7dq1fPe736WiokJ3C9ZoNF+bdq9A5F3zypUrKSwspHfv3ti23WZzt13XDVxXubPN1aFSUnHJc0trSCqESCRCKpViwYIFHHnkkQwePDhQdC1ZUIlEgoceeojHH3+cvLw8wuEwzz//PHV1dViWFUxgjMfj3HHHHbz44ot06NCBdDrNE088wcUXX8wVV1xBdXU1d955J57ncckll2CaJuFwmD/+8Y/U1dVx8sknZ71f7RrTaDStpd1LCumK2bZtG4899hjbtm0D2ib+oK4jA+ZquxLwrY90Oo1pmsHYW8/zgomDMoMrkUgAvkLauHFj1jlUy0a6k5YsWcL06dOprKzkwQcf5Pnnn+eaa64hEokEg60cx+HJJ5/kxRdfZPz48cycOZO//OUvHHvsscyYMYNly5YxZswYioqKmD17NrZtY5om69at41//+hcjR46kQ4cOgfLLtTi09aHRaHZHu1cgcrofwMaNG7n77rtZtWoVsOdhT61BjReoa8q53zIuIRWHvCYZ80in0xiGESiXcDiM53lZLq7cqnYhBG+//Tb19fVcf/31jBgxgoqKCs455xy+9a1vEY1GMQyDeDzOX//6V3r37s1ll11GJBLhsMMO4/LLL6e+vp7FixdTUVHBiSeeSFVVFWvWrMHzPF566SXy8vL4/ve/n6VopcLIVZIajUbTEu3ehaWOlzVNkw0bNjBjxgwuuugiKisr93l9eWcuUQPN8pzyOmSLE9UKUeMclmWRTCaDwLXqwpJry0D9mjVrsCyLoUOHBueW7ifHcXBdl1Qqxfr169m+fTvXXXcd4XCYdDodXEt1dTUAJ5xwAi+++CLz5s1jwoQJLFmyhF69ejFgwIDA6lCtDbX1vLZCNBrNrjgkLBAgGPoUiUSorq7m4Ycf5osvvtjn9aVwzQ2gS6Ev4x0yhiHjIDJbS8Y0UqlUViW7uqZ0j0FT/6x4PI5hGOTl5QVBdWnRWJaF67pBNlhpaSmHHXYYRUVFlJWVUVFRwSmnnMKQIUMQQjB06FAGDhzIe++9x6effsonn3zC8ccfT2lpaZaCyFWWGo1GszvavQUiBaC8+5Z39A0NDcTj8TY7jxojkD9qWq46qdBxnEBZyMC4zMxSA9S5XXzV1N+ePXuyaNEi1q1bx8CBAwMrRrrHwuEwpmlSVFREhw4d+M1vfkMkEiEUCgVZWpFIBMMw6NixIyNHjuSpp56ic+fObNu2jTPOOCOI06gZYC19thqNRtMS7d4CkUJYxhyEEBQXFzN+/HgOP/zwNllf/sg7/5bu2lXXlpqVJYTIsiDUjKtcAa1uGzZsGABPP/00DQ0NCCGoqqri888/D5RIXl4eRx55JNXV1bz99ttEIhGEENTV1fHggw9SXV0dWECnnHIKDQ0NzJw5k759+2Z9NjrrSqPR7A2HhAWixh8KCwsZP348w4cPbxPBKAW/bdtBfEK6rFKp1B474sosLMdxEEIQCoWCAHpuAaEMaDuOw9ixY3nttdd46qmn+Pjjj6msrOT999/niy++CKyPSCTCddddx5VXXskNN9zA66+/TiQS4YMPPqC2tpbhw4cHcaB+/foxfPhw3nvvPX74wx9mKTONRqPZG9q9ApF32K7rUlhYyLnnnsuRRx7ZZmm8MiAuLQuZdSVrO/Y0GVBVFrJGJFd45/a7siyL0tJSpkyZQklJCVVVVaxYsYLTTjsNgKVLlwbnHjRoEA899BBPPvkky5cvx/M8+vXrx3nnncdRRx0F+MopGo1y1llnkZ+fz/HHHw9oy0Oj0ewbh0QzRdd1Wbx4Ma7rcuyxxwbb2+IOe8OGDUydOpWNGzeSn59POp3Oyp7aU5xArS6X13ThhRfy3e9+d5cDqVSrSghBbW0ttm1nNWyU1pBKfX19UGSYWxCoFilKt5qeJ6LRaPaFdi9BpOunf//+lJaWBtvbyj3jeV4QkE4mkwCtVh5AVgsUWcgniwpzYylym3xPqVSKUChEcXFx1mRE0zSzAuDy+IKCgqx91NiLGsOxLEsrD41Gs8+0ex+GFMIdOnQIBKUaUN9XIpEIxcXFWcFxWYvRGgUiBb2s8TBNky5dumTNEZFWh6okhBCEw+FmmVpq3Yi0MtRZJep1qdXz8rfcT1pSGo1Gs7e0ewUihaBMnZVCHtomDbWkpISRI0dmpdDG43Gi0WirZpJLgS5/unfvTr9+/ZpNNlRrSWRCgFQ4MptLxmJU6wKaamDAt3LUhozq5yDrSICgyFGj0Wj2lkMiBiLng+e6gdpKQHqex6ZNm2hoaMha/+sSCoWoqKggLy8vS3Hk1oG0lKGlbmvpWGgejFfJbQIplVBbJRtoNJr/PA4JBaLRaDSab55278LSaDQazYFBKxCNRqPR7BVagWg0Go1mr9AKRKPRaDR7hVYgGo1Go9krtALRaDQazV6hFYhGo9Fo9op2r0BaqgaXpS1tXeKyu3Vzu/Lm7tPSXPWW1smdR67uK6vR1dfUtibqedTpgrmTBnPX0Wg0mr2h3SsQtdWHJLeFx76iDo2SLUJUASwruj3PCxSJOuhKXqeqZNRmjOr1y+696jnle1EbI8rX1MaOub/VxyrqcRqNRrO3HBKV6C21MGmrbrzqeurQp93tJ8+rNjGUAj23fcieWq6ordfVtWX7FvU8ucep/bVUZaWO39VoNJq95ZBQIJAtiHc3NnZf1hVCZM01l40S5cRCuY/a9bYl5bGrnlfq9lyk0Fffl2yuKPuAqcflKhVVoWg0Gk1bcEgokLa2OnLX3r59O7NmzQrOkU6nCYfDgVLo168f3/nOd1oU7Or17e5xS69Jq0d2Alb3k7+XLl2K67occcQR5OXlAdnKRqJaPvKxbqao0Wj2hXY/VSg39iGFsOri2RcSiQRPP/00S5cuxTAMEokEsVgMx3FwHIdwOMy7775LXV0dJ510UjA0SrUUcmMZQIuurtzXVOGuusPkcfF4nPvvv5/t27fz5JNPZnX5zZ0vIteSbjh1m0aj0ewN7V6BSKGbSqUIh8Ntvn5tbS2rVq0KLAvbtoNhTLZtk0wmiUQizJ49m9WrVxMOh4N9gGZTAI866igGDRq0S0tJDsOSj9PpNF999RV1dXX06tWL/Px8DMMgHo+zbds2ampq8DyPrVu3Yts2hYWFgK806uvrWbduHdFolIqKCgoLC7MUiUaj0ewLh4QLC2D16tV07tyZvLy8Nr2z/uqrr7jzzjupqanJunt3XZdwOBy4meSPVBgy6K0GsqVVcfPNN9O5c+ddzgSRGVsbNmzgqquu4tNPP0UIQSQS4fzzz2fSpElMnz6d22+/HWiKb5x//vnceuutuK7LX/7yF+666y7q6+tJpVJ07tyZSZMmceaZZ2IYBqFQaL+4/DQazX8O7d4CkUKwurqa+fPnc8EFFwR36W2ZiaXGN6DJspCobiM1RTZ3oqBhGFRVVdG5c+dAabSUZbVp0yZ+85vfsGnTJn7961/Tt29fnn76aZ555hm6du3K6aefTp8+fbjzzjupr6/n17/+NYcffjie5/H6668zdepU+vXrx2WXXUYymeTJJ5/klltuoWvXrowePXqfPxONRqNp9wpECut4PM6SJUvIy8vjxz/+MeFw+KDw8bdUUJhbDCivUyoPIQTz58/nrbfeYsqUKVx88cUYhkFlZSUrVqzgjTfe4Mc//jHHHHMMJSUlmKYZPE6lUjz33HPk5+czZcoUhgwZgmVZ9OnTh3HjxvH6669zzDHHNAvMazQazdel3SsQedcu4xELFy6ksbGRCy+8kFgsdqAvLyuoLZ9L11budmm9GIbBm2++iWEY1NfX89e//jWweAzD4NNPP8V1XaLRKI7jEIlEgte2bt3KmjVr6N+/P0OHDg2URL9+/Zg3bx75+flZMZaDQclqNJr2SbtXIGq2k2maJJNJPvjgA0zTZMKECQeFElGVRC5q/EMV7PX19Xiex/Tp0wmFQriui+M4xGIxQqEQjuOQSqWwLIu6urrgPI7jsHnzZgYOHBhkicnf0sUF6CwsjUazz7R7BaLeRVuWhWEYpFIp3nvvPYYMGcKoUaMO6PXlKg9pdahpvbmFj6ZpUlJSgmVZTJs2jbKysqzaDYCOHTuSSCQAiEQiwfmEEJSVlZFOp1usR9FuK41G01a0e2liWVZWkFq6dMaMGcPw4cMP9OUBZGVpqdskagaWfD5s2DA8z2Pp0qV07dqV3r1706NHD1KpVKBEZMpvMpkMji0rK6N79+58+umnrF27NlAY69atY9SoUUHmllRYGo1Gs7e0ewWixhJkLGTUqFGceeaZWXfmB5rc4j6JzMxS25x4nsfYsWOprKzkz3/+M4899hjvv/8+06dPZ+LEiTzwwAPU19djWRbFxcVs2LCBefPmsXr1amKxGGeddRZbtmzhtttuY8GCBcyfP5+bb76Z7du3c+yxx2adV6PRaPaWdu/CkriuixCCsWPH8oMf/ID8/PwDfUkBLSkONe4h4xFSiQghqKys5M477+SWW27h9ttvx3Ec8vPzGTFiBBMnTqSgoADP8xg3bhzvvPMOU6ZM4eyzz+YPf/gDp59+Ops2beLJJ5/kkksuwTAMevXqxR133MGRRx7ZYpNFjUaj+bq0+0JCKQTnz5/P+vXrGT9+fNCnqi3YsGEDd955J9u2bcuKH+wuMJ57fWpdiG3bnHvuuZx44omtikfs2LGDTZs2UVtbS3l5ORUVFYHyMAyDZDLJ+vXr2bRpEz179qRbt24IIUgmk+zcuZMvv/ySSCRChw4dKC8vb7E/l0aj0ewN7d4CkUKwsrKSkSNHBm6rtuqFJYWxLPRT4xWtCUqrQto0TRzHCWIXrRHipaWllJaWZgXa5VoA0WiUvn370rt376wOwNFolHA4TKdOnZqtqSvQNRpNW9DupYgUqD179szqAyUFflugrqtmU7UmDTa3It2yLKLRaLDGnshVGGonXrUoUe1xpbrHXNdt1m4ldy2NRqPZG9q9ApGobUakgGyLu+zS0lJ69uxJOp0OlJKcA9IaAWzbdlCfARCLxTj88MMBgm27Q54n973JpAHpHlMzuFRLxbKsoDgxV2FpBaLRaPaFdh8Dgf0/kfD/t3duIVF1URz/z82j08zYqF0MS82GHLoIQtEFpCKDCPrsQhefqoeJFKK3HowudCHwoRtE5EMUEd2goiArEkF8ECPK8qEIzUQtL6VOOI5nZs73EGt/+xzHvGTUzLd+L+Occ/bZ+wy4/mftvfZavb29qKmpQV9fHxRFEYWlxjKFRcbfZrPBZDIhLy8Pubm545pii1YsCkBUUYhWBdEYPszTVwzDTAZxISAEpfP4HQZSzpJLe03o+M+Qa37QJke57VjGGi1rLx0H9Av60abFRmont2UYhhkvcSMgxrxOk5nnSTb0sjEeSx/yJsef1TAfS98kkHICxmiiMVpp3JHOMQzDjIeYF5DRysJOlqE0isV4vQe5jdFzGOs9ok1lGasayoxWG55DeRmG+RViXkAYhmGYPwOvpjIMwzATggWEYRiGmRAsIAzDMMyEYAFhGIZhJgQLCMMwDDMhWEAYhmGYCcECwjAMw0yIuBIQKvVq/PtXkTPgyvc2fh+tvYwxBQp9p2sbGxtRXl6O9+/f6/qLVtHwZ2Md6XOkdiP1E62/aCV6qbCX8TzDMPFHzNcDAf7bUW2xWKCqKmw2m67C36/eOxgMoqWlRWcc5fMZGRlwOp2iJC3lzKK+5eSO9GncLU/facd5Q0MDLl++jPnz54vsvXIbqmJINUbo+Ue6n/E47VBXVRUJCQnDxiILglxnJFpKFxn59+Zd7gwT38S8gBiz79psNl0q818lHA7j2bNnePjwIQYHB2Gz2YTRpv6nT5+O/fv3IyMjQxhYo9GlNpQPy2hc6RnIgNtsNt19jNl75RQmcpVBwpjahESNxIvOk3gYU6TQd/k5iGipVYzfuWgVw8Q/MS8gZLiMb8aTlUyxp6cH9fX1GBwcFLU9VFUFAGF8Ozs7cfHiRRQVFQmBISEgTyESiUBRFEyfPh1ut1sYc3nM5BVQfQ/5WQKBACKRCBwOh+656B7BYBB+vx9TpkwZVtI3HA7rMhUHAgEMDAwgNTVVnI9EIhgYGIDJZILL5RJtZY9JVVV8//4dLpcLmqYJkTN6VQzD/D+IeQEBfhjgnp4euN1uWCwW8bY+GckCqR5IQkKCMO5ktIeGhgD8eEvv6OhARUXFsPUQq9WKYDAojL7H48HBgweHGVzZezCbzaJ4VXt7O06ePInGxkaYzWYsXboUPp8PSUlJ4vpXr17hxo0baG5uhqIoyM3Nxd69ezFjxgxomoa2tjacOXMG+fn56OrqwosXLwAAOTk5KCkpQVNTE+7evYvW1la4XC4UFhZiy5YtSEhIgNlshqqqqK6uxs2bN/H161dMnToVRUVFKCwshN1uj/obs/fBMPGP5ejRo0f/9CB+BTLor1+/xocPH5Cdna2r2ver9PX1oa6uDoFAQPRHb/ImkwlWqxWqqgovg7whEjJ5islms6Gnpwfp6emYNWuW8C5kj4U8qrdv3+Lp06eoqanB4OAg5syZg3fv3qG6uhoJCQlYsmQJLBYLGhoaUFpaipaWFixevBhmsxmPHz/G06dPsWzZMqSlpeHjx4+4cOECHj9+jP7+fuTk5KCnpwdVVVWora3F3bt34XQ6kZmZiZcvX+LRo0fwer3weDzQNA0PHjzA4cOHYTab4fV60d7ejmvXrsHtdiMvL09XwOp3ZUNmGObvI+Y9EBILv9+P+/fvQ1EULF++HAB0dTMmCokFeTUkFORphMNhUW2QFrNDoRAsFovwIsi7UFUVkUgE3759E0aXFr6N00C0PlFQUIBDhw4hOTkZzc3NOHDgAOrq6rBnzx5omoaTJ08iHA7j+PHjWL16NQKBACorK1FWVobr16/j2LFj4jdauHAhzp8/j2nTpsHv96O0tBQNDQ3YuHEjjhw5ApvNhidPnuDw4cOoqqrC2rVr0dvbixMnTiAzMxNnzpxBZmYmWltbUVpaijt37mDdunWYPXt2VKFg8WCY+CZu5hk0TcPAwABu376N2tpa4QVMxn1JJIzTTBT5RHXSAYhj1NboWZDYkOchR5DJC9J0zw0bNiArKwtutxsejwepqano7u6Gpmlob29HXV0dli9fjjVr1sBqtcLlcmHjxo3IzMxEVVUVgsGgGHNeXh7mzJkDh8OB9PR0eL1ehMNhFBcXIzk5GUlJSVi4cCGcTicCgQBUVUVtbS2+ffuG9evXIy0tDWKIUK4AAARLSURBVIFAACkpKVi5ciW6urrQ1tY2zOsARq/UyDBM7BPzHoiM2WyG3+/HrVu3EAqFUFBQMCkeCDC+srJG5GtoqifauIxRTFarFYqiCO+EPCCaGvv8+TOsVis8Ho/Oe6F1kLq6OnR2doo+aV2I+kpMTITJZILb7RZjsFqtsNvtQhA/fvwITdNQXl6OU6dO6UTOZDKhq6tL97vQmonNZuNILIaJc2JeQMgg0pu9pmnw+/24d+8e0tLSsGjRoj88wp9jDJ8lYaGwW2OEGQARDUZRYKqqDovo8vv9AKDzbGg/CF0jBxqQsVcURYiRPG23fft2LFiwQBcOrGka8vPzdf1GIhERncXiwTDxTcwLCBnHYDCoM7B2u12Eqf7NkEE3TrnJ02PytRTiGwqFMHfuXEQiETQ2NmJoaEiE7/b29uLdu3dwOByYOnUquru7daHN9Le8l4XWZChcmPqfN28eNE1Deno6du7cqRu7vEPeWFqXxs0iwjDxS1z8d4fDYTEdYzabkZWVhZKSEqSnp//poY2KvDtcJhKJiKkg4L8d4fLaS3JyMjZt2oT6+npUVFSgo6MDLS0tOHfuHPr7+7Ft2zYkJSXpprdkw26sl04bGOm4pmlYsWIFZs6ciatXr6KyshJtbW1oamrC2bNn4fP50NfXp0t9Im+UZPFgmPgm5j0QirQaGhoSaUV27dqF2bNn/+mhjZlou7fNZjMSExOhqqruGek64Iex9vl8aGpqwpUrV1BZWYmhoSF8+fIFRUVFKC4uFmsStJFQ7lMOvaVjtKmQhM3lcqGsrAynT59GWVkZsrKy4Pf70dnZiZ07dwohkkOY5WdiGCZ+iXkBkef3Z82aBZ/PJzyPydqN/juRPQD5jd3r9cLn88Hr9Qpjb7VasXXrVoTDYdjtdlgsFuTm5uLSpUt4/vw5mpqaEA6H4fF4sHnzZiiKAgDIyMjAvn374PF4dL/HqlWrkJycLBbRNU1DSkoKdu/eDafTCUVRoGkaNmzYAI/Hg+rqanz69AkpKSnIz8/HsmXLkJiYqBu7HGwgCwrDMPGHSYuTlKlv3ryB0+lEVlYWgMkTj/b2dpSXl6Ovr093XH5zHw8mkwk7duxAYWGh7jiN1xjlZTxu/CSvRd60KBtt43V0TD4XzQOKlkRRVVUxNSX3Iefp4s2DDPP/IeY9ECInJwd2u12XSDEWwkijZc+V1ynkjL7G9Qq6RtO0YQkV5Y2JsidgzBJMbeSFdOpXTgRJe1jomDwWOTw4WqgzwzDxyd9tXceB3W4HoF+UngzxmDJlCtLS0nSRRbKxHQvGVO60PjPS9JXxDZ8YySgb1zaM95PPR/PK5AVv4zhGuq9xLEYRZBgm/okbD+R34XA48M8//+DmzZvCMFL46lgMJU0rhUIhKIoCr9eL7OzsMbdnGIb5W4mbNZDfzeDgoNhrEgqFRHbe0TB6Lg6HA1arVezbYBiGiVX+BcAykQttUbF9AAAAAElFTkSuQmCC)\n"
      ],
      "metadata": {
        "id": "bb1z-7AYTH5N"
      }
    },
    {
      "cell_type": "markdown",
      "source": [
        "**①Json_filesフォルダを作成**"
      ],
      "metadata": {
        "id": "INh6nDH0qNWx"
      }
    },
    {
      "cell_type": "code",
      "source": [
        "import json\n",
        "import codecs\n",
        "import os\n",
        "import pandas as pd\n",
        "from pandas import json_normalize\n",
        "import glob\n",
        "import shutil\n",
        "\n",
        "dir = \"/content/json_files\"\n",
        "os.makedirs(dir, exist_ok=True)"
      ],
      "metadata": {
        "id": "HfkVA0nyorm0"
      },
      "execution_count": null,
      "outputs": []
    },
    {
      "cell_type": "markdown",
      "source": [
        "**②Jsonファイルを結合してCSVに出力**"
      ],
      "metadata": {
        "id": "jS6t2wSNqXxK"
      }
    },
    {
      "cell_type": "code",
      "source": [
        "#②jsonファイルを開いて結合\n",
        "json_dir = \"/content/json_files\"\n",
        "json_list = glob.glob(json_dir+\"/*\")  #json_dir内のファイルリスト\n",
        "\n",
        "#空のデータフレームを作成\n",
        "#pq1:date, pq2: HashID, pq3: ID, pq4: imageNum, pq5: side, pq6: hospital, pq7: disease, pq8: free\n",
        "df = pd.DataFrame(columns=['pq1', 'pq2', 'pq3', 'pq4', 'pq5', 'pq6', 'pq7', 'pq8'])\n",
        "\n",
        "for idx, jsonpath in enumerate(json_list):\n",
        "    with open(jsonpath) as f:\n",
        "        jsondata = json.load(f) #Jsonファイルを開く\n",
        "    df.loc[idx, :] = jsondata     #データフレームに追加\n",
        "\n",
        "df = df.set_axis(df[\"pq2\"].tolist(), axis=0)  #pq2(HashID)をインデックスに\n",
        "df = df.drop([\"pq2\"], axis = 1)      #不要な列を削除\n",
        "df.columns = [\"date\", \"id\", \"imageNum\", \"side\", \"hospital\", \"disease\", \"comment\"] #項目名をリネーム\n",
        "df"
      ],
      "metadata": {
        "colab": {
          "base_uri": "https://localhost:8080/",
          "height": 300
        },
        "id": "t9KtuJf7MHgx",
        "outputId": "4b731337-5061-4902-c2f2-c45de6b2307a"
      },
      "execution_count": null,
      "outputs": [
        {
          "output_type": "execute_result",
          "data": {
            "text/plain": [
              "                  date        id imageNum side hospital disease comment\n",
              "hashhashhash  20220102  idididid        1    右      ●●大      正常        \n",
              "hhashhashhas  20220102  didididi        3    左     ▲▲病院      瘢痕        \n",
              "shhashhashha  20220108  didididi        2    左      ■■大      正常        \n",
              "ashhashhashh  20220103  didididi        1    左      ■■大     翼状片        \n",
              "pafeitpafeit  20220106  ddddiiii        1    左      ■■大     翼状片        \n",
              "tiramisutira  20220109  idididid        2    左      ■■大      正常        \n",
              "pannacottapa  20220101  iiddiidd        1    左     ▲▲病院      瘢痕        \n",
              "icecreamicec  20220105  iiiidddd        1    右      ●●大      正常        "
            ],
            "text/html": [
              "\n",
              "  <div id=\"df-c3939a1d-1646-4303-978c-845dcca90491\" class=\"colab-df-container\">\n",
              "    <div>\n",
              "<style scoped>\n",
              "    .dataframe tbody tr th:only-of-type {\n",
              "        vertical-align: middle;\n",
              "    }\n",
              "\n",
              "    .dataframe tbody tr th {\n",
              "        vertical-align: top;\n",
              "    }\n",
              "\n",
              "    .dataframe thead th {\n",
              "        text-align: right;\n",
              "    }\n",
              "</style>\n",
              "<table border=\"1\" class=\"dataframe\">\n",
              "  <thead>\n",
              "    <tr style=\"text-align: right;\">\n",
              "      <th></th>\n",
              "      <th>date</th>\n",
              "      <th>id</th>\n",
              "      <th>imageNum</th>\n",
              "      <th>side</th>\n",
              "      <th>hospital</th>\n",
              "      <th>disease</th>\n",
              "      <th>comment</th>\n",
              "    </tr>\n",
              "  </thead>\n",
              "  <tbody>\n",
              "    <tr>\n",
              "      <th>hashhashhash</th>\n",
              "      <td>20220102</td>\n",
              "      <td>idididid</td>\n",
              "      <td>1</td>\n",
              "      <td>右</td>\n",
              "      <td>●●大</td>\n",
              "      <td>正常</td>\n",
              "      <td></td>\n",
              "    </tr>\n",
              "    <tr>\n",
              "      <th>hhashhashhas</th>\n",
              "      <td>20220102</td>\n",
              "      <td>didididi</td>\n",
              "      <td>3</td>\n",
              "      <td>左</td>\n",
              "      <td>▲▲病院</td>\n",
              "      <td>瘢痕</td>\n",
              "      <td></td>\n",
              "    </tr>\n",
              "    <tr>\n",
              "      <th>shhashhashha</th>\n",
              "      <td>20220108</td>\n",
              "      <td>didididi</td>\n",
              "      <td>2</td>\n",
              "      <td>左</td>\n",
              "      <td>■■大</td>\n",
              "      <td>正常</td>\n",
              "      <td></td>\n",
              "    </tr>\n",
              "    <tr>\n",
              "      <th>ashhashhashh</th>\n",
              "      <td>20220103</td>\n",
              "      <td>didididi</td>\n",
              "      <td>1</td>\n",
              "      <td>左</td>\n",
              "      <td>■■大</td>\n",
              "      <td>翼状片</td>\n",
              "      <td></td>\n",
              "    </tr>\n",
              "    <tr>\n",
              "      <th>pafeitpafeit</th>\n",
              "      <td>20220106</td>\n",
              "      <td>ddddiiii</td>\n",
              "      <td>1</td>\n",
              "      <td>左</td>\n",
              "      <td>■■大</td>\n",
              "      <td>翼状片</td>\n",
              "      <td></td>\n",
              "    </tr>\n",
              "    <tr>\n",
              "      <th>tiramisutira</th>\n",
              "      <td>20220109</td>\n",
              "      <td>idididid</td>\n",
              "      <td>2</td>\n",
              "      <td>左</td>\n",
              "      <td>■■大</td>\n",
              "      <td>正常</td>\n",
              "      <td></td>\n",
              "    </tr>\n",
              "    <tr>\n",
              "      <th>pannacottapa</th>\n",
              "      <td>20220101</td>\n",
              "      <td>iiddiidd</td>\n",
              "      <td>1</td>\n",
              "      <td>左</td>\n",
              "      <td>▲▲病院</td>\n",
              "      <td>瘢痕</td>\n",
              "      <td></td>\n",
              "    </tr>\n",
              "    <tr>\n",
              "      <th>icecreamicec</th>\n",
              "      <td>20220105</td>\n",
              "      <td>iiiidddd</td>\n",
              "      <td>1</td>\n",
              "      <td>右</td>\n",
              "      <td>●●大</td>\n",
              "      <td>正常</td>\n",
              "      <td></td>\n",
              "    </tr>\n",
              "  </tbody>\n",
              "</table>\n",
              "</div>\n",
              "    <div class=\"colab-df-buttons\">\n",
              "\n",
              "  <div class=\"colab-df-container\">\n",
              "    <button class=\"colab-df-convert\" onclick=\"convertToInteractive('df-c3939a1d-1646-4303-978c-845dcca90491')\"\n",
              "            title=\"Convert this dataframe to an interactive table.\"\n",
              "            style=\"display:none;\">\n",
              "\n",
              "  <svg xmlns=\"http://www.w3.org/2000/svg\" height=\"24px\" viewBox=\"0 -960 960 960\">\n",
              "    <path d=\"M120-120v-720h720v720H120Zm60-500h600v-160H180v160Zm220 220h160v-160H400v160Zm0 220h160v-160H400v160ZM180-400h160v-160H180v160Zm440 0h160v-160H620v160ZM180-180h160v-160H180v160Zm440 0h160v-160H620v160Z\"/>\n",
              "  </svg>\n",
              "    </button>\n",
              "\n",
              "  <style>\n",
              "    .colab-df-container {\n",
              "      display:flex;\n",
              "      gap: 12px;\n",
              "    }\n",
              "\n",
              "    .colab-df-convert {\n",
              "      background-color: #E8F0FE;\n",
              "      border: none;\n",
              "      border-radius: 50%;\n",
              "      cursor: pointer;\n",
              "      display: none;\n",
              "      fill: #1967D2;\n",
              "      height: 32px;\n",
              "      padding: 0 0 0 0;\n",
              "      width: 32px;\n",
              "    }\n",
              "\n",
              "    .colab-df-convert:hover {\n",
              "      background-color: #E2EBFA;\n",
              "      box-shadow: 0px 1px 2px rgba(60, 64, 67, 0.3), 0px 1px 3px 1px rgba(60, 64, 67, 0.15);\n",
              "      fill: #174EA6;\n",
              "    }\n",
              "\n",
              "    .colab-df-buttons div {\n",
              "      margin-bottom: 4px;\n",
              "    }\n",
              "\n",
              "    [theme=dark] .colab-df-convert {\n",
              "      background-color: #3B4455;\n",
              "      fill: #D2E3FC;\n",
              "    }\n",
              "\n",
              "    [theme=dark] .colab-df-convert:hover {\n",
              "      background-color: #434B5C;\n",
              "      box-shadow: 0px 1px 3px 1px rgba(0, 0, 0, 0.15);\n",
              "      filter: drop-shadow(0px 1px 2px rgba(0, 0, 0, 0.3));\n",
              "      fill: #FFFFFF;\n",
              "    }\n",
              "  </style>\n",
              "\n",
              "    <script>\n",
              "      const buttonEl =\n",
              "        document.querySelector('#df-c3939a1d-1646-4303-978c-845dcca90491 button.colab-df-convert');\n",
              "      buttonEl.style.display =\n",
              "        google.colab.kernel.accessAllowed ? 'block' : 'none';\n",
              "\n",
              "      async function convertToInteractive(key) {\n",
              "        const element = document.querySelector('#df-c3939a1d-1646-4303-978c-845dcca90491');\n",
              "        const dataTable =\n",
              "          await google.colab.kernel.invokeFunction('convertToInteractive',\n",
              "                                                    [key], {});\n",
              "        if (!dataTable) return;\n",
              "\n",
              "        const docLinkHtml = 'Like what you see? Visit the ' +\n",
              "          '<a target=\"_blank\" href=https://colab.research.google.com/notebooks/data_table.ipynb>data table notebook</a>'\n",
              "          + ' to learn more about interactive tables.';\n",
              "        element.innerHTML = '';\n",
              "        dataTable['output_type'] = 'display_data';\n",
              "        await google.colab.output.renderOutput(dataTable, element);\n",
              "        const docLink = document.createElement('div');\n",
              "        docLink.innerHTML = docLinkHtml;\n",
              "        element.appendChild(docLink);\n",
              "      }\n",
              "    </script>\n",
              "  </div>\n",
              "\n",
              "\n",
              "<div id=\"df-4f4c1318-e373-4e1c-b124-62acd48c0b89\">\n",
              "  <button class=\"colab-df-quickchart\" onclick=\"quickchart('df-4f4c1318-e373-4e1c-b124-62acd48c0b89')\"\n",
              "            title=\"Suggest charts\"\n",
              "            style=\"display:none;\">\n",
              "\n",
              "<svg xmlns=\"http://www.w3.org/2000/svg\" height=\"24px\"viewBox=\"0 0 24 24\"\n",
              "     width=\"24px\">\n",
              "    <g>\n",
              "        <path d=\"M19 3H5c-1.1 0-2 .9-2 2v14c0 1.1.9 2 2 2h14c1.1 0 2-.9 2-2V5c0-1.1-.9-2-2-2zM9 17H7v-7h2v7zm4 0h-2V7h2v10zm4 0h-2v-4h2v4z\"/>\n",
              "    </g>\n",
              "</svg>\n",
              "  </button>\n",
              "\n",
              "<style>\n",
              "  .colab-df-quickchart {\n",
              "      --bg-color: #E8F0FE;\n",
              "      --fill-color: #1967D2;\n",
              "      --hover-bg-color: #E2EBFA;\n",
              "      --hover-fill-color: #174EA6;\n",
              "      --disabled-fill-color: #AAA;\n",
              "      --disabled-bg-color: #DDD;\n",
              "  }\n",
              "\n",
              "  [theme=dark] .colab-df-quickchart {\n",
              "      --bg-color: #3B4455;\n",
              "      --fill-color: #D2E3FC;\n",
              "      --hover-bg-color: #434B5C;\n",
              "      --hover-fill-color: #FFFFFF;\n",
              "      --disabled-bg-color: #3B4455;\n",
              "      --disabled-fill-color: #666;\n",
              "  }\n",
              "\n",
              "  .colab-df-quickchart {\n",
              "    background-color: var(--bg-color);\n",
              "    border: none;\n",
              "    border-radius: 50%;\n",
              "    cursor: pointer;\n",
              "    display: none;\n",
              "    fill: var(--fill-color);\n",
              "    height: 32px;\n",
              "    padding: 0;\n",
              "    width: 32px;\n",
              "  }\n",
              "\n",
              "  .colab-df-quickchart:hover {\n",
              "    background-color: var(--hover-bg-color);\n",
              "    box-shadow: 0 1px 2px rgba(60, 64, 67, 0.3), 0 1px 3px 1px rgba(60, 64, 67, 0.15);\n",
              "    fill: var(--button-hover-fill-color);\n",
              "  }\n",
              "\n",
              "  .colab-df-quickchart-complete:disabled,\n",
              "  .colab-df-quickchart-complete:disabled:hover {\n",
              "    background-color: var(--disabled-bg-color);\n",
              "    fill: var(--disabled-fill-color);\n",
              "    box-shadow: none;\n",
              "  }\n",
              "\n",
              "  .colab-df-spinner {\n",
              "    border: 2px solid var(--fill-color);\n",
              "    border-color: transparent;\n",
              "    border-bottom-color: var(--fill-color);\n",
              "    animation:\n",
              "      spin 1s steps(1) infinite;\n",
              "  }\n",
              "\n",
              "  @keyframes spin {\n",
              "    0% {\n",
              "      border-color: transparent;\n",
              "      border-bottom-color: var(--fill-color);\n",
              "      border-left-color: var(--fill-color);\n",
              "    }\n",
              "    20% {\n",
              "      border-color: transparent;\n",
              "      border-left-color: var(--fill-color);\n",
              "      border-top-color: var(--fill-color);\n",
              "    }\n",
              "    30% {\n",
              "      border-color: transparent;\n",
              "      border-left-color: var(--fill-color);\n",
              "      border-top-color: var(--fill-color);\n",
              "      border-right-color: var(--fill-color);\n",
              "    }\n",
              "    40% {\n",
              "      border-color: transparent;\n",
              "      border-right-color: var(--fill-color);\n",
              "      border-top-color: var(--fill-color);\n",
              "    }\n",
              "    60% {\n",
              "      border-color: transparent;\n",
              "      border-right-color: var(--fill-color);\n",
              "    }\n",
              "    80% {\n",
              "      border-color: transparent;\n",
              "      border-right-color: var(--fill-color);\n",
              "      border-bottom-color: var(--fill-color);\n",
              "    }\n",
              "    90% {\n",
              "      border-color: transparent;\n",
              "      border-bottom-color: var(--fill-color);\n",
              "    }\n",
              "  }\n",
              "</style>\n",
              "\n",
              "  <script>\n",
              "    async function quickchart(key) {\n",
              "      const quickchartButtonEl =\n",
              "        document.querySelector('#' + key + ' button');\n",
              "      quickchartButtonEl.disabled = true;  // To prevent multiple clicks.\n",
              "      quickchartButtonEl.classList.add('colab-df-spinner');\n",
              "      try {\n",
              "        const charts = await google.colab.kernel.invokeFunction(\n",
              "            'suggestCharts', [key], {});\n",
              "      } catch (error) {\n",
              "        console.error('Error during call to suggestCharts:', error);\n",
              "      }\n",
              "      quickchartButtonEl.classList.remove('colab-df-spinner');\n",
              "      quickchartButtonEl.classList.add('colab-df-quickchart-complete');\n",
              "    }\n",
              "    (() => {\n",
              "      let quickchartButtonEl =\n",
              "        document.querySelector('#df-4f4c1318-e373-4e1c-b124-62acd48c0b89 button');\n",
              "      quickchartButtonEl.style.display =\n",
              "        google.colab.kernel.accessAllowed ? 'block' : 'none';\n",
              "    })();\n",
              "  </script>\n",
              "</div>\n",
              "    </div>\n",
              "  </div>\n"
            ],
            "application/vnd.google.colaboratory.intrinsic+json": {
              "type": "dataframe",
              "variable_name": "df",
              "summary": "{\n  \"name\": \"df\",\n  \"rows\": 8,\n  \"fields\": [\n    {\n      \"column\": \"date\",\n      \"properties\": {\n        \"dtype\": \"object\",\n        \"num_unique_values\": 7,\n        \"samples\": [\n          \"20220102\",\n          \"20220108\",\n          \"20220101\"\n        ],\n        \"semantic_type\": \"\",\n        \"description\": \"\"\n      }\n    },\n    {\n      \"column\": \"id\",\n      \"properties\": {\n        \"dtype\": \"string\",\n        \"num_unique_values\": 5,\n        \"samples\": [\n          \"didididi\",\n          \"iiiidddd\",\n          \"ddddiiii\"\n        ],\n        \"semantic_type\": \"\",\n        \"description\": \"\"\n      }\n    },\n    {\n      \"column\": \"imageNum\",\n      \"properties\": {\n        \"dtype\": \"category\",\n        \"num_unique_values\": 3,\n        \"samples\": [\n          \"1\",\n          \"3\",\n          \"2\"\n        ],\n        \"semantic_type\": \"\",\n        \"description\": \"\"\n      }\n    },\n    {\n      \"column\": \"side\",\n      \"properties\": {\n        \"dtype\": \"category\",\n        \"num_unique_values\": 2,\n        \"samples\": [\n          \"\\u5de6\",\n          \"\\u53f3\"\n        ],\n        \"semantic_type\": \"\",\n        \"description\": \"\"\n      }\n    },\n    {\n      \"column\": \"hospital\",\n      \"properties\": {\n        \"dtype\": \"category\",\n        \"num_unique_values\": 3,\n        \"samples\": [\n          \"\\u25cf\\u25cf\\u5927\",\n          \"\\u25b2\\u25b2\\u75c5\\u9662\"\n        ],\n        \"semantic_type\": \"\",\n        \"description\": \"\"\n      }\n    },\n    {\n      \"column\": \"disease\",\n      \"properties\": {\n        \"dtype\": \"category\",\n        \"num_unique_values\": 3,\n        \"samples\": [\n          \"\\u6b63\\u5e38\",\n          \"\\u7622\\u75d5\"\n        ],\n        \"semantic_type\": \"\",\n        \"description\": \"\"\n      }\n    },\n    {\n      \"column\": \"comment\",\n      \"properties\": {\n        \"dtype\": \"object\",\n        \"num_unique_values\": 1,\n        \"samples\": [\n          \"\"\n        ],\n        \"semantic_type\": \"\",\n        \"description\": \"\"\n      }\n    }\n  ]\n}"
            }
          },
          "metadata": {},
          "execution_count": 6
        }
      ]
    },
    {
      "cell_type": "markdown",
      "source": [
        "**③スリット写真用idの追加**"
      ],
      "metadata": {
        "id": "Lx8JhJgz4Hwk"
      }
    },
    {
      "cell_type": "code",
      "source": [
        "#@title 施設名の略称(アルファベット）を入力し、左の実行ボタンを押して下さい（例：Osaka） { run: \"auto\", form-width: \"90%\", display-mode: \"form\" }\n",
        "\n",
        "abr = \"\" #@param {type:\"string\"}\n",
        "\n",
        "if abr == \"\":\n",
        "    print(\"略称を入力して下さい\")\n",
        "else:\n",
        "    print(\"略称: \", abr)"
      ],
      "metadata": {
        "colab": {
          "base_uri": "https://localhost:8080/"
        },
        "id": "zi-R8EBo3tkp",
        "outputId": "1b03db8a-1adc-485f-9e04-946fa5b2a1b3"
      },
      "execution_count": null,
      "outputs": [
        {
          "output_type": "stream",
          "name": "stdout",
          "text": [
            "略称を入力して下さい\n"
          ]
        }
      ]
    },
    {
      "cell_type": "code",
      "source": [
        "df = df.sort_values(\"date\")\n",
        "df = df.sort_values(\"imageNum\")\n",
        "df = df.sort_values(\"id\")\n",
        "\n",
        "slit_id = []\n",
        "slit_num = []\n",
        "k=0\n",
        "for i in df[\"id\"]:\n",
        "    #print(i)\n",
        "    if i not in slit_num:\n",
        "        k+=1\n",
        "    else:\n",
        "        pass\n",
        "    slit_num.append(i)\n",
        "    slit_id.append(abr+\"_\"+str(k).zfill(3))\n",
        "\n",
        "#print(slit_num)\n",
        "#print(slit_id)\n",
        "\n",
        "try:\n",
        "    df.insert(loc = 2, column= 'slit_id', value= slit_id)\n",
        "    print(\"slit_idの行が作成されました。\")\n",
        "except:\n",
        "    print(\"すでにslit_idの行を作成済です。修正が必要なら②からやり直してください。\")\n",
        "    pass"
      ],
      "metadata": {
        "id": "TUWAwQZ_zww2"
      },
      "execution_count": null,
      "outputs": []
    },
    {
      "cell_type": "code",
      "source": [
        "#作成されたリストを表示\n",
        "df"
      ],
      "metadata": {
        "id": "biSkYVLkAEx0"
      },
      "execution_count": null,
      "outputs": []
    },
    {
      "cell_type": "markdown",
      "source": [
        "**④CSVファイルとして保存**"
      ],
      "metadata": {
        "id": "X4zCddiT4E7m"
      }
    },
    {
      "cell_type": "code",
      "source": [
        "from pandas._libs.tslibs.timedeltas import parse_timedelta_unit\n",
        "#@title 施設名を入力し、左の実行ボタンを押して下さい（例：大阪大） { run: \"auto\", form-width: \"90%\", display-mode: \"form\" }\n",
        "\n",
        "hospital = \"\"#@param {type:\"string\"}\n",
        "if hospital == \"\":\n",
        "    print(\"施設名を入力して下さい\")\n",
        "else:\n",
        "    print(\"施設名: \", hospital)"
      ],
      "metadata": {
        "id": "ZGJwMIuu4Lh2",
        "colab": {
          "base_uri": "https://localhost:8080/"
        },
        "outputId": "948fb905-9b37-4137-f431-e330d95f16ac"
      },
      "execution_count": null,
      "outputs": [
        {
          "output_type": "stream",
          "name": "stdout",
          "text": [
            "施設名を入力して下さい\n"
          ]
        }
      ]
    },
    {
      "cell_type": "code",
      "source": [
        "if hospital == \"\":\n",
        "    print(\"施設名を入力して下さい\")\n",
        "else:\n",
        "    df.to_csv('/content/'+hospital+'.csv', encoding='utf_8_sig')  #CSVファイルとして出力"
      ],
      "metadata": {
        "id": "3VbLsoqyOWu7"
      },
      "execution_count": null,
      "outputs": []
    },
    {
      "cell_type": "markdown",
      "source": [
        "#**既存のjson-filesフォルダを削除してやり直したいときに実行**"
      ],
      "metadata": {
        "id": "iuBaoOducREA"
      }
    },
    {
      "cell_type": "code",
      "source": [
        "#既存のjson_filesフォルダを削除したいときに実行\n",
        "if os.path.exists(dir):\n",
        "    shutil.rmtree(dir)"
      ],
      "metadata": {
        "id": "Cuu4V4EOba8o"
      },
      "execution_count": null,
      "outputs": []
    }
  ]
}