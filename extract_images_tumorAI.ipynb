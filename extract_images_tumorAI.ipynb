{
  "nbformat": 4,
  "nbformat_minor": 0,
  "metadata": {
    "colab": {
      "provenance": [],
      "authorship_tag": "ABX9TyN03tXTYphssYxy+yVAA8mK",
      "include_colab_link": true
    },
    "kernelspec": {
      "name": "python3",
      "display_name": "Python 3"
    },
    "language_info": {
      "name": "python"
    }
  },
  "cells": [
    {
      "cell_type": "markdown",
      "metadata": {
        "id": "view-in-github",
        "colab_type": "text"
      },
      "source": [
        "<a href=\"https://colab.research.google.com/github/ykitaguchi77/CorneAI/blob/main/extract_images_tumorAI.ipynb\" target=\"_parent\"><img src=\"https://colab.research.google.com/assets/colab-badge.svg\" alt=\"Open In Colab\"/></a>"
      ]
    },
    {
      "cell_type": "markdown",
      "source": [
        "#**Extract_images_tumorAI**"
      ],
      "metadata": {
        "id": "kN8TJ043sFKz"
      }
    },
    {
      "cell_type": "code",
      "execution_count": 1,
      "metadata": {
        "id": "6vBk9xfdcDXP"
      },
      "outputs": [],
      "source": [
        "# eyelid_conj_tumor_listを先に日本語に直しておくと後が楽だった...\n",
        "patient_list_path = r\"F:\\SlitPhoto\\20100101~20230130_スリット(写真室)\\eyelid_conj_tumor_list.csv\"\n",
        "IDMap_path = r\"F:\\SlitPhoto\\20100101~20230130_スリット(写真室)\\combined_IDMap.csv\""
      ]
    },
    {
      "cell_type": "code",
      "source": [
        "import pandas as pd\n",
        "\n",
        "# Load the first CSV file\n",
        "df1 = pd.read_csv(patient_list_path, encoding='cp932')\n",
        "\n",
        "# Load the second CSV file\n",
        "df2 = pd.read_csv(IDMap_path, encoding='cp932', header = None)\n",
        "\n",
        "# Displaying the first few rows of each DataFrame to understand their structure\n",
        "df1.head(), df2.head()\n"
      ],
      "metadata": {
        "id": "lppKvzX2dDKn"
      },
      "execution_count": null,
      "outputs": []
    },
    {
      "cell_type": "code",
      "source": [
        "df1"
      ],
      "metadata": {
        "id": "noK58s4ylZmd"
      },
      "execution_count": null,
      "outputs": []
    },
    {
      "cell_type": "code",
      "source": [
        "df1 = df1.drop_duplicates(subset='ID')\n",
        "df1"
      ],
      "metadata": {
        "id": "InbDB8YdeGV6"
      },
      "execution_count": null,
      "outputs": []
    },
    {
      "cell_type": "code",
      "source": [
        "df2"
      ],
      "metadata": {
        "id": "7jmlZ2QCeLxf"
      },
      "execution_count": null,
      "outputs": []
    },
    {
      "cell_type": "code",
      "source": [
        "# df2[df2[0]==11845831].loc[0,2]\n",
        "df2[df2[0]==5815065].loc[:,2]"
      ],
      "metadata": {
        "colab": {
          "base_uri": "https://localhost:8080/"
        },
        "id": "Ei-qUKUkmWS0",
        "outputId": "bd91f65d-86e1-41ef-df42-bd48fbd07076"
      },
      "execution_count": 7,
      "outputs": [
        {
          "output_type": "execute_result",
          "data": {
            "text/plain": [
              "Series([], Name: 2, dtype: object)"
            ]
          },
          "metadata": {},
          "execution_count": 7
        }
      ]
    },
    {
      "cell_type": "code",
      "source": [
        "import os\n",
        "import pandas as pd\n",
        "from datetime import datetime\n",
        "import shutil\n",
        "\n",
        "def format_date(date_str):\n",
        "    # Convert to datetime object\n",
        "    date_obj = datetime.strptime(date_str, \"%Y/%m/%d\")\n",
        "    # Convert to YYYYMMDD format string\n",
        "    return date_obj.strftime(\"%Y%m%d\")\n",
        "\n",
        "def copy_eligible_images(src, dst, img_file):\n",
        "    \"\"\"\n",
        "    Copies eligible images from source to destination folder.\n",
        "    Creates destination folder if it does not exist.\n",
        "    \"\"\"\n",
        "    if not os.path.exists(dst):\n",
        "        os.makedirs(dst)\n",
        "    shutil.copy(os.path.join(src, img_file), dst)\n",
        "\n",
        "# Initialize a counter\n",
        "hash_value_count = 0\n",
        "\n",
        "# Image folder paths\n",
        "img_folders = [\n",
        "    r\"F:\\SlitPhoto\\20100101~20230130_スリット(写真室)\\ID_00######\\ZZZ\\Files\",\n",
        "    r\"F:\\SlitPhoto\\20100101~20230130_スリット(写真室)\\ID_09######\\ZZZ\\Files\",\n",
        "    r\"F:\\SlitPhoto\\20100101~20230130_スリット(写真室)\\ID_10######\\ZZZ\\Files\",\n",
        "    r\"F:\\SlitPhoto\\20100101~20230130_スリット(写真室)\\ID_11######\\ZZZ\\Files\",\n",
        "    r\"F:\\SlitPhoto\\20100101~20230130_スリット(写真室)\\ID_12######\\ZZZ\\Files\"\n",
        "]\n",
        "\n",
        "dst_path = r\"F:\\SlitPhoto\\Extracted_tumor_images\"\n",
        "patient_num = 0\n",
        "\n",
        "for user_id in df1[\"ID\"]:\n",
        "    try:\n",
        "        hash_value = df2[df2[0] == user_id].iloc[0, 2]\n",
        "        print(hash_value)\n",
        "        hash_value_count += 1\n",
        "\n",
        "        exam_date = df1[df1[\"ID\"] == user_id][\"ExamDate\"].iloc[0]\n",
        "        formatted_date = format_date(exam_date)\n",
        "        print(f\"Formatted ExamDate for {user_id}: {formatted_date}\")\n",
        "\n",
        "        folder_found = False\n",
        "        for folder in img_folders:\n",
        "            for file in os.listdir(folder):\n",
        "                if file.startswith(hash_value):\n",
        "                    folder_found = True\n",
        "                    for img_file in os.listdir(os.path.join(folder, file)):\n",
        "                        try:\n",
        "                            if int(img_file[:8]) <= int(formatted_date):\n",
        "                                print(f\"Eligible image file: {os.path.join(folder, file, img_file)}\")\n",
        "                                # New code to copy files\n",
        "                                area = df1[df1[\"ID\"] == user_id][\"Area\"].iloc[0]\n",
        "                                diag_classification = df1[df1[\"ID\"] == user_id][\"Diag_classification\"].iloc[0]\n",
        "                                dst_folder = f\"{dst_path}/OSK_{area}{diag_classification}_症例{patient_num}\"\n",
        "                                copy_eligible_images(os.path.join(folder, file), dst_folder, img_file)\n",
        "                        except ValueError:\n",
        "                            continue\n",
        "                    patient_num += 1\n",
        "                    break\n",
        "            if folder_found:\n",
        "                break\n",
        "    except Exception as e:\n",
        "        print(f\"No image file in user ID {user_id}: {e}\")\n",
        "        pass\n",
        "print(\"Total hash values printed:\", hash_value_count)"
      ],
      "metadata": {
        "id": "Rtf5xUj43Wvs"
      },
      "execution_count": null,
      "outputs": []
    },
    {
      "cell_type": "code",
      "source": [
        "\"\"\"\n",
        "フォルダ別に画像が出力されるので、不適切な画像の削除、不適切なフォルダの削除、リネームを行う\n",
        "\n",
        "\"\"\""
      ],
      "metadata": {
        "id": "RgN1D8ld9NNA"
      },
      "execution_count": null,
      "outputs": []
    },
    {
      "cell_type": "code",
      "source": [
        "orig_path = r\"F:\\SlitPhoto\\Extracted_tumor_images\"\n",
        "dst_path = r\"F:\\SlitPhoto\\Extracted_tumor_images_sorted\""
      ],
      "metadata": {
        "id": "gZKs4ENjWEm_"
      },
      "execution_count": 68,
      "outputs": []
    },
    {
      "cell_type": "code",
      "source": [
        "os.listdir(orig_path)[0]"
      ],
      "metadata": {
        "colab": {
          "base_uri": "https://localhost:8080/"
        },
        "id": "DoFLMIetWsJq",
        "outputId": "1d0aaac7-b891-4ffd-8f3a-da66d7d94c4a"
      },
      "execution_count": 75,
      "outputs": [
        {
          "output_type": "execute_result",
          "data": {
            "text/plain": [
              "'OSK_EyelidSebaceous gland carcinoma_症例0'"
            ]
          },
          "metadata": {},
          "execution_count": 75
        }
      ]
    },
    {
      "cell_type": "code",
      "source": [
        "def check_duplicate_filenames_with_folders(path):\n",
        "    # 初期化: 全ファイル名を格納する辞書と重複ファイルを格納する辞書\n",
        "    all_filenames = {}\n",
        "    duplicates = {}\n",
        "\n",
        "    # 指定したパスからすべてのサブディレクトリとファイルを探索\n",
        "    for root, dirs, files in os.walk(path):\n",
        "        # 各ファイルに対して重複チェックを行う\n",
        "        for filename in files:\n",
        "            if filename in all_filenames:\n",
        "                # 重複が見つかった場合、重複リストに追加（どのフォルダと重複しているかも含む）\n",
        "                if filename not in duplicates:\n",
        "                    duplicates[filename] = [all_filenames[filename]]\n",
        "                duplicates[filename].append(root)\n",
        "            else:\n",
        "                # 重複がない場合は、ファイル名とそのフォルダを記録\n",
        "                all_filenames[filename] = root\n",
        "\n",
        "    # 重複しているファイルの情報を含む辞書を返す\n",
        "    return duplicates\n",
        "\n",
        "# 再び仮想のパスでチェックを実行\n",
        "# orig_pathは、この関数を呼び出す前に定義されている必要がある\n",
        "duplicates_with_folders = check_duplicate_filenames_with_folders(orig_path)\n",
        "duplicates_with_folders\n"
      ],
      "metadata": {
        "colab": {
          "base_uri": "https://localhost:8080/"
        },
        "id": "stgUlZdoWwrA",
        "outputId": "5b42dd35-5867-481e-b92c-7388a6a2d41e"
      },
      "execution_count": 90,
      "outputs": [
        {
          "output_type": "execute_result",
          "data": {
            "text/plain": [
              "{}"
            ]
          },
          "metadata": {},
          "execution_count": 90
        }
      ]
    },
    {
      "cell_type": "code",
      "source": [
        "# Number of cases\n",
        "print(f\"Number of cases: {len(os.listdir(orig_path))}\")"
      ],
      "metadata": {
        "colab": {
          "base_uri": "https://localhost:8080/"
        },
        "id": "VpRbe2k1jVSW",
        "outputId": "045f80e1-37da-4c30-8e1e-dd30cd174d61"
      },
      "execution_count": 93,
      "outputs": [
        {
          "output_type": "stream",
          "name": "stdout",
          "text": [
            "Nubber of cases: 332\n"
          ]
        }
      ]
    },
    {
      "cell_type": "code",
      "source": [
        "\"\"\"\n",
        "送付画像の形式：\n",
        "OSK_{disease}_症例{patient_num}_画像{image_num}\n",
        "\"\"\"\n"
      ],
      "metadata": {
        "id": "vHFRPDHTjXLg"
      },
      "execution_count": null,
      "outputs": []
    },
    {
      "cell_type": "code",
      "source": [
        "#別フォルダに画像をコピー\n",
        "import shutil\n",
        "import os\n",
        "from tqdm import tqdm\n",
        "\n",
        "# Paths for the original and destination directories\n",
        "orig_path = r\"F:\\SlitPhoto\\Extracted_tumor_images\"\n",
        "dst_path = r\"F:\\SlitPhoto\\Extracted_tumor_images_sorted\"\n",
        "\n",
        "# Getting the list of folders in orig_path\n",
        "folders = [f for f in os.listdir(orig_path) if os.path.isdir(os.path.join(orig_path, f))]\n",
        "\n",
        "# Copying each folder from orig_path to dst_path with a progress bar\n",
        "for folder_name in tqdm(folders, desc=\"Copying folders\"):\n",
        "    src_folder = os.path.join(orig_path, folder_name)\n",
        "    dst_folder = os.path.join(dst_path, folder_name)\n",
        "    shutil.copytree(src_folder, dst_folder)"
      ],
      "metadata": {
        "id": "YEpP6mh8mqbI"
      },
      "execution_count": 94,
      "outputs": []
    },
    {
      "cell_type": "code",
      "source": [
        "os.listdir(dst_path)"
      ],
      "metadata": {
        "id": "8LCrMOCQnEu5"
      },
      "execution_count": null,
      "outputs": []
    },
    {
      "cell_type": "code",
      "source": [
        "#英語の病名を日本語に変換import os\n",
        "\n",
        "# Path to the destination directory\n",
        "dst_path = r\"F:\\SlitPhoto\\Extracted_tumor_images_sorted\"\n",
        "\n",
        "# List of tuples with (string to find, string to replace)\n",
        "replacement_pairs = [\n",
        "    ('Pterygium', '翼状片'),\n",
        "    ('CorneaOther Benign lesion', 'その他良性病変'),\n",
        "    ('EyelidCyst', '結膜嚢胞'),\n",
        "    ('ConjunctivaLymphoma', '悪性リンパ腫'),\n",
        "    ('EyelidCyst', '眼瞼嚢胞'),\n",
        "    ('EyelidNevus', '眼瞼母斑'),\n",
        "    ('EyelidBasal cell carcinoma', '基底細胞癌'),\n",
        "    ('EyelidChalazion', '霰粒腫'),\n",
        "    ('ConjunctivaChalazion', '霰粒腫'),\n",
        "    ('ConjunctivaVascular Malformation', '血管奇形'),\n",
        "    ('EyelidVascular Malformation', '血管奇形'),\n",
        "\n",
        "    ('ConjunctivaOther Benign lesion', 'その他良性病変'),\n",
        "    ('EyelidOther Benign lesion', 'その他良性病変'),\n",
        "    ('Chalazion', '霰粒腫'),\n",
        "    ('ConjunctivaCyst', '結膜嚢胞'),\n",
        "    ('ConjunctivaSebaceousGlandcarcinoma', '脂腺癌'),\n",
        "    ('ConjunctivaIntraepithelial neoplasia', '結膜上皮内癌'),\n",
        "    ('EyelidBasal cell carcinoma', '基底細胞癌'),\n",
        "    ('ConjunctivaNevus', '結膜母斑'),\n",
        "    ('ConjunctivaPapilloma', '乳頭腫'),\n",
        "    ('CorneaDermoid', 'デルモイド'),\n",
        "    ('ConjunctivalDermoid', 'デルモイド'),\n",
        "\n",
        "    ('ConjunctivaOther benign lesion', 'その他良性病変'),\n",
        "    ('ConjunctivaOther carcinoma', '結膜癌その他'),\n",
        "    ('Eyelid_Sebaceous Gland Carcinoma', '脂腺癌'),\n",
        "    ('EyelidSebaceous Gland Carcinoma', '脂腺癌'),\n",
        "    ('ConjunctivaMelanoma', '悪性黒色腫'),\n",
        "    ('ConjunctivaEpidermal cyst', 'アテローム'),\n",
        "    ('EyelidEpidermal cyst', 'アテローム'),\n",
        "    ('EyelidGranulation', '肉芽腫'),\n",
        "    ('ConjunctivaGranulation', '肉芽腫'),\n",
        "    ('ConjunctivaFat hernia', '眼窩脂肪ヘルニア'),\n",
        "    ('ConjunctivaFatHernia', '眼窩脂肪ヘルニア'),\n",
        "    ('ConjunctivaDermoid', 'デルモイド'),\n",
        "\n",
        "    ('EyelidSebaceous gland carcinoma', '脂腺癌'),\n",
        "    ('CorneaOther carcinoma', '結膜癌その他'),\n",
        "    ('EyelidCharazion', '霰粒腫'),\n",
        "    ('EyelidLymphoma', '悪性リンパ腫'),\n",
        "    ('ConjunctivaGlanulation', '肉芽腫'),\n",
        "    ('ConjunctivaHordeolum', '麦粒腫'),\n",
        "    ('EyelidOther benign lesion', 'その他良性病変'),\n",
        "    ('EyelidPapilloma', '乳頭腫'),\n",
        "    ('ConjunctivaSquamous cell carcinoma', '扁平上皮癌'),\n",
        "    ('EyelidSeborrheic keratosis', '脂漏性角化症'),\n",
        "    ('EyelidSebaceous gland carcinoma', '脂腺癌'),\n",
        "\n",
        "    ('EyelidOther carcinoma', '眼瞼癌その他'),\n",
        "    ('ConjunctivaPigmentation', '結膜色素沈着'),\n",
        "    ('Cornea翼状片', '翼状片'),\n",
        "    ('ConjunctivaOtherBenignLesion', 'その他良性病変'),\n",
        "    ('EyelidSquamous cell carcinoma', '扁平上皮癌'),\n",
        "    ('EyelidVascular malformation', '血管奇形'),\n",
        "    ('ConjunctivaLymphom', '悪性リンパ腫'),\n",
        "    ('ConjunctivaPrimaryAcquiredMelanosis', '結膜色素沈着(PAM)'),\n",
        "    ('ConjunctivalPapilloma', '乳頭腫'),\n",
        "    ('ConjunctivaIntraepithelialNeoplasia', '結膜上皮内癌'),\n",
        "    ('EyelidSebaceousGlandCarcinoma', '脂腺癌'),\n",
        "    ('EyelidMelanoma', '脂腺癌'),\n",
        "    # Add more pairs as needed, e.g., ('old_string', 'new_string'),\n",
        "]\n",
        "\n",
        "\n",
        "# Iterate over the folders in dst_path\n",
        "for folder_name in os.listdir(dst_path):\n",
        "    new_folder_name = folder_name\n",
        "\n",
        "    # Check and replace each pair in the folder name\n",
        "    for old_string, new_string in replacement_pairs:\n",
        "        new_folder_name = new_folder_name.replace(old_string, new_string)\n",
        "\n",
        "    # If the name has changed, rename the folder\n",
        "    if new_folder_name != folder_name:\n",
        "        old_folder_path = os.path.join(dst_path, folder_name)\n",
        "        new_folder_path = os.path.join(dst_path, new_folder_name)\n",
        "\n",
        "        os.rename(old_folder_path, new_folder_path)\n",
        "        print(f\"Renamed '{folder_name}' to '{new_folder_name}'\")\n",
        "\n"
      ],
      "metadata": {
        "id": "nuQ50Ne1nHcO"
      },
      "execution_count": null,
      "outputs": []
    },
    {
      "cell_type": "code",
      "source": [
        "os.listdir(dst_path)"
      ],
      "metadata": {
        "id": "YsIEyj1qorT8"
      },
      "execution_count": null,
      "outputs": []
    },
    {
      "cell_type": "code",
      "source": [
        "\"\"\"\n",
        "日本語の病名に修正したので、送付用にリネーム\n",
        "OSK_アテローム_症例127 --> OSK_アテローム_症例127_画像n\n",
        "\n",
        "※症例番号、画像番号はゼロ埋めで3桁\n",
        "※症例番号は000からふり直し（欠番を防ぐため）\n",
        "\"\"\""
      ],
      "metadata": {
        "id": "oIU3jvdcQvn-"
      },
      "execution_count": null,
      "outputs": []
    },
    {
      "cell_type": "code",
      "source": [
        "#確認用\n",
        "import os\n",
        "import re\n",
        "import shutil\n",
        "\n",
        "def rename_and_copy_files(orig_path, dst_path):\n",
        "    for folder_name in os.listdir(orig_path):\n",
        "        folder_path = os.path.join(orig_path, folder_name)\n",
        "        if os.path.isdir(folder_path):\n",
        "            # Extract and zero-pad the case number\n",
        "            case_number_match = re.search(r'症例(\\d+)', folder_name)\n",
        "            if case_number_match:\n",
        "                case_number = case_number_match.group(1).zfill(3)\n",
        "                new_folder_name = re.sub(r'症例\\d+', f'症例{case_number}', folder_name)\n",
        "            else:\n",
        "                new_folder_name = folder_name\n",
        "\n",
        "            for i, file_name in enumerate(os.listdir(folder_path), 1):\n",
        "                new_name = f\"{new_folder_name}_画像{str(i).zfill(3)}{os.path.splitext(file_name)[1]}\"\n",
        "                src_file_path = os.path.join(folder_path, file_name)\n",
        "                dst_file_path = os.path.join(dst_path, new_name)\n",
        "                shutil.copy2(src_file_path, dst_file_path)\n",
        "\n",
        "orig_path = r\"F:\\SlitPhoto\\Extracted_tumor_images_sorted\"\n",
        "dst_path = r\"F:\\SlitPhoto\\Extracted_tumor_images_送付用\"\n",
        "\n",
        "if os.path.exists(dst_path):\n",
        "    shutil.rmtree(dst_path)\n",
        "os.makedirs(dst_path)\n",
        "\n",
        "rename_and_copy_files(orig_path, dst_path)\n"
      ],
      "metadata": {
        "id": "-fKNo6MPTfGh"
      },
      "execution_count": 123,
      "outputs": []
    },
    {
      "cell_type": "code",
      "source": [
        "#症例番号ふり直しバージョン\n",
        "#正常も番号振ってコピー\n",
        "\n",
        "import os\n",
        "import shutil\n",
        "import re\n",
        "\n",
        "def rename_and_copy_files(orig_path, normal_path, dst_path):\n",
        "    # Create a mapping for each unique disease to a new case number\n",
        "    disease_to_case_number = {}\n",
        "\n",
        "    # Process tumor images\n",
        "    for folder_name in os.listdir(orig_path):\n",
        "        folder_path = os.path.join(orig_path, folder_name)\n",
        "        if os.path.isdir(folder_path):\n",
        "            # Extract disease name from the folder\n",
        "            disease_name_match = re.search(r'(.+)_症例\\d+', folder_name)\n",
        "            if disease_name_match:\n",
        "                disease_name = disease_name_match.group(1)\n",
        "                # Initialize or increment the case number for this disease\n",
        "                disease_to_case_number[disease_name] = disease_to_case_number.get(disease_name, -1) + 1\n",
        "                new_case_number = f\"症例{str(disease_to_case_number[disease_name]).zfill(3)}\"\n",
        "\n",
        "                for i, file_name in enumerate(os.listdir(folder_path), 1):\n",
        "                    new_name = f\"{disease_name}_{new_case_number}_画像{str(i).zfill(3)}{os.path.splitext(file_name)[1]}\"\n",
        "                    src_file_path = os.path.join(folder_path, file_name)\n",
        "                    dst_file_path = os.path.join(dst_path, new_name)\n",
        "                    shutil.copy2(src_file_path, dst_file_path)\n",
        "\n",
        "    # Process normal images\n",
        "    for i, file_name in enumerate(os.listdir(normal_path), 1):\n",
        "        # Increment the case number for \"正常\"\n",
        "        normal_case_num = disease_to_case_number.get(\"正常\", -1) + 1\n",
        "        disease_to_case_number[\"正常\"] = normal_case_num\n",
        "        new_case_number = f\"症例{str(normal_case_num).zfill(3)}\"\n",
        "\n",
        "        new_name = f\"OSK_正常_{new_case_number}_画像0{os.path.splitext(file_name)[1]}\"\n",
        "        src_file_path = os.path.join(normal_path, file_name)\n",
        "        dst_file_path = os.path.join(dst_path, new_name)\n",
        "        shutil.copy2(src_file_path, dst_file_path)\n",
        "\n",
        "orig_path = r\"F:\\SlitPhoto\\Extracted_tumor_images_sorted\"\n",
        "normal_path = r\"F:\\SlitPhoto\\Extracted_tumor_normal\"\n",
        "dst_path = r\"F:\\SlitPhoto\\Extracted_tumor_images_送付用\"\n",
        "\n",
        "if os.path.exists(dst_path):\n",
        "    shutil.rmtree(dst_path)\n",
        "os.makedirs(dst_path)\n",
        "\n",
        "rename_and_copy_files(orig_path, normal_path, dst_path)\n"
      ],
      "metadata": {
        "id": "mPyGVNJAbrYZ"
      },
      "execution_count": 124,
      "outputs": []
    }
  ]
}