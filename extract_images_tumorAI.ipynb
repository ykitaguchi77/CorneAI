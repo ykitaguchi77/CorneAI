{
  "nbformat": 4,
  "nbformat_minor": 0,
  "metadata": {
    "colab": {
      "provenance": [],
      "authorship_tag": "ABX9TyMPSue+APCcN6uxUPbz5fnJ",
      "include_colab_link": true
    },
    "kernelspec": {
      "name": "python3",
      "display_name": "Python 3"
    },
    "language_info": {
      "name": "python"
    }
  },
  "cells": [
    {
      "cell_type": "markdown",
      "metadata": {
        "id": "view-in-github",
        "colab_type": "text"
      },
      "source": [
        "<a href=\"https://colab.research.google.com/github/ykitaguchi77/CorneAI/blob/main/extract_images_tumorAI.ipynb\" target=\"_parent\"><img src=\"https://colab.research.google.com/assets/colab-badge.svg\" alt=\"Open In Colab\"/></a>"
      ]
    },
    {
      "cell_type": "markdown",
      "source": [
        "#**Extract_images_tumorAI**"
      ],
      "metadata": {
        "id": "kN8TJ043sFKz"
      }
    },
    {
      "cell_type": "code",
      "execution_count": 1,
      "metadata": {
        "id": "6vBk9xfdcDXP"
      },
      "outputs": [],
      "source": [
        "# eyelid_conj_tumor_listを先に日本語に直しておくと後が楽だった...\n",
        "patient_list_path = r\"F:\\SlitPhoto\\20100101~20230130_スリット(写真室)\\eyelid_conj_tumor_list.csv\"\n",
        "IDMap_path = r\"F:\\SlitPhoto\\20100101~20230130_スリット(写真室)\\combined_IDMap.csv\""
      ]
    },
    {
      "cell_type": "code",
      "source": [
        "import pandas as pd\n",
        "\n",
        "# Load the first CSV file\n",
        "df1 = pd.read_csv(patient_list_path, encoding='cp932')\n",
        "\n",
        "# Load the second CSV file\n",
        "df2 = pd.read_csv(IDMap_path, encoding='cp932', header = None)\n",
        "\n",
        "# Displaying the first few rows of each DataFrame to understand their structure\n",
        "df1.head(), df2.head()\n"
      ],
      "metadata": {
        "id": "lppKvzX2dDKn"
      },
      "execution_count": null,
      "outputs": []
    },
    {
      "cell_type": "code",
      "source": [
        "df1"
      ],
      "metadata": {
        "id": "noK58s4ylZmd"
      },
      "execution_count": null,
      "outputs": []
    },
    {
      "cell_type": "code",
      "source": [
        "df1 = df1.drop_duplicates(subset='ID')\n",
        "df1"
      ],
      "metadata": {
        "id": "InbDB8YdeGV6"
      },
      "execution_count": null,
      "outputs": []
    },
    {
      "cell_type": "code",
      "source": [
        "df2"
      ],
      "metadata": {
        "id": "7jmlZ2QCeLxf"
      },
      "execution_count": null,
      "outputs": []
    },
    {
      "cell_type": "code",
      "source": [
        "# df2[df2[0]==11845831].loc[0,2]\n",
        "df2[df2[0]==5815065].loc[:,2]"
      ],
      "metadata": {
        "colab": {
          "base_uri": "https://localhost:8080/"
        },
        "id": "Ei-qUKUkmWS0",
        "outputId": "bd91f65d-86e1-41ef-df42-bd48fbd07076"
      },
      "execution_count": 7,
      "outputs": [
        {
          "output_type": "execute_result",
          "data": {
            "text/plain": [
              "Series([], Name: 2, dtype: object)"
            ]
          },
          "metadata": {},
          "execution_count": 7
        }
      ]
    },
    {
      "cell_type": "code",
      "source": [
        "import os\n",
        "import pandas as pd\n",
        "from datetime import datetime\n",
        "import shutil\n",
        "\n",
        "def format_date(date_str):\n",
        "    # Convert to datetime object\n",
        "    date_obj = datetime.strptime(date_str, \"%Y/%m/%d\")\n",
        "    # Convert to YYYYMMDD format string\n",
        "    return date_obj.strftime(\"%Y%m%d\")\n",
        "\n",
        "def copy_eligible_images(src, dst, img_file):\n",
        "    \"\"\"\n",
        "    Copies eligible images from source to destination folder.\n",
        "    Creates destination folder if it does not exist.\n",
        "    \"\"\"\n",
        "    if not os.path.exists(dst):\n",
        "        os.makedirs(dst)\n",
        "    shutil.copy(os.path.join(src, img_file), dst)\n",
        "\n",
        "# Initialize a counter\n",
        "hash_value_count = 0\n",
        "\n",
        "# Image folder paths\n",
        "img_folders = [\n",
        "    r\"F:\\SlitPhoto\\20100101~20230130_スリット(写真室)\\ID_00######\\ZZZ\\Files\",\n",
        "    r\"F:\\SlitPhoto\\20100101~20230130_スリット(写真室)\\ID_09######\\ZZZ\\Files\",\n",
        "    r\"F:\\SlitPhoto\\20100101~20230130_スリット(写真室)\\ID_10######\\ZZZ\\Files\",\n",
        "    r\"F:\\SlitPhoto\\20100101~20230130_スリット(写真室)\\ID_11######\\ZZZ\\Files\",\n",
        "    r\"F:\\SlitPhoto\\20100101~20230130_スリット(写真室)\\ID_12######\\ZZZ\\Files\"\n",
        "]\n",
        "\n",
        "dst_path = r\"F:\\SlitPhoto\\Extracted_tumor_images\"\n",
        "patient_num = 0\n",
        "\n",
        "for user_id in df1[\"ID\"]:\n",
        "    try:\n",
        "        hash_value = df2[df2[0] == user_id].iloc[0, 2]\n",
        "        print(hash_value)\n",
        "        hash_value_count += 1\n",
        "\n",
        "        exam_date = df1[df1[\"ID\"] == user_id][\"ExamDate\"].iloc[0]\n",
        "        formatted_date = format_date(exam_date)\n",
        "        print(f\"Formatted ExamDate for {user_id}: {formatted_date}\")\n",
        "\n",
        "        folder_found = False\n",
        "        for folder in img_folders:\n",
        "            for file in os.listdir(folder):\n",
        "                if file.startswith(hash_value):\n",
        "                    folder_found = True\n",
        "                    for img_file in os.listdir(os.path.join(folder, file)):\n",
        "                        try:\n",
        "                            if int(img_file[:8]) <= int(formatted_date):\n",
        "                                print(f\"Eligible image file: {os.path.join(folder, file, img_file)}\")\n",
        "                                # New code to copy files\n",
        "                                area = df1[df1[\"ID\"] == user_id][\"Area\"].iloc[0]\n",
        "                                diag_classification = df1[df1[\"ID\"] == user_id][\"Diag_classification\"].iloc[0]\n",
        "                                dst_folder = f\"{dst_path}/OSK_{area}{diag_classification}_症例{patient_num}\"\n",
        "                                copy_eligible_images(os.path.join(folder, file), dst_folder, img_file)\n",
        "                        except ValueError:\n",
        "                            continue\n",
        "                    patient_num += 1\n",
        "                    break\n",
        "            if folder_found:\n",
        "                break\n",
        "    except Exception as e:\n",
        "        print(f\"No image file in user ID {user_id}: {e}\")\n",
        "        pass\n",
        "print(\"Total hash values printed:\", hash_value_count)"
      ],
      "metadata": {
        "id": "Rtf5xUj43Wvs"
      },
      "execution_count": null,
      "outputs": []
    },
    {
      "cell_type": "code",
      "source": [
        "\"\"\"\n",
        "フォルダ別に画像が出力されるので、不適切な画像の削除、不適切なフォルダの削除、リネームを行う\n",
        "\n",
        "\"\"\""
      ],
      "metadata": {
        "id": "RgN1D8ld9NNA"
      },
      "execution_count": null,
      "outputs": []
    },
    {
      "cell_type": "code",
      "source": [
        "orig_path = r\"F:\\SlitPhoto\\Extracted_tumor_images\"\n",
        "dst_path = r\"F:\\SlitPhoto\\Extracted_tumor_images_sorted\""
      ],
      "metadata": {
        "id": "gZKs4ENjWEm_"
      },
      "execution_count": 68,
      "outputs": []
    },
    {
      "cell_type": "code",
      "source": [
        "os.listdir(orig_path)[0]"
      ],
      "metadata": {
        "id": "DoFLMIetWsJq",
        "outputId": "1d0aaac7-b891-4ffd-8f3a-da66d7d94c4a",
        "colab": {
          "base_uri": "https://localhost:8080/"
        }
      },
      "execution_count": 75,
      "outputs": [
        {
          "output_type": "execute_result",
          "data": {
            "text/plain": [
              "'OSK_EyelidSebaceous gland carcinoma_症例0'"
            ]
          },
          "metadata": {},
          "execution_count": 75
        }
      ]
    },
    {
      "cell_type": "code",
      "source": [
        "def check_duplicate_filenames_with_folders(path):\n",
        "    # 初期化: 全ファイル名を格納する辞書と重複ファイルを格納する辞書\n",
        "    all_filenames = {}\n",
        "    duplicates = {}\n",
        "\n",
        "    # 指定したパスからすべてのサブディレクトリとファイルを探索\n",
        "    for root, dirs, files in os.walk(path):\n",
        "        # 各ファイルに対して重複チェックを行う\n",
        "        for filename in files:\n",
        "            if filename in all_filenames:\n",
        "                # 重複が見つかった場合、重複リストに追加（どのフォルダと重複しているかも含む）\n",
        "                if filename not in duplicates:\n",
        "                    duplicates[filename] = [all_filenames[filename]]\n",
        "                duplicates[filename].append(root)\n",
        "            else:\n",
        "                # 重複がない場合は、ファイル名とそのフォルダを記録\n",
        "                all_filenames[filename] = root\n",
        "\n",
        "    # 重複しているファイルの情報を含む辞書を返す\n",
        "    return duplicates\n",
        "\n",
        "# 再び仮想のパスでチェックを実行\n",
        "# orig_pathは、この関数を呼び出す前に定義されている必要がある\n",
        "duplicates_with_folders = check_duplicate_filenames_with_folders(orig_path)\n",
        "duplicates_with_folders\n"
      ],
      "metadata": {
        "id": "stgUlZdoWwrA",
        "outputId": "5b42dd35-5867-481e-b92c-7388a6a2d41e",
        "colab": {
          "base_uri": "https://localhost:8080/"
        }
      },
      "execution_count": 90,
      "outputs": [
        {
          "output_type": "execute_result",
          "data": {
            "text/plain": [
              "{}"
            ]
          },
          "metadata": {},
          "execution_count": 90
        }
      ]
    },
    {
      "cell_type": "code",
      "source": [
        "# Number of cases\n",
        "print(f\"Number of cases: {len(os.listdir(orig_path))}\")"
      ],
      "metadata": {
        "id": "VpRbe2k1jVSW",
        "outputId": "045f80e1-37da-4c30-8e1e-dd30cd174d61",
        "colab": {
          "base_uri": "https://localhost:8080/"
        }
      },
      "execution_count": 93,
      "outputs": [
        {
          "output_type": "stream",
          "name": "stdout",
          "text": [
            "Nubber of cases: 332\n"
          ]
        }
      ]
    },
    {
      "cell_type": "code",
      "source": [
        "\"\"\"\n",
        "送付画像の形式：\n",
        "OSK_{disease}_症例{patient_num}_画像{image_num}\n",
        "\"\"\"\n"
      ],
      "metadata": {
        "id": "vHFRPDHTjXLg"
      },
      "execution_count": null,
      "outputs": []
    },
    {
      "cell_type": "code",
      "source": [
        "#別フォルダに画像をコピー\n",
        "import shutil\n",
        "import os\n",
        "from tqdm import tqdm\n",
        "\n",
        "# Paths for the original and destination directories\n",
        "orig_path = r\"F:\\SlitPhoto\\Extracted_tumor_images\"\n",
        "dst_path = r\"F:\\SlitPhoto\\Extracted_tumor_images_sorted\"\n",
        "\n",
        "# Getting the list of folders in orig_path\n",
        "folders = [f for f in os.listdir(orig_path) if os.path.isdir(os.path.join(orig_path, f))]\n",
        "\n",
        "# Copying each folder from orig_path to dst_path with a progress bar\n",
        "for folder_name in tqdm(folders, desc=\"Copying folders\"):\n",
        "    src_folder = os.path.join(orig_path, folder_name)\n",
        "    dst_folder = os.path.join(dst_path, folder_name)\n",
        "    shutil.copytree(src_folder, dst_folder)"
      ],
      "metadata": {
        "id": "YEpP6mh8mqbI"
      },
      "execution_count": 94,
      "outputs": []
    },
    {
      "cell_type": "code",
      "source": [
        "os.listdir(dst_path)"
      ],
      "metadata": {
        "id": "8LCrMOCQnEu5"
      },
      "execution_count": null,
      "outputs": []
    },
    {
      "cell_type": "code",
      "source": [
        "#英語の病名を日本語に変換import os\n",
        "\n",
        "# Path to the destination directory\n",
        "dst_path = r\"F:\\SlitPhoto\\Extracted_tumor_images_sorted\"\n",
        "\n",
        "# List of tuples with (string to find, string to replace)\n",
        "replacement_pairs = [\n",
        "    ('Pterygium', '翼状片'),\n",
        "    ('CorneaOther Benign lesion', 'その他良性病変'),\n",
        "    ('EyelidCyst', '結膜嚢胞'),\n",
        "    ('ConjunctivaLymphoma', '悪性リンパ腫'),\n",
        "    ('EyelidCyst', '眼瞼嚢胞'),\n",
        "    ('EyelidNevus', '眼瞼母斑'),\n",
        "    ('EyelidBasal cell carcinoma', '基底細胞癌'),\n",
        "    ('EyelidChalazion', '霰粒腫'),\n",
        "    ('ConjunctivaChalazion', '霰粒腫'),\n",
        "    ('ConjunctivaVascular Malformation', '血管奇形'),\n",
        "    ('EyelidVascular Malformation', '血管奇形'),\n",
        "\n",
        "    ('ConjunctivaOther Benign lesion', 'その他良性病変'),\n",
        "    ('EyelidOther Benign lesion', 'その他良性病変'),\n",
        "    ('Chalazion', '霰粒腫'),\n",
        "    ('ConjunctivaCyst', '結膜嚢胞'),\n",
        "    ('ConjunctivaSebaceousGlandcarcinoma', '脂腺癌'),\n",
        "    ('ConjunctivaIntraepithelial neoplasia', '結膜上皮内癌'),\n",
        "    ('EyelidBasal cell carcinoma', '基底細胞癌'),\n",
        "    ('ConjunctivaNevus', '結膜母斑'),\n",
        "    ('ConjunctivaPapilloma', '乳頭腫'),\n",
        "    ('CorneaDermoid', 'デルモイド'),\n",
        "    ('ConjunctivalDermoid', 'デルモイド'),\n",
        "\n",
        "    ('ConjunctivaOther benign lesion', 'その他良性病変'),\n",
        "    ('ConjunctivaOther carcinoma', '結膜癌その他'),\n",
        "    ('Eyelid_Sebaceous Gland Carcinoma', '脂腺癌'),\n",
        "    ('EyelidSebaceous Gland Carcinoma', '脂腺癌'),\n",
        "    ('ConjunctivaMelanoma', '悪性黒色腫'),\n",
        "    ('ConjunctivaEpidermal cyst', 'アテローム'),\n",
        "    ('EyelidEpidermal cyst', 'アテローム'),\n",
        "    ('EyelidGranulation', '肉芽腫'),\n",
        "    ('ConjunctivaGranulation', '肉芽腫'),\n",
        "    ('ConjunctivaFat hernia', '眼窩脂肪ヘルニア'),\n",
        "    ('ConjunctivaFatHernia', '眼窩脂肪ヘルニア'),\n",
        "    ('ConjunctivaDermoid', 'デルモイド'),\n",
        "\n",
        "    ('EyelidSebaceous gland carcinoma', '脂腺癌'),\n",
        "    ('CorneaOther carcinoma', '結膜癌その他'),\n",
        "    ('EyelidCharazion', '霰粒腫'),\n",
        "    ('EyelidLymphoma', '悪性リンパ腫'),\n",
        "    ('ConjunctivaGlanulation', '肉芽腫'),\n",
        "    ('ConjunctivaHordeolum', '麦粒腫'),\n",
        "    ('EyelidOther benign lesion', 'その他良性病変'),\n",
        "    ('EyelidPapilloma', '乳頭腫'),\n",
        "    ('ConjunctivaSquamous cell carcinoma', '扁平上皮癌'),\n",
        "    ('EyelidSeborrheic keratosis', '脂漏性角化症'),\n",
        "    ('EyelidSebaceous gland carcinoma', '脂腺癌'),\n",
        "\n",
        "    ('EyelidOther carcinoma', '眼瞼癌その他'),\n",
        "    ('ConjunctivaPigmentation', '結膜色素沈着'),\n",
        "    ('Cornea翼状片', '翼状片'),\n",
        "    ('ConjunctivaOtherBenignLesion', 'その他良性病変'),\n",
        "    ('EyelidSquamous cell carcinoma', '扁平上皮癌'),\n",
        "    ('EyelidVascular malformation', '血管奇形'),\n",
        "    ('ConjunctivaLymphom', '悪性リンパ腫'),\n",
        "    ('ConjunctivaPrimaryAcquiredMelanosis', '結膜色素沈着(PAM)'),\n",
        "    ('ConjunctivalPapilloma', '乳頭腫'),\n",
        "    ('ConjunctivaIntraepithelialNeoplasia', '結膜上皮内癌'),\n",
        "    ('EyelidSebaceousGlandCarcinoma', '脂腺癌'),\n",
        "    ('EyelidMelanoma', '脂腺癌'),\n",
        "    # Add more pairs as needed, e.g., ('old_string', 'new_string'),\n",
        "]\n",
        "\n",
        "\n",
        "# Iterate over the folders in dst_path\n",
        "for folder_name in os.listdir(dst_path):\n",
        "    new_folder_name = folder_name\n",
        "\n",
        "    # Check and replace each pair in the folder name\n",
        "    for old_string, new_string in replacement_pairs:\n",
        "        new_folder_name = new_folder_name.replace(old_string, new_string)\n",
        "\n",
        "    # If the name has changed, rename the folder\n",
        "    if new_folder_name != folder_name:\n",
        "        old_folder_path = os.path.join(dst_path, folder_name)\n",
        "        new_folder_path = os.path.join(dst_path, new_folder_name)\n",
        "\n",
        "        os.rename(old_folder_path, new_folder_path)\n",
        "        print(f\"Renamed '{folder_name}' to '{new_folder_name}'\")\n",
        "\n"
      ],
      "metadata": {
        "id": "nuQ50Ne1nHcO"
      },
      "execution_count": null,
      "outputs": []
    },
    {
      "cell_type": "code",
      "source": [
        "os.listdir(dst_path)"
      ],
      "metadata": {
        "id": "YsIEyj1qorT8",
        "outputId": "bbae4e0a-897e-4d5d-dfbb-a139150d0a02",
        "colab": {
          "base_uri": "https://localhost:8080/"
        }
      },
      "execution_count": 116,
      "outputs": [
        {
          "output_type": "execute_result",
          "data": {
            "text/plain": [
              "['OSK_悪性リンパ腫_症例133',\n",
              " 'OSK_悪性リンパ腫_症例134',\n",
              " 'OSK_悪性リンパ腫_症例135',\n",
              " 'OSK_悪性リンパ腫_症例136',\n",
              " 'OSK_悪性リンパ腫_症例137',\n",
              " 'OSK_悪性リンパ腫_症例139',\n",
              " 'OSK_悪性リンパ腫_症例140',\n",
              " 'OSK_悪性リンパ腫_症例142',\n",
              " 'OSK_悪性リンパ腫_症例145',\n",
              " 'OSK_悪性リンパ腫_症例146',\n",
              " 'OSK_悪性リンパ腫_症例147',\n",
              " 'OSK_悪性リンパ腫_症例154',\n",
              " 'OSK_悪性リンパ腫_症例173',\n",
              " 'OSK_悪性リンパ腫_症例174',\n",
              " 'OSK_悪性リンパ腫_症例176',\n",
              " 'OSK_眼窩脂肪ヘルニア_症例185',\n",
              " 'OSK_悪性リンパ腫_症例225',\n",
              " 'OSK_悪性リンパ腫_症例227',\n",
              " 'OSK_悪性リンパ腫_症例229',\n",
              " 'OSK_悪性リンパ腫_症例235',\n",
              " 'OSK_悪性リンパ腫_症例236',\n",
              " 'OSK_悪性リンパ腫_症例237',\n",
              " 'OSK_悪性リンパ腫_症例239',\n",
              " 'OSK_悪性リンパ腫_症例240',\n",
              " 'OSK_悪性リンパ腫_症例242',\n",
              " 'OSK_悪性リンパ腫_症例245',\n",
              " 'OSK_悪性リンパ腫_症例246',\n",
              " 'OSK_悪性リンパ腫_症例247',\n",
              " 'OSK_悪性リンパ腫_症例248',\n",
              " 'OSK_悪性リンパ腫_症例263',\n",
              " 'OSK_悪性リンパ腫_症例267',\n",
              " 'OSK_悪性リンパ腫_症例269',\n",
              " 'OSK_悪性リンパ腫_症例255',\n",
              " 'OSK_眼窩脂肪ヘルニア_症例268',\n",
              " 'OSK_Conjunctiva_OtherBenignLesion (涙小管炎)_症例353',\n",
              " 'OSK_翼状片_症例310',\n",
              " 'OSK_翼状片_症例311',\n",
              " 'OSK_翼状片_症例312',\n",
              " 'OSK_翼状片_症例314',\n",
              " 'OSK_翼状片_症例315',\n",
              " 'OSK_翼状片_症例7',\n",
              " 'OSK_その他良性病変_症例1',\n",
              " 'OSK_その他良性病変_症例4',\n",
              " 'OSK_その他良性病変_症例5',\n",
              " 'OSK_結膜嚢胞_症例8',\n",
              " 'OSK_悪性リンパ腫_症例10',\n",
              " 'OSK_基底細胞癌_症例11',\n",
              " 'OSK_基底細胞癌_症例12',\n",
              " 'OSK_基底細胞癌_症例13',\n",
              " 'OSK_基底細胞癌_症例14',\n",
              " 'OSK_基底細胞癌_症例15',\n",
              " 'OSK_基底細胞癌_症例19',\n",
              " 'OSK_基底細胞癌_症例21',\n",
              " 'OSK_基底細胞癌_症例22',\n",
              " 'OSK_基底細胞癌_症例25',\n",
              " 'OSK_眼瞼母斑_症例29',\n",
              " 'OSK_霰粒腫_症例31',\n",
              " 'OSK_血管奇形_症例32',\n",
              " 'OSK_血管奇形_症例33',\n",
              " 'OSK_血管奇形_症例34',\n",
              " 'OSK_霰粒腫_症例41',\n",
              " 'OSK_霰粒腫_症例42',\n",
              " 'OSK_霰粒腫_症例43',\n",
              " 'OSK_霰粒腫_症例44',\n",
              " 'OSK_霰粒腫_症例45',\n",
              " 'OSK_霰粒腫_症例46',\n",
              " 'OSK_霰粒腫_症例47',\n",
              " 'OSK_霰粒腫_症例48',\n",
              " 'OSK_霰粒腫_症例49',\n",
              " 'OSK_霰粒腫_症例50',\n",
              " 'OSK_霰粒腫_症例51',\n",
              " 'OSK_霰粒腫_症例52',\n",
              " 'OSK_霰粒腫_症例53',\n",
              " 'OSK_霰粒腫_症例54',\n",
              " 'OSK_霰粒腫_症例55',\n",
              " 'OSK_霰粒腫_症例58',\n",
              " 'OSK_霰粒腫_症例59',\n",
              " 'OSK_霰粒腫_症例62',\n",
              " 'OSK_霰粒腫_症例63',\n",
              " 'OSK_霰粒腫_症例65',\n",
              " 'OSK_霰粒腫_症例66',\n",
              " 'OSK_霰粒腫_症例67',\n",
              " 'OSK_霰粒腫_症例68',\n",
              " 'OSK_霰粒腫_症例69',\n",
              " 'OSK_眼瞼母斑_症例72',\n",
              " 'OSK_眼瞼母斑_症例73',\n",
              " 'OSK_眼瞼母斑_症例80',\n",
              " 'OSK_結膜嚢胞_症例92',\n",
              " 'OSK_霰粒腫_症例149',\n",
              " 'OSK_霰粒腫_症例158',\n",
              " 'OSK_霰粒腫_症例168',\n",
              " 'OSK_霰粒腫_症例169',\n",
              " 'OSK_霰粒腫_症例178',\n",
              " 'OSK_霰粒腫_症例182',\n",
              " 'OSK_眼瞼母斑_症例183',\n",
              " 'OSK_眼瞼母斑_症例184',\n",
              " 'OSK_眼瞼母斑_症例186',\n",
              " 'OSK_眼瞼母斑_症例187',\n",
              " 'OSK_眼瞼母斑_症例188',\n",
              " 'OSK_眼瞼母斑_症例189',\n",
              " 'OSK_眼瞼母斑_症例190',\n",
              " 'OSK_眼瞼母斑_症例191',\n",
              " 'OSK_眼瞼母斑_症例192',\n",
              " 'OSK_眼瞼母斑_症例193',\n",
              " 'OSK_眼瞼母斑_症例194',\n",
              " 'OSK_眼瞼母斑_症例195',\n",
              " 'OSK_眼瞼母斑_症例196',\n",
              " 'OSK_眼瞼母斑_症例197',\n",
              " 'OSK_眼瞼母斑_症例198',\n",
              " 'OSK_眼瞼母斑_症例199',\n",
              " 'OSK_眼瞼母斑_症例200',\n",
              " 'OSK_眼瞼母斑_症例202',\n",
              " 'OSK_眼瞼母斑_症例203',\n",
              " 'OSK_眼瞼母斑_症例204',\n",
              " 'OSK_眼瞼母斑_症例206',\n",
              " 'OSK_眼瞼母斑_症例208',\n",
              " 'OSK_眼瞼母斑_症例209',\n",
              " 'OSK_眼瞼母斑_症例210',\n",
              " 'OSK_眼瞼母斑_症例256',\n",
              " 'OSK_眼瞼母斑_症例301',\n",
              " 'OSK_眼瞼母斑_症例243',\n",
              " 'OSK_霰粒腫_症例234',\n",
              " 'OSK_霰粒腫_症例260',\n",
              " 'OSK_霰粒腫_症例233',\n",
              " 'OSK_霰粒腫_症例238',\n",
              " 'OSK_霰粒腫_症例228',\n",
              " 'OSK_霰粒腫_症例175',\n",
              " 'OSK_霰粒腫_症例340',\n",
              " 'OSK_霰粒腫_症例132',\n",
              " 'OSK_霰粒腫_症例94',\n",
              " 'OSK_その他良性病変_症例2',\n",
              " 'OSK_その他良性病変_症例3',\n",
              " 'OSK_その他良性病変_症例6',\n",
              " 'OSK_結膜嚢胞_症例26',\n",
              " 'OSK_結膜嚢胞_症例27',\n",
              " 'OSK_結膜嚢胞_症例28',\n",
              " 'OSK_脂腺癌_症例35',\n",
              " 'OSK_結膜上皮内癌_症例39',\n",
              " 'OSK_霰粒腫n_症例57',\n",
              " 'OSK_霰粒腫n_症例60',\n",
              " 'OSK_霰粒腫n_症例64',\n",
              " 'OSK_結膜嚢胞_症例70',\n",
              " 'OSK_結膜母斑_症例71',\n",
              " 'OSK_結膜母斑_症例74',\n",
              " 'OSK_結膜母斑_症例76',\n",
              " 'OSK_結膜母斑_症例77',\n",
              " 'OSK_結膜母斑_症例78',\n",
              " 'OSK_結膜母斑_症例79',\n",
              " 'OSK_結膜母斑_症例81',\n",
              " 'OSK_結膜上皮内癌_症例82',\n",
              " 'OSK_結膜嚢胞_症例83',\n",
              " 'OSK_結膜嚢胞_症例84',\n",
              " 'OSK_結膜嚢胞_症例85',\n",
              " 'OSK_結膜嚢胞_症例86',\n",
              " 'OSK_結膜嚢胞_症例87',\n",
              " 'OSK_結膜嚢胞_症例88',\n",
              " 'OSK_結膜嚢胞_症例89',\n",
              " 'OSK_結膜嚢胞_症例90',\n",
              " 'OSK_結膜嚢胞_症例93',\n",
              " 'OSK_結膜嚢胞_症例95',\n",
              " 'OSK_結膜嚢胞_症例96',\n",
              " 'OSK_結膜嚢胞_症例97',\n",
              " 'OSK_結膜嚢胞_症例98',\n",
              " 'OSK_結膜上皮内癌_症例99',\n",
              " 'OSK_結膜上皮内癌_症例100',\n",
              " 'OSK_結膜上皮内癌_症例101',\n",
              " 'OSK_結膜母斑_症例102',\n",
              " 'OSK_結膜母斑_症例104',\n",
              " 'OSK_結膜母斑_症例105',\n",
              " 'OSK_結膜母斑_症例106',\n",
              " 'OSK_結膜母斑_症例107',\n",
              " 'OSK_乳頭腫_症例108',\n",
              " 'OSK_乳頭腫_症例109',\n",
              " 'OSK_結膜上皮内癌_症例110',\n",
              " 'OSK_結膜嚢胞_症例113',\n",
              " 'OSK_デルモイド_症例115',\n",
              " 'OSK_デルモイド_症例116',\n",
              " 'OSK_デルモイド_症例117',\n",
              " 'OSK_デルモイド_症例119',\n",
              " 'OSK_デルモイド_症例122',\n",
              " 'OSK_デルモイド_症例123',\n",
              " 'OSK_結膜嚢胞_症例172',\n",
              " 'OSK_結膜母斑_症例177',\n",
              " 'OSK_結膜母斑_症例207',\n",
              " 'OSK_結膜母斑_症例214',\n",
              " 'OSK_結膜母斑_症例215',\n",
              " 'OSK_結膜母斑_症例216',\n",
              " 'OSK_結膜嚢胞_症例217',\n",
              " 'OSK_結膜母斑_症例218',\n",
              " 'OSK_デルモイド_症例219',\n",
              " 'OSK_デルモイド_症例220',\n",
              " 'OSK_デルモイド_症例221',\n",
              " 'OSK_デルモイド_症例222',\n",
              " 'OSK_結膜嚢胞_症例226',\n",
              " 'OSK_結膜母斑_症例252',\n",
              " 'OSK_結膜母斑_症例257',\n",
              " 'OSK_結膜母斑_症例258',\n",
              " 'OSK_結膜母斑_症例270',\n",
              " 'OSK_乳頭腫_症例271',\n",
              " 'OSK_乳頭腫_症例272',\n",
              " 'OSK_乳頭腫_症例273',\n",
              " 'OSK_乳頭腫_症例276',\n",
              " 'OSK_乳頭腫_症例279',\n",
              " 'OSK_乳頭腫_症例280',\n",
              " 'OSK_乳頭腫_症例282',\n",
              " 'OSK_乳頭腫_症例284',\n",
              " 'OSK_乳頭腫_症例285',\n",
              " 'OSK_乳頭腫_症例286',\n",
              " 'OSK_乳頭腫_症例287',\n",
              " 'OSK_乳頭腫_症例288',\n",
              " 'OSK_乳頭腫_症例289',\n",
              " 'OSK_乳頭腫_症例292',\n",
              " 'OSK_乳頭腫_症例294',\n",
              " 'OSK_乳頭腫_症例295',\n",
              " 'OSK_結膜母斑_症例297',\n",
              " 'OSK_結膜母斑_症例298',\n",
              " 'OSK_結膜母斑_症例299',\n",
              " 'OSK_結膜母斑_症例300',\n",
              " 'OSK_結膜母斑_症例302',\n",
              " 'OSK_結膜母斑_症例303',\n",
              " 'OSK_結膜母斑_症例304',\n",
              " 'OSK_結膜上皮内癌_症例143',\n",
              " 'OSK_結膜上皮内癌_症例112',\n",
              " 'OSK_結膜嚢胞_症例293',\n",
              " 'OSK_結膜嚢胞_症例259',\n",
              " 'OSK_乳頭腫_症例181',\n",
              " 'OSK_結膜嚢胞_症例164',\n",
              " 'OSK_結膜嚢胞_症例372',\n",
              " 'OSK_乳頭腫_症例170',\n",
              " 'OSK_結膜嚢胞_症例171',\n",
              " 'OSK_結膜上皮内癌_症例383',\n",
              " 'OSK_その他良性病変_症例9',\n",
              " 'OSK_結膜癌その他_症例30',\n",
              " 'OSK_脂腺癌_症例36',\n",
              " 'OSK_結膜癌その他_症例37',\n",
              " 'OSK_デルモイド_症例120',\n",
              " 'OSK_デルモイド_症例121',\n",
              " 'OSK_デルモイド_症例124',\n",
              " 'OSK_悪性黒色腫_症例125',\n",
              " 'OSK_アテローム_症例127',\n",
              " 'OSK_アテローム_症例128',\n",
              " 'OSK_アテローム_症例131',\n",
              " 'OSK_肉芽腫_症例150',\n",
              " 'OSK_眼窩脂肪ヘルニア_症例151',\n",
              " 'OSK_眼窩脂肪ヘルニア_症例152',\n",
              " 'OSK_眼窩脂肪ヘルニア_症例153',\n",
              " 'OSK_肉芽腫_症例155',\n",
              " 'OSK_肉芽腫_症例157',\n",
              " 'OSK_肉芽腫_症例159',\n",
              " 'OSK_肉芽腫_症例160',\n",
              " 'OSK_肉芽腫_症例162',\n",
              " 'OSK_肉芽腫_症例166',\n",
              " 'OSK_肉芽腫_症例167',\n",
              " 'OSK_眼窩脂肪ヘルニア_症例223',\n",
              " 'OSK_悪性黒色腫_症例231',\n",
              " 'OSK_悪性黒色腫_症例232',\n",
              " 'OSK_悪性黒色腫_症例254',\n",
              " 'OSK_肉芽腫_症例261',\n",
              " 'OSK_肉芽腫_症例264',\n",
              " 'OSK_肉芽腫_症例316',\n",
              " 'OSK_肉芽腫_症例317',\n",
              " 'OSK_アテローム_症例321',\n",
              " 'OSK_肉芽腫_症例233',\n",
              " 'OSK_その他良性病変_症例415',\n",
              " 'OSK_結膜癌その他_症例359',\n",
              " 'OSK_肉芽腫_症例138',\n",
              " 'OSK_その他良性病変_症例429',\n",
              " 'OSK_その他良性病変_症例61',\n",
              " 'OSK_アテローム_症例130',\n",
              " 'OSK_肉芽腫_症例161',\n",
              " 'OSK_肉芽腫_症例165',\n",
              " 'OSK_脂腺癌_症例40',\n",
              " 'OSK_結膜癌その他_症例114',\n",
              " 'OSK_霰粒腫_症例163',\n",
              " 'OSK_肉芽腫_症例179',\n",
              " 'OSK_麦粒腫_症例180',\n",
              " 'OSK_その他良性病変_症例212',\n",
              " 'OSK_乳頭腫_症例213',\n",
              " 'OSK_乳頭腫_症例277',\n",
              " 'OSK_乳頭腫_症例283',\n",
              " 'OSK_扁平上皮癌_症例306',\n",
              " 'OSK_脂漏性角化症_症例309',\n",
              " 'OSK_脂腺癌_症例322',\n",
              " 'OSK_脂腺癌_症例323',\n",
              " 'OSK_脂腺癌_症例324',\n",
              " 'OSK_脂腺癌_症例325',\n",
              " 'OSK_脂腺癌_症例328',\n",
              " 'OSK_脂腺癌_症例329',\n",
              " 'OSK_脂腺癌_症例336',\n",
              " 'OSK_脂漏性角化症_症例343',\n",
              " 'OSK_脂漏性角化症_症例344',\n",
              " 'OSK_脂漏性角化症_症例345',\n",
              " 'OSK_脂漏性角化症_症例347',\n",
              " 'OSK_脂漏性角化症_症例349',\n",
              " 'OSK_脂漏性角化症_症例351',\n",
              " 'OSK_脂漏性角化症_症例352',\n",
              " 'OSK_脂漏性角化症_症例354',\n",
              " 'OSK_脂漏性角化症_症例357',\n",
              " 'OSK_脂漏性角化症_症例358',\n",
              " 'OSK_脂漏性角化症_症例360',\n",
              " 'OSK_脂漏性角化症_症例364',\n",
              " 'OSK_脂漏性角化症_症例365',\n",
              " 'OSK_脂漏性角化症_症例366',\n",
              " 'OSK_脂漏性角化症_症例367',\n",
              " 'OSK_脂漏性角化症_症例368',\n",
              " 'OSK_扁平上皮癌_症例374',\n",
              " 'OSK_扁平上皮癌_症例376',\n",
              " 'OSK_扁平上皮癌_症例377',\n",
              " 'OSK_扁平上皮癌_症例378',\n",
              " 'OSK_扁平上皮癌_症例381',\n",
              " 'OSK_扁平上皮癌_症例56',\n",
              " 'OSK_乳頭腫_症例319',\n",
              " 'OSK_乳頭腫_症例24',\n",
              " 'OSK_乳頭腫_症例20',\n",
              " 'OSK_乳頭腫_症例16',\n",
              " 'OSK_乳頭腫_症例118',\n",
              " 'OSK_その他良性病変_症例290',\n",
              " 'OSK_その他良性病変_症例126',\n",
              " 'OSK_結膜色素沈着_症例249',\n",
              " 'OSK_眼瞼癌その他_症例250',\n",
              " 'OSK_翼状片_症例313',\n",
              " 'OSK_眼瞼癌その他_症例333',\n",
              " 'OSK_その他良性病変_症例341',\n",
              " 'OSK_扁平上皮癌_症例379',\n",
              " 'OSK_血管奇形_症例281',\n",
              " 'OSK_血管奇形_症例338',\n",
              " 'OSK_悪性リンパ腫_症例18',\n",
              " 'OSK_結膜色素沈着(PAM)_症例307',\n",
              " 'OSK_乳頭腫_症例371',\n",
              " 'OSK_結膜上皮内癌_症例144',\n",
              " 'OSK_脂腺癌_症例327',\n",
              " 'OSK_脂腺癌_症例230']"
            ]
          },
          "metadata": {},
          "execution_count": 116
        }
      ]
    }
  ]
}