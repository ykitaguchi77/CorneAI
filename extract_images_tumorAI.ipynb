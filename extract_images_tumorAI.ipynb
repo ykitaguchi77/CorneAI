{
  "nbformat": 4,
  "nbformat_minor": 0,
  "metadata": {
    "colab": {
      "provenance": [],
      "authorship_tag": "ABX9TyPPYozcJ6LsNJ4/g9z0m2xk",
      "include_colab_link": true
    },
    "kernelspec": {
      "name": "python3",
      "display_name": "Python 3"
    },
    "language_info": {
      "name": "python"
    }
  },
  "cells": [
    {
      "cell_type": "markdown",
      "metadata": {
        "id": "view-in-github",
        "colab_type": "text"
      },
      "source": [
        "<a href=\"https://colab.research.google.com/github/ykitaguchi77/CorneAI/blob/main/extract_images_tumorAI.ipynb\" target=\"_parent\"><img src=\"https://colab.research.google.com/assets/colab-badge.svg\" alt=\"Open In Colab\"/></a>"
      ]
    },
    {
      "cell_type": "code",
      "execution_count": null,
      "metadata": {
        "id": "6vBk9xfdcDXP"
      },
      "outputs": [],
      "source": [
        "patient_list_path = r\"F:\\SlitPhoto\\20100101~20230130_スリット(写真室)\\eyelid_conj_tumor_list.csv\"\n",
        "IDMap_path = r\"F:\\SlitPhoto\\20100101~20230130_スリット(写真室)\\combined_IDMap.csv\""
      ]
    },
    {
      "cell_type": "code",
      "source": [
        "import pandas as pd\n",
        "\n",
        "# Load the first CSV file\n",
        "df1 = pd.read_csv(patient_list_path, encoding='cp932')\n",
        "\n",
        "# Load the second CSV file\n",
        "df2 = pd.read_csv(IDMap_path, encoding='cp932', header = None)\n",
        "\n",
        "# Displaying the first few rows of each DataFrame to understand their structure\n",
        "df1.head(), df2.head()\n"
      ],
      "metadata": {
        "id": "lppKvzX2dDKn"
      },
      "execution_count": null,
      "outputs": []
    },
    {
      "cell_type": "code",
      "source": [
        "df1"
      ],
      "metadata": {
        "id": "noK58s4ylZmd"
      },
      "execution_count": null,
      "outputs": []
    },
    {
      "cell_type": "code",
      "source": [
        "df2"
      ],
      "metadata": {
        "id": "7jmlZ2QCeLxf"
      },
      "execution_count": null,
      "outputs": []
    },
    {
      "cell_type": "code",
      "source": [
        "# df2[df2[0]==11845831].loc[0,2]\n",
        "df2[df2[0]==5815065].loc[:,2]"
      ],
      "metadata": {
        "colab": {
          "base_uri": "https://localhost:8080/"
        },
        "id": "Ei-qUKUkmWS0",
        "outputId": "6acf27c5-98e8-41f8-c5da-33a01fb2061e"
      },
      "execution_count": null,
      "outputs": [
        {
          "output_type": "execute_result",
          "data": {
            "text/plain": [
              "Series([], Name: 2, dtype: object)"
            ]
          },
          "metadata": {},
          "execution_count": 36
        }
      ]
    },
    {
      "cell_type": "code",
      "source": [
        "for id in df1[\"ID\"]:\n",
        "    print(id)\n",
        "    hash = df2[df2[0]==int(id)].loc[:, 2].item()\n",
        "    print(hash)"
      ],
      "metadata": {
        "id": "7g8hWN-veNad"
      },
      "execution_count": null,
      "outputs": []
    },
    {
      "cell_type": "code",
      "source": [
        "for user_id in df1[\"ID\"]:\n",
        "    #print(user_id)\n",
        "    try:\n",
        "        hash_value = df2[df2[0] == int(user_id)].iloc[0, 2]\n",
        "        print(hash_value)\n",
        "    except:\n",
        "        #print(f\"No hash found for ID {user_id}\")\n",
        "        pass\n"
      ],
      "metadata": {
        "id": "3q3OGk38oQFM"
      },
      "execution_count": null,
      "outputs": []
    },
    {
      "cell_type": "code",
      "source": [
        "# Initialize a counter\n",
        "hash_value_count = 0\n",
        "\n",
        "for user_id in df1[\"ID\"]:\n",
        "    try:\n",
        "        hash_value = df2[df2[0] == int(user_id)].iloc[0, 2]\n",
        "        print(hash_value)\n",
        "        hash_value_count += 1  # Increment the counter\n",
        "    except:\n",
        "        # If an exception occurs, the counter is not incremented\n",
        "        pass\n",
        "\n",
        "# Print the total count of hash_values printed\n",
        "print(\"Total hash values printed:\", hash_value_count)\n"
      ],
      "metadata": {
        "id": "rSo1L6pblDkJ"
      },
      "execution_count": null,
      "outputs": []
    }
  ]
}