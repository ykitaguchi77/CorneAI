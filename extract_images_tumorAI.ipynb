{
  "nbformat": 4,
  "nbformat_minor": 0,
  "metadata": {
    "colab": {
      "provenance": [],
      "authorship_tag": "ABX9TyNL89Afz7VA9qI2IaBGB/nz",
      "include_colab_link": true
    },
    "kernelspec": {
      "name": "python3",
      "display_name": "Python 3"
    },
    "language_info": {
      "name": "python"
    }
  },
  "cells": [
    {
      "cell_type": "markdown",
      "metadata": {
        "id": "view-in-github",
        "colab_type": "text"
      },
      "source": [
        "<a href=\"https://colab.research.google.com/github/ykitaguchi77/CorneAI/blob/main/extract_images_tumorAI.ipynb\" target=\"_parent\"><img src=\"https://colab.research.google.com/assets/colab-badge.svg\" alt=\"Open In Colab\"/></a>"
      ]
    },
    {
      "cell_type": "markdown",
      "source": [
        "#**Extract_images_tumorAI**"
      ],
      "metadata": {
        "id": "kN8TJ043sFKz"
      }
    },
    {
      "cell_type": "code",
      "execution_count": 1,
      "metadata": {
        "id": "6vBk9xfdcDXP"
      },
      "outputs": [],
      "source": [
        "patient_list_path = r\"F:\\SlitPhoto\\20100101~20230130_スリット(写真室)\\eyelid_conj_tumor_list.csv\"\n",
        "IDMap_path = r\"F:\\SlitPhoto\\20100101~20230130_スリット(写真室)\\combined_IDMap.csv\""
      ]
    },
    {
      "cell_type": "code",
      "source": [
        "import pandas as pd\n",
        "\n",
        "# Load the first CSV file\n",
        "df1 = pd.read_csv(patient_list_path, encoding='cp932')\n",
        "\n",
        "# Load the second CSV file\n",
        "df2 = pd.read_csv(IDMap_path, encoding='cp932', header = None)\n",
        "\n",
        "# Displaying the first few rows of each DataFrame to understand their structure\n",
        "df1.head(), df2.head()\n"
      ],
      "metadata": {
        "id": "lppKvzX2dDKn"
      },
      "execution_count": null,
      "outputs": []
    },
    {
      "cell_type": "code",
      "source": [
        "df1"
      ],
      "metadata": {
        "id": "noK58s4ylZmd"
      },
      "execution_count": null,
      "outputs": []
    },
    {
      "cell_type": "code",
      "source": [
        "df2"
      ],
      "metadata": {
        "id": "7jmlZ2QCeLxf"
      },
      "execution_count": null,
      "outputs": []
    },
    {
      "cell_type": "code",
      "source": [
        "# df2[df2[0]==11845831].loc[0,2]\n",
        "df2[df2[0]==5815065].loc[:,2]"
      ],
      "metadata": {
        "colab": {
          "base_uri": "https://localhost:8080/"
        },
        "id": "Ei-qUKUkmWS0",
        "outputId": "bd91f65d-86e1-41ef-df42-bd48fbd07076"
      },
      "execution_count": 7,
      "outputs": [
        {
          "output_type": "execute_result",
          "data": {
            "text/plain": [
              "Series([], Name: 2, dtype: object)"
            ]
          },
          "metadata": {},
          "execution_count": 7
        }
      ]
    },
    {
      "cell_type": "code",
      "source": [
        "import os\n",
        "import pandas as pd\n",
        "from datetime import datetime\n",
        "\n",
        "def format_date(date_str):\n",
        "    # Convert to datetime object\n",
        "    date_obj = datetime.strptime(date_str, \"%Y/%m/%d\")\n",
        "    # Convert to YYYYMMDD format string\n",
        "    return date_obj.strftime(\"%Y%m%d\")\n",
        "\n",
        "# Initialize a counter\n",
        "hash_value_count = 0\n",
        "\n",
        "# Image folder paths\n",
        "# Image folder paths\n",
        "img_folders = [\n",
        "    r\"F:\\SlitPhoto\\20100101~20230130_スリット(写真室)\\ID_00######\\ZZZ\\Files\",\n",
        "    r\"F:\\SlitPhoto\\20100101~20230130_スリット(写真室)\\ID_09######\\ZZZ\\Files\",\n",
        "    r\"F:\\SlitPhoto\\20100101~20230130_スリット(写真室)\\ID_10######\\ZZZ\\Files\",\n",
        "    r\"F:\\SlitPhoto\\20100101~20230130_スリット(写真室)\\ID_11######\\ZZZ\\Files\",\n",
        "    r\"F:\\SlitPhoto\\20100101~20230130_スリット(写真室)\\ID_12######\\ZZZ\\Files\"\n",
        "]\n",
        "\n",
        "for user_id in df1[\"ID\"]:\n",
        "    try:\n",
        "        hash_value = df2[df2[0] == user_id].iloc[0, 2]\n",
        "        print(hash_value)\n",
        "        hash_value_count += 1\n",
        "\n",
        "        exam_date = df1[df1[\"ID\"] == user_id][\"ExamDate\"].iloc[0]\n",
        "        formatted_date = format_date(exam_date)\n",
        "        print(f\"Formatted ExamDate for {user_id}: {formatted_date}\")\n",
        "\n",
        "        folder_found = False\n",
        "        for folder in img_folders:\n",
        "            for file in os.listdir(folder):\n",
        "                if file.startswith(hash_value):\n",
        "                    folder_found = True\n",
        "                    for img_file in os.listdir(os.path.join(folder, file)):\n",
        "                        try:\n",
        "                            if int(img_file[:8]) <= int(formatted_date):\n",
        "                                print(f\"Eligible image file: {os.path.join(folder, file, img_file)}\")\n",
        "                        except ValueError:\n",
        "                            #print(\"Ignoring non-numeric file name prefix\")\n",
        "                            continue\n",
        "                    break\n",
        "            if folder_found:\n",
        "                break\n",
        "    except Exception as e:\n",
        "        print(f\"No image file in user ID {user_id}: {e}\")\n",
        "        pass\n",
        "print(\"Total hash values printed:\", hash_value_count)"
      ],
      "metadata": {
        "id": "Rtf5xUj43Wvs"
      },
      "execution_count": null,
      "outputs": []
    },
    {
      "cell_type": "code",
      "source": [],
      "metadata": {
        "id": "RgN1D8ld9NNA"
      },
      "execution_count": null,
      "outputs": []
    }
  ]
}